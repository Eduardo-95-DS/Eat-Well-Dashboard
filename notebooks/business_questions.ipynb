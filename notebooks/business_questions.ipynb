{
 "cells": [
  {
   "cell_type": "markdown",
   "id": "97f6970f-ed91-41b0-9bf5-5005feba40e4",
   "metadata": {
    "jp-MarkdownHeadingCollapsed": true
   },
   "source": [
    "# Imports"
   ]
  },
  {
   "cell_type": "code",
   "execution_count": 1,
   "id": "4385d463-41ba-4fa3-9ac3-6a009439949c",
   "metadata": {
    "execution": {
     "iopub.execute_input": "2024-01-16T12:26:52.024118Z",
     "iopub.status.busy": "2024-01-16T12:26:52.023644Z",
     "iopub.status.idle": "2024-01-16T12:26:57.815621Z",
     "shell.execute_reply": "2024-01-16T12:26:57.814249Z",
     "shell.execute_reply.started": "2024-01-16T12:26:52.024081Z"
    }
   },
   "outputs": [
    {
     "name": "stderr",
     "output_type": "stream",
     "text": [
      "/home/soturno/.pyenv/versions/3.10.4/envs/ftc/lib/python3.10/site-packages/tqdm/auto.py:21: TqdmWarning: IProgress not found. Please update jupyter and ipywidgets. See https://ipywidgets.readthedocs.io/en/stable/user_install.html\n",
      "  from .autonotebook import tqdm as notebook_tqdm\n"
     ]
    }
   ],
   "source": [
    "import pandas as pd\n",
    "import numpy as np\n",
    "import inflection\n",
    "import folium\n",
    "from folium.plugins import MarkerCluster,MousePosition\n",
    "import plotly.express as px\n",
    "import plotly.graph_objects as go\n",
    "from ydata_profiling import ProfileReport"
   ]
  },
  {
   "cell_type": "markdown",
   "id": "b5534256-4ed4-405f-81ac-471d986dc688",
   "metadata": {
    "jp-MarkdownHeadingCollapsed": true
   },
   "source": [
    "# Functions"
   ]
  },
  {
   "cell_type": "code",
   "execution_count": 2,
   "id": "15d73049-45af-455a-bf40-22c1bead5bd3",
   "metadata": {
    "execution": {
     "iopub.execute_input": "2024-01-16T12:26:57.818747Z",
     "iopub.status.busy": "2024-01-16T12:26:57.818222Z",
     "iopub.status.idle": "2024-01-16T12:26:57.838706Z",
     "shell.execute_reply": "2024-01-16T12:26:57.837681Z",
     "shell.execute_reply.started": "2024-01-16T12:26:57.818713Z"
    }
   },
   "outputs": [],
   "source": [
    "COUNTRIES = {\n",
    "1: \"India\",\n",
    "14: \"Australia\",\n",
    "30: \"Brazil\",\n",
    "37: \"Canada\",\n",
    "94: \"Indonesia\",\n",
    "148: \"New Zeland\",\n",
    "162: \"Philippines\",\n",
    "166: \"Qatar\",\n",
    "184: \"Singapure\",\n",
    "189: \"South Africa\",\n",
    "191: \"Sri Lanka\",\n",
    "208: \"Turkey\",\n",
    "214: \"United Arab Emirates\",\n",
    "215: \"England\",\n",
    "216: \"United States of America\"}\n",
    "\n",
    "COLORS = {\n",
    "\"3F7E00\": \"darkgreen\",\n",
    "\"5BA829\": \"green\",\n",
    "\"9ACD32\": \"lightgreen\",\n",
    "\"CDD614\": \"orange\",\n",
    "\"FFBA00\": \"red\",\n",
    "\"CBCBC8\": \"darkred\",\n",
    "\"FF7800\": \"darkred\"}\n",
    "\n",
    "def rename_columns(dataframe):\n",
    "    df = dataframe.copy()\n",
    "    title = lambda x: inflection.titleize(x)\n",
    "    snakecase = lambda x: inflection.underscore(x)\n",
    "    spaces = lambda x: x.replace(\" \", \"\")\n",
    "    cols_old = list(df.columns)\n",
    "    cols_old = list(map(title, cols_old))\n",
    "    cols_old = list(map(spaces, cols_old))\n",
    "    cols_new = list(map(snakecase, cols_old))\n",
    "    df.columns = cols_new\n",
    "    return df.columns\n",
    "\n",
    "def country_name(country_id):\n",
    "    return COUNTRIES[country_id]\n",
    "\n",
    "def create_price_tye(price_range):\n",
    "    if price_range == 1:\n",
    "        return \"cheap\"\n",
    "    elif price_range == 2:\n",
    "        return \"normal\"\n",
    "    elif price_range == 3:\n",
    "        return \"expensive\"\n",
    "    else:\n",
    "        return \"gourmet\"\n",
    "\n",
    "def color_name(color_code):\n",
    "    return COLORS[color_code]\n",
    "\n",
    "def dollarize (df):\n",
    "    df['average_cost_for_two']=np.where(df['currency']=='Botswana Pula(P)',   df['average_cost_for_two'] * 0.074, df['average_cost_for_two'] )\n",
    "    df['average_cost_for_two']=np.where(df['currency']=='Brazilian Real(R$)', df['average_cost_for_two'] * 0.21, df['average_cost_for_two'] )\n",
    "    df['average_cost_for_two']=np.where(df['currency']=='Emirati Diram(AED)', df['average_cost_for_two'] * 0.27, df['average_cost_for_two'] )\n",
    "    df['average_cost_for_two']=np.where(df['currency']=='Indian Rupees(Rs.)', df['average_cost_for_two'] * 0.012, df['average_cost_for_two'] )\n",
    "    df['average_cost_for_two']=np.where(df['currency']=='Indonesian Rupiah(IDR)', df['average_cost_for_two'] * 0.000065, df['average_cost_for_two'] )\n",
    "    df['average_cost_for_two']=np.where(df['currency']=='Pounds(£)', df['average_cost_for_two'] * 1.27, df['average_cost_for_two'] )\n",
    "    df['average_cost_for_two']=np.where(df['currency']=='Qatari Rial(QR)', df['average_cost_for_two'] * 0.27, df['average_cost_for_two'] )\n",
    "    df['average_cost_for_two']=np.where(df['currency']=='Rand(R)', df['average_cost_for_two'] * 0.054, df['average_cost_for_two'] )\n",
    "    df['average_cost_for_two']=np.where(df['currency']=='Sri Lankan Rupee(LKR)', df['average_cost_for_two'] * 0.0031, df['average_cost_for_two'] )\n",
    "    df['average_cost_for_two']=np.where(df['currency']=='Turkish Lira(TL)', df['average_cost_for_two'] * 0.034, df['average_cost_for_two'] )\n",
    "    return df\n",
    "\n",
    "def cuisines (df,col):\n",
    "    df2=df['cuisines'].str.split(',',expand=True)\n",
    "    df2= df2.replace(',','', regex=True)\n",
    "    df2= df2.replace(' ','', regex=True)\n",
    "    df2[col]=df[col]\n",
    "    df2.fillna('empty', inplace=True)\n",
    "    df2=df2.drop_duplicates(ignore_index=True)\n",
    "    \n",
    "    df2['Combined'] = df2[0].astype(str) +','+ df2[1] +','+df2[2]+','+df2[3]+','+df2[4]+','+df2[5]+','+df2[6]+','+df2[7] \n",
    "    \n",
    "    df2= df2.replace(',empty','', regex=True)\n",
    "    df2=df2[['Combined',col]]\n",
    "    df2=df2.assign(var1=df2['Combined'].str.split(',')).explode('var1').rename(columns={'var1':'cuisines'})\n",
    "    df2=df2.drop(columns=['Combined'])\n",
    "    df2=df2.drop_duplicates(ignore_index=True)\n",
    "\n",
    "    return df2"
   ]
  },
  {
   "cell_type": "markdown",
   "id": "15628e1d-e4df-4300-8270-ba17ff4967a3",
   "metadata": {
    "jp-MarkdownHeadingCollapsed": true
   },
   "source": [
    "# Data"
   ]
  },
  {
   "cell_type": "code",
   "execution_count": 3,
   "id": "5e6cd85d-d3f0-42e8-94e7-6dac24483239",
   "metadata": {
    "execution": {
     "iopub.execute_input": "2024-01-16T12:26:57.840948Z",
     "iopub.status.busy": "2024-01-16T12:26:57.840223Z",
     "iopub.status.idle": "2024-01-16T12:26:57.958540Z",
     "shell.execute_reply": "2024-01-16T12:26:57.957367Z",
     "shell.execute_reply.started": "2024-01-16T12:26:57.840896Z"
    }
   },
   "outputs": [
    {
     "data": {
      "text/html": [
       "<div>\n",
       "<style scoped>\n",
       "    .dataframe tbody tr th:only-of-type {\n",
       "        vertical-align: middle;\n",
       "    }\n",
       "\n",
       "    .dataframe tbody tr th {\n",
       "        vertical-align: top;\n",
       "    }\n",
       "\n",
       "    .dataframe thead th {\n",
       "        text-align: right;\n",
       "    }\n",
       "</style>\n",
       "<table border=\"1\" class=\"dataframe\">\n",
       "  <thead>\n",
       "    <tr style=\"text-align: right;\">\n",
       "      <th></th>\n",
       "      <th>Restaurant ID</th>\n",
       "      <th>Restaurant Name</th>\n",
       "      <th>Country Code</th>\n",
       "      <th>City</th>\n",
       "      <th>Address</th>\n",
       "      <th>Locality</th>\n",
       "      <th>Locality Verbose</th>\n",
       "      <th>Longitude</th>\n",
       "      <th>Latitude</th>\n",
       "      <th>Cuisines</th>\n",
       "      <th>...</th>\n",
       "      <th>Currency</th>\n",
       "      <th>Has Table booking</th>\n",
       "      <th>Has Online delivery</th>\n",
       "      <th>Is delivering now</th>\n",
       "      <th>Switch to order menu</th>\n",
       "      <th>Price range</th>\n",
       "      <th>Aggregate rating</th>\n",
       "      <th>Rating color</th>\n",
       "      <th>Rating text</th>\n",
       "      <th>Votes</th>\n",
       "    </tr>\n",
       "  </thead>\n",
       "  <tbody>\n",
       "    <tr>\n",
       "      <th>0</th>\n",
       "      <td>6310675</td>\n",
       "      <td>Mama Lou's Italian Kitchen</td>\n",
       "      <td>162</td>\n",
       "      <td>Las Piñas City</td>\n",
       "      <td>Block 1, Lot 36, Tropical Avenue Corner Tropic...</td>\n",
       "      <td>BF International</td>\n",
       "      <td>BF International, Las Piñas City</td>\n",
       "      <td>121.009787</td>\n",
       "      <td>14.447615</td>\n",
       "      <td>Italian</td>\n",
       "      <td>...</td>\n",
       "      <td>Botswana Pula(P)</td>\n",
       "      <td>1</td>\n",
       "      <td>0</td>\n",
       "      <td>0</td>\n",
       "      <td>0</td>\n",
       "      <td>3</td>\n",
       "      <td>4.6</td>\n",
       "      <td>3F7E00</td>\n",
       "      <td>Excellent</td>\n",
       "      <td>619</td>\n",
       "    </tr>\n",
       "  </tbody>\n",
       "</table>\n",
       "<p>1 rows × 21 columns</p>\n",
       "</div>"
      ],
      "text/plain": [
       "   Restaurant ID             Restaurant Name  Country Code            City  \\\n",
       "0        6310675  Mama Lou's Italian Kitchen           162  Las Piñas City   \n",
       "\n",
       "                                             Address          Locality  \\\n",
       "0  Block 1, Lot 36, Tropical Avenue Corner Tropic...  BF International   \n",
       "\n",
       "                   Locality Verbose   Longitude   Latitude Cuisines  ...  \\\n",
       "0  BF International, Las Piñas City  121.009787  14.447615  Italian  ...   \n",
       "\n",
       "           Currency Has Table booking  Has Online delivery  Is delivering now  \\\n",
       "0  Botswana Pula(P)                 1                    0                  0   \n",
       "\n",
       "   Switch to order menu  Price range  Aggregate rating  Rating color  \\\n",
       "0                     0            3               4.6        3F7E00   \n",
       "\n",
       "  Rating text Votes  \n",
       "0   Excellent   619  \n",
       "\n",
       "[1 rows x 21 columns]"
      ]
     },
     "execution_count": 3,
     "metadata": {},
     "output_type": "execute_result"
    }
   ],
   "source": [
    "df_raw=pd.read_csv('../data/zomato_raw.csv')\n",
    "df_raw.head(1)"
   ]
  },
  {
   "cell_type": "code",
   "execution_count": 4,
   "id": "87b6570d-419a-4da7-bbc3-1570c32e69f2",
   "metadata": {
    "execution": {
     "iopub.execute_input": "2024-01-16T12:26:57.961996Z",
     "iopub.status.busy": "2024-01-16T12:26:57.961047Z",
     "iopub.status.idle": "2024-01-16T12:26:57.976769Z",
     "shell.execute_reply": "2024-01-16T12:26:57.975680Z",
     "shell.execute_reply.started": "2024-01-16T12:26:57.961937Z"
    }
   },
   "outputs": [
    {
     "name": "stdout",
     "output_type": "stream",
     "text": [
      "(7527, 21) \n",
      "\n",
      "Restaurant ID            0\n",
      "Restaurant Name          0\n",
      "Country Code             0\n",
      "City                     0\n",
      "Address                  0\n",
      "Locality                 0\n",
      "Locality Verbose         0\n",
      "Longitude                0\n",
      "Latitude                 0\n",
      "Cuisines                15\n",
      "Average Cost for two     0\n",
      "Currency                 0\n",
      "Has Table booking        0\n",
      "Has Online delivery      0\n",
      "Is delivering now        0\n",
      "Switch to order menu     0\n",
      "Price range              0\n",
      "Aggregate rating         0\n",
      "Rating color             0\n",
      "Rating text              0\n",
      "Votes                    0\n",
      "dtype: int64 \n",
      "\n",
      "Restaurant ID             int64\n",
      "Restaurant Name          object\n",
      "Country Code              int64\n",
      "City                     object\n",
      "Address                  object\n",
      "Locality                 object\n",
      "Locality Verbose         object\n",
      "Longitude               float64\n",
      "Latitude                float64\n",
      "Cuisines                 object\n",
      "Average Cost for two      int64\n",
      "Currency                 object\n",
      "Has Table booking         int64\n",
      "Has Online delivery       int64\n",
      "Is delivering now         int64\n",
      "Switch to order menu      int64\n",
      "Price range               int64\n",
      "Aggregate rating        float64\n",
      "Rating color             object\n",
      "Rating text              object\n",
      "Votes                     int64\n",
      "dtype: object\n"
     ]
    }
   ],
   "source": [
    "print(df_raw.shape,'\\n')\n",
    "print(df_raw.isna().sum(),'\\n')\n",
    "print(df_raw.dtypes)"
   ]
  },
  {
   "cell_type": "code",
   "execution_count": 5,
   "id": "f17a553b-251f-4492-95ed-8ab0050686d5",
   "metadata": {
    "execution": {
     "iopub.execute_input": "2024-01-16T12:26:57.979069Z",
     "iopub.status.busy": "2024-01-16T12:26:57.978298Z",
     "iopub.status.idle": "2024-01-16T12:26:57.983611Z",
     "shell.execute_reply": "2024-01-16T12:26:57.982382Z",
     "shell.execute_reply.started": "2024-01-16T12:26:57.979032Z"
    }
   },
   "outputs": [],
   "source": [
    "# profile = ProfileReport(df_raw, title=\"Profiling Report\")\n",
    "# profile.to_file('analysis.html')"
   ]
  },
  {
   "cell_type": "code",
   "execution_count": 6,
   "id": "ce2f2416-47f9-47dd-a8a2-a6c1323b9c2d",
   "metadata": {
    "execution": {
     "iopub.execute_input": "2024-01-16T12:26:57.987076Z",
     "iopub.status.busy": "2024-01-16T12:26:57.984981Z",
     "iopub.status.idle": "2024-01-16T12:26:58.023522Z",
     "shell.execute_reply": "2024-01-16T12:26:58.022389Z",
     "shell.execute_reply.started": "2024-01-16T12:26:57.987003Z"
    }
   },
   "outputs": [],
   "source": [
    "# drop duplicated\n",
    "\n",
    "# len(df[df.duplicated()])\n",
    "\n",
    "df_raw=df_raw.drop_duplicates(keep='first')"
   ]
  },
  {
   "cell_type": "code",
   "execution_count": 7,
   "id": "0294699d-523c-487a-9d5a-090727d4805f",
   "metadata": {
    "execution": {
     "iopub.execute_input": "2024-01-16T12:26:58.026013Z",
     "iopub.status.busy": "2024-01-16T12:26:58.025182Z",
     "iopub.status.idle": "2024-01-16T12:26:58.041996Z",
     "shell.execute_reply": "2024-01-16T12:26:58.040006Z",
     "shell.execute_reply.started": "2024-01-16T12:26:58.025963Z"
    }
   },
   "outputs": [],
   "source": [
    "# drop all 15 nas\n",
    "\n",
    "df_raw=df_raw.dropna(ignore_index=True)"
   ]
  },
  {
   "cell_type": "code",
   "execution_count": 8,
   "id": "56c36880-117e-40a0-8261-a3c28dfda75e",
   "metadata": {
    "execution": {
     "iopub.execute_input": "2024-01-16T12:26:58.044871Z",
     "iopub.status.busy": "2024-01-16T12:26:58.044098Z",
     "iopub.status.idle": "2024-01-16T12:26:58.058641Z",
     "shell.execute_reply": "2024-01-16T12:26:58.056831Z",
     "shell.execute_reply.started": "2024-01-16T12:26:58.044817Z"
    }
   },
   "outputs": [],
   "source": [
    "# fixing columns names\n",
    "\n",
    "df_raw.columns=rename_columns(df_raw)\n",
    "# df_raw.columns"
   ]
  },
  {
   "cell_type": "code",
   "execution_count": 9,
   "id": "8812d7fa-5abb-48a9-bac4-0576a5250bc6",
   "metadata": {
    "execution": {
     "iopub.execute_input": "2024-01-16T12:26:58.064881Z",
     "iopub.status.busy": "2024-01-16T12:26:58.060268Z",
     "iopub.status.idle": "2024-01-16T12:26:58.617027Z",
     "shell.execute_reply": "2024-01-16T12:26:58.615502Z",
     "shell.execute_reply.started": "2024-01-16T12:26:58.064794Z"
    }
   },
   "outputs": [
    {
     "data": {
      "text/plain": [
       "15"
      ]
     },
     "execution_count": 9,
     "metadata": {},
     "output_type": "execute_result"
    }
   ],
   "source": [
    "# replacing country codes with their names\n",
    "\n",
    "list=[]\n",
    "for index, row in df_raw.iterrows():\n",
    "    codes=country_name(row['country_code'])\n",
    "    list.append(codes)\n",
    "\n",
    "df_raw['country']=list\n",
    "len(df_raw['country'].unique())"
   ]
  },
  {
   "cell_type": "code",
   "execution_count": 10,
   "id": "40a5652e-b8de-4134-9347-0a337d7da8e5",
   "metadata": {
    "execution": {
     "iopub.execute_input": "2024-01-16T12:26:58.622655Z",
     "iopub.status.busy": "2024-01-16T12:26:58.622123Z",
     "iopub.status.idle": "2024-01-16T12:26:58.634117Z",
     "shell.execute_reply": "2024-01-16T12:26:58.632865Z",
     "shell.execute_reply.started": "2024-01-16T12:26:58.622619Z"
    }
   },
   "outputs": [
    {
     "data": {
      "text/plain": [
       "array(['expensive', 'gourmet', 'normal', 'cheap'], dtype=object)"
      ]
     },
     "execution_count": 10,
     "metadata": {},
     "output_type": "execute_result"
    }
   ],
   "source": [
    "# replacing price range values with strings \n",
    "\n",
    "df_raw['price_range']=df_raw['price_range'].apply(create_price_tye)\n",
    "df_raw['price_range'].unique()"
   ]
  },
  {
   "cell_type": "code",
   "execution_count": 11,
   "id": "89087255-65ea-442d-bcee-a0079b994a7b",
   "metadata": {
    "execution": {
     "iopub.execute_input": "2024-01-16T12:26:58.637497Z",
     "iopub.status.busy": "2024-01-16T12:26:58.635841Z",
     "iopub.status.idle": "2024-01-16T12:26:59.251965Z",
     "shell.execute_reply": "2024-01-16T12:26:59.250824Z",
     "shell.execute_reply.started": "2024-01-16T12:26:58.637422Z"
    }
   },
   "outputs": [
    {
     "data": {
      "text/plain": [
       "array(['darkgreen', 'green', 'lightgreen', 'orange', 'red', 'darkred'],\n",
       "      dtype=object)"
      ]
     },
     "execution_count": 11,
     "metadata": {},
     "output_type": "execute_result"
    }
   ],
   "source": [
    "# replacing hex color codes with their color names\n",
    "\n",
    "list=[]\n",
    "for index, row in df_raw.iterrows():\n",
    "    codes=color_name(row['rating_color'])\n",
    "    list.append(codes)\n",
    "\n",
    "df_raw['rating_color']=list\n",
    "df_raw['rating_color'].unique()"
   ]
  },
  {
   "cell_type": "code",
   "execution_count": 12,
   "id": "6d29b0f4-85e2-4bad-946a-041cc5afecc1",
   "metadata": {
    "execution": {
     "iopub.execute_input": "2024-01-16T12:26:59.254707Z",
     "iopub.status.busy": "2024-01-16T12:26:59.253954Z",
     "iopub.status.idle": "2024-01-16T12:26:59.283943Z",
     "shell.execute_reply": "2024-01-16T12:26:59.282799Z",
     "shell.execute_reply.started": "2024-01-16T12:26:59.254638Z"
    }
   },
   "outputs": [],
   "source": [
    "# equalizing average_cost_for_two column\n",
    "\n",
    "df_raw=dollarize(df_raw)"
   ]
  },
  {
   "cell_type": "code",
   "execution_count": 13,
   "id": "e6e82170-70fa-4c41-9301-40e32bf0ca76",
   "metadata": {
    "execution": {
     "iopub.execute_input": "2024-01-16T12:26:59.286016Z",
     "iopub.status.busy": "2024-01-16T12:26:59.285445Z",
     "iopub.status.idle": "2024-01-16T12:26:59.298330Z",
     "shell.execute_reply": "2024-01-16T12:26:59.296766Z",
     "shell.execute_reply.started": "2024-01-16T12:26:59.285969Z"
    }
   },
   "outputs": [],
   "source": [
    "# drop column with only one variable\n",
    "\n",
    "df_raw=df_raw.drop(columns=['switch_to_order_menu'])"
   ]
  },
  {
   "cell_type": "code",
   "execution_count": 14,
   "id": "a4fc70cb-5008-4f13-b997-68e259baef90",
   "metadata": {
    "execution": {
     "iopub.execute_input": "2024-01-16T12:26:59.301154Z",
     "iopub.status.busy": "2024-01-16T12:26:59.300535Z",
     "iopub.status.idle": "2024-01-16T12:26:59.323438Z",
     "shell.execute_reply": "2024-01-16T12:26:59.322211Z",
     "shell.execute_reply.started": "2024-01-16T12:26:59.301093Z"
    }
   },
   "outputs": [],
   "source": [
    "# fixing mistype error\n",
    "\n",
    "df_raw=df_raw.replace(25000017,25,inplace=False)"
   ]
  },
  {
   "cell_type": "code",
   "execution_count": 15,
   "id": "cf3eac06-c90e-4779-8108-b223e341d004",
   "metadata": {
    "execution": {
     "iopub.execute_input": "2024-01-16T12:26:59.326027Z",
     "iopub.status.busy": "2024-01-16T12:26:59.325598Z",
     "iopub.status.idle": "2024-01-16T12:26:59.341506Z",
     "shell.execute_reply": "2024-01-16T12:26:59.339831Z",
     "shell.execute_reply.started": "2024-01-16T12:26:59.325995Z"
    }
   },
   "outputs": [],
   "source": [
    "# fixing wrong restaurants coordinates\n",
    "\n",
    "# df_raw[df_raw['restaurant_id']==95314]\n",
    "df_raw.loc[3981,'latitude']=10.023286\n",
    "df_raw.loc[3981,'longitude']=76.311371\n",
    "\n",
    "# df_raw[df_raw['restaurant_id']==18445965]\n",
    "df_raw.loc[6625,'latitude']=-25.7449\n",
    "df_raw.loc[6625,'longitude']=28.1878"
   ]
  },
  {
   "cell_type": "code",
   "execution_count": 16,
   "id": "6b8baa78-b15d-4d8e-b149-61d0036a82bc",
   "metadata": {
    "execution": {
     "iopub.execute_input": "2024-01-16T12:26:59.343991Z",
     "iopub.status.busy": "2024-01-16T12:26:59.343310Z",
     "iopub.status.idle": "2024-01-16T12:26:59.373629Z",
     "shell.execute_reply": "2024-01-16T12:26:59.371358Z",
     "shell.execute_reply.started": "2024-01-16T12:26:59.343922Z"
    }
   },
   "outputs": [
    {
     "data": {
      "text/html": [
       "<div>\n",
       "<style scoped>\n",
       "    .dataframe tbody tr th:only-of-type {\n",
       "        vertical-align: middle;\n",
       "    }\n",
       "\n",
       "    .dataframe tbody tr th {\n",
       "        vertical-align: top;\n",
       "    }\n",
       "\n",
       "    .dataframe thead th {\n",
       "        text-align: right;\n",
       "    }\n",
       "</style>\n",
       "<table border=\"1\" class=\"dataframe\">\n",
       "  <thead>\n",
       "    <tr style=\"text-align: right;\">\n",
       "      <th></th>\n",
       "      <th>cuisines</th>\n",
       "      <th>cuisines_n°</th>\n",
       "    </tr>\n",
       "  </thead>\n",
       "  <tbody>\n",
       "    <tr>\n",
       "      <th>0</th>\n",
       "      <td>Italian</td>\n",
       "      <td>1</td>\n",
       "    </tr>\n",
       "    <tr>\n",
       "      <th>1</th>\n",
       "      <td>European, Asian</td>\n",
       "      <td>2</td>\n",
       "    </tr>\n",
       "    <tr>\n",
       "      <th>2</th>\n",
       "      <td>Filipino, American, Italian, Bakery</td>\n",
       "      <td>4</td>\n",
       "    </tr>\n",
       "    <tr>\n",
       "      <th>3</th>\n",
       "      <td>American</td>\n",
       "      <td>1</td>\n",
       "    </tr>\n",
       "    <tr>\n",
       "      <th>4</th>\n",
       "      <td>Filipino</td>\n",
       "      <td>1</td>\n",
       "    </tr>\n",
       "  </tbody>\n",
       "</table>\n",
       "</div>"
      ],
      "text/plain": [
       "                              cuisines  cuisines_n°\n",
       "0                              Italian            1\n",
       "1                      European, Asian            2\n",
       "2  Filipino, American, Italian, Bakery            4\n",
       "3                             American            1\n",
       "4                             Filipino            1"
      ]
     },
     "execution_count": 16,
     "metadata": {},
     "output_type": "execute_result"
    }
   ],
   "source": [
    "# creating another column to count the total of different cuisines by country\n",
    "\n",
    "list=df_raw['cuisines'].str.split(',').apply(len)\n",
    "df_raw['cuisines_n°']=list\n",
    "df_raw[['cuisines','cuisines_n°']].head(5)"
   ]
  },
  {
   "cell_type": "code",
   "execution_count": 17,
   "id": "e1d3f52d-37ea-4c4d-b27b-706c9b28c077",
   "metadata": {
    "execution": {
     "iopub.execute_input": "2024-01-16T12:26:59.376085Z",
     "iopub.status.busy": "2024-01-16T12:26:59.375515Z",
     "iopub.status.idle": "2024-01-16T12:26:59.388917Z",
     "shell.execute_reply": "2024-01-16T12:26:59.387602Z",
     "shell.execute_reply.started": "2024-01-16T12:26:59.376029Z"
    }
   },
   "outputs": [],
   "source": [
    "df=df_raw.copy()"
   ]
  },
  {
   "cell_type": "markdown",
   "id": "a1ac7f23-650f-4198-9a27-a08027dba51b",
   "metadata": {
    "jp-MarkdownHeadingCollapsed": true
   },
   "source": [
    "# Business questions"
   ]
  },
  {
   "cell_type": "code",
   "execution_count": 20,
   "id": "6727355b-8f29-447e-9f40-ea3167f78244",
   "metadata": {
    "execution": {
     "iopub.execute_input": "2024-01-11T16:46:56.622610Z",
     "iopub.status.busy": "2024-01-11T16:46:56.621173Z",
     "iopub.status.idle": "2024-01-11T16:46:56.634921Z",
     "shell.execute_reply": "2024-01-11T16:46:56.632740Z",
     "shell.execute_reply.started": "2024-01-11T16:46:56.622536Z"
    }
   },
   "outputs": [
    {
     "data": {
      "text/plain": [
       "array(['Philippines', 'Brazil', 'Australia', 'United States of America',\n",
       "       'Canada', 'Singapure', 'United Arab Emirates', 'India',\n",
       "       'Indonesia', 'New Zeland', 'England', 'Qatar', 'South Africa',\n",
       "       'Sri Lanka', 'Turkey'], dtype=object)"
      ]
     },
     "execution_count": 20,
     "metadata": {},
     "output_type": "execute_result"
    }
   ],
   "source": [
    "df['country'].unique()"
   ]
  },
  {
   "cell_type": "markdown",
   "id": "f5d22549-51a9-4a19-889b-0b063dd065da",
   "metadata": {
    "jp-MarkdownHeadingCollapsed": true
   },
   "source": [
    "## General information"
   ]
  },
  {
   "cell_type": "code",
   "execution_count": 53,
   "id": "a67a096f-12cc-4b75-a232-5292cd889562",
   "metadata": {
    "execution": {
     "iopub.execute_input": "2024-01-06T18:21:25.973680Z",
     "iopub.status.busy": "2024-01-06T18:21:25.972554Z",
     "iopub.status.idle": "2024-01-06T18:21:25.983187Z",
     "shell.execute_reply": "2024-01-06T18:21:25.981884Z",
     "shell.execute_reply.started": "2024-01-06T18:21:25.973632Z"
    }
   },
   "outputs": [
    {
     "data": {
      "text/plain": [
       "6929"
      ]
     },
     "execution_count": 53,
     "metadata": {},
     "output_type": "execute_result"
    }
   ],
   "source": [
    "# 1. Quantos restaurantes únicos estão registrados?\n",
    "\n",
    "len(df['restaurant_id'].unique())\n",
    "\n",
    "# n° unico"
   ]
  },
  {
   "cell_type": "code",
   "execution_count": 54,
   "id": "61b5ae46-8927-455b-92ce-c666a76ab9eb",
   "metadata": {
    "execution": {
     "iopub.execute_input": "2024-01-06T18:21:26.512449Z",
     "iopub.status.busy": "2024-01-06T18:21:26.511714Z",
     "iopub.status.idle": "2024-01-06T18:21:26.523164Z",
     "shell.execute_reply": "2024-01-06T18:21:26.521860Z",
     "shell.execute_reply.started": "2024-01-06T18:21:26.512411Z"
    }
   },
   "outputs": [
    {
     "data": {
      "text/plain": [
       "15"
      ]
     },
     "execution_count": 54,
     "metadata": {},
     "output_type": "execute_result"
    }
   ],
   "source": [
    "# 2. Quantos países únicos estão registrados?\n",
    "\n",
    "len(df['country'].unique())\n",
    "\n",
    "# n° unico"
   ]
  },
  {
   "cell_type": "code",
   "execution_count": 55,
   "id": "24c8c08b-4864-4de3-a600-aee0865df834",
   "metadata": {
    "execution": {
     "iopub.execute_input": "2024-01-06T18:21:26.889579Z",
     "iopub.status.busy": "2024-01-06T18:21:26.889099Z",
     "iopub.status.idle": "2024-01-06T18:21:26.900017Z",
     "shell.execute_reply": "2024-01-06T18:21:26.897978Z",
     "shell.execute_reply.started": "2024-01-06T18:21:26.889542Z"
    }
   },
   "outputs": [
    {
     "data": {
      "text/plain": [
       "125"
      ]
     },
     "execution_count": 55,
     "metadata": {},
     "output_type": "execute_result"
    }
   ],
   "source": [
    "# 3. Quantas cidades únicas estão registradas?\n",
    "\n",
    "len(df['city'].unique())\n",
    "\n",
    "# n° unico"
   ]
  },
  {
   "cell_type": "code",
   "execution_count": 56,
   "id": "9fbf5002-b209-408f-9bf1-aef1cacc1658",
   "metadata": {
    "execution": {
     "iopub.execute_input": "2024-01-06T18:21:27.058192Z",
     "iopub.status.busy": "2024-01-06T18:21:27.056832Z",
     "iopub.status.idle": "2024-01-06T18:21:27.064359Z",
     "shell.execute_reply": "2024-01-06T18:21:27.062704Z",
     "shell.execute_reply.started": "2024-01-06T18:21:27.058144Z"
    }
   },
   "outputs": [
    {
     "name": "stdout",
     "output_type": "stream",
     "text": [
      "4,638,535\n"
     ]
    }
   ],
   "source": [
    "# 4. Qual o total de avaliações feitas?\n",
    "\n",
    "print(f'{df[\"votes\"].sum():,.0f}')\n",
    "\n",
    "# n° unico"
   ]
  },
  {
   "cell_type": "code",
   "execution_count": 27,
   "id": "6535271a-4c9a-41cf-a431-bc398435861a",
   "metadata": {
    "execution": {
     "iopub.execute_input": "2024-01-10T23:39:44.067718Z",
     "iopub.status.busy": "2024-01-10T23:39:44.066335Z",
     "iopub.status.idle": "2024-01-10T23:39:44.216432Z",
     "shell.execute_reply": "2024-01-10T23:39:44.215121Z",
     "shell.execute_reply.started": "2024-01-10T23:39:44.067636Z"
    }
   },
   "outputs": [
    {
     "name": "stdout",
     "output_type": "stream",
     "text": [
      "199\n"
     ]
    }
   ],
   "source": [
    "# 5. Qual o total de tipos de culinária registrados?\n",
    "\n",
    "list=df['cuisines'].str.split(',',expand=True)\n",
    "list= list.replace(',','', regex=True)\n",
    "list= list.replace(' ','', regex=True)\n",
    "\n",
    "all=pd.DataFrame()\n",
    "all['all']=pd.concat([list[0],list[1],list[2],list[3],list[4],list[5],list[6],list[7]])\n",
    "all=all.dropna()\n",
    "print(len(all['all'].unique()))\n",
    "\n",
    "# n° unico"
   ]
  },
  {
   "cell_type": "code",
   "execution_count": 28,
   "id": "a6dbd573-5977-42ba-9c22-90f659addf7e",
   "metadata": {
    "execution": {
     "iopub.execute_input": "2024-01-10T23:39:49.009800Z",
     "iopub.status.busy": "2024-01-10T23:39:49.008488Z",
     "iopub.status.idle": "2024-01-10T23:39:49.022669Z",
     "shell.execute_reply": "2024-01-10T23:39:49.021016Z",
     "shell.execute_reply.started": "2024-01-10T23:39:49.009749Z"
    }
   },
   "outputs": [
    {
     "data": {
      "text/plain": [
       "all\n",
       "NorthIndian    1567\n",
       "Chinese        1226\n",
       "Italian         905\n",
       "FastFood        905\n",
       "American        702\n",
       "Continental     631\n",
       "Cafe            612\n",
       "Pizza           579\n",
       "Desserts        490\n",
       "Burger          474\n",
       "Name: count, dtype: int64"
      ]
     },
     "execution_count": 28,
     "metadata": {},
     "output_type": "execute_result"
    }
   ],
   "source": [
    "all['all'].value_counts().head(10)"
   ]
  },
  {
   "cell_type": "code",
   "execution_count": 21,
   "id": "d2fbb4c0-55b5-4cd3-ad87-0b9d94337585",
   "metadata": {
    "execution": {
     "iopub.execute_input": "2024-01-10T23:37:04.044858Z",
     "iopub.status.busy": "2024-01-10T23:37:04.044272Z",
     "iopub.status.idle": "2024-01-10T23:37:04.058039Z",
     "shell.execute_reply": "2024-01-10T23:37:04.057058Z",
     "shell.execute_reply.started": "2024-01-10T23:37:04.044801Z"
    }
   },
   "outputs": [],
   "source": [
    "# # mapa culinarias\n",
    "\n",
    "# Criar o mapa\n",
    "cuisine_map = folium.Map(control_scale=True)\n",
    "marker_cluster = MarkerCluster().add_to(cuisine_map)\n",
    "\n",
    "for i, row in df.iterrows():\n",
    "    cuisines_count = row['cuisines_n°']\n",
    "\n",
    "    if cuisines_count == 1:\n",
    "        fill_color = 'red'\n",
    "    elif 2 <= cuisines_count <= 3:\n",
    "        fill_color = 'orange'\n",
    "    elif 4 <= cuisines_count <= 6:\n",
    "        fill_color = 'blue'\n",
    "    elif cuisines_count == 7:\n",
    "        fill_color = 'green'\n",
    "    else:\n",
    "        fill_color = 'gray'  # valores não mencionados\n",
    "\n",
    "    popup_text = f'''<div style=\"font-size: 14px;\">\n",
    "                      Restaurant name: <b>{str(row[\"restaurant_name\"])}</b><br>\n",
    "                      Price range: <b>{str(row[\"price_range\"])}</b><br>\n",
    "                      Cuisines: <b>{str(row[\"cuisines\"])}</b><br>\n",
    "                      Avg cost for two ($): <b>{str(row[\"average_cost_for_two\"])}</b><br>\n",
    "                      Rating: <b>{str(row[\"aggregate_rating\"])}</b>\n",
    "                      </div>'''\n",
    "\n",
    "    marker_size = int(row['cuisines_n°']) * 5\n",
    "\n",
    "    tooltip_text = f'''<div style=\"font-size: 14px;\">\n",
    "                      Restaurant name: <b>{str(row[\"restaurant_name\"])}</b><br>\n",
    "                      Price range: <b>{str(row[\"price_range\"])}</b><br>\n",
    "                      Cuisines: <b>{str(row[\"cuisines\"])}</b><br>\n",
    "                      Avg cost for two ($): <b>{str(row[\"average_cost_for_two\"])}</b><br>\n",
    "                      Rating: <b>{str(row[\"aggregate_rating\"])}</b>\n",
    "                      </div>'''\n",
    "\n",
    "    folium.CircleMarker([row['latitude'], row['longitude']],\n",
    "                        radius=marker_size,\n",
    "                        tooltip=tooltip_text,\n",
    "                        color='black',  # Cor da borda\n",
    "                        fill=True,\n",
    "                        fill_color=fill_color,\n",
    "                        fill_opacity=0.8).add_to(marker_cluster)\n",
    "\n",
    "legend_html = '''\n",
    "    <div style=\"position: fixed; \n",
    "                bottom: 50px; left: 50px; width: 150px; height: 150px; \n",
    "                border:2px solid grey; z-index:9999; font-size:14px;\n",
    "                background-color:white; opacity: .85; text-align: left; padding: 5px;\">\n",
    "      <b style=\"font-size: 16px;\">Cuisines variety:</b><br>\n",
    "      <span style=\"color: red; font-size: 20px; vertical-align: middle;\">■</span> 1 Cuisine <br>\n",
    "      <span style=\"color: orange; font-size: 20px; vertical-align: middle;\">■</span> 2-3 Cuisines <br>\n",
    "      <span style=\"color: blue; font-size: 20px; vertical-align: middle;\">■</span> 4-6 Cuisines <br>\n",
    "      <span style=\"color: green; font-size: 20px; vertical-align: middle;\">■</span> 7 Cuisines <br>\n",
    "    </div>\n",
    "    '''\n",
    "\n",
    "cuisine_map.get_root().html.add_child(folium.Element(legend_html))\n",
    "\n",
    "cuisine_map"
   ]
  },
  {
   "cell_type": "code",
   "execution_count": 22,
   "id": "086c0ad3-9f55-4497-9d00-7d3206fb391d",
   "metadata": {
    "execution": {
     "iopub.execute_input": "2024-01-10T23:37:10.387147Z",
     "iopub.status.busy": "2024-01-10T23:37:10.384832Z",
     "iopub.status.idle": "2024-01-10T23:37:10.407679Z",
     "shell.execute_reply": "2024-01-10T23:37:10.403616Z",
     "shell.execute_reply.started": "2024-01-10T23:37:10.387048Z"
    }
   },
   "outputs": [],
   "source": [
    "# # mapa preço\n",
    "\n",
    "price_map = folium.Map(control_scale=True)\n",
    "marker_cluster = MarkerCluster().add_to(price_map)\n",
    "\n",
    "price_color = {'gourmet': 'red', 'expensive': 'orange', 'normal': 'blue', 'cheap': 'green'}\n",
    "price_size = {'gourmet': 25, 'expensive': 20, 'normal': 15, 'cheap': 10}\n",
    "\n",
    "for i, row in df.iterrows():\n",
    "    popup_text = f'''<div style=\"font-size: 14px;\">\n",
    "                      Restaurant name: <b>{str(row[\"restaurant_name\"])}</b><br>\n",
    "                      Price range: <b>{str(row[\"price_range\"])}</b><br>\n",
    "                      Cuisines: <b>{str(row[\"cuisines\"])}</b><br>\n",
    "                      Avg cost for two ($): <b>{str(row[\"average_cost_for_two\"])}</b><br>\n",
    "                      Rating: <b>{str(row[\"aggregate_rating\"])}</b>\n",
    "                      </div>'''\n",
    "\n",
    "    marker_size = price_size.get(row['price_range'], 8)  # Tamanho padrão é 8 se não estiver nas faixas especificadas\n",
    "    fill_color = price_color.get(row['price_range'], 'gray')\n",
    "\n",
    "    # Substituir cor cinza por laranja\n",
    "    if fill_color == 'gray' and row['price_range'] == 'expensive':\n",
    "        fill_color = 'orange'\n",
    "\n",
    "    tooltip_text = f'''<div style=\"font-size: 14px;\">\n",
    "                      Restaurant name: <b>{str(row[\"restaurant_name\"])}</b><br>\n",
    "                      Price range: <b>{str(row[\"price_range\"])}</b><br>\n",
    "                      Cuisines: <b>{str(row[\"cuisines\"])}</b><br>\n",
    "                      Avg cost for two ($): <b>{str(row[\"average_cost_for_two\"])}</b><br>\n",
    "                      Rating: <b>{str(row[\"aggregate_rating\"])}</b>\n",
    "                      </div>'''\n",
    "\n",
    "    folium.CircleMarker([row['latitude'], row['longitude']],\n",
    "                        radius=marker_size,\n",
    "                        tooltip=tooltip_text,\n",
    "                        color='black',  # Cor da borda\n",
    "                        fill=True,\n",
    "                        fill_color=fill_color,\n",
    "                        fill_opacity=0.8).add_to(marker_cluster)\n",
    "\n",
    "# Adapte o tamanho da legenda conforme necessário\n",
    "legend_html = '''\n",
    "    <div style=\"position: fixed; \n",
    "                bottom: 50px; left: 50px; width: 150px; height: 150px; \n",
    "                border:2px solid grey; z-index:9999; font-size:14px;\n",
    "                background-color:white; opacity: .85; text-align: left; padding: 5px;\">\n",
    "      <b style=\"font-size: 16px;\">Price range:</b><br>\n",
    "      <span style=\"color: red; font-size: 20px; vertical-align: middle;\">■</span> Gourmet <br>\n",
    "      <span style=\"color: orange; font-size: 20px; vertical-align: middle;\">■</span> Expensive <br>\n",
    "      <span style=\"color: blue; font-size: 20px; vertical-align: middle;\">■</span> Normal <br>\n",
    "      <span style=\"color: green; font-size: 20px; vertical-align: middle;\">■</span> Cheap<br>\n",
    "    </div>\n",
    "    '''\n",
    "\n",
    "price_map.get_root().html.add_child(folium.Element(legend_html))\n",
    "\n",
    "# price_map"
   ]
  },
  {
   "cell_type": "code",
   "execution_count": 24,
   "id": "08094091-3226-4f1d-9ace-6be8f8b1a81a",
   "metadata": {
    "execution": {
     "iopub.execute_input": "2024-01-10T23:37:58.811562Z",
     "iopub.status.busy": "2024-01-10T23:37:58.810937Z",
     "iopub.status.idle": "2024-01-10T23:37:58.823170Z",
     "shell.execute_reply": "2024-01-10T23:37:58.821358Z",
     "shell.execute_reply.started": "2024-01-10T23:37:58.811482Z"
    }
   },
   "outputs": [],
   "source": [
    "# mapa aggregate rating\n",
    "agg_map = folium.Map(control_scale=True)\n",
    "marker_cluster = MarkerCluster().add_to(agg_map)\n",
    "\n",
    "rating_size = {'bad': 10, 'regular': 15, 'good': 20, 'excellent': 25}\n",
    "\n",
    "for i, row in df.iterrows():\n",
    "    rating = row['aggregate_rating']\n",
    "\n",
    "    if rating == 0:\n",
    "        fill_color = 'gray'\n",
    "        rating_category = 'bad'  # Pode ser qualquer categoria, pois o tamanho será o mesmo dos vermelhos\n",
    "    elif 2.1 <= rating <= 3.5:\n",
    "        fill_color = 'red'  # Bad\n",
    "        rating_category = 'bad'\n",
    "    elif 3.6 <= rating <= 4.0:\n",
    "        fill_color = 'orange'  # Regular\n",
    "        rating_category = 'regular'\n",
    "    elif 4.1 <= rating <= 4.5:\n",
    "        fill_color = 'blue'  # Good\n",
    "        rating_category = 'good'\n",
    "    else:\n",
    "        fill_color = 'green'  # Excellent\n",
    "        rating_category = 'excellent'\n",
    "\n",
    "    popup_text = f'''<div style=\"font-size: 14px;\">\n",
    "                      Restaurant name: <b>{str(row[\"restaurant_name\"])}</b><br>\n",
    "                      Price range: <b>{str(row[\"price_range\"])}</b><br>\n",
    "                      Cuisines: <b>{str(row[\"cuisines\"])}</b><br>\n",
    "                      Avg cost for two ($): <b>{str(row[\"average_cost_for_two\"])}</b><br>\n",
    "                      Rating: <b>{str(row[\"aggregate_rating\"])}</b>\n",
    "                      </div>'''\n",
    "\n",
    "    marker_size = rating_size.get(rating_category, 10)  # Tamanho padrão é 10 se não estiver nas faixas especificadas\n",
    "\n",
    "    tooltip_text = f'''<div style=\"font-size: 14px;\">\n",
    "                      Restaurant name: <b>{str(row[\"restaurant_name\"])}</b><br>\n",
    "                      Price range: <b>{str(row[\"price_range\"])}</b><br>\n",
    "                      Cuisines: <b>{str(row[\"cuisines\"])}</b><br>\n",
    "                      Avg cost for two ($): <b>{str(row[\"average_cost_for_two\"])}</b><br>\n",
    "                      Rating: <b>{str(row[\"aggregate_rating\"])}</b>\n",
    "                      </div>'''\n",
    "\n",
    "    folium.CircleMarker([row['latitude'], row['longitude']],\n",
    "                        radius=marker_size,\n",
    "                        tooltip=tooltip_text,\n",
    "                        color='black',  # Cor da borda\n",
    "                        fill=True,\n",
    "                        fill_color=fill_color,\n",
    "                        fill_opacity=0.8).add_to(marker_cluster)\n",
    "\n",
    "# Adapte o tamanho da legenda conforme necessário\n",
    "legend_html = '''\n",
    "    <div style=\"position: fixed; \n",
    "                bottom: 50px; left: 50px; width: 150px; height: 195px; \n",
    "                border:2px solid grey; z-index:9999; font-size:14px;\n",
    "                background-color:white; opacity: .85; text-align: left; padding: 5px;\">\n",
    "      <b style=\"font-size: 16px;\">Aggregate Rating:</b><br>\n",
    "      <span style=\"color: gray; font-size: 20px; vertical-align: middle;\">■</span> Not Rated (0)<br>\n",
    "      <span style=\"color: red; font-size: 20px; vertical-align: middle;\">■</span> Bad (2.1 - 3.5) <br>\n",
    "      <span style=\"color: orange; font-size: 20px; vertical-align: middle;\">■</span> Regular (3.6 - 4.0) <br>\n",
    "      <span style=\"color: blue; font-size: 20px; vertical-align: middle;\">■</span> Good (4.1 - 4.5) <br>\n",
    "      <span style=\"color: green; font-size: 20px; vertical-align: middle;\">■</span> Excellent (>4.5)<br>\n",
    "    </div>\n",
    "    '''\n",
    "\n",
    "agg_map.get_root().html.add_child(folium.Element(legend_html))\n",
    "\n",
    "agg_map"
   ]
  },
  {
   "cell_type": "code",
   "execution_count": 26,
   "id": "4ea4063f-faac-466e-8cec-3cf10b57c09b",
   "metadata": {
    "execution": {
     "iopub.execute_input": "2024-01-10T23:39:27.256653Z",
     "iopub.status.busy": "2024-01-10T23:39:27.256043Z",
     "iopub.status.idle": "2024-01-10T23:39:27.269007Z",
     "shell.execute_reply": "2024-01-10T23:39:27.267864Z",
     "shell.execute_reply.started": "2024-01-10T23:39:27.256594Z"
    }
   },
   "outputs": [],
   "source": [
    "# # mapa average cost for two\n",
    "\n",
    "avg_map = folium.Map(control_scale=True)\n",
    "marker_cluster = MarkerCluster().add_to(avg_map)\n",
    "\n",
    "cost_size = {'cheap': 10, 'normal': 15, 'expensive': 20, 'gourmet': 25}\n",
    "\n",
    "for i, row in df.iterrows():\n",
    "    avg_cost = row['average_cost_for_two']\n",
    "\n",
    "    if 0 <= avg_cost <= 20:\n",
    "        fill_color = 'green'  # Cheap\n",
    "        cost_category = 'cheap'\n",
    "    elif 21 <= avg_cost <= 50:\n",
    "        fill_color = 'blue'  # Normal\n",
    "        cost_category = 'normal'\n",
    "    elif 51 <= avg_cost <= 100:\n",
    "        fill_color = 'orange'  # Expensive\n",
    "        cost_category = 'expensive'\n",
    "    else:\n",
    "        fill_color = 'red'  # Gourmet\n",
    "        cost_category = 'gourmet'\n",
    "\n",
    "    popup_text = f'''<div style=\"font-size: 14px;\">\n",
    "                      Restaurant name: <b>{str(row[\"restaurant_name\"])}</b><br>\n",
    "                      Price range: <b>{str(row[\"price_range\"])}</b><br>\n",
    "                      Cuisines: <b>{str(row[\"cuisines\"])}</b><br>\n",
    "                      Avg cost for two ($): <b>{str(row[\"average_cost_for_two\"])}</b><br>\n",
    "                      Rating: <b>{str(row[\"aggregate_rating\"])}</b>\n",
    "                      </div>'''\n",
    "\n",
    "    marker_size = cost_size.get(cost_category, 10)  # Tamanho padrão é 10 se não estiver nas faixas especificadas\n",
    "\n",
    "    tooltip_text = f'''<div style=\"font-size: 14px;\">\n",
    "                      Restaurant name: <b>{str(row[\"restaurant_name\"])}</b><br>\n",
    "                      Price range: <b>{str(row[\"price_range\"])}</b><br>\n",
    "                      Cuisines: <b>{str(row[\"cuisines\"])}</b><br>\n",
    "                      Avg cost for two ($): <b>{str(row[\"average_cost_for_two\"])}</b><br>\n",
    "                      Rating: <b>{str(row[\"aggregate_rating\"])}</b>\n",
    "                      </div>'''\n",
    "\n",
    "    folium.CircleMarker([row['latitude'], row['longitude']],\n",
    "                        radius=marker_size,\n",
    "                        tooltip=tooltip_text,\n",
    "                        color='black',  # Cor da borda\n",
    "                        fill=True,\n",
    "                        fill_color=fill_color,\n",
    "                        fill_opacity=0.8).add_to(marker_cluster)\n",
    "\n",
    "legend_html = '''\n",
    "    <div style=\"position: fixed; \n",
    "                bottom: 50px; left: 50px; width: 150px; height: 195px; \n",
    "                border:2px solid grey; z-index:9999; font-size:14px;\n",
    "                background-color:white; opacity: .85; text-align: left; padding: 5px;\">\n",
    "      <b style=\"font-size: 16px;\">Average Cost for Two ($):</b><br>\n",
    "      <span style=\"color: green; font-size: 20px; vertical-align: middle;\">■</span> Cheap (0 - 20) <br>\n",
    "      <span style=\"color: blue; font-size: 20px; vertical-align: middle;\">■</span> Normal (21 - 50) <br>\n",
    "      <span style=\"color: orange; font-size: 20px; vertical-align: middle;\">■</span> Expensive (51 - 100) <br>\n",
    "      <span style=\"color: red; font-size: 20px; vertical-align: middle;\">■</span> Gourmet (>100)<br>\n",
    "    </div>\n",
    "    '''\n",
    "\n",
    "avg_map.get_root().html.add_child(folium.Element(legend_html))\n",
    "\n",
    "avg_map"
   ]
  },
  {
   "cell_type": "markdown",
   "id": "5b96964d-a526-4fb4-879b-919a03ca83a6",
   "metadata": {
    "jp-MarkdownHeadingCollapsed": true
   },
   "source": [
    "# Country"
   ]
  },
  {
   "cell_type": "code",
   "execution_count": 47,
   "id": "0a7d8245-d878-463d-8f26-86f26bb58007",
   "metadata": {
    "execution": {
     "iopub.execute_input": "2024-01-08T13:27:58.538684Z",
     "iopub.status.busy": "2024-01-08T13:27:58.538215Z",
     "iopub.status.idle": "2024-01-08T13:27:58.543156Z",
     "shell.execute_reply": "2024-01-08T13:27:58.541905Z",
     "shell.execute_reply.started": "2024-01-08T13:27:58.538646Z"
    }
   },
   "outputs": [],
   "source": [
    "# total cuisines by country\n",
    "\n",
    "# df_aux = df.loc[:, ['country', 'cuisines_n°']].groupby('country').count().sort_values('cuisines_n°',ascending=False).reset_index()\n",
    "\n",
    "# px.bar(df_aux, x='country', y='cuisines_n°')"
   ]
  },
  {
   "cell_type": "code",
   "execution_count": 37,
   "id": "30b4a8b1-9cbd-46f1-9aab-f03bd5106b74",
   "metadata": {
    "execution": {
     "iopub.execute_input": "2024-01-12T18:18:02.877047Z",
     "iopub.status.busy": "2024-01-12T18:18:02.876496Z",
     "iopub.status.idle": "2024-01-12T18:18:03.110117Z",
     "shell.execute_reply": "2024-01-12T18:18:03.108968Z",
     "shell.execute_reply.started": "2024-01-12T18:18:02.876983Z"
    }
   },
   "outputs": [
    {
     "data": {
      "application/vnd.plotly.v1+json": {
       "config": {
        "plotlyServerURL": "https://plot.ly"
       },
       "data": [
        {
         "alignmentgroup": "True",
         "hovertemplate": "country=%{x}<br>cuisines=%{y}<extra></extra>",
         "legendgroup": "",
         "marker": {
          "color": "#636efa",
          "pattern": {
           "shape": ""
          }
         },
         "name": "",
         "offsetgroup": "",
         "orientation": "v",
         "showlegend": false,
         "textposition": "auto",
         "type": "bar",
         "x": [
          "India",
          "United States of America",
          "England",
          "United Arab Emirates",
          "New Zeland",
          "Canada",
          "Australia",
          "South Africa",
          "Brazil",
          "Qatar",
          "Turkey",
          "Singapure",
          "Sri Lanka",
          "Indonesia",
          "Philippines"
         ],
         "xaxis": "x",
         "y": [
          94,
          87,
          70,
          67,
          62,
          57,
          56,
          52,
          50,
          46,
          43,
          40,
          36,
          29,
          27
         ],
         "yaxis": "y"
        }
       ],
       "layout": {
        "autosize": true,
        "barmode": "relative",
        "legend": {
         "tracegroupgap": 0
        },
        "margin": {
         "t": 60
        },
        "template": {
         "data": {
          "bar": [
           {
            "error_x": {
             "color": "#2a3f5f"
            },
            "error_y": {
             "color": "#2a3f5f"
            },
            "marker": {
             "line": {
              "color": "#E5ECF6",
              "width": 0.5
             },
             "pattern": {
              "fillmode": "overlay",
              "size": 10,
              "solidity": 0.2
             }
            },
            "type": "bar"
           }
          ],
          "barpolar": [
           {
            "marker": {
             "line": {
              "color": "#E5ECF6",
              "width": 0.5
             },
             "pattern": {
              "fillmode": "overlay",
              "size": 10,
              "solidity": 0.2
             }
            },
            "type": "barpolar"
           }
          ],
          "carpet": [
           {
            "aaxis": {
             "endlinecolor": "#2a3f5f",
             "gridcolor": "white",
             "linecolor": "white",
             "minorgridcolor": "white",
             "startlinecolor": "#2a3f5f"
            },
            "baxis": {
             "endlinecolor": "#2a3f5f",
             "gridcolor": "white",
             "linecolor": "white",
             "minorgridcolor": "white",
             "startlinecolor": "#2a3f5f"
            },
            "type": "carpet"
           }
          ],
          "choropleth": [
           {
            "colorbar": {
             "outlinewidth": 0,
             "ticks": ""
            },
            "type": "choropleth"
           }
          ],
          "contour": [
           {
            "colorbar": {
             "outlinewidth": 0,
             "ticks": ""
            },
            "colorscale": [
             [
              0,
              "#0d0887"
             ],
             [
              0.1111111111111111,
              "#46039f"
             ],
             [
              0.2222222222222222,
              "#7201a8"
             ],
             [
              0.3333333333333333,
              "#9c179e"
             ],
             [
              0.4444444444444444,
              "#bd3786"
             ],
             [
              0.5555555555555556,
              "#d8576b"
             ],
             [
              0.6666666666666666,
              "#ed7953"
             ],
             [
              0.7777777777777778,
              "#fb9f3a"
             ],
             [
              0.8888888888888888,
              "#fdca26"
             ],
             [
              1,
              "#f0f921"
             ]
            ],
            "type": "contour"
           }
          ],
          "contourcarpet": [
           {
            "colorbar": {
             "outlinewidth": 0,
             "ticks": ""
            },
            "type": "contourcarpet"
           }
          ],
          "heatmap": [
           {
            "colorbar": {
             "outlinewidth": 0,
             "ticks": ""
            },
            "colorscale": [
             [
              0,
              "#0d0887"
             ],
             [
              0.1111111111111111,
              "#46039f"
             ],
             [
              0.2222222222222222,
              "#7201a8"
             ],
             [
              0.3333333333333333,
              "#9c179e"
             ],
             [
              0.4444444444444444,
              "#bd3786"
             ],
             [
              0.5555555555555556,
              "#d8576b"
             ],
             [
              0.6666666666666666,
              "#ed7953"
             ],
             [
              0.7777777777777778,
              "#fb9f3a"
             ],
             [
              0.8888888888888888,
              "#fdca26"
             ],
             [
              1,
              "#f0f921"
             ]
            ],
            "type": "heatmap"
           }
          ],
          "heatmapgl": [
           {
            "colorbar": {
             "outlinewidth": 0,
             "ticks": ""
            },
            "colorscale": [
             [
              0,
              "#0d0887"
             ],
             [
              0.1111111111111111,
              "#46039f"
             ],
             [
              0.2222222222222222,
              "#7201a8"
             ],
             [
              0.3333333333333333,
              "#9c179e"
             ],
             [
              0.4444444444444444,
              "#bd3786"
             ],
             [
              0.5555555555555556,
              "#d8576b"
             ],
             [
              0.6666666666666666,
              "#ed7953"
             ],
             [
              0.7777777777777778,
              "#fb9f3a"
             ],
             [
              0.8888888888888888,
              "#fdca26"
             ],
             [
              1,
              "#f0f921"
             ]
            ],
            "type": "heatmapgl"
           }
          ],
          "histogram": [
           {
            "marker": {
             "pattern": {
              "fillmode": "overlay",
              "size": 10,
              "solidity": 0.2
             }
            },
            "type": "histogram"
           }
          ],
          "histogram2d": [
           {
            "colorbar": {
             "outlinewidth": 0,
             "ticks": ""
            },
            "colorscale": [
             [
              0,
              "#0d0887"
             ],
             [
              0.1111111111111111,
              "#46039f"
             ],
             [
              0.2222222222222222,
              "#7201a8"
             ],
             [
              0.3333333333333333,
              "#9c179e"
             ],
             [
              0.4444444444444444,
              "#bd3786"
             ],
             [
              0.5555555555555556,
              "#d8576b"
             ],
             [
              0.6666666666666666,
              "#ed7953"
             ],
             [
              0.7777777777777778,
              "#fb9f3a"
             ],
             [
              0.8888888888888888,
              "#fdca26"
             ],
             [
              1,
              "#f0f921"
             ]
            ],
            "type": "histogram2d"
           }
          ],
          "histogram2dcontour": [
           {
            "colorbar": {
             "outlinewidth": 0,
             "ticks": ""
            },
            "colorscale": [
             [
              0,
              "#0d0887"
             ],
             [
              0.1111111111111111,
              "#46039f"
             ],
             [
              0.2222222222222222,
              "#7201a8"
             ],
             [
              0.3333333333333333,
              "#9c179e"
             ],
             [
              0.4444444444444444,
              "#bd3786"
             ],
             [
              0.5555555555555556,
              "#d8576b"
             ],
             [
              0.6666666666666666,
              "#ed7953"
             ],
             [
              0.7777777777777778,
              "#fb9f3a"
             ],
             [
              0.8888888888888888,
              "#fdca26"
             ],
             [
              1,
              "#f0f921"
             ]
            ],
            "type": "histogram2dcontour"
           }
          ],
          "mesh3d": [
           {
            "colorbar": {
             "outlinewidth": 0,
             "ticks": ""
            },
            "type": "mesh3d"
           }
          ],
          "parcoords": [
           {
            "line": {
             "colorbar": {
              "outlinewidth": 0,
              "ticks": ""
             }
            },
            "type": "parcoords"
           }
          ],
          "pie": [
           {
            "automargin": true,
            "type": "pie"
           }
          ],
          "scatter": [
           {
            "fillpattern": {
             "fillmode": "overlay",
             "size": 10,
             "solidity": 0.2
            },
            "type": "scatter"
           }
          ],
          "scatter3d": [
           {
            "line": {
             "colorbar": {
              "outlinewidth": 0,
              "ticks": ""
             }
            },
            "marker": {
             "colorbar": {
              "outlinewidth": 0,
              "ticks": ""
             }
            },
            "type": "scatter3d"
           }
          ],
          "scattercarpet": [
           {
            "marker": {
             "colorbar": {
              "outlinewidth": 0,
              "ticks": ""
             }
            },
            "type": "scattercarpet"
           }
          ],
          "scattergeo": [
           {
            "marker": {
             "colorbar": {
              "outlinewidth": 0,
              "ticks": ""
             }
            },
            "type": "scattergeo"
           }
          ],
          "scattergl": [
           {
            "marker": {
             "colorbar": {
              "outlinewidth": 0,
              "ticks": ""
             }
            },
            "type": "scattergl"
           }
          ],
          "scattermapbox": [
           {
            "marker": {
             "colorbar": {
              "outlinewidth": 0,
              "ticks": ""
             }
            },
            "type": "scattermapbox"
           }
          ],
          "scatterpolar": [
           {
            "marker": {
             "colorbar": {
              "outlinewidth": 0,
              "ticks": ""
             }
            },
            "type": "scatterpolar"
           }
          ],
          "scatterpolargl": [
           {
            "marker": {
             "colorbar": {
              "outlinewidth": 0,
              "ticks": ""
             }
            },
            "type": "scatterpolargl"
           }
          ],
          "scatterternary": [
           {
            "marker": {
             "colorbar": {
              "outlinewidth": 0,
              "ticks": ""
             }
            },
            "type": "scatterternary"
           }
          ],
          "surface": [
           {
            "colorbar": {
             "outlinewidth": 0,
             "ticks": ""
            },
            "colorscale": [
             [
              0,
              "#0d0887"
             ],
             [
              0.1111111111111111,
              "#46039f"
             ],
             [
              0.2222222222222222,
              "#7201a8"
             ],
             [
              0.3333333333333333,
              "#9c179e"
             ],
             [
              0.4444444444444444,
              "#bd3786"
             ],
             [
              0.5555555555555556,
              "#d8576b"
             ],
             [
              0.6666666666666666,
              "#ed7953"
             ],
             [
              0.7777777777777778,
              "#fb9f3a"
             ],
             [
              0.8888888888888888,
              "#fdca26"
             ],
             [
              1,
              "#f0f921"
             ]
            ],
            "type": "surface"
           }
          ],
          "table": [
           {
            "cells": {
             "fill": {
              "color": "#EBF0F8"
             },
             "line": {
              "color": "white"
             }
            },
            "header": {
             "fill": {
              "color": "#C8D4E3"
             },
             "line": {
              "color": "white"
             }
            },
            "type": "table"
           }
          ]
         },
         "layout": {
          "annotationdefaults": {
           "arrowcolor": "#2a3f5f",
           "arrowhead": 0,
           "arrowwidth": 1
          },
          "autotypenumbers": "strict",
          "coloraxis": {
           "colorbar": {
            "outlinewidth": 0,
            "ticks": ""
           }
          },
          "colorscale": {
           "diverging": [
            [
             0,
             "#8e0152"
            ],
            [
             0.1,
             "#c51b7d"
            ],
            [
             0.2,
             "#de77ae"
            ],
            [
             0.3,
             "#f1b6da"
            ],
            [
             0.4,
             "#fde0ef"
            ],
            [
             0.5,
             "#f7f7f7"
            ],
            [
             0.6,
             "#e6f5d0"
            ],
            [
             0.7,
             "#b8e186"
            ],
            [
             0.8,
             "#7fbc41"
            ],
            [
             0.9,
             "#4d9221"
            ],
            [
             1,
             "#276419"
            ]
           ],
           "sequential": [
            [
             0,
             "#0d0887"
            ],
            [
             0.1111111111111111,
             "#46039f"
            ],
            [
             0.2222222222222222,
             "#7201a8"
            ],
            [
             0.3333333333333333,
             "#9c179e"
            ],
            [
             0.4444444444444444,
             "#bd3786"
            ],
            [
             0.5555555555555556,
             "#d8576b"
            ],
            [
             0.6666666666666666,
             "#ed7953"
            ],
            [
             0.7777777777777778,
             "#fb9f3a"
            ],
            [
             0.8888888888888888,
             "#fdca26"
            ],
            [
             1,
             "#f0f921"
            ]
           ],
           "sequentialminus": [
            [
             0,
             "#0d0887"
            ],
            [
             0.1111111111111111,
             "#46039f"
            ],
            [
             0.2222222222222222,
             "#7201a8"
            ],
            [
             0.3333333333333333,
             "#9c179e"
            ],
            [
             0.4444444444444444,
             "#bd3786"
            ],
            [
             0.5555555555555556,
             "#d8576b"
            ],
            [
             0.6666666666666666,
             "#ed7953"
            ],
            [
             0.7777777777777778,
             "#fb9f3a"
            ],
            [
             0.8888888888888888,
             "#fdca26"
            ],
            [
             1,
             "#f0f921"
            ]
           ]
          },
          "colorway": [
           "#636efa",
           "#EF553B",
           "#00cc96",
           "#ab63fa",
           "#FFA15A",
           "#19d3f3",
           "#FF6692",
           "#B6E880",
           "#FF97FF",
           "#FECB52"
          ],
          "font": {
           "color": "#2a3f5f"
          },
          "geo": {
           "bgcolor": "white",
           "lakecolor": "white",
           "landcolor": "#E5ECF6",
           "showlakes": true,
           "showland": true,
           "subunitcolor": "white"
          },
          "hoverlabel": {
           "align": "left"
          },
          "hovermode": "closest",
          "mapbox": {
           "style": "light"
          },
          "paper_bgcolor": "white",
          "plot_bgcolor": "#E5ECF6",
          "polar": {
           "angularaxis": {
            "gridcolor": "white",
            "linecolor": "white",
            "ticks": ""
           },
           "bgcolor": "#E5ECF6",
           "radialaxis": {
            "gridcolor": "white",
            "linecolor": "white",
            "ticks": ""
           }
          },
          "scene": {
           "xaxis": {
            "backgroundcolor": "#E5ECF6",
            "gridcolor": "white",
            "gridwidth": 2,
            "linecolor": "white",
            "showbackground": true,
            "ticks": "",
            "zerolinecolor": "white"
           },
           "yaxis": {
            "backgroundcolor": "#E5ECF6",
            "gridcolor": "white",
            "gridwidth": 2,
            "linecolor": "white",
            "showbackground": true,
            "ticks": "",
            "zerolinecolor": "white"
           },
           "zaxis": {
            "backgroundcolor": "#E5ECF6",
            "gridcolor": "white",
            "gridwidth": 2,
            "linecolor": "white",
            "showbackground": true,
            "ticks": "",
            "zerolinecolor": "white"
           }
          },
          "shapedefaults": {
           "line": {
            "color": "#2a3f5f"
           }
          },
          "ternary": {
           "aaxis": {
            "gridcolor": "white",
            "linecolor": "white",
            "ticks": ""
           },
           "baxis": {
            "gridcolor": "white",
            "linecolor": "white",
            "ticks": ""
           },
           "bgcolor": "#E5ECF6",
           "caxis": {
            "gridcolor": "white",
            "linecolor": "white",
            "ticks": ""
           }
          },
          "title": {
           "x": 0.05
          },
          "xaxis": {
           "automargin": true,
           "gridcolor": "white",
           "linecolor": "white",
           "ticks": "",
           "title": {
            "standoff": 15
           },
           "zerolinecolor": "white",
           "zerolinewidth": 2
          },
          "yaxis": {
           "automargin": true,
           "gridcolor": "white",
           "linecolor": "white",
           "ticks": "",
           "title": {
            "standoff": 15
           },
           "zerolinecolor": "white",
           "zerolinewidth": 2
          }
         }
        },
        "xaxis": {
         "anchor": "y",
         "autorange": true,
         "domain": [
          0,
          1
         ],
         "range": [
          -0.5,
          14.5
         ],
         "title": {
          "text": "country"
         },
         "type": "category"
        },
        "yaxis": {
         "anchor": "x",
         "autorange": true,
         "domain": [
          0,
          1
         ],
         "range": [
          0,
          98.94736842105263
         ],
         "title": {
          "text": "cuisines"
         },
         "type": "linear"
        }
       }
      },
      "image/png": "[encoded data removed]",
      "text/html": [
       "<div>                            <div id=\"38a1aeb9-ccf7-4527-a619-68d7b7139d0f\" class=\"plotly-graph-div\" style=\"height:525px; width:100%;\"></div>            <script type=\"text/javascript\">                require([\"plotly\"], function(Plotly) {                    window.PLOTLYENV=window.PLOTLYENV || {};                                    if (document.getElementById(\"38a1aeb9-ccf7-4527-a619-68d7b7139d0f\")) {                    Plotly.newPlot(                        \"38a1aeb9-ccf7-4527-a619-68d7b7139d0f\",                        [{\"alignmentgroup\":\"True\",\"hovertemplate\":\"country=%{x}\\u003cbr\\u003ecuisines=%{y}\\u003cextra\\u003e\\u003c\\u002fextra\\u003e\",\"legendgroup\":\"\",\"marker\":{\"color\":\"#636efa\",\"pattern\":{\"shape\":\"\"}},\"name\":\"\",\"offsetgroup\":\"\",\"orientation\":\"v\",\"showlegend\":false,\"textposition\":\"auto\",\"x\":[\"India\",\"United States of America\",\"England\",\"United Arab Emirates\",\"New Zeland\",\"Canada\",\"Australia\",\"South Africa\",\"Brazil\",\"Qatar\",\"Turkey\",\"Singapure\",\"Sri Lanka\",\"Indonesia\",\"Philippines\"],\"xaxis\":\"x\",\"y\":[94,87,70,67,62,57,56,52,50,46,43,40,36,29,27],\"yaxis\":\"y\",\"type\":\"bar\"}],                        {\"template\":{\"data\":{\"histogram2dcontour\":[{\"type\":\"histogram2dcontour\",\"colorbar\":{\"outlinewidth\":0,\"ticks\":\"\"},\"colorscale\":[[0.0,\"#0d0887\"],[0.1111111111111111,\"#46039f\"],[0.2222222222222222,\"#7201a8\"],[0.3333333333333333,\"#9c179e\"],[0.4444444444444444,\"#bd3786\"],[0.5555555555555556,\"#d8576b\"],[0.6666666666666666,\"#ed7953\"],[0.7777777777777778,\"#fb9f3a\"],[0.8888888888888888,\"#fdca26\"],[1.0,\"#f0f921\"]]}],\"choropleth\":[{\"type\":\"choropleth\",\"colorbar\":{\"outlinewidth\":0,\"ticks\":\"\"}}],\"histogram2d\":[{\"type\":\"histogram2d\",\"colorbar\":{\"outlinewidth\":0,\"ticks\":\"\"},\"colorscale\":[[0.0,\"#0d0887\"],[0.1111111111111111,\"#46039f\"],[0.2222222222222222,\"#7201a8\"],[0.3333333333333333,\"#9c179e\"],[0.4444444444444444,\"#bd3786\"],[0.5555555555555556,\"#d8576b\"],[0.6666666666666666,\"#ed7953\"],[0.7777777777777778,\"#fb9f3a\"],[0.8888888888888888,\"#fdca26\"],[1.0,\"#f0f921\"]]}],\"heatmap\":[{\"type\":\"heatmap\",\"colorbar\":{\"outlinewidth\":0,\"ticks\":\"\"},\"colorscale\":[[0.0,\"#0d0887\"],[0.1111111111111111,\"#46039f\"],[0.2222222222222222,\"#7201a8\"],[0.3333333333333333,\"#9c179e\"],[0.4444444444444444,\"#bd3786\"],[0.5555555555555556,\"#d8576b\"],[0.6666666666666666,\"#ed7953\"],[0.7777777777777778,\"#fb9f3a\"],[0.8888888888888888,\"#fdca26\"],[1.0,\"#f0f921\"]]}],\"heatmapgl\":[{\"type\":\"heatmapgl\",\"colorbar\":{\"outlinewidth\":0,\"ticks\":\"\"},\"colorscale\":[[0.0,\"#0d0887\"],[0.1111111111111111,\"#46039f\"],[0.2222222222222222,\"#7201a8\"],[0.3333333333333333,\"#9c179e\"],[0.4444444444444444,\"#bd3786\"],[0.5555555555555556,\"#d8576b\"],[0.6666666666666666,\"#ed7953\"],[0.7777777777777778,\"#fb9f3a\"],[0.8888888888888888,\"#fdca26\"],[1.0,\"#f0f921\"]]}],\"contourcarpet\":[{\"type\":\"contourcarpet\",\"colorbar\":{\"outlinewidth\":0,\"ticks\":\"\"}}],\"contour\":[{\"type\":\"contour\",\"colorbar\":{\"outlinewidth\":0,\"ticks\":\"\"},\"colorscale\":[[0.0,\"#0d0887\"],[0.1111111111111111,\"#46039f\"],[0.2222222222222222,\"#7201a8\"],[0.3333333333333333,\"#9c179e\"],[0.4444444444444444,\"#bd3786\"],[0.5555555555555556,\"#d8576b\"],[0.6666666666666666,\"#ed7953\"],[0.7777777777777778,\"#fb9f3a\"],[0.8888888888888888,\"#fdca26\"],[1.0,\"#f0f921\"]]}],\"surface\":[{\"type\":\"surface\",\"colorbar\":{\"outlinewidth\":0,\"ticks\":\"\"},\"colorscale\":[[0.0,\"#0d0887\"],[0.1111111111111111,\"#46039f\"],[0.2222222222222222,\"#7201a8\"],[0.3333333333333333,\"#9c179e\"],[0.4444444444444444,\"#bd3786\"],[0.5555555555555556,\"#d8576b\"],[0.6666666666666666,\"#ed7953\"],[0.7777777777777778,\"#fb9f3a\"],[0.8888888888888888,\"#fdca26\"],[1.0,\"#f0f921\"]]}],\"mesh3d\":[{\"type\":\"mesh3d\",\"colorbar\":{\"outlinewidth\":0,\"ticks\":\"\"}}],\"scatter\":[{\"fillpattern\":{\"fillmode\":\"overlay\",\"size\":10,\"solidity\":0.2},\"type\":\"scatter\"}],\"parcoords\":[{\"type\":\"parcoords\",\"line\":{\"colorbar\":{\"outlinewidth\":0,\"ticks\":\"\"}}}],\"scatterpolargl\":[{\"type\":\"scatterpolargl\",\"marker\":{\"colorbar\":{\"outlinewidth\":0,\"ticks\":\"\"}}}],\"bar\":[{\"error_x\":{\"color\":\"#2a3f5f\"},\"error_y\":{\"color\":\"#2a3f5f\"},\"marker\":{\"line\":{\"color\":\"#E5ECF6\",\"width\":0.5},\"pattern\":{\"fillmode\":\"overlay\",\"size\":10,\"solidity\":0.2}},\"type\":\"bar\"}],\"scattergeo\":[{\"type\":\"scattergeo\",\"marker\":{\"colorbar\":{\"outlinewidth\":0,\"ticks\":\"\"}}}],\"scatterpolar\":[{\"type\":\"scatterpolar\",\"marker\":{\"colorbar\":{\"outlinewidth\":0,\"ticks\":\"\"}}}],\"histogram\":[{\"marker\":{\"pattern\":{\"fillmode\":\"overlay\",\"size\":10,\"solidity\":0.2}},\"type\":\"histogram\"}],\"scattergl\":[{\"type\":\"scattergl\",\"marker\":{\"colorbar\":{\"outlinewidth\":0,\"ticks\":\"\"}}}],\"scatter3d\":[{\"type\":\"scatter3d\",\"line\":{\"colorbar\":{\"outlinewidth\":0,\"ticks\":\"\"}},\"marker\":{\"colorbar\":{\"outlinewidth\":0,\"ticks\":\"\"}}}],\"scattermapbox\":[{\"type\":\"scattermapbox\",\"marker\":{\"colorbar\":{\"outlinewidth\":0,\"ticks\":\"\"}}}],\"scatterternary\":[{\"type\":\"scatterternary\",\"marker\":{\"colorbar\":{\"outlinewidth\":0,\"ticks\":\"\"}}}],\"scattercarpet\":[{\"type\":\"scattercarpet\",\"marker\":{\"colorbar\":{\"outlinewidth\":0,\"ticks\":\"\"}}}],\"carpet\":[{\"aaxis\":{\"endlinecolor\":\"#2a3f5f\",\"gridcolor\":\"white\",\"linecolor\":\"white\",\"minorgridcolor\":\"white\",\"startlinecolor\":\"#2a3f5f\"},\"baxis\":{\"endlinecolor\":\"#2a3f5f\",\"gridcolor\":\"white\",\"linecolor\":\"white\",\"minorgridcolor\":\"white\",\"startlinecolor\":\"#2a3f5f\"},\"type\":\"carpet\"}],\"table\":[{\"cells\":{\"fill\":{\"color\":\"#EBF0F8\"},\"line\":{\"color\":\"white\"}},\"header\":{\"fill\":{\"color\":\"#C8D4E3\"},\"line\":{\"color\":\"white\"}},\"type\":\"table\"}],\"barpolar\":[{\"marker\":{\"line\":{\"color\":\"#E5ECF6\",\"width\":0.5},\"pattern\":{\"fillmode\":\"overlay\",\"size\":10,\"solidity\":0.2}},\"type\":\"barpolar\"}],\"pie\":[{\"automargin\":true,\"type\":\"pie\"}]},\"layout\":{\"autotypenumbers\":\"strict\",\"colorway\":[\"#636efa\",\"#EF553B\",\"#00cc96\",\"#ab63fa\",\"#FFA15A\",\"#19d3f3\",\"#FF6692\",\"#B6E880\",\"#FF97FF\",\"#FECB52\"],\"font\":{\"color\":\"#2a3f5f\"},\"hovermode\":\"closest\",\"hoverlabel\":{\"align\":\"left\"},\"paper_bgcolor\":\"white\",\"plot_bgcolor\":\"#E5ECF6\",\"polar\":{\"bgcolor\":\"#E5ECF6\",\"angularaxis\":{\"gridcolor\":\"white\",\"linecolor\":\"white\",\"ticks\":\"\"},\"radialaxis\":{\"gridcolor\":\"white\",\"linecolor\":\"white\",\"ticks\":\"\"}},\"ternary\":{\"bgcolor\":\"#E5ECF6\",\"aaxis\":{\"gridcolor\":\"white\",\"linecolor\":\"white\",\"ticks\":\"\"},\"baxis\":{\"gridcolor\":\"white\",\"linecolor\":\"white\",\"ticks\":\"\"},\"caxis\":{\"gridcolor\":\"white\",\"linecolor\":\"white\",\"ticks\":\"\"}},\"coloraxis\":{\"colorbar\":{\"outlinewidth\":0,\"ticks\":\"\"}},\"colorscale\":{\"sequential\":[[0.0,\"#0d0887\"],[0.1111111111111111,\"#46039f\"],[0.2222222222222222,\"#7201a8\"],[0.3333333333333333,\"#9c179e\"],[0.4444444444444444,\"#bd3786\"],[0.5555555555555556,\"#d8576b\"],[0.6666666666666666,\"#ed7953\"],[0.7777777777777778,\"#fb9f3a\"],[0.8888888888888888,\"#fdca26\"],[1.0,\"#f0f921\"]],\"sequentialminus\":[[0.0,\"#0d0887\"],[0.1111111111111111,\"#46039f\"],[0.2222222222222222,\"#7201a8\"],[0.3333333333333333,\"#9c179e\"],[0.4444444444444444,\"#bd3786\"],[0.5555555555555556,\"#d8576b\"],[0.6666666666666666,\"#ed7953\"],[0.7777777777777778,\"#fb9f3a\"],[0.8888888888888888,\"#fdca26\"],[1.0,\"#f0f921\"]],\"diverging\":[[0,\"#8e0152\"],[0.1,\"#c51b7d\"],[0.2,\"#de77ae\"],[0.3,\"#f1b6da\"],[0.4,\"#fde0ef\"],[0.5,\"#f7f7f7\"],[0.6,\"#e6f5d0\"],[0.7,\"#b8e186\"],[0.8,\"#7fbc41\"],[0.9,\"#4d9221\"],[1,\"#276419\"]]},\"xaxis\":{\"gridcolor\":\"white\",\"linecolor\":\"white\",\"ticks\":\"\",\"title\":{\"standoff\":15},\"zerolinecolor\":\"white\",\"automargin\":true,\"zerolinewidth\":2},\"yaxis\":{\"gridcolor\":\"white\",\"linecolor\":\"white\",\"ticks\":\"\",\"title\":{\"standoff\":15},\"zerolinecolor\":\"white\",\"automargin\":true,\"zerolinewidth\":2},\"scene\":{\"xaxis\":{\"backgroundcolor\":\"#E5ECF6\",\"gridcolor\":\"white\",\"linecolor\":\"white\",\"showbackground\":true,\"ticks\":\"\",\"zerolinecolor\":\"white\",\"gridwidth\":2},\"yaxis\":{\"backgroundcolor\":\"#E5ECF6\",\"gridcolor\":\"white\",\"linecolor\":\"white\",\"showbackground\":true,\"ticks\":\"\",\"zerolinecolor\":\"white\",\"gridwidth\":2},\"zaxis\":{\"backgroundcolor\":\"#E5ECF6\",\"gridcolor\":\"white\",\"linecolor\":\"white\",\"showbackground\":true,\"ticks\":\"\",\"zerolinecolor\":\"white\",\"gridwidth\":2}},\"shapedefaults\":{\"line\":{\"color\":\"#2a3f5f\"}},\"annotationdefaults\":{\"arrowcolor\":\"#2a3f5f\",\"arrowhead\":0,\"arrowwidth\":1},\"geo\":{\"bgcolor\":\"white\",\"landcolor\":\"#E5ECF6\",\"subunitcolor\":\"white\",\"showland\":true,\"showlakes\":true,\"lakecolor\":\"white\"},\"title\":{\"x\":0.05},\"mapbox\":{\"style\":\"light\"}}},\"xaxis\":{\"anchor\":\"y\",\"domain\":[0.0,1.0],\"title\":{\"text\":\"country\"}},\"yaxis\":{\"anchor\":\"x\",\"domain\":[0.0,1.0],\"title\":{\"text\":\"cuisines\"}},\"legend\":{\"tracegroupgap\":0},\"margin\":{\"t\":60},\"barmode\":\"relative\"},                        {\"responsive\": true}                    ).then(function(){\n",
       "                            \n",
       "var gd = document.getElementById('38a1aeb9-ccf7-4527-a619-68d7b7139d0f');\n",
       "var x = new MutationObserver(function (mutations, observer) {{\n",
       "        var display = window.getComputedStyle(gd).display;\n",
       "        if (!display || display === 'none') {{\n",
       "            console.log([gd, 'removed!']);\n",
       "            Plotly.purge(gd);\n",
       "            observer.disconnect();\n",
       "        }}\n",
       "}});\n",
       "\n",
       "// Listen for the removal of the full notebook cells\n",
       "var notebookContainer = gd.closest('#notebook-container');\n",
       "if (notebookContainer) {{\n",
       "    x.observe(notebookContainer, {childList: true});\n",
       "}}\n",
       "\n",
       "// Listen for the clearing of the current output cell\n",
       "var outputEl = gd.closest('.output');\n",
       "if (outputEl) {{\n",
       "    x.observe(outputEl, {childList: true});\n",
       "}}\n",
       "\n",
       "                        })                };                });            </script>        </div>"
      ]
     },
     "metadata": {},
     "output_type": "display_data"
    }
   ],
   "source": [
    "# unique cuisines by country\n",
    "\n",
    "df2=cuisines(df,'country')\n",
    "\n",
    "df_aux = df2.loc[:, ['country', 'cuisines']].groupby('country').count().sort_values('cuisines',ascending=False).reset_index()\n",
    "\n",
    "px.bar(df_aux, x='country', y='cuisines')"
   ]
  },
  {
   "cell_type": "code",
   "execution_count": 38,
   "id": "b23e582e-a364-433f-b76e-4beb974ad5b5",
   "metadata": {
    "execution": {
     "iopub.execute_input": "2024-01-12T18:18:07.083388Z",
     "iopub.status.busy": "2024-01-12T18:18:07.081777Z",
     "iopub.status.idle": "2024-01-12T18:18:07.103906Z",
     "shell.execute_reply": "2024-01-12T18:18:07.102197Z",
     "shell.execute_reply.started": "2024-01-12T18:18:07.083302Z"
    }
   },
   "outputs": [
    {
     "data": {
      "text/html": [
       "<div>\n",
       "<style scoped>\n",
       "    .dataframe tbody tr th:only-of-type {\n",
       "        vertical-align: middle;\n",
       "    }\n",
       "\n",
       "    .dataframe tbody tr th {\n",
       "        vertical-align: top;\n",
       "    }\n",
       "\n",
       "    .dataframe thead th {\n",
       "        text-align: right;\n",
       "    }\n",
       "</style>\n",
       "<table border=\"1\" class=\"dataframe\">\n",
       "  <thead>\n",
       "    <tr style=\"text-align: right;\">\n",
       "      <th></th>\n",
       "      <th>country</th>\n",
       "      <th>cuisines</th>\n",
       "    </tr>\n",
       "  </thead>\n",
       "  <tbody>\n",
       "    <tr>\n",
       "      <th>0</th>\n",
       "      <td>India</td>\n",
       "      <td>94</td>\n",
       "    </tr>\n",
       "    <tr>\n",
       "      <th>1</th>\n",
       "      <td>United States of America</td>\n",
       "      <td>87</td>\n",
       "    </tr>\n",
       "    <tr>\n",
       "      <th>2</th>\n",
       "      <td>England</td>\n",
       "      <td>70</td>\n",
       "    </tr>\n",
       "    <tr>\n",
       "      <th>3</th>\n",
       "      <td>United Arab Emirates</td>\n",
       "      <td>67</td>\n",
       "    </tr>\n",
       "    <tr>\n",
       "      <th>4</th>\n",
       "      <td>New Zeland</td>\n",
       "      <td>62</td>\n",
       "    </tr>\n",
       "    <tr>\n",
       "      <th>5</th>\n",
       "      <td>Canada</td>\n",
       "      <td>57</td>\n",
       "    </tr>\n",
       "    <tr>\n",
       "      <th>6</th>\n",
       "      <td>Australia</td>\n",
       "      <td>56</td>\n",
       "    </tr>\n",
       "    <tr>\n",
       "      <th>7</th>\n",
       "      <td>South Africa</td>\n",
       "      <td>52</td>\n",
       "    </tr>\n",
       "    <tr>\n",
       "      <th>8</th>\n",
       "      <td>Brazil</td>\n",
       "      <td>50</td>\n",
       "    </tr>\n",
       "    <tr>\n",
       "      <th>9</th>\n",
       "      <td>Qatar</td>\n",
       "      <td>46</td>\n",
       "    </tr>\n",
       "    <tr>\n",
       "      <th>10</th>\n",
       "      <td>Turkey</td>\n",
       "      <td>43</td>\n",
       "    </tr>\n",
       "    <tr>\n",
       "      <th>11</th>\n",
       "      <td>Singapure</td>\n",
       "      <td>40</td>\n",
       "    </tr>\n",
       "    <tr>\n",
       "      <th>12</th>\n",
       "      <td>Sri Lanka</td>\n",
       "      <td>36</td>\n",
       "    </tr>\n",
       "    <tr>\n",
       "      <th>13</th>\n",
       "      <td>Indonesia</td>\n",
       "      <td>29</td>\n",
       "    </tr>\n",
       "    <tr>\n",
       "      <th>14</th>\n",
       "      <td>Philippines</td>\n",
       "      <td>27</td>\n",
       "    </tr>\n",
       "  </tbody>\n",
       "</table>\n",
       "</div>"
      ],
      "text/plain": [
       "                     country  cuisines\n",
       "0                      India        94\n",
       "1   United States of America        87\n",
       "2                    England        70\n",
       "3       United Arab Emirates        67\n",
       "4                 New Zeland        62\n",
       "5                     Canada        57\n",
       "6                  Australia        56\n",
       "7               South Africa        52\n",
       "8                     Brazil        50\n",
       "9                      Qatar        46\n",
       "10                    Turkey        43\n",
       "11                 Singapure        40\n",
       "12                 Sri Lanka        36\n",
       "13                 Indonesia        29\n",
       "14               Philippines        27"
      ]
     },
     "execution_count": 38,
     "metadata": {},
     "output_type": "execute_result"
    }
   ],
   "source": [
    "df_aux"
   ]
  },
  {
   "cell_type": "code",
   "execution_count": 44,
   "id": "97b5bdfa-fb65-4829-bf79-b2f5b7addb89",
   "metadata": {
    "execution": {
     "iopub.execute_input": "2024-01-08T13:24:02.824342Z",
     "iopub.status.busy": "2024-01-08T13:24:02.823311Z",
     "iopub.status.idle": "2024-01-08T13:24:02.909331Z",
     "shell.execute_reply": "2024-01-08T13:24:02.908059Z",
     "shell.execute_reply.started": "2024-01-08T13:24:02.824280Z"
    }
   },
   "outputs": [
    {
     "data": {
      "application/vnd.plotly.v1+json": {
       "config": {
        "plotlyServerURL": "https://plot.ly"
       },
       "data": [
        {
         "alignmentgroup": "True",
         "hovertemplate": "country=%{x}<br>average_cost_for_two=%{y}<extra></extra>",
         "legendgroup": "",
         "marker": {
          "color": "#636efa",
          "pattern": {
           "shape": ""
          }
         },
         "name": "",
         "offsetgroup": "",
         "orientation": "v",
         "showlegend": false,
         "textposition": "auto",
         "type": "bar",
         "x": [
          "Singapure",
          "Philippines",
          "Australia",
          "New Zeland",
          "United States of America",
          "England",
          "Qatar",
          "United Arab Emirates",
          "Canada",
          "Brazil",
          "Indonesia",
          "South Africa",
          "India",
          "Sri Lanka",
          "Turkey"
         ],
         "xaxis": "x",
         "y": [
          141.03658536585365,
          89.62072727272727,
          70.93888888888888,
          61.44268774703557,
          54.93242271746945,
          54.668123569794055,
          47.69521276595745,
          42.71901197604791,
          41.861111111111114,
          28.848850574712646,
          20.32439024390244,
          18.115869109947642,
          8.436144164759726,
          8.08316091954023,
          4.380848484848485
         ],
         "yaxis": "y"
        }
       ],
       "layout": {
        "autosize": true,
        "barmode": "relative",
        "legend": {
         "tracegroupgap": 0
        },
        "margin": {
         "t": 60
        },
        "template": {
         "data": {
          "bar": [
           {
            "error_x": {
             "color": "#2a3f5f"
            },
            "error_y": {
             "color": "#2a3f5f"
            },
            "marker": {
             "line": {
              "color": "#E5ECF6",
              "width": 0.5
             },
             "pattern": {
              "fillmode": "overlay",
              "size": 10,
              "solidity": 0.2
             }
            },
            "type": "bar"
           }
          ],
          "barpolar": [
           {
            "marker": {
             "line": {
              "color": "#E5ECF6",
              "width": 0.5
             },
             "pattern": {
              "fillmode": "overlay",
              "size": 10,
              "solidity": 0.2
             }
            },
            "type": "barpolar"
           }
          ],
          "carpet": [
           {
            "aaxis": {
             "endlinecolor": "#2a3f5f",
             "gridcolor": "white",
             "linecolor": "white",
             "minorgridcolor": "white",
             "startlinecolor": "#2a3f5f"
            },
            "baxis": {
             "endlinecolor": "#2a3f5f",
             "gridcolor": "white",
             "linecolor": "white",
             "minorgridcolor": "white",
             "startlinecolor": "#2a3f5f"
            },
            "type": "carpet"
           }
          ],
          "choropleth": [
           {
            "colorbar": {
             "outlinewidth": 0,
             "ticks": ""
            },
            "type": "choropleth"
           }
          ],
          "contour": [
           {
            "colorbar": {
             "outlinewidth": 0,
             "ticks": ""
            },
            "colorscale": [
             [
              0,
              "#0d0887"
             ],
             [
              0.1111111111111111,
              "#46039f"
             ],
             [
              0.2222222222222222,
              "#7201a8"
             ],
             [
              0.3333333333333333,
              "#9c179e"
             ],
             [
              0.4444444444444444,
              "#bd3786"
             ],
             [
              0.5555555555555556,
              "#d8576b"
             ],
             [
              0.6666666666666666,
              "#ed7953"
             ],
             [
              0.7777777777777778,
              "#fb9f3a"
             ],
             [
              0.8888888888888888,
              "#fdca26"
             ],
             [
              1,
              "#f0f921"
             ]
            ],
            "type": "contour"
           }
          ],
          "contourcarpet": [
           {
            "colorbar": {
             "outlinewidth": 0,
             "ticks": ""
            },
            "type": "contourcarpet"
           }
          ],
          "heatmap": [
           {
            "colorbar": {
             "outlinewidth": 0,
             "ticks": ""
            },
            "colorscale": [
             [
              0,
              "#0d0887"
             ],
             [
              0.1111111111111111,
              "#46039f"
             ],
             [
              0.2222222222222222,
              "#7201a8"
             ],
             [
              0.3333333333333333,
              "#9c179e"
             ],
             [
              0.4444444444444444,
              "#bd3786"
             ],
             [
              0.5555555555555556,
              "#d8576b"
             ],
             [
              0.6666666666666666,
              "#ed7953"
             ],
             [
              0.7777777777777778,
              "#fb9f3a"
             ],
             [
              0.8888888888888888,
              "#fdca26"
             ],
             [
              1,
              "#f0f921"
             ]
            ],
            "type": "heatmap"
           }
          ],
          "heatmapgl": [
           {
            "colorbar": {
             "outlinewidth": 0,
             "ticks": ""
            },
            "colorscale": [
             [
              0,
              "#0d0887"
             ],
             [
              0.1111111111111111,
              "#46039f"
             ],
             [
              0.2222222222222222,
              "#7201a8"
             ],
             [
              0.3333333333333333,
              "#9c179e"
             ],
             [
              0.4444444444444444,
              "#bd3786"
             ],
             [
              0.5555555555555556,
              "#d8576b"
             ],
             [
              0.6666666666666666,
              "#ed7953"
             ],
             [
              0.7777777777777778,
              "#fb9f3a"
             ],
             [
              0.8888888888888888,
              "#fdca26"
             ],
             [
              1,
              "#f0f921"
             ]
            ],
            "type": "heatmapgl"
           }
          ],
          "histogram": [
           {
            "marker": {
             "pattern": {
              "fillmode": "overlay",
              "size": 10,
              "solidity": 0.2
             }
            },
            "type": "histogram"
           }
          ],
          "histogram2d": [
           {
            "colorbar": {
             "outlinewidth": 0,
             "ticks": ""
            },
            "colorscale": [
             [
              0,
              "#0d0887"
             ],
             [
              0.1111111111111111,
              "#46039f"
             ],
             [
              0.2222222222222222,
              "#7201a8"
             ],
             [
              0.3333333333333333,
              "#9c179e"
             ],
             [
              0.4444444444444444,
              "#bd3786"
             ],
             [
              0.5555555555555556,
              "#d8576b"
             ],
             [
              0.6666666666666666,
              "#ed7953"
             ],
             [
              0.7777777777777778,
              "#fb9f3a"
             ],
             [
              0.8888888888888888,
              "#fdca26"
             ],
             [
              1,
              "#f0f921"
             ]
            ],
            "type": "histogram2d"
           }
          ],
          "histogram2dcontour": [
           {
            "colorbar": {
             "outlinewidth": 0,
             "ticks": ""
            },
            "colorscale": [
             [
              0,
              "#0d0887"
             ],
             [
              0.1111111111111111,
              "#46039f"
             ],
             [
              0.2222222222222222,
              "#7201a8"
             ],
             [
              0.3333333333333333,
              "#9c179e"
             ],
             [
              0.4444444444444444,
              "#bd3786"
             ],
             [
              0.5555555555555556,
              "#d8576b"
             ],
             [
              0.6666666666666666,
              "#ed7953"
             ],
             [
              0.7777777777777778,
              "#fb9f3a"
             ],
             [
              0.8888888888888888,
              "#fdca26"
             ],
             [
              1,
              "#f0f921"
             ]
            ],
            "type": "histogram2dcontour"
           }
          ],
          "mesh3d": [
           {
            "colorbar": {
             "outlinewidth": 0,
             "ticks": ""
            },
            "type": "mesh3d"
           }
          ],
          "parcoords": [
           {
            "line": {
             "colorbar": {
              "outlinewidth": 0,
              "ticks": ""
             }
            },
            "type": "parcoords"
           }
          ],
          "pie": [
           {
            "automargin": true,
            "type": "pie"
           }
          ],
          "scatter": [
           {
            "fillpattern": {
             "fillmode": "overlay",
             "size": 10,
             "solidity": 0.2
            },
            "type": "scatter"
           }
          ],
          "scatter3d": [
           {
            "line": {
             "colorbar": {
              "outlinewidth": 0,
              "ticks": ""
             }
            },
            "marker": {
             "colorbar": {
              "outlinewidth": 0,
              "ticks": ""
             }
            },
            "type": "scatter3d"
           }
          ],
          "scattercarpet": [
           {
            "marker": {
             "colorbar": {
              "outlinewidth": 0,
              "ticks": ""
             }
            },
            "type": "scattercarpet"
           }
          ],
          "scattergeo": [
           {
            "marker": {
             "colorbar": {
              "outlinewidth": 0,
              "ticks": ""
             }
            },
            "type": "scattergeo"
           }
          ],
          "scattergl": [
           {
            "marker": {
             "colorbar": {
              "outlinewidth": 0,
              "ticks": ""
             }
            },
            "type": "scattergl"
           }
          ],
          "scattermapbox": [
           {
            "marker": {
             "colorbar": {
              "outlinewidth": 0,
              "ticks": ""
             }
            },
            "type": "scattermapbox"
           }
          ],
          "scatterpolar": [
           {
            "marker": {
             "colorbar": {
              "outlinewidth": 0,
              "ticks": ""
             }
            },
            "type": "scatterpolar"
           }
          ],
          "scatterpolargl": [
           {
            "marker": {
             "colorbar": {
              "outlinewidth": 0,
              "ticks": ""
             }
            },
            "type": "scatterpolargl"
           }
          ],
          "scatterternary": [
           {
            "marker": {
             "colorbar": {
              "outlinewidth": 0,
              "ticks": ""
             }
            },
            "type": "scatterternary"
           }
          ],
          "surface": [
           {
            "colorbar": {
             "outlinewidth": 0,
             "ticks": ""
            },
            "colorscale": [
             [
              0,
              "#0d0887"
             ],
             [
              0.1111111111111111,
              "#46039f"
             ],
             [
              0.2222222222222222,
              "#7201a8"
             ],
             [
              0.3333333333333333,
              "#9c179e"
             ],
             [
              0.4444444444444444,
              "#bd3786"
             ],
             [
              0.5555555555555556,
              "#d8576b"
             ],
             [
              0.6666666666666666,
              "#ed7953"
             ],
             [
              0.7777777777777778,
              "#fb9f3a"
             ],
             [
              0.8888888888888888,
              "#fdca26"
             ],
             [
              1,
              "#f0f921"
             ]
            ],
            "type": "surface"
           }
          ],
          "table": [
           {
            "cells": {
             "fill": {
              "color": "#EBF0F8"
             },
             "line": {
              "color": "white"
             }
            },
            "header": {
             "fill": {
              "color": "#C8D4E3"
             },
             "line": {
              "color": "white"
             }
            },
            "type": "table"
           }
          ]
         },
         "layout": {
          "annotationdefaults": {
           "arrowcolor": "#2a3f5f",
           "arrowhead": 0,
           "arrowwidth": 1
          },
          "autotypenumbers": "strict",
          "coloraxis": {
           "colorbar": {
            "outlinewidth": 0,
            "ticks": ""
           }
          },
          "colorscale": {
           "diverging": [
            [
             0,
             "#8e0152"
            ],
            [
             0.1,
             "#c51b7d"
            ],
            [
             0.2,
             "#de77ae"
            ],
            [
             0.3,
             "#f1b6da"
            ],
            [
             0.4,
             "#fde0ef"
            ],
            [
             0.5,
             "#f7f7f7"
            ],
            [
             0.6,
             "#e6f5d0"
            ],
            [
             0.7,
             "#b8e186"
            ],
            [
             0.8,
             "#7fbc41"
            ],
            [
             0.9,
             "#4d9221"
            ],
            [
             1,
             "#276419"
            ]
           ],
           "sequential": [
            [
             0,
             "#0d0887"
            ],
            [
             0.1111111111111111,
             "#46039f"
            ],
            [
             0.2222222222222222,
             "#7201a8"
            ],
            [
             0.3333333333333333,
             "#9c179e"
            ],
            [
             0.4444444444444444,
             "#bd3786"
            ],
            [
             0.5555555555555556,
             "#d8576b"
            ],
            [
             0.6666666666666666,
             "#ed7953"
            ],
            [
             0.7777777777777778,
             "#fb9f3a"
            ],
            [
             0.8888888888888888,
             "#fdca26"
            ],
            [
             1,
             "#f0f921"
            ]
           ],
           "sequentialminus": [
            [
             0,
             "#0d0887"
            ],
            [
             0.1111111111111111,
             "#46039f"
            ],
            [
             0.2222222222222222,
             "#7201a8"
            ],
            [
             0.3333333333333333,
             "#9c179e"
            ],
            [
             0.4444444444444444,
             "#bd3786"
            ],
            [
             0.5555555555555556,
             "#d8576b"
            ],
            [
             0.6666666666666666,
             "#ed7953"
            ],
            [
             0.7777777777777778,
             "#fb9f3a"
            ],
            [
             0.8888888888888888,
             "#fdca26"
            ],
            [
             1,
             "#f0f921"
            ]
           ]
          },
          "colorway": [
           "#636efa",
           "#EF553B",
           "#00cc96",
           "#ab63fa",
           "#FFA15A",
           "#19d3f3",
           "#FF6692",
           "#B6E880",
           "#FF97FF",
           "#FECB52"
          ],
          "font": {
           "color": "#2a3f5f"
          },
          "geo": {
           "bgcolor": "white",
           "lakecolor": "white",
           "landcolor": "#E5ECF6",
           "showlakes": true,
           "showland": true,
           "subunitcolor": "white"
          },
          "hoverlabel": {
           "align": "left"
          },
          "hovermode": "closest",
          "mapbox": {
           "style": "light"
          },
          "paper_bgcolor": "white",
          "plot_bgcolor": "#E5ECF6",
          "polar": {
           "angularaxis": {
            "gridcolor": "white",
            "linecolor": "white",
            "ticks": ""
           },
           "bgcolor": "#E5ECF6",
           "radialaxis": {
            "gridcolor": "white",
            "linecolor": "white",
            "ticks": ""
           }
          },
          "scene": {
           "xaxis": {
            "backgroundcolor": "#E5ECF6",
            "gridcolor": "white",
            "gridwidth": 2,
            "linecolor": "white",
            "showbackground": true,
            "ticks": "",
            "zerolinecolor": "white"
           },
           "yaxis": {
            "backgroundcolor": "#E5ECF6",
            "gridcolor": "white",
            "gridwidth": 2,
            "linecolor": "white",
            "showbackground": true,
            "ticks": "",
            "zerolinecolor": "white"
           },
           "zaxis": {
            "backgroundcolor": "#E5ECF6",
            "gridcolor": "white",
            "gridwidth": 2,
            "linecolor": "white",
            "showbackground": true,
            "ticks": "",
            "zerolinecolor": "white"
           }
          },
          "shapedefaults": {
           "line": {
            "color": "#2a3f5f"
           }
          },
          "ternary": {
           "aaxis": {
            "gridcolor": "white",
            "linecolor": "white",
            "ticks": ""
           },
           "baxis": {
            "gridcolor": "white",
            "linecolor": "white",
            "ticks": ""
           },
           "bgcolor": "#E5ECF6",
           "caxis": {
            "gridcolor": "white",
            "linecolor": "white",
            "ticks": ""
           }
          },
          "title": {
           "x": 0.05
          },
          "xaxis": {
           "automargin": true,
           "gridcolor": "white",
           "linecolor": "white",
           "ticks": "",
           "title": {
            "standoff": 15
           },
           "zerolinecolor": "white",
           "zerolinewidth": 2
          },
          "yaxis": {
           "automargin": true,
           "gridcolor": "white",
           "linecolor": "white",
           "ticks": "",
           "title": {
            "standoff": 15
           },
           "zerolinecolor": "white",
           "zerolinewidth": 2
          }
         }
        },
        "xaxis": {
         "anchor": "y",
         "autorange": true,
         "domain": [
          0,
          1
         ],
         "range": [
          -0.5,
          14.5
         ],
         "title": {
          "text": "country"
         },
         "type": "category"
        },
        "yaxis": {
         "anchor": "x",
         "autorange": true,
         "domain": [
          0,
          1
         ],
         "range": [
          0,
          148.45956354300384
         ],
         "title": {
          "text": "average_cost_for_two"
         },
         "type": "linear"
        }
       }
      },
      "image/png": "[encoded data removed]",
      "text/html": [
       "<div>                            <div id=\"e49488af-3d17-4d9b-a4c2-e9019043ad3b\" class=\"plotly-graph-div\" style=\"height:525px; width:100%;\"></div>            <script type=\"text/javascript\">                require([\"plotly\"], function(Plotly) {                    window.PLOTLYENV=window.PLOTLYENV || {};                                    if (document.getElementById(\"e49488af-3d17-4d9b-a4c2-e9019043ad3b\")) {                    Plotly.newPlot(                        \"e49488af-3d17-4d9b-a4c2-e9019043ad3b\",                        [{\"alignmentgroup\":\"True\",\"hovertemplate\":\"country=%{x}\\u003cbr\\u003eaverage_cost_for_two=%{y}\\u003cextra\\u003e\\u003c\\u002fextra\\u003e\",\"legendgroup\":\"\",\"marker\":{\"color\":\"#636efa\",\"pattern\":{\"shape\":\"\"}},\"name\":\"\",\"offsetgroup\":\"\",\"orientation\":\"v\",\"showlegend\":false,\"textposition\":\"auto\",\"x\":[\"Singapure\",\"Philippines\",\"Australia\",\"New Zeland\",\"United States of America\",\"England\",\"Qatar\",\"United Arab Emirates\",\"Canada\",\"Brazil\",\"Indonesia\",\"South Africa\",\"India\",\"Sri Lanka\",\"Turkey\"],\"xaxis\":\"x\",\"y\":[141.03658536585365,89.62072727272727,70.93888888888888,61.44268774703557,54.93242271746945,54.668123569794055,47.69521276595745,42.71901197604791,41.861111111111114,28.848850574712646,20.32439024390244,18.115869109947642,8.436144164759726,8.08316091954023,4.380848484848485],\"yaxis\":\"y\",\"type\":\"bar\"}],                        {\"template\":{\"data\":{\"histogram2dcontour\":[{\"type\":\"histogram2dcontour\",\"colorbar\":{\"outlinewidth\":0,\"ticks\":\"\"},\"colorscale\":[[0.0,\"#0d0887\"],[0.1111111111111111,\"#46039f\"],[0.2222222222222222,\"#7201a8\"],[0.3333333333333333,\"#9c179e\"],[0.4444444444444444,\"#bd3786\"],[0.5555555555555556,\"#d8576b\"],[0.6666666666666666,\"#ed7953\"],[0.7777777777777778,\"#fb9f3a\"],[0.8888888888888888,\"#fdca26\"],[1.0,\"#f0f921\"]]}],\"choropleth\":[{\"type\":\"choropleth\",\"colorbar\":{\"outlinewidth\":0,\"ticks\":\"\"}}],\"histogram2d\":[{\"type\":\"histogram2d\",\"colorbar\":{\"outlinewidth\":0,\"ticks\":\"\"},\"colorscale\":[[0.0,\"#0d0887\"],[0.1111111111111111,\"#46039f\"],[0.2222222222222222,\"#7201a8\"],[0.3333333333333333,\"#9c179e\"],[0.4444444444444444,\"#bd3786\"],[0.5555555555555556,\"#d8576b\"],[0.6666666666666666,\"#ed7953\"],[0.7777777777777778,\"#fb9f3a\"],[0.8888888888888888,\"#fdca26\"],[1.0,\"#f0f921\"]]}],\"heatmap\":[{\"type\":\"heatmap\",\"colorbar\":{\"outlinewidth\":0,\"ticks\":\"\"},\"colorscale\":[[0.0,\"#0d0887\"],[0.1111111111111111,\"#46039f\"],[0.2222222222222222,\"#7201a8\"],[0.3333333333333333,\"#9c179e\"],[0.4444444444444444,\"#bd3786\"],[0.5555555555555556,\"#d8576b\"],[0.6666666666666666,\"#ed7953\"],[0.7777777777777778,\"#fb9f3a\"],[0.8888888888888888,\"#fdca26\"],[1.0,\"#f0f921\"]]}],\"heatmapgl\":[{\"type\":\"heatmapgl\",\"colorbar\":{\"outlinewidth\":0,\"ticks\":\"\"},\"colorscale\":[[0.0,\"#0d0887\"],[0.1111111111111111,\"#46039f\"],[0.2222222222222222,\"#7201a8\"],[0.3333333333333333,\"#9c179e\"],[0.4444444444444444,\"#bd3786\"],[0.5555555555555556,\"#d8576b\"],[0.6666666666666666,\"#ed7953\"],[0.7777777777777778,\"#fb9f3a\"],[0.8888888888888888,\"#fdca26\"],[1.0,\"#f0f921\"]]}],\"contourcarpet\":[{\"type\":\"contourcarpet\",\"colorbar\":{\"outlinewidth\":0,\"ticks\":\"\"}}],\"contour\":[{\"type\":\"contour\",\"colorbar\":{\"outlinewidth\":0,\"ticks\":\"\"},\"colorscale\":[[0.0,\"#0d0887\"],[0.1111111111111111,\"#46039f\"],[0.2222222222222222,\"#7201a8\"],[0.3333333333333333,\"#9c179e\"],[0.4444444444444444,\"#bd3786\"],[0.5555555555555556,\"#d8576b\"],[0.6666666666666666,\"#ed7953\"],[0.7777777777777778,\"#fb9f3a\"],[0.8888888888888888,\"#fdca26\"],[1.0,\"#f0f921\"]]}],\"surface\":[{\"type\":\"surface\",\"colorbar\":{\"outlinewidth\":0,\"ticks\":\"\"},\"colorscale\":[[0.0,\"#0d0887\"],[0.1111111111111111,\"#46039f\"],[0.2222222222222222,\"#7201a8\"],[0.3333333333333333,\"#9c179e\"],[0.4444444444444444,\"#bd3786\"],[0.5555555555555556,\"#d8576b\"],[0.6666666666666666,\"#ed7953\"],[0.7777777777777778,\"#fb9f3a\"],[0.8888888888888888,\"#fdca26\"],[1.0,\"#f0f921\"]]}],\"mesh3d\":[{\"type\":\"mesh3d\",\"colorbar\":{\"outlinewidth\":0,\"ticks\":\"\"}}],\"scatter\":[{\"fillpattern\":{\"fillmode\":\"overlay\",\"size\":10,\"solidity\":0.2},\"type\":\"scatter\"}],\"parcoords\":[{\"type\":\"parcoords\",\"line\":{\"colorbar\":{\"outlinewidth\":0,\"ticks\":\"\"}}}],\"scatterpolargl\":[{\"type\":\"scatterpolargl\",\"marker\":{\"colorbar\":{\"outlinewidth\":0,\"ticks\":\"\"}}}],\"bar\":[{\"error_x\":{\"color\":\"#2a3f5f\"},\"error_y\":{\"color\":\"#2a3f5f\"},\"marker\":{\"line\":{\"color\":\"#E5ECF6\",\"width\":0.5},\"pattern\":{\"fillmode\":\"overlay\",\"size\":10,\"solidity\":0.2}},\"type\":\"bar\"}],\"scattergeo\":[{\"type\":\"scattergeo\",\"marker\":{\"colorbar\":{\"outlinewidth\":0,\"ticks\":\"\"}}}],\"scatterpolar\":[{\"type\":\"scatterpolar\",\"marker\":{\"colorbar\":{\"outlinewidth\":0,\"ticks\":\"\"}}}],\"histogram\":[{\"marker\":{\"pattern\":{\"fillmode\":\"overlay\",\"size\":10,\"solidity\":0.2}},\"type\":\"histogram\"}],\"scattergl\":[{\"type\":\"scattergl\",\"marker\":{\"colorbar\":{\"outlinewidth\":0,\"ticks\":\"\"}}}],\"scatter3d\":[{\"type\":\"scatter3d\",\"line\":{\"colorbar\":{\"outlinewidth\":0,\"ticks\":\"\"}},\"marker\":{\"colorbar\":{\"outlinewidth\":0,\"ticks\":\"\"}}}],\"scattermapbox\":[{\"type\":\"scattermapbox\",\"marker\":{\"colorbar\":{\"outlinewidth\":0,\"ticks\":\"\"}}}],\"scatterternary\":[{\"type\":\"scatterternary\",\"marker\":{\"colorbar\":{\"outlinewidth\":0,\"ticks\":\"\"}}}],\"scattercarpet\":[{\"type\":\"scattercarpet\",\"marker\":{\"colorbar\":{\"outlinewidth\":0,\"ticks\":\"\"}}}],\"carpet\":[{\"aaxis\":{\"endlinecolor\":\"#2a3f5f\",\"gridcolor\":\"white\",\"linecolor\":\"white\",\"minorgridcolor\":\"white\",\"startlinecolor\":\"#2a3f5f\"},\"baxis\":{\"endlinecolor\":\"#2a3f5f\",\"gridcolor\":\"white\",\"linecolor\":\"white\",\"minorgridcolor\":\"white\",\"startlinecolor\":\"#2a3f5f\"},\"type\":\"carpet\"}],\"table\":[{\"cells\":{\"fill\":{\"color\":\"#EBF0F8\"},\"line\":{\"color\":\"white\"}},\"header\":{\"fill\":{\"color\":\"#C8D4E3\"},\"line\":{\"color\":\"white\"}},\"type\":\"table\"}],\"barpolar\":[{\"marker\":{\"line\":{\"color\":\"#E5ECF6\",\"width\":0.5},\"pattern\":{\"fillmode\":\"overlay\",\"size\":10,\"solidity\":0.2}},\"type\":\"barpolar\"}],\"pie\":[{\"automargin\":true,\"type\":\"pie\"}]},\"layout\":{\"autotypenumbers\":\"strict\",\"colorway\":[\"#636efa\",\"#EF553B\",\"#00cc96\",\"#ab63fa\",\"#FFA15A\",\"#19d3f3\",\"#FF6692\",\"#B6E880\",\"#FF97FF\",\"#FECB52\"],\"font\":{\"color\":\"#2a3f5f\"},\"hovermode\":\"closest\",\"hoverlabel\":{\"align\":\"left\"},\"paper_bgcolor\":\"white\",\"plot_bgcolor\":\"#E5ECF6\",\"polar\":{\"bgcolor\":\"#E5ECF6\",\"angularaxis\":{\"gridcolor\":\"white\",\"linecolor\":\"white\",\"ticks\":\"\"},\"radialaxis\":{\"gridcolor\":\"white\",\"linecolor\":\"white\",\"ticks\":\"\"}},\"ternary\":{\"bgcolor\":\"#E5ECF6\",\"aaxis\":{\"gridcolor\":\"white\",\"linecolor\":\"white\",\"ticks\":\"\"},\"baxis\":{\"gridcolor\":\"white\",\"linecolor\":\"white\",\"ticks\":\"\"},\"caxis\":{\"gridcolor\":\"white\",\"linecolor\":\"white\",\"ticks\":\"\"}},\"coloraxis\":{\"colorbar\":{\"outlinewidth\":0,\"ticks\":\"\"}},\"colorscale\":{\"sequential\":[[0.0,\"#0d0887\"],[0.1111111111111111,\"#46039f\"],[0.2222222222222222,\"#7201a8\"],[0.3333333333333333,\"#9c179e\"],[0.4444444444444444,\"#bd3786\"],[0.5555555555555556,\"#d8576b\"],[0.6666666666666666,\"#ed7953\"],[0.7777777777777778,\"#fb9f3a\"],[0.8888888888888888,\"#fdca26\"],[1.0,\"#f0f921\"]],\"sequentialminus\":[[0.0,\"#0d0887\"],[0.1111111111111111,\"#46039f\"],[0.2222222222222222,\"#7201a8\"],[0.3333333333333333,\"#9c179e\"],[0.4444444444444444,\"#bd3786\"],[0.5555555555555556,\"#d8576b\"],[0.6666666666666666,\"#ed7953\"],[0.7777777777777778,\"#fb9f3a\"],[0.8888888888888888,\"#fdca26\"],[1.0,\"#f0f921\"]],\"diverging\":[[0,\"#8e0152\"],[0.1,\"#c51b7d\"],[0.2,\"#de77ae\"],[0.3,\"#f1b6da\"],[0.4,\"#fde0ef\"],[0.5,\"#f7f7f7\"],[0.6,\"#e6f5d0\"],[0.7,\"#b8e186\"],[0.8,\"#7fbc41\"],[0.9,\"#4d9221\"],[1,\"#276419\"]]},\"xaxis\":{\"gridcolor\":\"white\",\"linecolor\":\"white\",\"ticks\":\"\",\"title\":{\"standoff\":15},\"zerolinecolor\":\"white\",\"automargin\":true,\"zerolinewidth\":2},\"yaxis\":{\"gridcolor\":\"white\",\"linecolor\":\"white\",\"ticks\":\"\",\"title\":{\"standoff\":15},\"zerolinecolor\":\"white\",\"automargin\":true,\"zerolinewidth\":2},\"scene\":{\"xaxis\":{\"backgroundcolor\":\"#E5ECF6\",\"gridcolor\":\"white\",\"linecolor\":\"white\",\"showbackground\":true,\"ticks\":\"\",\"zerolinecolor\":\"white\",\"gridwidth\":2},\"yaxis\":{\"backgroundcolor\":\"#E5ECF6\",\"gridcolor\":\"white\",\"linecolor\":\"white\",\"showbackground\":true,\"ticks\":\"\",\"zerolinecolor\":\"white\",\"gridwidth\":2},\"zaxis\":{\"backgroundcolor\":\"#E5ECF6\",\"gridcolor\":\"white\",\"linecolor\":\"white\",\"showbackground\":true,\"ticks\":\"\",\"zerolinecolor\":\"white\",\"gridwidth\":2}},\"shapedefaults\":{\"line\":{\"color\":\"#2a3f5f\"}},\"annotationdefaults\":{\"arrowcolor\":\"#2a3f5f\",\"arrowhead\":0,\"arrowwidth\":1},\"geo\":{\"bgcolor\":\"white\",\"landcolor\":\"#E5ECF6\",\"subunitcolor\":\"white\",\"showland\":true,\"showlakes\":true,\"lakecolor\":\"white\"},\"title\":{\"x\":0.05},\"mapbox\":{\"style\":\"light\"}}},\"xaxis\":{\"anchor\":\"y\",\"domain\":[0.0,1.0],\"title\":{\"text\":\"country\"}},\"yaxis\":{\"anchor\":\"x\",\"domain\":[0.0,1.0],\"title\":{\"text\":\"average_cost_for_two\"}},\"legend\":{\"tracegroupgap\":0},\"margin\":{\"t\":60},\"barmode\":\"relative\"},                        {\"responsive\": true}                    ).then(function(){\n",
       "                            \n",
       "var gd = document.getElementById('e49488af-3d17-4d9b-a4c2-e9019043ad3b');\n",
       "var x = new MutationObserver(function (mutations, observer) {{\n",
       "        var display = window.getComputedStyle(gd).display;\n",
       "        if (!display || display === 'none') {{\n",
       "            console.log([gd, 'removed!']);\n",
       "            Plotly.purge(gd);\n",
       "            observer.disconnect();\n",
       "        }}\n",
       "}});\n",
       "\n",
       "// Listen for the removal of the full notebook cells\n",
       "var notebookContainer = gd.closest('#notebook-container');\n",
       "if (notebookContainer) {{\n",
       "    x.observe(notebookContainer, {childList: true});\n",
       "}}\n",
       "\n",
       "// Listen for the clearing of the current output cell\n",
       "var outputEl = gd.closest('.output');\n",
       "if (outputEl) {{\n",
       "    x.observe(outputEl, {childList: true});\n",
       "}}\n",
       "\n",
       "                        })                };                });            </script>        </div>"
      ]
     },
     "metadata": {},
     "output_type": "display_data"
    }
   ],
   "source": [
    "# average cost for two by country\n",
    "\n",
    "df_aux = df.loc[:, ['country', 'average_cost_for_two']].groupby('country').mean().sort_values('average_cost_for_two',ascending=False).reset_index()\n",
    "\n",
    "px.bar(df_aux, x='country', y='average_cost_for_two')"
   ]
  },
  {
   "cell_type": "code",
   "execution_count": 45,
   "id": "7f2a16db-089e-4c43-90ab-5cd162fea222",
   "metadata": {
    "execution": {
     "iopub.execute_input": "2024-01-08T13:24:38.497040Z",
     "iopub.status.busy": "2024-01-08T13:24:38.496393Z",
     "iopub.status.idle": "2024-01-08T13:24:38.613018Z",
     "shell.execute_reply": "2024-01-08T13:24:38.611165Z",
     "shell.execute_reply.started": "2024-01-08T13:24:38.496975Z"
    }
   },
   "outputs": [
    {
     "data": {
      "application/vnd.plotly.v1+json": {
       "config": {
        "plotlyServerURL": "https://plot.ly"
       },
       "data": [
        {
         "alignmentgroup": "True",
         "hovertemplate": "country=%{x}<br>aggregate_rating=%{y}<extra></extra>",
         "legendgroup": "",
         "marker": {
          "color": "#636efa",
          "pattern": {
           "shape": ""
          }
         },
         "name": "",
         "offsetgroup": "",
         "orientation": "v",
         "showlegend": false,
         "textposition": "auto",
         "type": "bar",
         "x": [
          "Indonesia",
          "Philippines",
          "Singapure",
          "United States of America",
          "Australia",
          "Canada",
          "Turkey",
          "Qatar",
          "New Zeland",
          "Sri Lanka",
          "United Arab Emirates",
          "South Africa",
          "England",
          "India",
          "Brazil"
         ],
         "xaxis": "x",
         "y": [
          4.6,
          4.4624999999999995,
          4.429268292682926,
          4.405032350826743,
          4.372777777777778,
          4.321666666666666,
          4.3139393939393935,
          4.267021276595745,
          4.166798418972332,
          4.070114942528736,
          4.055688622754491,
          4.054188481675393,
          4.0411899313501145,
          4.027374141876431,
          3.349425287356322
         ],
         "yaxis": "y"
        }
       ],
       "layout": {
        "autosize": true,
        "barmode": "relative",
        "legend": {
         "tracegroupgap": 0
        },
        "margin": {
         "t": 60
        },
        "template": {
         "data": {
          "bar": [
           {
            "error_x": {
             "color": "#2a3f5f"
            },
            "error_y": {
             "color": "#2a3f5f"
            },
            "marker": {
             "line": {
              "color": "#E5ECF6",
              "width": 0.5
             },
             "pattern": {
              "fillmode": "overlay",
              "size": 10,
              "solidity": 0.2
             }
            },
            "type": "bar"
           }
          ],
          "barpolar": [
           {
            "marker": {
             "line": {
              "color": "#E5ECF6",
              "width": 0.5
             },
             "pattern": {
              "fillmode": "overlay",
              "size": 10,
              "solidity": 0.2
             }
            },
            "type": "barpolar"
           }
          ],
          "carpet": [
           {
            "aaxis": {
             "endlinecolor": "#2a3f5f",
             "gridcolor": "white",
             "linecolor": "white",
             "minorgridcolor": "white",
             "startlinecolor": "#2a3f5f"
            },
            "baxis": {
             "endlinecolor": "#2a3f5f",
             "gridcolor": "white",
             "linecolor": "white",
             "minorgridcolor": "white",
             "startlinecolor": "#2a3f5f"
            },
            "type": "carpet"
           }
          ],
          "choropleth": [
           {
            "colorbar": {
             "outlinewidth": 0,
             "ticks": ""
            },
            "type": "choropleth"
           }
          ],
          "contour": [
           {
            "colorbar": {
             "outlinewidth": 0,
             "ticks": ""
            },
            "colorscale": [
             [
              0,
              "#0d0887"
             ],
             [
              0.1111111111111111,
              "#46039f"
             ],
             [
              0.2222222222222222,
              "#7201a8"
             ],
             [
              0.3333333333333333,
              "#9c179e"
             ],
             [
              0.4444444444444444,
              "#bd3786"
             ],
             [
              0.5555555555555556,
              "#d8576b"
             ],
             [
              0.6666666666666666,
              "#ed7953"
             ],
             [
              0.7777777777777778,
              "#fb9f3a"
             ],
             [
              0.8888888888888888,
              "#fdca26"
             ],
             [
              1,
              "#f0f921"
             ]
            ],
            "type": "contour"
           }
          ],
          "contourcarpet": [
           {
            "colorbar": {
             "outlinewidth": 0,
             "ticks": ""
            },
            "type": "contourcarpet"
           }
          ],
          "heatmap": [
           {
            "colorbar": {
             "outlinewidth": 0,
             "ticks": ""
            },
            "colorscale": [
             [
              0,
              "#0d0887"
             ],
             [
              0.1111111111111111,
              "#46039f"
             ],
             [
              0.2222222222222222,
              "#7201a8"
             ],
             [
              0.3333333333333333,
              "#9c179e"
             ],
             [
              0.4444444444444444,
              "#bd3786"
             ],
             [
              0.5555555555555556,
              "#d8576b"
             ],
             [
              0.6666666666666666,
              "#ed7953"
             ],
             [
              0.7777777777777778,
              "#fb9f3a"
             ],
             [
              0.8888888888888888,
              "#fdca26"
             ],
             [
              1,
              "#f0f921"
             ]
            ],
            "type": "heatmap"
           }
          ],
          "heatmapgl": [
           {
            "colorbar": {
             "outlinewidth": 0,
             "ticks": ""
            },
            "colorscale": [
             [
              0,
              "#0d0887"
             ],
             [
              0.1111111111111111,
              "#46039f"
             ],
             [
              0.2222222222222222,
              "#7201a8"
             ],
             [
              0.3333333333333333,
              "#9c179e"
             ],
             [
              0.4444444444444444,
              "#bd3786"
             ],
             [
              0.5555555555555556,
              "#d8576b"
             ],
             [
              0.6666666666666666,
              "#ed7953"
             ],
             [
              0.7777777777777778,
              "#fb9f3a"
             ],
             [
              0.8888888888888888,
              "#fdca26"
             ],
             [
              1,
              "#f0f921"
             ]
            ],
            "type": "heatmapgl"
           }
          ],
          "histogram": [
           {
            "marker": {
             "pattern": {
              "fillmode": "overlay",
              "size": 10,
              "solidity": 0.2
             }
            },
            "type": "histogram"
           }
          ],
          "histogram2d": [
           {
            "colorbar": {
             "outlinewidth": 0,
             "ticks": ""
            },
            "colorscale": [
             [
              0,
              "#0d0887"
             ],
             [
              0.1111111111111111,
              "#46039f"
             ],
             [
              0.2222222222222222,
              "#7201a8"
             ],
             [
              0.3333333333333333,
              "#9c179e"
             ],
             [
              0.4444444444444444,
              "#bd3786"
             ],
             [
              0.5555555555555556,
              "#d8576b"
             ],
             [
              0.6666666666666666,
              "#ed7953"
             ],
             [
              0.7777777777777778,
              "#fb9f3a"
             ],
             [
              0.8888888888888888,
              "#fdca26"
             ],
             [
              1,
              "#f0f921"
             ]
            ],
            "type": "histogram2d"
           }
          ],
          "histogram2dcontour": [
           {
            "colorbar": {
             "outlinewidth": 0,
             "ticks": ""
            },
            "colorscale": [
             [
              0,
              "#0d0887"
             ],
             [
              0.1111111111111111,
              "#46039f"
             ],
             [
              0.2222222222222222,
              "#7201a8"
             ],
             [
              0.3333333333333333,
              "#9c179e"
             ],
             [
              0.4444444444444444,
              "#bd3786"
             ],
             [
              0.5555555555555556,
              "#d8576b"
             ],
             [
              0.6666666666666666,
              "#ed7953"
             ],
             [
              0.7777777777777778,
              "#fb9f3a"
             ],
             [
              0.8888888888888888,
              "#fdca26"
             ],
             [
              1,
              "#f0f921"
             ]
            ],
            "type": "histogram2dcontour"
           }
          ],
          "mesh3d": [
           {
            "colorbar": {
             "outlinewidth": 0,
             "ticks": ""
            },
            "type": "mesh3d"
           }
          ],
          "parcoords": [
           {
            "line": {
             "colorbar": {
              "outlinewidth": 0,
              "ticks": ""
             }
            },
            "type": "parcoords"
           }
          ],
          "pie": [
           {
            "automargin": true,
            "type": "pie"
           }
          ],
          "scatter": [
           {
            "fillpattern": {
             "fillmode": "overlay",
             "size": 10,
             "solidity": 0.2
            },
            "type": "scatter"
           }
          ],
          "scatter3d": [
           {
            "line": {
             "colorbar": {
              "outlinewidth": 0,
              "ticks": ""
             }
            },
            "marker": {
             "colorbar": {
              "outlinewidth": 0,
              "ticks": ""
             }
            },
            "type": "scatter3d"
           }
          ],
          "scattercarpet": [
           {
            "marker": {
             "colorbar": {
              "outlinewidth": 0,
              "ticks": ""
             }
            },
            "type": "scattercarpet"
           }
          ],
          "scattergeo": [
           {
            "marker": {
             "colorbar": {
              "outlinewidth": 0,
              "ticks": ""
             }
            },
            "type": "scattergeo"
           }
          ],
          "scattergl": [
           {
            "marker": {
             "colorbar": {
              "outlinewidth": 0,
              "ticks": ""
             }
            },
            "type": "scattergl"
           }
          ],
          "scattermapbox": [
           {
            "marker": {
             "colorbar": {
              "outlinewidth": 0,
              "ticks": ""
             }
            },
            "type": "scattermapbox"
           }
          ],
          "scatterpolar": [
           {
            "marker": {
             "colorbar": {
              "outlinewidth": 0,
              "ticks": ""
             }
            },
            "type": "scatterpolar"
           }
          ],
          "scatterpolargl": [
           {
            "marker": {
             "colorbar": {
              "outlinewidth": 0,
              "ticks": ""
             }
            },
            "type": "scatterpolargl"
           }
          ],
          "scatterternary": [
           {
            "marker": {
             "colorbar": {
              "outlinewidth": 0,
              "ticks": ""
             }
            },
            "type": "scatterternary"
           }
          ],
          "surface": [
           {
            "colorbar": {
             "outlinewidth": 0,
             "ticks": ""
            },
            "colorscale": [
             [
              0,
              "#0d0887"
             ],
             [
              0.1111111111111111,
              "#46039f"
             ],
             [
              0.2222222222222222,
              "#7201a8"
             ],
             [
              0.3333333333333333,
              "#9c179e"
             ],
             [
              0.4444444444444444,
              "#bd3786"
             ],
             [
              0.5555555555555556,
              "#d8576b"
             ],
             [
              0.6666666666666666,
              "#ed7953"
             ],
             [
              0.7777777777777778,
              "#fb9f3a"
             ],
             [
              0.8888888888888888,
              "#fdca26"
             ],
             [
              1,
              "#f0f921"
             ]
            ],
            "type": "surface"
           }
          ],
          "table": [
           {
            "cells": {
             "fill": {
              "color": "#EBF0F8"
             },
             "line": {
              "color": "white"
             }
            },
            "header": {
             "fill": {
              "color": "#C8D4E3"
             },
             "line": {
              "color": "white"
             }
            },
            "type": "table"
           }
          ]
         },
         "layout": {
          "annotationdefaults": {
           "arrowcolor": "#2a3f5f",
           "arrowhead": 0,
           "arrowwidth": 1
          },
          "autotypenumbers": "strict",
          "coloraxis": {
           "colorbar": {
            "outlinewidth": 0,
            "ticks": ""
           }
          },
          "colorscale": {
           "diverging": [
            [
             0,
             "#8e0152"
            ],
            [
             0.1,
             "#c51b7d"
            ],
            [
             0.2,
             "#de77ae"
            ],
            [
             0.3,
             "#f1b6da"
            ],
            [
             0.4,
             "#fde0ef"
            ],
            [
             0.5,
             "#f7f7f7"
            ],
            [
             0.6,
             "#e6f5d0"
            ],
            [
             0.7,
             "#b8e186"
            ],
            [
             0.8,
             "#7fbc41"
            ],
            [
             0.9,
             "#4d9221"
            ],
            [
             1,
             "#276419"
            ]
           ],
           "sequential": [
            [
             0,
             "#0d0887"
            ],
            [
             0.1111111111111111,
             "#46039f"
            ],
            [
             0.2222222222222222,
             "#7201a8"
            ],
            [
             0.3333333333333333,
             "#9c179e"
            ],
            [
             0.4444444444444444,
             "#bd3786"
            ],
            [
             0.5555555555555556,
             "#d8576b"
            ],
            [
             0.6666666666666666,
             "#ed7953"
            ],
            [
             0.7777777777777778,
             "#fb9f3a"
            ],
            [
             0.8888888888888888,
             "#fdca26"
            ],
            [
             1,
             "#f0f921"
            ]
           ],
           "sequentialminus": [
            [
             0,
             "#0d0887"
            ],
            [
             0.1111111111111111,
             "#46039f"
            ],
            [
             0.2222222222222222,
             "#7201a8"
            ],
            [
             0.3333333333333333,
             "#9c179e"
            ],
            [
             0.4444444444444444,
             "#bd3786"
            ],
            [
             0.5555555555555556,
             "#d8576b"
            ],
            [
             0.6666666666666666,
             "#ed7953"
            ],
            [
             0.7777777777777778,
             "#fb9f3a"
            ],
            [
             0.8888888888888888,
             "#fdca26"
            ],
            [
             1,
             "#f0f921"
            ]
           ]
          },
          "colorway": [
           "#636efa",
           "#EF553B",
           "#00cc96",
           "#ab63fa",
           "#FFA15A",
           "#19d3f3",
           "#FF6692",
           "#B6E880",
           "#FF97FF",
           "#FECB52"
          ],
          "font": {
           "color": "#2a3f5f"
          },
          "geo": {
           "bgcolor": "white",
           "lakecolor": "white",
           "landcolor": "#E5ECF6",
           "showlakes": true,
           "showland": true,
           "subunitcolor": "white"
          },
          "hoverlabel": {
           "align": "left"
          },
          "hovermode": "closest",
          "mapbox": {
           "style": "light"
          },
          "paper_bgcolor": "white",
          "plot_bgcolor": "#E5ECF6",
          "polar": {
           "angularaxis": {
            "gridcolor": "white",
            "linecolor": "white",
            "ticks": ""
           },
           "bgcolor": "#E5ECF6",
           "radialaxis": {
            "gridcolor": "white",
            "linecolor": "white",
            "ticks": ""
           }
          },
          "scene": {
           "xaxis": {
            "backgroundcolor": "#E5ECF6",
            "gridcolor": "white",
            "gridwidth": 2,
            "linecolor": "white",
            "showbackground": true,
            "ticks": "",
            "zerolinecolor": "white"
           },
           "yaxis": {
            "backgroundcolor": "#E5ECF6",
            "gridcolor": "white",
            "gridwidth": 2,
            "linecolor": "white",
            "showbackground": true,
            "ticks": "",
            "zerolinecolor": "white"
           },
           "zaxis": {
            "backgroundcolor": "#E5ECF6",
            "gridcolor": "white",
            "gridwidth": 2,
            "linecolor": "white",
            "showbackground": true,
            "ticks": "",
            "zerolinecolor": "white"
           }
          },
          "shapedefaults": {
           "line": {
            "color": "#2a3f5f"
           }
          },
          "ternary": {
           "aaxis": {
            "gridcolor": "white",
            "linecolor": "white",
            "ticks": ""
           },
           "baxis": {
            "gridcolor": "white",
            "linecolor": "white",
            "ticks": ""
           },
           "bgcolor": "#E5ECF6",
           "caxis": {
            "gridcolor": "white",
            "linecolor": "white",
            "ticks": ""
           }
          },
          "title": {
           "x": 0.05
          },
          "xaxis": {
           "automargin": true,
           "gridcolor": "white",
           "linecolor": "white",
           "ticks": "",
           "title": {
            "standoff": 15
           },
           "zerolinecolor": "white",
           "zerolinewidth": 2
          },
          "yaxis": {
           "automargin": true,
           "gridcolor": "white",
           "linecolor": "white",
           "ticks": "",
           "title": {
            "standoff": 15
           },
           "zerolinecolor": "white",
           "zerolinewidth": 2
          }
         }
        },
        "xaxis": {
         "anchor": "y",
         "autorange": true,
         "domain": [
          0,
          1
         ],
         "range": [
          -0.5,
          14.5
         ],
         "title": {
          "text": "country"
         },
         "type": "category"
        },
        "yaxis": {
         "anchor": "x",
         "autorange": true,
         "domain": [
          0,
          1
         ],
         "range": [
          0,
          4.842105263157895
         ],
         "title": {
          "text": "aggregate_rating"
         },
         "type": "linear"
        }
       }
      },
      "image/png": "[encoded data removed]",
      "text/html": [
       "<div>                            <div id=\"f3757921-c5ff-4652-ae5b-1f5f1d266003\" class=\"plotly-graph-div\" style=\"height:525px; width:100%;\"></div>            <script type=\"text/javascript\">                require([\"plotly\"], function(Plotly) {                    window.PLOTLYENV=window.PLOTLYENV || {};                                    if (document.getElementById(\"f3757921-c5ff-4652-ae5b-1f5f1d266003\")) {                    Plotly.newPlot(                        \"f3757921-c5ff-4652-ae5b-1f5f1d266003\",                        [{\"alignmentgroup\":\"True\",\"hovertemplate\":\"country=%{x}\\u003cbr\\u003eaggregate_rating=%{y}\\u003cextra\\u003e\\u003c\\u002fextra\\u003e\",\"legendgroup\":\"\",\"marker\":{\"color\":\"#636efa\",\"pattern\":{\"shape\":\"\"}},\"name\":\"\",\"offsetgroup\":\"\",\"orientation\":\"v\",\"showlegend\":false,\"textposition\":\"auto\",\"x\":[\"Indonesia\",\"Philippines\",\"Singapure\",\"United States of America\",\"Australia\",\"Canada\",\"Turkey\",\"Qatar\",\"New Zeland\",\"Sri Lanka\",\"United Arab Emirates\",\"South Africa\",\"England\",\"India\",\"Brazil\"],\"xaxis\":\"x\",\"y\":[4.6,4.4624999999999995,4.429268292682926,4.405032350826743,4.372777777777778,4.321666666666666,4.3139393939393935,4.267021276595745,4.166798418972332,4.070114942528736,4.055688622754491,4.054188481675393,4.0411899313501145,4.027374141876431,3.349425287356322],\"yaxis\":\"y\",\"type\":\"bar\"}],                        {\"template\":{\"data\":{\"histogram2dcontour\":[{\"type\":\"histogram2dcontour\",\"colorbar\":{\"outlinewidth\":0,\"ticks\":\"\"},\"colorscale\":[[0.0,\"#0d0887\"],[0.1111111111111111,\"#46039f\"],[0.2222222222222222,\"#7201a8\"],[0.3333333333333333,\"#9c179e\"],[0.4444444444444444,\"#bd3786\"],[0.5555555555555556,\"#d8576b\"],[0.6666666666666666,\"#ed7953\"],[0.7777777777777778,\"#fb9f3a\"],[0.8888888888888888,\"#fdca26\"],[1.0,\"#f0f921\"]]}],\"choropleth\":[{\"type\":\"choropleth\",\"colorbar\":{\"outlinewidth\":0,\"ticks\":\"\"}}],\"histogram2d\":[{\"type\":\"histogram2d\",\"colorbar\":{\"outlinewidth\":0,\"ticks\":\"\"},\"colorscale\":[[0.0,\"#0d0887\"],[0.1111111111111111,\"#46039f\"],[0.2222222222222222,\"#7201a8\"],[0.3333333333333333,\"#9c179e\"],[0.4444444444444444,\"#bd3786\"],[0.5555555555555556,\"#d8576b\"],[0.6666666666666666,\"#ed7953\"],[0.7777777777777778,\"#fb9f3a\"],[0.8888888888888888,\"#fdca26\"],[1.0,\"#f0f921\"]]}],\"heatmap\":[{\"type\":\"heatmap\",\"colorbar\":{\"outlinewidth\":0,\"ticks\":\"\"},\"colorscale\":[[0.0,\"#0d0887\"],[0.1111111111111111,\"#46039f\"],[0.2222222222222222,\"#7201a8\"],[0.3333333333333333,\"#9c179e\"],[0.4444444444444444,\"#bd3786\"],[0.5555555555555556,\"#d8576b\"],[0.6666666666666666,\"#ed7953\"],[0.7777777777777778,\"#fb9f3a\"],[0.8888888888888888,\"#fdca26\"],[1.0,\"#f0f921\"]]}],\"heatmapgl\":[{\"type\":\"heatmapgl\",\"colorbar\":{\"outlinewidth\":0,\"ticks\":\"\"},\"colorscale\":[[0.0,\"#0d0887\"],[0.1111111111111111,\"#46039f\"],[0.2222222222222222,\"#7201a8\"],[0.3333333333333333,\"#9c179e\"],[0.4444444444444444,\"#bd3786\"],[0.5555555555555556,\"#d8576b\"],[0.6666666666666666,\"#ed7953\"],[0.7777777777777778,\"#fb9f3a\"],[0.8888888888888888,\"#fdca26\"],[1.0,\"#f0f921\"]]}],\"contourcarpet\":[{\"type\":\"contourcarpet\",\"colorbar\":{\"outlinewidth\":0,\"ticks\":\"\"}}],\"contour\":[{\"type\":\"contour\",\"colorbar\":{\"outlinewidth\":0,\"ticks\":\"\"},\"colorscale\":[[0.0,\"#0d0887\"],[0.1111111111111111,\"#46039f\"],[0.2222222222222222,\"#7201a8\"],[0.3333333333333333,\"#9c179e\"],[0.4444444444444444,\"#bd3786\"],[0.5555555555555556,\"#d8576b\"],[0.6666666666666666,\"#ed7953\"],[0.7777777777777778,\"#fb9f3a\"],[0.8888888888888888,\"#fdca26\"],[1.0,\"#f0f921\"]]}],\"surface\":[{\"type\":\"surface\",\"colorbar\":{\"outlinewidth\":0,\"ticks\":\"\"},\"colorscale\":[[0.0,\"#0d0887\"],[0.1111111111111111,\"#46039f\"],[0.2222222222222222,\"#7201a8\"],[0.3333333333333333,\"#9c179e\"],[0.4444444444444444,\"#bd3786\"],[0.5555555555555556,\"#d8576b\"],[0.6666666666666666,\"#ed7953\"],[0.7777777777777778,\"#fb9f3a\"],[0.8888888888888888,\"#fdca26\"],[1.0,\"#f0f921\"]]}],\"mesh3d\":[{\"type\":\"mesh3d\",\"colorbar\":{\"outlinewidth\":0,\"ticks\":\"\"}}],\"scatter\":[{\"fillpattern\":{\"fillmode\":\"overlay\",\"size\":10,\"solidity\":0.2},\"type\":\"scatter\"}],\"parcoords\":[{\"type\":\"parcoords\",\"line\":{\"colorbar\":{\"outlinewidth\":0,\"ticks\":\"\"}}}],\"scatterpolargl\":[{\"type\":\"scatterpolargl\",\"marker\":{\"colorbar\":{\"outlinewidth\":0,\"ticks\":\"\"}}}],\"bar\":[{\"error_x\":{\"color\":\"#2a3f5f\"},\"error_y\":{\"color\":\"#2a3f5f\"},\"marker\":{\"line\":{\"color\":\"#E5ECF6\",\"width\":0.5},\"pattern\":{\"fillmode\":\"overlay\",\"size\":10,\"solidity\":0.2}},\"type\":\"bar\"}],\"scattergeo\":[{\"type\":\"scattergeo\",\"marker\":{\"colorbar\":{\"outlinewidth\":0,\"ticks\":\"\"}}}],\"scatterpolar\":[{\"type\":\"scatterpolar\",\"marker\":{\"colorbar\":{\"outlinewidth\":0,\"ticks\":\"\"}}}],\"histogram\":[{\"marker\":{\"pattern\":{\"fillmode\":\"overlay\",\"size\":10,\"solidity\":0.2}},\"type\":\"histogram\"}],\"scattergl\":[{\"type\":\"scattergl\",\"marker\":{\"colorbar\":{\"outlinewidth\":0,\"ticks\":\"\"}}}],\"scatter3d\":[{\"type\":\"scatter3d\",\"line\":{\"colorbar\":{\"outlinewidth\":0,\"ticks\":\"\"}},\"marker\":{\"colorbar\":{\"outlinewidth\":0,\"ticks\":\"\"}}}],\"scattermapbox\":[{\"type\":\"scattermapbox\",\"marker\":{\"colorbar\":{\"outlinewidth\":0,\"ticks\":\"\"}}}],\"scatterternary\":[{\"type\":\"scatterternary\",\"marker\":{\"colorbar\":{\"outlinewidth\":0,\"ticks\":\"\"}}}],\"scattercarpet\":[{\"type\":\"scattercarpet\",\"marker\":{\"colorbar\":{\"outlinewidth\":0,\"ticks\":\"\"}}}],\"carpet\":[{\"aaxis\":{\"endlinecolor\":\"#2a3f5f\",\"gridcolor\":\"white\",\"linecolor\":\"white\",\"minorgridcolor\":\"white\",\"startlinecolor\":\"#2a3f5f\"},\"baxis\":{\"endlinecolor\":\"#2a3f5f\",\"gridcolor\":\"white\",\"linecolor\":\"white\",\"minorgridcolor\":\"white\",\"startlinecolor\":\"#2a3f5f\"},\"type\":\"carpet\"}],\"table\":[{\"cells\":{\"fill\":{\"color\":\"#EBF0F8\"},\"line\":{\"color\":\"white\"}},\"header\":{\"fill\":{\"color\":\"#C8D4E3\"},\"line\":{\"color\":\"white\"}},\"type\":\"table\"}],\"barpolar\":[{\"marker\":{\"line\":{\"color\":\"#E5ECF6\",\"width\":0.5},\"pattern\":{\"fillmode\":\"overlay\",\"size\":10,\"solidity\":0.2}},\"type\":\"barpolar\"}],\"pie\":[{\"automargin\":true,\"type\":\"pie\"}]},\"layout\":{\"autotypenumbers\":\"strict\",\"colorway\":[\"#636efa\",\"#EF553B\",\"#00cc96\",\"#ab63fa\",\"#FFA15A\",\"#19d3f3\",\"#FF6692\",\"#B6E880\",\"#FF97FF\",\"#FECB52\"],\"font\":{\"color\":\"#2a3f5f\"},\"hovermode\":\"closest\",\"hoverlabel\":{\"align\":\"left\"},\"paper_bgcolor\":\"white\",\"plot_bgcolor\":\"#E5ECF6\",\"polar\":{\"bgcolor\":\"#E5ECF6\",\"angularaxis\":{\"gridcolor\":\"white\",\"linecolor\":\"white\",\"ticks\":\"\"},\"radialaxis\":{\"gridcolor\":\"white\",\"linecolor\":\"white\",\"ticks\":\"\"}},\"ternary\":{\"bgcolor\":\"#E5ECF6\",\"aaxis\":{\"gridcolor\":\"white\",\"linecolor\":\"white\",\"ticks\":\"\"},\"baxis\":{\"gridcolor\":\"white\",\"linecolor\":\"white\",\"ticks\":\"\"},\"caxis\":{\"gridcolor\":\"white\",\"linecolor\":\"white\",\"ticks\":\"\"}},\"coloraxis\":{\"colorbar\":{\"outlinewidth\":0,\"ticks\":\"\"}},\"colorscale\":{\"sequential\":[[0.0,\"#0d0887\"],[0.1111111111111111,\"#46039f\"],[0.2222222222222222,\"#7201a8\"],[0.3333333333333333,\"#9c179e\"],[0.4444444444444444,\"#bd3786\"],[0.5555555555555556,\"#d8576b\"],[0.6666666666666666,\"#ed7953\"],[0.7777777777777778,\"#fb9f3a\"],[0.8888888888888888,\"#fdca26\"],[1.0,\"#f0f921\"]],\"sequentialminus\":[[0.0,\"#0d0887\"],[0.1111111111111111,\"#46039f\"],[0.2222222222222222,\"#7201a8\"],[0.3333333333333333,\"#9c179e\"],[0.4444444444444444,\"#bd3786\"],[0.5555555555555556,\"#d8576b\"],[0.6666666666666666,\"#ed7953\"],[0.7777777777777778,\"#fb9f3a\"],[0.8888888888888888,\"#fdca26\"],[1.0,\"#f0f921\"]],\"diverging\":[[0,\"#8e0152\"],[0.1,\"#c51b7d\"],[0.2,\"#de77ae\"],[0.3,\"#f1b6da\"],[0.4,\"#fde0ef\"],[0.5,\"#f7f7f7\"],[0.6,\"#e6f5d0\"],[0.7,\"#b8e186\"],[0.8,\"#7fbc41\"],[0.9,\"#4d9221\"],[1,\"#276419\"]]},\"xaxis\":{\"gridcolor\":\"white\",\"linecolor\":\"white\",\"ticks\":\"\",\"title\":{\"standoff\":15},\"zerolinecolor\":\"white\",\"automargin\":true,\"zerolinewidth\":2},\"yaxis\":{\"gridcolor\":\"white\",\"linecolor\":\"white\",\"ticks\":\"\",\"title\":{\"standoff\":15},\"zerolinecolor\":\"white\",\"automargin\":true,\"zerolinewidth\":2},\"scene\":{\"xaxis\":{\"backgroundcolor\":\"#E5ECF6\",\"gridcolor\":\"white\",\"linecolor\":\"white\",\"showbackground\":true,\"ticks\":\"\",\"zerolinecolor\":\"white\",\"gridwidth\":2},\"yaxis\":{\"backgroundcolor\":\"#E5ECF6\",\"gridcolor\":\"white\",\"linecolor\":\"white\",\"showbackground\":true,\"ticks\":\"\",\"zerolinecolor\":\"white\",\"gridwidth\":2},\"zaxis\":{\"backgroundcolor\":\"#E5ECF6\",\"gridcolor\":\"white\",\"linecolor\":\"white\",\"showbackground\":true,\"ticks\":\"\",\"zerolinecolor\":\"white\",\"gridwidth\":2}},\"shapedefaults\":{\"line\":{\"color\":\"#2a3f5f\"}},\"annotationdefaults\":{\"arrowcolor\":\"#2a3f5f\",\"arrowhead\":0,\"arrowwidth\":1},\"geo\":{\"bgcolor\":\"white\",\"landcolor\":\"#E5ECF6\",\"subunitcolor\":\"white\",\"showland\":true,\"showlakes\":true,\"lakecolor\":\"white\"},\"title\":{\"x\":0.05},\"mapbox\":{\"style\":\"light\"}}},\"xaxis\":{\"anchor\":\"y\",\"domain\":[0.0,1.0],\"title\":{\"text\":\"country\"}},\"yaxis\":{\"anchor\":\"x\",\"domain\":[0.0,1.0],\"title\":{\"text\":\"aggregate_rating\"}},\"legend\":{\"tracegroupgap\":0},\"margin\":{\"t\":60},\"barmode\":\"relative\"},                        {\"responsive\": true}                    ).then(function(){\n",
       "                            \n",
       "var gd = document.getElementById('f3757921-c5ff-4652-ae5b-1f5f1d266003');\n",
       "var x = new MutationObserver(function (mutations, observer) {{\n",
       "        var display = window.getComputedStyle(gd).display;\n",
       "        if (!display || display === 'none') {{\n",
       "            console.log([gd, 'removed!']);\n",
       "            Plotly.purge(gd);\n",
       "            observer.disconnect();\n",
       "        }}\n",
       "}});\n",
       "\n",
       "// Listen for the removal of the full notebook cells\n",
       "var notebookContainer = gd.closest('#notebook-container');\n",
       "if (notebookContainer) {{\n",
       "    x.observe(notebookContainer, {childList: true});\n",
       "}}\n",
       "\n",
       "// Listen for the clearing of the current output cell\n",
       "var outputEl = gd.closest('.output');\n",
       "if (outputEl) {{\n",
       "    x.observe(outputEl, {childList: true});\n",
       "}}\n",
       "\n",
       "                        })                };                });            </script>        </div>"
      ]
     },
     "metadata": {},
     "output_type": "display_data"
    }
   ],
   "source": [
    "# aggregate rating by country\n",
    "\n",
    "df_aux = df.loc[:, ['country', 'aggregate_rating']].groupby('country').mean().sort_values('aggregate_rating',ascending=False).reset_index()\n",
    "\n",
    "px.bar(df_aux, x='country', y='aggregate_rating')"
   ]
  },
  {
   "cell_type": "code",
   "execution_count": 50,
   "id": "50298370-5109-4932-a235-254cbf422b9e",
   "metadata": {
    "execution": {
     "iopub.execute_input": "2024-01-08T13:30:03.172499Z",
     "iopub.status.busy": "2024-01-08T13:30:03.170573Z",
     "iopub.status.idle": "2024-01-08T13:30:03.276373Z",
     "shell.execute_reply": "2024-01-08T13:30:03.275180Z",
     "shell.execute_reply.started": "2024-01-08T13:30:03.172322Z"
    }
   },
   "outputs": [
    {
     "data": {
      "application/vnd.plotly.v1+json": {
       "config": {
        "plotlyServerURL": "https://plot.ly"
       },
       "data": [
        {
         "alignmentgroup": "True",
         "hovertemplate": "country=%{x}<br>restaurant_id=%{y}<extra></extra>",
         "legendgroup": "",
         "marker": {
          "color": "#636efa",
          "pattern": {
           "shape": ""
          }
         },
         "name": "",
         "offsetgroup": "",
         "orientation": "v",
         "showlegend": false,
         "textposition": "auto",
         "type": "bar",
         "x": [
          "India",
          "United States of America",
          "England",
          "South Africa",
          "United Arab Emirates",
          "Brazil",
          "New Zeland",
          "Australia",
          "Canada",
          "Turkey",
          "Qatar",
          "Philippines",
          "Sri Lanka",
          "Indonesia",
          "Singapure"
         ],
         "xaxis": "x",
         "y": [
          3496,
          1391,
          437,
          382,
          334,
          261,
          253,
          180,
          180,
          165,
          94,
          88,
          87,
          82,
          82
         ],
         "yaxis": "y"
        }
       ],
       "layout": {
        "autosize": true,
        "barmode": "relative",
        "legend": {
         "tracegroupgap": 0
        },
        "margin": {
         "t": 60
        },
        "template": {
         "data": {
          "bar": [
           {
            "error_x": {
             "color": "#2a3f5f"
            },
            "error_y": {
             "color": "#2a3f5f"
            },
            "marker": {
             "line": {
              "color": "#E5ECF6",
              "width": 0.5
             },
             "pattern": {
              "fillmode": "overlay",
              "size": 10,
              "solidity": 0.2
             }
            },
            "type": "bar"
           }
          ],
          "barpolar": [
           {
            "marker": {
             "line": {
              "color": "#E5ECF6",
              "width": 0.5
             },
             "pattern": {
              "fillmode": "overlay",
              "size": 10,
              "solidity": 0.2
             }
            },
            "type": "barpolar"
           }
          ],
          "carpet": [
           {
            "aaxis": {
             "endlinecolor": "#2a3f5f",
             "gridcolor": "white",
             "linecolor": "white",
             "minorgridcolor": "white",
             "startlinecolor": "#2a3f5f"
            },
            "baxis": {
             "endlinecolor": "#2a3f5f",
             "gridcolor": "white",
             "linecolor": "white",
             "minorgridcolor": "white",
             "startlinecolor": "#2a3f5f"
            },
            "type": "carpet"
           }
          ],
          "choropleth": [
           {
            "colorbar": {
             "outlinewidth": 0,
             "ticks": ""
            },
            "type": "choropleth"
           }
          ],
          "contour": [
           {
            "colorbar": {
             "outlinewidth": 0,
             "ticks": ""
            },
            "colorscale": [
             [
              0,
              "#0d0887"
             ],
             [
              0.1111111111111111,
              "#46039f"
             ],
             [
              0.2222222222222222,
              "#7201a8"
             ],
             [
              0.3333333333333333,
              "#9c179e"
             ],
             [
              0.4444444444444444,
              "#bd3786"
             ],
             [
              0.5555555555555556,
              "#d8576b"
             ],
             [
              0.6666666666666666,
              "#ed7953"
             ],
             [
              0.7777777777777778,
              "#fb9f3a"
             ],
             [
              0.8888888888888888,
              "#fdca26"
             ],
             [
              1,
              "#f0f921"
             ]
            ],
            "type": "contour"
           }
          ],
          "contourcarpet": [
           {
            "colorbar": {
             "outlinewidth": 0,
             "ticks": ""
            },
            "type": "contourcarpet"
           }
          ],
          "heatmap": [
           {
            "colorbar": {
             "outlinewidth": 0,
             "ticks": ""
            },
            "colorscale": [
             [
              0,
              "#0d0887"
             ],
             [
              0.1111111111111111,
              "#46039f"
             ],
             [
              0.2222222222222222,
              "#7201a8"
             ],
             [
              0.3333333333333333,
              "#9c179e"
             ],
             [
              0.4444444444444444,
              "#bd3786"
             ],
             [
              0.5555555555555556,
              "#d8576b"
             ],
             [
              0.6666666666666666,
              "#ed7953"
             ],
             [
              0.7777777777777778,
              "#fb9f3a"
             ],
             [
              0.8888888888888888,
              "#fdca26"
             ],
             [
              1,
              "#f0f921"
             ]
            ],
            "type": "heatmap"
           }
          ],
          "heatmapgl": [
           {
            "colorbar": {
             "outlinewidth": 0,
             "ticks": ""
            },
            "colorscale": [
             [
              0,
              "#0d0887"
             ],
             [
              0.1111111111111111,
              "#46039f"
             ],
             [
              0.2222222222222222,
              "#7201a8"
             ],
             [
              0.3333333333333333,
              "#9c179e"
             ],
             [
              0.4444444444444444,
              "#bd3786"
             ],
             [
              0.5555555555555556,
              "#d8576b"
             ],
             [
              0.6666666666666666,
              "#ed7953"
             ],
             [
              0.7777777777777778,
              "#fb9f3a"
             ],
             [
              0.8888888888888888,
              "#fdca26"
             ],
             [
              1,
              "#f0f921"
             ]
            ],
            "type": "heatmapgl"
           }
          ],
          "histogram": [
           {
            "marker": {
             "pattern": {
              "fillmode": "overlay",
              "size": 10,
              "solidity": 0.2
             }
            },
            "type": "histogram"
           }
          ],
          "histogram2d": [
           {
            "colorbar": {
             "outlinewidth": 0,
             "ticks": ""
            },
            "colorscale": [
             [
              0,
              "#0d0887"
             ],
             [
              0.1111111111111111,
              "#46039f"
             ],
             [
              0.2222222222222222,
              "#7201a8"
             ],
             [
              0.3333333333333333,
              "#9c179e"
             ],
             [
              0.4444444444444444,
              "#bd3786"
             ],
             [
              0.5555555555555556,
              "#d8576b"
             ],
             [
              0.6666666666666666,
              "#ed7953"
             ],
             [
              0.7777777777777778,
              "#fb9f3a"
             ],
             [
              0.8888888888888888,
              "#fdca26"
             ],
             [
              1,
              "#f0f921"
             ]
            ],
            "type": "histogram2d"
           }
          ],
          "histogram2dcontour": [
           {
            "colorbar": {
             "outlinewidth": 0,
             "ticks": ""
            },
            "colorscale": [
             [
              0,
              "#0d0887"
             ],
             [
              0.1111111111111111,
              "#46039f"
             ],
             [
              0.2222222222222222,
              "#7201a8"
             ],
             [
              0.3333333333333333,
              "#9c179e"
             ],
             [
              0.4444444444444444,
              "#bd3786"
             ],
             [
              0.5555555555555556,
              "#d8576b"
             ],
             [
              0.6666666666666666,
              "#ed7953"
             ],
             [
              0.7777777777777778,
              "#fb9f3a"
             ],
             [
              0.8888888888888888,
              "#fdca26"
             ],
             [
              1,
              "#f0f921"
             ]
            ],
            "type": "histogram2dcontour"
           }
          ],
          "mesh3d": [
           {
            "colorbar": {
             "outlinewidth": 0,
             "ticks": ""
            },
            "type": "mesh3d"
           }
          ],
          "parcoords": [
           {
            "line": {
             "colorbar": {
              "outlinewidth": 0,
              "ticks": ""
             }
            },
            "type": "parcoords"
           }
          ],
          "pie": [
           {
            "automargin": true,
            "type": "pie"
           }
          ],
          "scatter": [
           {
            "fillpattern": {
             "fillmode": "overlay",
             "size": 10,
             "solidity": 0.2
            },
            "type": "scatter"
           }
          ],
          "scatter3d": [
           {
            "line": {
             "colorbar": {
              "outlinewidth": 0,
              "ticks": ""
             }
            },
            "marker": {
             "colorbar": {
              "outlinewidth": 0,
              "ticks": ""
             }
            },
            "type": "scatter3d"
           }
          ],
          "scattercarpet": [
           {
            "marker": {
             "colorbar": {
              "outlinewidth": 0,
              "ticks": ""
             }
            },
            "type": "scattercarpet"
           }
          ],
          "scattergeo": [
           {
            "marker": {
             "colorbar": {
              "outlinewidth": 0,
              "ticks": ""
             }
            },
            "type": "scattergeo"
           }
          ],
          "scattergl": [
           {
            "marker": {
             "colorbar": {
              "outlinewidth": 0,
              "ticks": ""
             }
            },
            "type": "scattergl"
           }
          ],
          "scattermapbox": [
           {
            "marker": {
             "colorbar": {
              "outlinewidth": 0,
              "ticks": ""
             }
            },
            "type": "scattermapbox"
           }
          ],
          "scatterpolar": [
           {
            "marker": {
             "colorbar": {
              "outlinewidth": 0,
              "ticks": ""
             }
            },
            "type": "scatterpolar"
           }
          ],
          "scatterpolargl": [
           {
            "marker": {
             "colorbar": {
              "outlinewidth": 0,
              "ticks": ""
             }
            },
            "type": "scatterpolargl"
           }
          ],
          "scatterternary": [
           {
            "marker": {
             "colorbar": {
              "outlinewidth": 0,
              "ticks": ""
             }
            },
            "type": "scatterternary"
           }
          ],
          "surface": [
           {
            "colorbar": {
             "outlinewidth": 0,
             "ticks": ""
            },
            "colorscale": [
             [
              0,
              "#0d0887"
             ],
             [
              0.1111111111111111,
              "#46039f"
             ],
             [
              0.2222222222222222,
              "#7201a8"
             ],
             [
              0.3333333333333333,
              "#9c179e"
             ],
             [
              0.4444444444444444,
              "#bd3786"
             ],
             [
              0.5555555555555556,
              "#d8576b"
             ],
             [
              0.6666666666666666,
              "#ed7953"
             ],
             [
              0.7777777777777778,
              "#fb9f3a"
             ],
             [
              0.8888888888888888,
              "#fdca26"
             ],
             [
              1,
              "#f0f921"
             ]
            ],
            "type": "surface"
           }
          ],
          "table": [
           {
            "cells": {
             "fill": {
              "color": "#EBF0F8"
             },
             "line": {
              "color": "white"
             }
            },
            "header": {
             "fill": {
              "color": "#C8D4E3"
             },
             "line": {
              "color": "white"
             }
            },
            "type": "table"
           }
          ]
         },
         "layout": {
          "annotationdefaults": {
           "arrowcolor": "#2a3f5f",
           "arrowhead": 0,
           "arrowwidth": 1
          },
          "autotypenumbers": "strict",
          "coloraxis": {
           "colorbar": {
            "outlinewidth": 0,
            "ticks": ""
           }
          },
          "colorscale": {
           "diverging": [
            [
             0,
             "#8e0152"
            ],
            [
             0.1,
             "#c51b7d"
            ],
            [
             0.2,
             "#de77ae"
            ],
            [
             0.3,
             "#f1b6da"
            ],
            [
             0.4,
             "#fde0ef"
            ],
            [
             0.5,
             "#f7f7f7"
            ],
            [
             0.6,
             "#e6f5d0"
            ],
            [
             0.7,
             "#b8e186"
            ],
            [
             0.8,
             "#7fbc41"
            ],
            [
             0.9,
             "#4d9221"
            ],
            [
             1,
             "#276419"
            ]
           ],
           "sequential": [
            [
             0,
             "#0d0887"
            ],
            [
             0.1111111111111111,
             "#46039f"
            ],
            [
             0.2222222222222222,
             "#7201a8"
            ],
            [
             0.3333333333333333,
             "#9c179e"
            ],
            [
             0.4444444444444444,
             "#bd3786"
            ],
            [
             0.5555555555555556,
             "#d8576b"
            ],
            [
             0.6666666666666666,
             "#ed7953"
            ],
            [
             0.7777777777777778,
             "#fb9f3a"
            ],
            [
             0.8888888888888888,
             "#fdca26"
            ],
            [
             1,
             "#f0f921"
            ]
           ],
           "sequentialminus": [
            [
             0,
             "#0d0887"
            ],
            [
             0.1111111111111111,
             "#46039f"
            ],
            [
             0.2222222222222222,
             "#7201a8"
            ],
            [
             0.3333333333333333,
             "#9c179e"
            ],
            [
             0.4444444444444444,
             "#bd3786"
            ],
            [
             0.5555555555555556,
             "#d8576b"
            ],
            [
             0.6666666666666666,
             "#ed7953"
            ],
            [
             0.7777777777777778,
             "#fb9f3a"
            ],
            [
             0.8888888888888888,
             "#fdca26"
            ],
            [
             1,
             "#f0f921"
            ]
           ]
          },
          "colorway": [
           "#636efa",
           "#EF553B",
           "#00cc96",
           "#ab63fa",
           "#FFA15A",
           "#19d3f3",
           "#FF6692",
           "#B6E880",
           "#FF97FF",
           "#FECB52"
          ],
          "font": {
           "color": "#2a3f5f"
          },
          "geo": {
           "bgcolor": "white",
           "lakecolor": "white",
           "landcolor": "#E5ECF6",
           "showlakes": true,
           "showland": true,
           "subunitcolor": "white"
          },
          "hoverlabel": {
           "align": "left"
          },
          "hovermode": "closest",
          "mapbox": {
           "style": "light"
          },
          "paper_bgcolor": "white",
          "plot_bgcolor": "#E5ECF6",
          "polar": {
           "angularaxis": {
            "gridcolor": "white",
            "linecolor": "white",
            "ticks": ""
           },
           "bgcolor": "#E5ECF6",
           "radialaxis": {
            "gridcolor": "white",
            "linecolor": "white",
            "ticks": ""
           }
          },
          "scene": {
           "xaxis": {
            "backgroundcolor": "#E5ECF6",
            "gridcolor": "white",
            "gridwidth": 2,
            "linecolor": "white",
            "showbackground": true,
            "ticks": "",
            "zerolinecolor": "white"
           },
           "yaxis": {
            "backgroundcolor": "#E5ECF6",
            "gridcolor": "white",
            "gridwidth": 2,
            "linecolor": "white",
            "showbackground": true,
            "ticks": "",
            "zerolinecolor": "white"
           },
           "zaxis": {
            "backgroundcolor": "#E5ECF6",
            "gridcolor": "white",
            "gridwidth": 2,
            "linecolor": "white",
            "showbackground": true,
            "ticks": "",
            "zerolinecolor": "white"
           }
          },
          "shapedefaults": {
           "line": {
            "color": "#2a3f5f"
           }
          },
          "ternary": {
           "aaxis": {
            "gridcolor": "white",
            "linecolor": "white",
            "ticks": ""
           },
           "baxis": {
            "gridcolor": "white",
            "linecolor": "white",
            "ticks": ""
           },
           "bgcolor": "#E5ECF6",
           "caxis": {
            "gridcolor": "white",
            "linecolor": "white",
            "ticks": ""
           }
          },
          "title": {
           "x": 0.05
          },
          "xaxis": {
           "automargin": true,
           "gridcolor": "white",
           "linecolor": "white",
           "ticks": "",
           "title": {
            "standoff": 15
           },
           "zerolinecolor": "white",
           "zerolinewidth": 2
          },
          "yaxis": {
           "automargin": true,
           "gridcolor": "white",
           "linecolor": "white",
           "ticks": "",
           "title": {
            "standoff": 15
           },
           "zerolinecolor": "white",
           "zerolinewidth": 2
          }
         }
        },
        "xaxis": {
         "anchor": "y",
         "autorange": true,
         "domain": [
          0,
          1
         ],
         "range": [
          -0.5,
          14.5
         ],
         "title": {
          "text": "country"
         },
         "type": "category"
        },
        "yaxis": {
         "anchor": "x",
         "autorange": true,
         "domain": [
          0,
          1
         ],
         "range": [
          0,
          3680
         ],
         "title": {
          "text": "restaurant_id"
         },
         "type": "linear"
        }
       }
      },
      "image/png": "[encoded data removed]",
      "text/html": [
       "<div>                            <div id=\"077ee1e2-d9d3-4dbb-8457-5e551b314a9e\" class=\"plotly-graph-div\" style=\"height:525px; width:100%;\"></div>            <script type=\"text/javascript\">                require([\"plotly\"], function(Plotly) {                    window.PLOTLYENV=window.PLOTLYENV || {};                                    if (document.getElementById(\"077ee1e2-d9d3-4dbb-8457-5e551b314a9e\")) {                    Plotly.newPlot(                        \"077ee1e2-d9d3-4dbb-8457-5e551b314a9e\",                        [{\"alignmentgroup\":\"True\",\"hovertemplate\":\"country=%{x}\\u003cbr\\u003erestaurant_id=%{y}\\u003cextra\\u003e\\u003c\\u002fextra\\u003e\",\"legendgroup\":\"\",\"marker\":{\"color\":\"#636efa\",\"pattern\":{\"shape\":\"\"}},\"name\":\"\",\"offsetgroup\":\"\",\"orientation\":\"v\",\"showlegend\":false,\"textposition\":\"auto\",\"x\":[\"India\",\"United States of America\",\"England\",\"South Africa\",\"United Arab Emirates\",\"Brazil\",\"New Zeland\",\"Australia\",\"Canada\",\"Turkey\",\"Qatar\",\"Philippines\",\"Sri Lanka\",\"Indonesia\",\"Singapure\"],\"xaxis\":\"x\",\"y\":[3496,1391,437,382,334,261,253,180,180,165,94,88,87,82,82],\"yaxis\":\"y\",\"type\":\"bar\"}],                        {\"template\":{\"data\":{\"histogram2dcontour\":[{\"type\":\"histogram2dcontour\",\"colorbar\":{\"outlinewidth\":0,\"ticks\":\"\"},\"colorscale\":[[0.0,\"#0d0887\"],[0.1111111111111111,\"#46039f\"],[0.2222222222222222,\"#7201a8\"],[0.3333333333333333,\"#9c179e\"],[0.4444444444444444,\"#bd3786\"],[0.5555555555555556,\"#d8576b\"],[0.6666666666666666,\"#ed7953\"],[0.7777777777777778,\"#fb9f3a\"],[0.8888888888888888,\"#fdca26\"],[1.0,\"#f0f921\"]]}],\"choropleth\":[{\"type\":\"choropleth\",\"colorbar\":{\"outlinewidth\":0,\"ticks\":\"\"}}],\"histogram2d\":[{\"type\":\"histogram2d\",\"colorbar\":{\"outlinewidth\":0,\"ticks\":\"\"},\"colorscale\":[[0.0,\"#0d0887\"],[0.1111111111111111,\"#46039f\"],[0.2222222222222222,\"#7201a8\"],[0.3333333333333333,\"#9c179e\"],[0.4444444444444444,\"#bd3786\"],[0.5555555555555556,\"#d8576b\"],[0.6666666666666666,\"#ed7953\"],[0.7777777777777778,\"#fb9f3a\"],[0.8888888888888888,\"#fdca26\"],[1.0,\"#f0f921\"]]}],\"heatmap\":[{\"type\":\"heatmap\",\"colorbar\":{\"outlinewidth\":0,\"ticks\":\"\"},\"colorscale\":[[0.0,\"#0d0887\"],[0.1111111111111111,\"#46039f\"],[0.2222222222222222,\"#7201a8\"],[0.3333333333333333,\"#9c179e\"],[0.4444444444444444,\"#bd3786\"],[0.5555555555555556,\"#d8576b\"],[0.6666666666666666,\"#ed7953\"],[0.7777777777777778,\"#fb9f3a\"],[0.8888888888888888,\"#fdca26\"],[1.0,\"#f0f921\"]]}],\"heatmapgl\":[{\"type\":\"heatmapgl\",\"colorbar\":{\"outlinewidth\":0,\"ticks\":\"\"},\"colorscale\":[[0.0,\"#0d0887\"],[0.1111111111111111,\"#46039f\"],[0.2222222222222222,\"#7201a8\"],[0.3333333333333333,\"#9c179e\"],[0.4444444444444444,\"#bd3786\"],[0.5555555555555556,\"#d8576b\"],[0.6666666666666666,\"#ed7953\"],[0.7777777777777778,\"#fb9f3a\"],[0.8888888888888888,\"#fdca26\"],[1.0,\"#f0f921\"]]}],\"contourcarpet\":[{\"type\":\"contourcarpet\",\"colorbar\":{\"outlinewidth\":0,\"ticks\":\"\"}}],\"contour\":[{\"type\":\"contour\",\"colorbar\":{\"outlinewidth\":0,\"ticks\":\"\"},\"colorscale\":[[0.0,\"#0d0887\"],[0.1111111111111111,\"#46039f\"],[0.2222222222222222,\"#7201a8\"],[0.3333333333333333,\"#9c179e\"],[0.4444444444444444,\"#bd3786\"],[0.5555555555555556,\"#d8576b\"],[0.6666666666666666,\"#ed7953\"],[0.7777777777777778,\"#fb9f3a\"],[0.8888888888888888,\"#fdca26\"],[1.0,\"#f0f921\"]]}],\"surface\":[{\"type\":\"surface\",\"colorbar\":{\"outlinewidth\":0,\"ticks\":\"\"},\"colorscale\":[[0.0,\"#0d0887\"],[0.1111111111111111,\"#46039f\"],[0.2222222222222222,\"#7201a8\"],[0.3333333333333333,\"#9c179e\"],[0.4444444444444444,\"#bd3786\"],[0.5555555555555556,\"#d8576b\"],[0.6666666666666666,\"#ed7953\"],[0.7777777777777778,\"#fb9f3a\"],[0.8888888888888888,\"#fdca26\"],[1.0,\"#f0f921\"]]}],\"mesh3d\":[{\"type\":\"mesh3d\",\"colorbar\":{\"outlinewidth\":0,\"ticks\":\"\"}}],\"scatter\":[{\"fillpattern\":{\"fillmode\":\"overlay\",\"size\":10,\"solidity\":0.2},\"type\":\"scatter\"}],\"parcoords\":[{\"type\":\"parcoords\",\"line\":{\"colorbar\":{\"outlinewidth\":0,\"ticks\":\"\"}}}],\"scatterpolargl\":[{\"type\":\"scatterpolargl\",\"marker\":{\"colorbar\":{\"outlinewidth\":0,\"ticks\":\"\"}}}],\"bar\":[{\"error_x\":{\"color\":\"#2a3f5f\"},\"error_y\":{\"color\":\"#2a3f5f\"},\"marker\":{\"line\":{\"color\":\"#E5ECF6\",\"width\":0.5},\"pattern\":{\"fillmode\":\"overlay\",\"size\":10,\"solidity\":0.2}},\"type\":\"bar\"}],\"scattergeo\":[{\"type\":\"scattergeo\",\"marker\":{\"colorbar\":{\"outlinewidth\":0,\"ticks\":\"\"}}}],\"scatterpolar\":[{\"type\":\"scatterpolar\",\"marker\":{\"colorbar\":{\"outlinewidth\":0,\"ticks\":\"\"}}}],\"histogram\":[{\"marker\":{\"pattern\":{\"fillmode\":\"overlay\",\"size\":10,\"solidity\":0.2}},\"type\":\"histogram\"}],\"scattergl\":[{\"type\":\"scattergl\",\"marker\":{\"colorbar\":{\"outlinewidth\":0,\"ticks\":\"\"}}}],\"scatter3d\":[{\"type\":\"scatter3d\",\"line\":{\"colorbar\":{\"outlinewidth\":0,\"ticks\":\"\"}},\"marker\":{\"colorbar\":{\"outlinewidth\":0,\"ticks\":\"\"}}}],\"scattermapbox\":[{\"type\":\"scattermapbox\",\"marker\":{\"colorbar\":{\"outlinewidth\":0,\"ticks\":\"\"}}}],\"scatterternary\":[{\"type\":\"scatterternary\",\"marker\":{\"colorbar\":{\"outlinewidth\":0,\"ticks\":\"\"}}}],\"scattercarpet\":[{\"type\":\"scattercarpet\",\"marker\":{\"colorbar\":{\"outlinewidth\":0,\"ticks\":\"\"}}}],\"carpet\":[{\"aaxis\":{\"endlinecolor\":\"#2a3f5f\",\"gridcolor\":\"white\",\"linecolor\":\"white\",\"minorgridcolor\":\"white\",\"startlinecolor\":\"#2a3f5f\"},\"baxis\":{\"endlinecolor\":\"#2a3f5f\",\"gridcolor\":\"white\",\"linecolor\":\"white\",\"minorgridcolor\":\"white\",\"startlinecolor\":\"#2a3f5f\"},\"type\":\"carpet\"}],\"table\":[{\"cells\":{\"fill\":{\"color\":\"#EBF0F8\"},\"line\":{\"color\":\"white\"}},\"header\":{\"fill\":{\"color\":\"#C8D4E3\"},\"line\":{\"color\":\"white\"}},\"type\":\"table\"}],\"barpolar\":[{\"marker\":{\"line\":{\"color\":\"#E5ECF6\",\"width\":0.5},\"pattern\":{\"fillmode\":\"overlay\",\"size\":10,\"solidity\":0.2}},\"type\":\"barpolar\"}],\"pie\":[{\"automargin\":true,\"type\":\"pie\"}]},\"layout\":{\"autotypenumbers\":\"strict\",\"colorway\":[\"#636efa\",\"#EF553B\",\"#00cc96\",\"#ab63fa\",\"#FFA15A\",\"#19d3f3\",\"#FF6692\",\"#B6E880\",\"#FF97FF\",\"#FECB52\"],\"font\":{\"color\":\"#2a3f5f\"},\"hovermode\":\"closest\",\"hoverlabel\":{\"align\":\"left\"},\"paper_bgcolor\":\"white\",\"plot_bgcolor\":\"#E5ECF6\",\"polar\":{\"bgcolor\":\"#E5ECF6\",\"angularaxis\":{\"gridcolor\":\"white\",\"linecolor\":\"white\",\"ticks\":\"\"},\"radialaxis\":{\"gridcolor\":\"white\",\"linecolor\":\"white\",\"ticks\":\"\"}},\"ternary\":{\"bgcolor\":\"#E5ECF6\",\"aaxis\":{\"gridcolor\":\"white\",\"linecolor\":\"white\",\"ticks\":\"\"},\"baxis\":{\"gridcolor\":\"white\",\"linecolor\":\"white\",\"ticks\":\"\"},\"caxis\":{\"gridcolor\":\"white\",\"linecolor\":\"white\",\"ticks\":\"\"}},\"coloraxis\":{\"colorbar\":{\"outlinewidth\":0,\"ticks\":\"\"}},\"colorscale\":{\"sequential\":[[0.0,\"#0d0887\"],[0.1111111111111111,\"#46039f\"],[0.2222222222222222,\"#7201a8\"],[0.3333333333333333,\"#9c179e\"],[0.4444444444444444,\"#bd3786\"],[0.5555555555555556,\"#d8576b\"],[0.6666666666666666,\"#ed7953\"],[0.7777777777777778,\"#fb9f3a\"],[0.8888888888888888,\"#fdca26\"],[1.0,\"#f0f921\"]],\"sequentialminus\":[[0.0,\"#0d0887\"],[0.1111111111111111,\"#46039f\"],[0.2222222222222222,\"#7201a8\"],[0.3333333333333333,\"#9c179e\"],[0.4444444444444444,\"#bd3786\"],[0.5555555555555556,\"#d8576b\"],[0.6666666666666666,\"#ed7953\"],[0.7777777777777778,\"#fb9f3a\"],[0.8888888888888888,\"#fdca26\"],[1.0,\"#f0f921\"]],\"diverging\":[[0,\"#8e0152\"],[0.1,\"#c51b7d\"],[0.2,\"#de77ae\"],[0.3,\"#f1b6da\"],[0.4,\"#fde0ef\"],[0.5,\"#f7f7f7\"],[0.6,\"#e6f5d0\"],[0.7,\"#b8e186\"],[0.8,\"#7fbc41\"],[0.9,\"#4d9221\"],[1,\"#276419\"]]},\"xaxis\":{\"gridcolor\":\"white\",\"linecolor\":\"white\",\"ticks\":\"\",\"title\":{\"standoff\":15},\"zerolinecolor\":\"white\",\"automargin\":true,\"zerolinewidth\":2},\"yaxis\":{\"gridcolor\":\"white\",\"linecolor\":\"white\",\"ticks\":\"\",\"title\":{\"standoff\":15},\"zerolinecolor\":\"white\",\"automargin\":true,\"zerolinewidth\":2},\"scene\":{\"xaxis\":{\"backgroundcolor\":\"#E5ECF6\",\"gridcolor\":\"white\",\"linecolor\":\"white\",\"showbackground\":true,\"ticks\":\"\",\"zerolinecolor\":\"white\",\"gridwidth\":2},\"yaxis\":{\"backgroundcolor\":\"#E5ECF6\",\"gridcolor\":\"white\",\"linecolor\":\"white\",\"showbackground\":true,\"ticks\":\"\",\"zerolinecolor\":\"white\",\"gridwidth\":2},\"zaxis\":{\"backgroundcolor\":\"#E5ECF6\",\"gridcolor\":\"white\",\"linecolor\":\"white\",\"showbackground\":true,\"ticks\":\"\",\"zerolinecolor\":\"white\",\"gridwidth\":2}},\"shapedefaults\":{\"line\":{\"color\":\"#2a3f5f\"}},\"annotationdefaults\":{\"arrowcolor\":\"#2a3f5f\",\"arrowhead\":0,\"arrowwidth\":1},\"geo\":{\"bgcolor\":\"white\",\"landcolor\":\"#E5ECF6\",\"subunitcolor\":\"white\",\"showland\":true,\"showlakes\":true,\"lakecolor\":\"white\"},\"title\":{\"x\":0.05},\"mapbox\":{\"style\":\"light\"}}},\"xaxis\":{\"anchor\":\"y\",\"domain\":[0.0,1.0],\"title\":{\"text\":\"country\"}},\"yaxis\":{\"anchor\":\"x\",\"domain\":[0.0,1.0],\"title\":{\"text\":\"restaurant_id\"}},\"legend\":{\"tracegroupgap\":0},\"margin\":{\"t\":60},\"barmode\":\"relative\"},                        {\"responsive\": true}                    ).then(function(){\n",
       "                            \n",
       "var gd = document.getElementById('077ee1e2-d9d3-4dbb-8457-5e551b314a9e');\n",
       "var x = new MutationObserver(function (mutations, observer) {{\n",
       "        var display = window.getComputedStyle(gd).display;\n",
       "        if (!display || display === 'none') {{\n",
       "            console.log([gd, 'removed!']);\n",
       "            Plotly.purge(gd);\n",
       "            observer.disconnect();\n",
       "        }}\n",
       "}});\n",
       "\n",
       "// Listen for the removal of the full notebook cells\n",
       "var notebookContainer = gd.closest('#notebook-container');\n",
       "if (notebookContainer) {{\n",
       "    x.observe(notebookContainer, {childList: true});\n",
       "}}\n",
       "\n",
       "// Listen for the clearing of the current output cell\n",
       "var outputEl = gd.closest('.output');\n",
       "if (outputEl) {{\n",
       "    x.observe(outputEl, {childList: true});\n",
       "}}\n",
       "\n",
       "                        })                };                });            </script>        </div>"
      ]
     },
     "metadata": {},
     "output_type": "display_data"
    }
   ],
   "source": [
    "# n° of restaurants by country\n",
    "\n",
    "df_aux = df.loc[:, ['country', 'restaurant_id']].groupby('country').count().sort_values('restaurant_id',ascending=False).reset_index()\n",
    "\n",
    "px.bar(df_aux, x='country', y='restaurant_id')"
   ]
  },
  {
   "cell_type": "code",
   "execution_count": 36,
   "id": "d487b0b4-f68a-4c1d-8c3c-685f84d349d8",
   "metadata": {
    "execution": {
     "iopub.execute_input": "2024-01-12T13:08:16.570074Z",
     "iopub.status.busy": "2024-01-12T13:08:16.568838Z",
     "iopub.status.idle": "2024-01-12T13:08:16.709589Z",
     "shell.execute_reply": "2024-01-12T13:08:16.708488Z",
     "shell.execute_reply.started": "2024-01-12T13:08:16.569997Z"
    }
   },
   "outputs": [
    {
     "data": {
      "application/vnd.plotly.v1+json": {
       "config": {
        "plotlyServerURL": "https://plot.ly"
       },
       "data": [
        {
         "alignmentgroup": "True",
         "bingroup": "x",
         "histfunc": "sum",
         "hovertemplate": "price_range=cheap<br>country=%{x}<br>sum of count (normalized as percent)=%{y}<extra></extra>",
         "legendgroup": "cheap",
         "marker": {
          "color": "green",
          "pattern": {
           "shape": ""
          }
         },
         "name": "cheap",
         "offsetgroup": "cheap",
         "orientation": "v",
         "showlegend": true,
         "type": "histogram",
         "x": [
          "India",
          "Canada",
          "United States of America",
          "England",
          "New Zeland",
          "Brazil",
          "Sri Lanka",
          "United Arab Emirates",
          "Australia",
          "South Africa",
          "Turkey"
         ],
         "xaxis": "x",
         "y": [
          608,
          23,
          165,
          28,
          15,
          15,
          3,
          9,
          5,
          5,
          1
         ],
         "yaxis": "y"
        },
        {
         "alignmentgroup": "True",
         "bingroup": "x",
         "histfunc": "sum",
         "hovertemplate": "price_range=normal<br>country=%{x}<br>sum of count (normalized as percent)=%{y}<extra></extra>",
         "legendgroup": "normal",
         "marker": {
          "color": "yellow",
          "pattern": {
           "shape": ""
          }
         },
         "name": "normal",
         "offsetgroup": "normal",
         "orientation": "v",
         "showlegend": true,
         "type": "histogram",
         "x": [
          "India",
          "Australia",
          "United States of America",
          "Canada",
          "England",
          "Sri Lanka",
          "Turkey",
          "New Zeland",
          "United Arab Emirates",
          "Brazil",
          "Indonesia",
          "South Africa",
          "Singapure",
          "Philippines",
          "Qatar"
         ],
         "xaxis": "x",
         "y": [
          1398,
          70,
          471,
          58,
          128,
          22,
          31,
          45,
          39,
          26,
          7,
          29,
          5,
          4,
          3
         ],
         "yaxis": "y"
        },
        {
         "alignmentgroup": "True",
         "bingroup": "x",
         "histfunc": "sum",
         "hovertemplate": "price_range=expensive<br>country=%{x}<br>sum of count (normalized as percent)=%{y}<extra></extra>",
         "legendgroup": "expensive",
         "marker": {
          "color": "orangered",
          "pattern": {
           "shape": ""
          }
         },
         "name": "expensive",
         "offsetgroup": "expensive",
         "orientation": "v",
         "showlegend": true,
         "type": "histogram",
         "x": [
          "Indonesia",
          "Philippines",
          "United Arab Emirates",
          "Sri Lanka",
          "Turkey",
          "New Zeland",
          "England",
          "Australia",
          "Qatar",
          "India",
          "South Africa",
          "Canada",
          "United States of America",
          "Brazil",
          "Singapure"
         ],
         "xaxis": "x",
         "y": [
          56,
          53,
          150,
          39,
          68,
          100,
          165,
          72,
          27,
          910,
          91,
          45,
          323,
          51,
          17
         ],
         "yaxis": "y"
        },
        {
         "alignmentgroup": "True",
         "bingroup": "x",
         "histfunc": "sum",
         "hovertemplate": "price_range=gourmet<br>country=%{x}<br>sum of count (normalized as percent)=%{y}<extra></extra>",
         "legendgroup": "gourmet",
         "marker": {
          "color": "red",
          "pattern": {
           "shape": ""
          }
         },
         "name": "gourmet",
         "offsetgroup": "gourmet",
         "orientation": "v",
         "showlegend": true,
         "type": "histogram",
         "x": [
          "Singapure",
          "South Africa",
          "Qatar",
          "Brazil",
          "Turkey",
          "United Arab Emirates",
          "New Zeland",
          "United States of America",
          "Canada",
          "Philippines",
          "Indonesia",
          "Sri Lanka",
          "England",
          "Australia",
          "India"
         ],
         "xaxis": "x",
         "y": [
          58,
          221,
          50,
          148,
          59,
          102,
          79,
          415,
          54,
          23,
          17,
          16,
          79,
          33,
          195
         ],
         "yaxis": "y"
        }
       ],
       "layout": {
        "autosize": true,
        "barmode": "relative",
        "barnorm": "percent",
        "legend": {
         "title": {
          "text": "price_range"
         },
         "tracegroupgap": 0
        },
        "margin": {
         "t": 60
        },
        "template": {
         "data": {
          "bar": [
           {
            "error_x": {
             "color": "#2a3f5f"
            },
            "error_y": {
             "color": "#2a3f5f"
            },
            "marker": {
             "line": {
              "color": "#E5ECF6",
              "width": 0.5
             },
             "pattern": {
              "fillmode": "overlay",
              "size": 10,
              "solidity": 0.2
             }
            },
            "type": "bar"
           }
          ],
          "barpolar": [
           {
            "marker": {
             "line": {
              "color": "#E5ECF6",
              "width": 0.5
             },
             "pattern": {
              "fillmode": "overlay",
              "size": 10,
              "solidity": 0.2
             }
            },
            "type": "barpolar"
           }
          ],
          "carpet": [
           {
            "aaxis": {
             "endlinecolor": "#2a3f5f",
             "gridcolor": "white",
             "linecolor": "white",
             "minorgridcolor": "white",
             "startlinecolor": "#2a3f5f"
            },
            "baxis": {
             "endlinecolor": "#2a3f5f",
             "gridcolor": "white",
             "linecolor": "white",
             "minorgridcolor": "white",
             "startlinecolor": "#2a3f5f"
            },
            "type": "carpet"
           }
          ],
          "choropleth": [
           {
            "colorbar": {
             "outlinewidth": 0,
             "ticks": ""
            },
            "type": "choropleth"
           }
          ],
          "contour": [
           {
            "colorbar": {
             "outlinewidth": 0,
             "ticks": ""
            },
            "colorscale": [
             [
              0,
              "#0d0887"
             ],
             [
              0.1111111111111111,
              "#46039f"
             ],
             [
              0.2222222222222222,
              "#7201a8"
             ],
             [
              0.3333333333333333,
              "#9c179e"
             ],
             [
              0.4444444444444444,
              "#bd3786"
             ],
             [
              0.5555555555555556,
              "#d8576b"
             ],
             [
              0.6666666666666666,
              "#ed7953"
             ],
             [
              0.7777777777777778,
              "#fb9f3a"
             ],
             [
              0.8888888888888888,
              "#fdca26"
             ],
             [
              1,
              "#f0f921"
             ]
            ],
            "type": "contour"
           }
          ],
          "contourcarpet": [
           {
            "colorbar": {
             "outlinewidth": 0,
             "ticks": ""
            },
            "type": "contourcarpet"
           }
          ],
          "heatmap": [
           {
            "colorbar": {
             "outlinewidth": 0,
             "ticks": ""
            },
            "colorscale": [
             [
              0,
              "#0d0887"
             ],
             [
              0.1111111111111111,
              "#46039f"
             ],
             [
              0.2222222222222222,
              "#7201a8"
             ],
             [
              0.3333333333333333,
              "#9c179e"
             ],
             [
              0.4444444444444444,
              "#bd3786"
             ],
             [
              0.5555555555555556,
              "#d8576b"
             ],
             [
              0.6666666666666666,
              "#ed7953"
             ],
             [
              0.7777777777777778,
              "#fb9f3a"
             ],
             [
              0.8888888888888888,
              "#fdca26"
             ],
             [
              1,
              "#f0f921"
             ]
            ],
            "type": "heatmap"
           }
          ],
          "heatmapgl": [
           {
            "colorbar": {
             "outlinewidth": 0,
             "ticks": ""
            },
            "colorscale": [
             [
              0,
              "#0d0887"
             ],
             [
              0.1111111111111111,
              "#46039f"
             ],
             [
              0.2222222222222222,
              "#7201a8"
             ],
             [
              0.3333333333333333,
              "#9c179e"
             ],
             [
              0.4444444444444444,
              "#bd3786"
             ],
             [
              0.5555555555555556,
              "#d8576b"
             ],
             [
              0.6666666666666666,
              "#ed7953"
             ],
             [
              0.7777777777777778,
              "#fb9f3a"
             ],
             [
              0.8888888888888888,
              "#fdca26"
             ],
             [
              1,
              "#f0f921"
             ]
            ],
            "type": "heatmapgl"
           }
          ],
          "histogram": [
           {
            "marker": {
             "pattern": {
              "fillmode": "overlay",
              "size": 10,
              "solidity": 0.2
             }
            },
            "type": "histogram"
           }
          ],
          "histogram2d": [
           {
            "colorbar": {
             "outlinewidth": 0,
             "ticks": ""
            },
            "colorscale": [
             [
              0,
              "#0d0887"
             ],
             [
              0.1111111111111111,
              "#46039f"
             ],
             [
              0.2222222222222222,
              "#7201a8"
             ],
             [
              0.3333333333333333,
              "#9c179e"
             ],
             [
              0.4444444444444444,
              "#bd3786"
             ],
             [
              0.5555555555555556,
              "#d8576b"
             ],
             [
              0.6666666666666666,
              "#ed7953"
             ],
             [
              0.7777777777777778,
              "#fb9f3a"
             ],
             [
              0.8888888888888888,
              "#fdca26"
             ],
             [
              1,
              "#f0f921"
             ]
            ],
            "type": "histogram2d"
           }
          ],
          "histogram2dcontour": [
           {
            "colorbar": {
             "outlinewidth": 0,
             "ticks": ""
            },
            "colorscale": [
             [
              0,
              "#0d0887"
             ],
             [
              0.1111111111111111,
              "#46039f"
             ],
             [
              0.2222222222222222,
              "#7201a8"
             ],
             [
              0.3333333333333333,
              "#9c179e"
             ],
             [
              0.4444444444444444,
              "#bd3786"
             ],
             [
              0.5555555555555556,
              "#d8576b"
             ],
             [
              0.6666666666666666,
              "#ed7953"
             ],
             [
              0.7777777777777778,
              "#fb9f3a"
             ],
             [
              0.8888888888888888,
              "#fdca26"
             ],
             [
              1,
              "#f0f921"
             ]
            ],
            "type": "histogram2dcontour"
           }
          ],
          "mesh3d": [
           {
            "colorbar": {
             "outlinewidth": 0,
             "ticks": ""
            },
            "type": "mesh3d"
           }
          ],
          "parcoords": [
           {
            "line": {
             "colorbar": {
              "outlinewidth": 0,
              "ticks": ""
             }
            },
            "type": "parcoords"
           }
          ],
          "pie": [
           {
            "automargin": true,
            "type": "pie"
           }
          ],
          "scatter": [
           {
            "fillpattern": {
             "fillmode": "overlay",
             "size": 10,
             "solidity": 0.2
            },
            "type": "scatter"
           }
          ],
          "scatter3d": [
           {
            "line": {
             "colorbar": {
              "outlinewidth": 0,
              "ticks": ""
             }
            },
            "marker": {
             "colorbar": {
              "outlinewidth": 0,
              "ticks": ""
             }
            },
            "type": "scatter3d"
           }
          ],
          "scattercarpet": [
           {
            "marker": {
             "colorbar": {
              "outlinewidth": 0,
              "ticks": ""
             }
            },
            "type": "scattercarpet"
           }
          ],
          "scattergeo": [
           {
            "marker": {
             "colorbar": {
              "outlinewidth": 0,
              "ticks": ""
             }
            },
            "type": "scattergeo"
           }
          ],
          "scattergl": [
           {
            "marker": {
             "colorbar": {
              "outlinewidth": 0,
              "ticks": ""
             }
            },
            "type": "scattergl"
           }
          ],
          "scattermapbox": [
           {
            "marker": {
             "colorbar": {
              "outlinewidth": 0,
              "ticks": ""
             }
            },
            "type": "scattermapbox"
           }
          ],
          "scatterpolar": [
           {
            "marker": {
             "colorbar": {
              "outlinewidth": 0,
              "ticks": ""
             }
            },
            "type": "scatterpolar"
           }
          ],
          "scatterpolargl": [
           {
            "marker": {
             "colorbar": {
              "outlinewidth": 0,
              "ticks": ""
             }
            },
            "type": "scatterpolargl"
           }
          ],
          "scatterternary": [
           {
            "marker": {
             "colorbar": {
              "outlinewidth": 0,
              "ticks": ""
             }
            },
            "type": "scatterternary"
           }
          ],
          "surface": [
           {
            "colorbar": {
             "outlinewidth": 0,
             "ticks": ""
            },
            "colorscale": [
             [
              0,
              "#0d0887"
             ],
             [
              0.1111111111111111,
              "#46039f"
             ],
             [
              0.2222222222222222,
              "#7201a8"
             ],
             [
              0.3333333333333333,
              "#9c179e"
             ],
             [
              0.4444444444444444,
              "#bd3786"
             ],
             [
              0.5555555555555556,
              "#d8576b"
             ],
             [
              0.6666666666666666,
              "#ed7953"
             ],
             [
              0.7777777777777778,
              "#fb9f3a"
             ],
             [
              0.8888888888888888,
              "#fdca26"
             ],
             [
              1,
              "#f0f921"
             ]
            ],
            "type": "surface"
           }
          ],
          "table": [
           {
            "cells": {
             "fill": {
              "color": "#EBF0F8"
             },
             "line": {
              "color": "white"
             }
            },
            "header": {
             "fill": {
              "color": "#C8D4E3"
             },
             "line": {
              "color": "white"
             }
            },
            "type": "table"
           }
          ]
         },
         "layout": {
          "annotationdefaults": {
           "arrowcolor": "#2a3f5f",
           "arrowhead": 0,
           "arrowwidth": 1
          },
          "autotypenumbers": "strict",
          "coloraxis": {
           "colorbar": {
            "outlinewidth": 0,
            "ticks": ""
           }
          },
          "colorscale": {
           "diverging": [
            [
             0,
             "#8e0152"
            ],
            [
             0.1,
             "#c51b7d"
            ],
            [
             0.2,
             "#de77ae"
            ],
            [
             0.3,
             "#f1b6da"
            ],
            [
             0.4,
             "#fde0ef"
            ],
            [
             0.5,
             "#f7f7f7"
            ],
            [
             0.6,
             "#e6f5d0"
            ],
            [
             0.7,
             "#b8e186"
            ],
            [
             0.8,
             "#7fbc41"
            ],
            [
             0.9,
             "#4d9221"
            ],
            [
             1,
             "#276419"
            ]
           ],
           "sequential": [
            [
             0,
             "#0d0887"
            ],
            [
             0.1111111111111111,
             "#46039f"
            ],
            [
             0.2222222222222222,
             "#7201a8"
            ],
            [
             0.3333333333333333,
             "#9c179e"
            ],
            [
             0.4444444444444444,
             "#bd3786"
            ],
            [
             0.5555555555555556,
             "#d8576b"
            ],
            [
             0.6666666666666666,
             "#ed7953"
            ],
            [
             0.7777777777777778,
             "#fb9f3a"
            ],
            [
             0.8888888888888888,
             "#fdca26"
            ],
            [
             1,
             "#f0f921"
            ]
           ],
           "sequentialminus": [
            [
             0,
             "#0d0887"
            ],
            [
             0.1111111111111111,
             "#46039f"
            ],
            [
             0.2222222222222222,
             "#7201a8"
            ],
            [
             0.3333333333333333,
             "#9c179e"
            ],
            [
             0.4444444444444444,
             "#bd3786"
            ],
            [
             0.5555555555555556,
             "#d8576b"
            ],
            [
             0.6666666666666666,
             "#ed7953"
            ],
            [
             0.7777777777777778,
             "#fb9f3a"
            ],
            [
             0.8888888888888888,
             "#fdca26"
            ],
            [
             1,
             "#f0f921"
            ]
           ]
          },
          "colorway": [
           "#636efa",
           "#EF553B",
           "#00cc96",
           "#ab63fa",
           "#FFA15A",
           "#19d3f3",
           "#FF6692",
           "#B6E880",
           "#FF97FF",
           "#FECB52"
          ],
          "font": {
           "color": "#2a3f5f"
          },
          "geo": {
           "bgcolor": "white",
           "lakecolor": "white",
           "landcolor": "#E5ECF6",
           "showlakes": true,
           "showland": true,
           "subunitcolor": "white"
          },
          "hoverlabel": {
           "align": "left"
          },
          "hovermode": "closest",
          "mapbox": {
           "style": "light"
          },
          "paper_bgcolor": "white",
          "plot_bgcolor": "#E5ECF6",
          "polar": {
           "angularaxis": {
            "gridcolor": "white",
            "linecolor": "white",
            "ticks": ""
           },
           "bgcolor": "#E5ECF6",
           "radialaxis": {
            "gridcolor": "white",
            "linecolor": "white",
            "ticks": ""
           }
          },
          "scene": {
           "xaxis": {
            "backgroundcolor": "#E5ECF6",
            "gridcolor": "white",
            "gridwidth": 2,
            "linecolor": "white",
            "showbackground": true,
            "ticks": "",
            "zerolinecolor": "white"
           },
           "yaxis": {
            "backgroundcolor": "#E5ECF6",
            "gridcolor": "white",
            "gridwidth": 2,
            "linecolor": "white",
            "showbackground": true,
            "ticks": "",
            "zerolinecolor": "white"
           },
           "zaxis": {
            "backgroundcolor": "#E5ECF6",
            "gridcolor": "white",
            "gridwidth": 2,
            "linecolor": "white",
            "showbackground": true,
            "ticks": "",
            "zerolinecolor": "white"
           }
          },
          "shapedefaults": {
           "line": {
            "color": "#2a3f5f"
           }
          },
          "ternary": {
           "aaxis": {
            "gridcolor": "white",
            "linecolor": "white",
            "ticks": ""
           },
           "baxis": {
            "gridcolor": "white",
            "linecolor": "white",
            "ticks": ""
           },
           "bgcolor": "#E5ECF6",
           "caxis": {
            "gridcolor": "white",
            "linecolor": "white",
            "ticks": ""
           }
          },
          "title": {
           "x": 0.05
          },
          "xaxis": {
           "automargin": true,
           "gridcolor": "white",
           "linecolor": "white",
           "ticks": "",
           "title": {
            "standoff": 15
           },
           "zerolinecolor": "white",
           "zerolinewidth": 2
          },
          "yaxis": {
           "automargin": true,
           "gridcolor": "white",
           "linecolor": "white",
           "ticks": "",
           "title": {
            "standoff": 15
           },
           "zerolinecolor": "white",
           "zerolinewidth": 2
          }
         }
        },
        "xaxis": {
         "anchor": "y",
         "autorange": true,
         "categoryarray": [
          "Singapure",
          "South Africa",
          "Qatar",
          "Brazil",
          "Turkey",
          "United Arab Emirates",
          "New Zeland",
          "United States of America",
          "Canada",
          "Philippines",
          "Indonesia",
          "Sri Lanka",
          "England",
          "Australia",
          "India"
         ],
         "categoryorder": "array",
         "domain": [
          0,
          1
         ],
         "range": [
          -0.5,
          14.5
         ],
         "title": {
          "text": "country"
         },
         "type": "category"
        },
        "yaxis": {
         "anchor": "x",
         "autorange": true,
         "domain": [
          0,
          1
         ],
         "range": [
          0,
          105.26315789473684
         ],
         "title": {
          "text": "sum of count (normalized as percent)"
         },
         "type": "linear"
        }
       }
      },
      "image/png": "[encoded data removed]",
      "text/html": [
       "<div>                            <div id=\"22db663f-5895-47a4-ae67-cfadf9a82f9e\" class=\"plotly-graph-div\" style=\"height:525px; width:100%;\"></div>            <script type=\"text/javascript\">                require([\"plotly\"], function(Plotly) {                    window.PLOTLYENV=window.PLOTLYENV || {};                                    if (document.getElementById(\"22db663f-5895-47a4-ae67-cfadf9a82f9e\")) {                    Plotly.newPlot(                        \"22db663f-5895-47a4-ae67-cfadf9a82f9e\",                        [{\"alignmentgroup\":\"True\",\"bingroup\":\"x\",\"histfunc\":\"sum\",\"hovertemplate\":\"price_range=cheap\\u003cbr\\u003ecountry=%{x}\\u003cbr\\u003esum of count (normalized as percent)=%{y}\\u003cextra\\u003e\\u003c\\u002fextra\\u003e\",\"legendgroup\":\"cheap\",\"marker\":{\"color\":\"green\",\"pattern\":{\"shape\":\"\"}},\"name\":\"cheap\",\"offsetgroup\":\"cheap\",\"orientation\":\"v\",\"showlegend\":true,\"x\":[\"India\",\"Canada\",\"United States of America\",\"England\",\"New Zeland\",\"Brazil\",\"Sri Lanka\",\"United Arab Emirates\",\"Australia\",\"South Africa\",\"Turkey\"],\"xaxis\":\"x\",\"y\":[608,23,165,28,15,15,3,9,5,5,1],\"yaxis\":\"y\",\"type\":\"histogram\"},{\"alignmentgroup\":\"True\",\"bingroup\":\"x\",\"histfunc\":\"sum\",\"hovertemplate\":\"price_range=normal\\u003cbr\\u003ecountry=%{x}\\u003cbr\\u003esum of count (normalized as percent)=%{y}\\u003cextra\\u003e\\u003c\\u002fextra\\u003e\",\"legendgroup\":\"normal\",\"marker\":{\"color\":\"yellow\",\"pattern\":{\"shape\":\"\"}},\"name\":\"normal\",\"offsetgroup\":\"normal\",\"orientation\":\"v\",\"showlegend\":true,\"x\":[\"India\",\"Australia\",\"United States of America\",\"Canada\",\"England\",\"Sri Lanka\",\"Turkey\",\"New Zeland\",\"United Arab Emirates\",\"Brazil\",\"Indonesia\",\"South Africa\",\"Singapure\",\"Philippines\",\"Qatar\"],\"xaxis\":\"x\",\"y\":[1398,70,471,58,128,22,31,45,39,26,7,29,5,4,3],\"yaxis\":\"y\",\"type\":\"histogram\"},{\"alignmentgroup\":\"True\",\"bingroup\":\"x\",\"histfunc\":\"sum\",\"hovertemplate\":\"price_range=expensive\\u003cbr\\u003ecountry=%{x}\\u003cbr\\u003esum of count (normalized as percent)=%{y}\\u003cextra\\u003e\\u003c\\u002fextra\\u003e\",\"legendgroup\":\"expensive\",\"marker\":{\"color\":\"orangered\",\"pattern\":{\"shape\":\"\"}},\"name\":\"expensive\",\"offsetgroup\":\"expensive\",\"orientation\":\"v\",\"showlegend\":true,\"x\":[\"Indonesia\",\"Philippines\",\"United Arab Emirates\",\"Sri Lanka\",\"Turkey\",\"New Zeland\",\"England\",\"Australia\",\"Qatar\",\"India\",\"South Africa\",\"Canada\",\"United States of America\",\"Brazil\",\"Singapure\"],\"xaxis\":\"x\",\"y\":[56,53,150,39,68,100,165,72,27,910,91,45,323,51,17],\"yaxis\":\"y\",\"type\":\"histogram\"},{\"alignmentgroup\":\"True\",\"bingroup\":\"x\",\"histfunc\":\"sum\",\"hovertemplate\":\"price_range=gourmet\\u003cbr\\u003ecountry=%{x}\\u003cbr\\u003esum of count (normalized as percent)=%{y}\\u003cextra\\u003e\\u003c\\u002fextra\\u003e\",\"legendgroup\":\"gourmet\",\"marker\":{\"color\":\"red\",\"pattern\":{\"shape\":\"\"}},\"name\":\"gourmet\",\"offsetgroup\":\"gourmet\",\"orientation\":\"v\",\"showlegend\":true,\"x\":[\"Singapure\",\"South Africa\",\"Qatar\",\"Brazil\",\"Turkey\",\"United Arab Emirates\",\"New Zeland\",\"United States of America\",\"Canada\",\"Philippines\",\"Indonesia\",\"Sri Lanka\",\"England\",\"Australia\",\"India\"],\"xaxis\":\"x\",\"y\":[58,221,50,148,59,102,79,415,54,23,17,16,79,33,195],\"yaxis\":\"y\",\"type\":\"histogram\"}],                        {\"template\":{\"data\":{\"histogram2dcontour\":[{\"type\":\"histogram2dcontour\",\"colorbar\":{\"outlinewidth\":0,\"ticks\":\"\"},\"colorscale\":[[0.0,\"#0d0887\"],[0.1111111111111111,\"#46039f\"],[0.2222222222222222,\"#7201a8\"],[0.3333333333333333,\"#9c179e\"],[0.4444444444444444,\"#bd3786\"],[0.5555555555555556,\"#d8576b\"],[0.6666666666666666,\"#ed7953\"],[0.7777777777777778,\"#fb9f3a\"],[0.8888888888888888,\"#fdca26\"],[1.0,\"#f0f921\"]]}],\"choropleth\":[{\"type\":\"choropleth\",\"colorbar\":{\"outlinewidth\":0,\"ticks\":\"\"}}],\"histogram2d\":[{\"type\":\"histogram2d\",\"colorbar\":{\"outlinewidth\":0,\"ticks\":\"\"},\"colorscale\":[[0.0,\"#0d0887\"],[0.1111111111111111,\"#46039f\"],[0.2222222222222222,\"#7201a8\"],[0.3333333333333333,\"#9c179e\"],[0.4444444444444444,\"#bd3786\"],[0.5555555555555556,\"#d8576b\"],[0.6666666666666666,\"#ed7953\"],[0.7777777777777778,\"#fb9f3a\"],[0.8888888888888888,\"#fdca26\"],[1.0,\"#f0f921\"]]}],\"heatmap\":[{\"type\":\"heatmap\",\"colorbar\":{\"outlinewidth\":0,\"ticks\":\"\"},\"colorscale\":[[0.0,\"#0d0887\"],[0.1111111111111111,\"#46039f\"],[0.2222222222222222,\"#7201a8\"],[0.3333333333333333,\"#9c179e\"],[0.4444444444444444,\"#bd3786\"],[0.5555555555555556,\"#d8576b\"],[0.6666666666666666,\"#ed7953\"],[0.7777777777777778,\"#fb9f3a\"],[0.8888888888888888,\"#fdca26\"],[1.0,\"#f0f921\"]]}],\"heatmapgl\":[{\"type\":\"heatmapgl\",\"colorbar\":{\"outlinewidth\":0,\"ticks\":\"\"},\"colorscale\":[[0.0,\"#0d0887\"],[0.1111111111111111,\"#46039f\"],[0.2222222222222222,\"#7201a8\"],[0.3333333333333333,\"#9c179e\"],[0.4444444444444444,\"#bd3786\"],[0.5555555555555556,\"#d8576b\"],[0.6666666666666666,\"#ed7953\"],[0.7777777777777778,\"#fb9f3a\"],[0.8888888888888888,\"#fdca26\"],[1.0,\"#f0f921\"]]}],\"contourcarpet\":[{\"type\":\"contourcarpet\",\"colorbar\":{\"outlinewidth\":0,\"ticks\":\"\"}}],\"contour\":[{\"type\":\"contour\",\"colorbar\":{\"outlinewidth\":0,\"ticks\":\"\"},\"colorscale\":[[0.0,\"#0d0887\"],[0.1111111111111111,\"#46039f\"],[0.2222222222222222,\"#7201a8\"],[0.3333333333333333,\"#9c179e\"],[0.4444444444444444,\"#bd3786\"],[0.5555555555555556,\"#d8576b\"],[0.6666666666666666,\"#ed7953\"],[0.7777777777777778,\"#fb9f3a\"],[0.8888888888888888,\"#fdca26\"],[1.0,\"#f0f921\"]]}],\"surface\":[{\"type\":\"surface\",\"colorbar\":{\"outlinewidth\":0,\"ticks\":\"\"},\"colorscale\":[[0.0,\"#0d0887\"],[0.1111111111111111,\"#46039f\"],[0.2222222222222222,\"#7201a8\"],[0.3333333333333333,\"#9c179e\"],[0.4444444444444444,\"#bd3786\"],[0.5555555555555556,\"#d8576b\"],[0.6666666666666666,\"#ed7953\"],[0.7777777777777778,\"#fb9f3a\"],[0.8888888888888888,\"#fdca26\"],[1.0,\"#f0f921\"]]}],\"mesh3d\":[{\"type\":\"mesh3d\",\"colorbar\":{\"outlinewidth\":0,\"ticks\":\"\"}}],\"scatter\":[{\"fillpattern\":{\"fillmode\":\"overlay\",\"size\":10,\"solidity\":0.2},\"type\":\"scatter\"}],\"parcoords\":[{\"type\":\"parcoords\",\"line\":{\"colorbar\":{\"outlinewidth\":0,\"ticks\":\"\"}}}],\"scatterpolargl\":[{\"type\":\"scatterpolargl\",\"marker\":{\"colorbar\":{\"outlinewidth\":0,\"ticks\":\"\"}}}],\"bar\":[{\"error_x\":{\"color\":\"#2a3f5f\"},\"error_y\":{\"color\":\"#2a3f5f\"},\"marker\":{\"line\":{\"color\":\"#E5ECF6\",\"width\":0.5},\"pattern\":{\"fillmode\":\"overlay\",\"size\":10,\"solidity\":0.2}},\"type\":\"bar\"}],\"scattergeo\":[{\"type\":\"scattergeo\",\"marker\":{\"colorbar\":{\"outlinewidth\":0,\"ticks\":\"\"}}}],\"scatterpolar\":[{\"type\":\"scatterpolar\",\"marker\":{\"colorbar\":{\"outlinewidth\":0,\"ticks\":\"\"}}}],\"histogram\":[{\"marker\":{\"pattern\":{\"fillmode\":\"overlay\",\"size\":10,\"solidity\":0.2}},\"type\":\"histogram\"}],\"scattergl\":[{\"type\":\"scattergl\",\"marker\":{\"colorbar\":{\"outlinewidth\":0,\"ticks\":\"\"}}}],\"scatter3d\":[{\"type\":\"scatter3d\",\"line\":{\"colorbar\":{\"outlinewidth\":0,\"ticks\":\"\"}},\"marker\":{\"colorbar\":{\"outlinewidth\":0,\"ticks\":\"\"}}}],\"scattermapbox\":[{\"type\":\"scattermapbox\",\"marker\":{\"colorbar\":{\"outlinewidth\":0,\"ticks\":\"\"}}}],\"scatterternary\":[{\"type\":\"scatterternary\",\"marker\":{\"colorbar\":{\"outlinewidth\":0,\"ticks\":\"\"}}}],\"scattercarpet\":[{\"type\":\"scattercarpet\",\"marker\":{\"colorbar\":{\"outlinewidth\":0,\"ticks\":\"\"}}}],\"carpet\":[{\"aaxis\":{\"endlinecolor\":\"#2a3f5f\",\"gridcolor\":\"white\",\"linecolor\":\"white\",\"minorgridcolor\":\"white\",\"startlinecolor\":\"#2a3f5f\"},\"baxis\":{\"endlinecolor\":\"#2a3f5f\",\"gridcolor\":\"white\",\"linecolor\":\"white\",\"minorgridcolor\":\"white\",\"startlinecolor\":\"#2a3f5f\"},\"type\":\"carpet\"}],\"table\":[{\"cells\":{\"fill\":{\"color\":\"#EBF0F8\"},\"line\":{\"color\":\"white\"}},\"header\":{\"fill\":{\"color\":\"#C8D4E3\"},\"line\":{\"color\":\"white\"}},\"type\":\"table\"}],\"barpolar\":[{\"marker\":{\"line\":{\"color\":\"#E5ECF6\",\"width\":0.5},\"pattern\":{\"fillmode\":\"overlay\",\"size\":10,\"solidity\":0.2}},\"type\":\"barpolar\"}],\"pie\":[{\"automargin\":true,\"type\":\"pie\"}]},\"layout\":{\"autotypenumbers\":\"strict\",\"colorway\":[\"#636efa\",\"#EF553B\",\"#00cc96\",\"#ab63fa\",\"#FFA15A\",\"#19d3f3\",\"#FF6692\",\"#B6E880\",\"#FF97FF\",\"#FECB52\"],\"font\":{\"color\":\"#2a3f5f\"},\"hovermode\":\"closest\",\"hoverlabel\":{\"align\":\"left\"},\"paper_bgcolor\":\"white\",\"plot_bgcolor\":\"#E5ECF6\",\"polar\":{\"bgcolor\":\"#E5ECF6\",\"angularaxis\":{\"gridcolor\":\"white\",\"linecolor\":\"white\",\"ticks\":\"\"},\"radialaxis\":{\"gridcolor\":\"white\",\"linecolor\":\"white\",\"ticks\":\"\"}},\"ternary\":{\"bgcolor\":\"#E5ECF6\",\"aaxis\":{\"gridcolor\":\"white\",\"linecolor\":\"white\",\"ticks\":\"\"},\"baxis\":{\"gridcolor\":\"white\",\"linecolor\":\"white\",\"ticks\":\"\"},\"caxis\":{\"gridcolor\":\"white\",\"linecolor\":\"white\",\"ticks\":\"\"}},\"coloraxis\":{\"colorbar\":{\"outlinewidth\":0,\"ticks\":\"\"}},\"colorscale\":{\"sequential\":[[0.0,\"#0d0887\"],[0.1111111111111111,\"#46039f\"],[0.2222222222222222,\"#7201a8\"],[0.3333333333333333,\"#9c179e\"],[0.4444444444444444,\"#bd3786\"],[0.5555555555555556,\"#d8576b\"],[0.6666666666666666,\"#ed7953\"],[0.7777777777777778,\"#fb9f3a\"],[0.8888888888888888,\"#fdca26\"],[1.0,\"#f0f921\"]],\"sequentialminus\":[[0.0,\"#0d0887\"],[0.1111111111111111,\"#46039f\"],[0.2222222222222222,\"#7201a8\"],[0.3333333333333333,\"#9c179e\"],[0.4444444444444444,\"#bd3786\"],[0.5555555555555556,\"#d8576b\"],[0.6666666666666666,\"#ed7953\"],[0.7777777777777778,\"#fb9f3a\"],[0.8888888888888888,\"#fdca26\"],[1.0,\"#f0f921\"]],\"diverging\":[[0,\"#8e0152\"],[0.1,\"#c51b7d\"],[0.2,\"#de77ae\"],[0.3,\"#f1b6da\"],[0.4,\"#fde0ef\"],[0.5,\"#f7f7f7\"],[0.6,\"#e6f5d0\"],[0.7,\"#b8e186\"],[0.8,\"#7fbc41\"],[0.9,\"#4d9221\"],[1,\"#276419\"]]},\"xaxis\":{\"gridcolor\":\"white\",\"linecolor\":\"white\",\"ticks\":\"\",\"title\":{\"standoff\":15},\"zerolinecolor\":\"white\",\"automargin\":true,\"zerolinewidth\":2},\"yaxis\":{\"gridcolor\":\"white\",\"linecolor\":\"white\",\"ticks\":\"\",\"title\":{\"standoff\":15},\"zerolinecolor\":\"white\",\"automargin\":true,\"zerolinewidth\":2},\"scene\":{\"xaxis\":{\"backgroundcolor\":\"#E5ECF6\",\"gridcolor\":\"white\",\"linecolor\":\"white\",\"showbackground\":true,\"ticks\":\"\",\"zerolinecolor\":\"white\",\"gridwidth\":2},\"yaxis\":{\"backgroundcolor\":\"#E5ECF6\",\"gridcolor\":\"white\",\"linecolor\":\"white\",\"showbackground\":true,\"ticks\":\"\",\"zerolinecolor\":\"white\",\"gridwidth\":2},\"zaxis\":{\"backgroundcolor\":\"#E5ECF6\",\"gridcolor\":\"white\",\"linecolor\":\"white\",\"showbackground\":true,\"ticks\":\"\",\"zerolinecolor\":\"white\",\"gridwidth\":2}},\"shapedefaults\":{\"line\":{\"color\":\"#2a3f5f\"}},\"annotationdefaults\":{\"arrowcolor\":\"#2a3f5f\",\"arrowhead\":0,\"arrowwidth\":1},\"geo\":{\"bgcolor\":\"white\",\"landcolor\":\"#E5ECF6\",\"subunitcolor\":\"white\",\"showland\":true,\"showlakes\":true,\"lakecolor\":\"white\"},\"title\":{\"x\":0.05},\"mapbox\":{\"style\":\"light\"}}},\"xaxis\":{\"anchor\":\"y\",\"domain\":[0.0,1.0],\"title\":{\"text\":\"country\"},\"categoryorder\":\"array\",\"categoryarray\":[\"Singapure\",\"South Africa\",\"Qatar\",\"Brazil\",\"Turkey\",\"United Arab Emirates\",\"New Zeland\",\"United States of America\",\"Canada\",\"Philippines\",\"Indonesia\",\"Sri Lanka\",\"England\",\"Australia\",\"India\"]},\"yaxis\":{\"anchor\":\"x\",\"domain\":[0.0,1.0],\"title\":{\"text\":\"sum of count (normalized as percent)\"}},\"legend\":{\"title\":{\"text\":\"price_range\"},\"tracegroupgap\":0},\"margin\":{\"t\":60},\"barmode\":\"relative\",\"barnorm\":\"percent\"},                        {\"responsive\": true}                    ).then(function(){\n",
       "                            \n",
       "var gd = document.getElementById('22db663f-5895-47a4-ae67-cfadf9a82f9e');\n",
       "var x = new MutationObserver(function (mutations, observer) {{\n",
       "        var display = window.getComputedStyle(gd).display;\n",
       "        if (!display || display === 'none') {{\n",
       "            console.log([gd, 'removed!']);\n",
       "            Plotly.purge(gd);\n",
       "            observer.disconnect();\n",
       "        }}\n",
       "}});\n",
       "\n",
       "// Listen for the removal of the full notebook cells\n",
       "var notebookContainer = gd.closest('#notebook-container');\n",
       "if (notebookContainer) {{\n",
       "    x.observe(notebookContainer, {childList: true});\n",
       "}}\n",
       "\n",
       "// Listen for the clearing of the current output cell\n",
       "var outputEl = gd.closest('.output');\n",
       "if (outputEl) {{\n",
       "    x.observe(outputEl, {childList: true});\n",
       "}}\n",
       "\n",
       "                        })                };                });            </script>        </div>"
      ]
     },
     "metadata": {},
     "output_type": "display_data"
    }
   ],
   "source": [
    "# price range by country\n",
    "\n",
    "df_aux = df.loc[:, ['country', 'price_range']].groupby('country').value_counts().sort_values(ascending=False).reset_index()\n",
    "df_aux['percentage'] = df_aux.groupby('country')['count'].transform(lambda x: x / x.sum() * 100)\n",
    "df_aux = df_aux.sort_values(by=['percentage'], ascending=False)\n",
    "\n",
    "ordered_countries = df_aux[df_aux['price_range'] == 'gourmet']['country'].tolist()\n",
    "category_order = ['cheap', 'normal', 'expensive', 'gourmet']\n",
    "color_mapping = {'cheap': 'green', 'normal': 'yellow', 'expensive': 'orangered', 'gourmet': 'red'}\n",
    "\n",
    "fig=px.histogram(df_aux, x='country', y='count', hover_data='price_range', color=\"price_range\",\n",
    "                                             barnorm='percent',\n",
    "                                             category_orders={'price_range': category_order},\n",
    "                                             color_discrete_map=color_mapping)\n",
    "fig.update_xaxes(categoryorder='array', categoryarray=ordered_countries)\n",
    "\n",
    "# df_aux"
   ]
  },
  {
   "cell_type": "code",
   "execution_count": 17,
   "id": "9e6e65b2-ebff-4af4-ae84-97dd8e475cae",
   "metadata": {
    "execution": {
     "iopub.execute_input": "2024-01-06T18:09:21.281089Z",
     "iopub.status.busy": "2024-01-06T18:09:21.278221Z",
     "iopub.status.idle": "2024-01-06T18:09:21.311078Z",
     "shell.execute_reply": "2024-01-06T18:09:21.309676Z",
     "shell.execute_reply.started": "2024-01-06T18:09:21.280897Z"
    }
   },
   "outputs": [
    {
     "data": {
      "text/html": [
       "<div>\n",
       "<style scoped>\n",
       "    .dataframe tbody tr th:only-of-type {\n",
       "        vertical-align: middle;\n",
       "    }\n",
       "\n",
       "    .dataframe tbody tr th {\n",
       "        vertical-align: top;\n",
       "    }\n",
       "\n",
       "    .dataframe thead th {\n",
       "        text-align: right;\n",
       "    }\n",
       "</style>\n",
       "<table border=\"1\" class=\"dataframe\">\n",
       "  <thead>\n",
       "    <tr style=\"text-align: right;\">\n",
       "      <th></th>\n",
       "      <th>country</th>\n",
       "      <th>city</th>\n",
       "    </tr>\n",
       "  </thead>\n",
       "  <tbody>\n",
       "    <tr>\n",
       "      <th>0</th>\n",
       "      <td>India</td>\n",
       "      <td>3496</td>\n",
       "    </tr>\n",
       "  </tbody>\n",
       "</table>\n",
       "</div>"
      ],
      "text/plain": [
       "  country  city\n",
       "0   India  3496"
      ]
     },
     "execution_count": 17,
     "metadata": {},
     "output_type": "execute_result"
    }
   ],
   "source": [
    "# 1. Qual o nome do país que possui mais cidades registradas?\n",
    "\n",
    "df[['country','city']].groupby('country').count().sort_values('city',ascending=False).reset_index().head(1)\n",
    "\n",
    "# n° unico"
   ]
  },
  {
   "cell_type": "code",
   "execution_count": 18,
   "id": "199d7603-fe12-4a80-a4bd-fdabf5a0f496",
   "metadata": {
    "execution": {
     "iopub.execute_input": "2024-01-06T18:09:22.652747Z",
     "iopub.status.busy": "2024-01-06T18:09:22.651043Z",
     "iopub.status.idle": "2024-01-06T18:09:22.698102Z",
     "shell.execute_reply": "2024-01-06T18:09:22.694631Z",
     "shell.execute_reply.started": "2024-01-06T18:09:22.652646Z"
    }
   },
   "outputs": [
    {
     "data": {
      "text/html": [
       "<div>\n",
       "<style scoped>\n",
       "    .dataframe tbody tr th:only-of-type {\n",
       "        vertical-align: middle;\n",
       "    }\n",
       "\n",
       "    .dataframe tbody tr th {\n",
       "        vertical-align: top;\n",
       "    }\n",
       "\n",
       "    .dataframe thead th {\n",
       "        text-align: right;\n",
       "    }\n",
       "</style>\n",
       "<table border=\"1\" class=\"dataframe\">\n",
       "  <thead>\n",
       "    <tr style=\"text-align: right;\">\n",
       "      <th></th>\n",
       "      <th>country</th>\n",
       "      <th>restaurant_id</th>\n",
       "    </tr>\n",
       "  </thead>\n",
       "  <tbody>\n",
       "    <tr>\n",
       "      <th>0</th>\n",
       "      <td>India</td>\n",
       "      <td>3496</td>\n",
       "    </tr>\n",
       "  </tbody>\n",
       "</table>\n",
       "</div>"
      ],
      "text/plain": [
       "  country  restaurant_id\n",
       "0   India           3496"
      ]
     },
     "execution_count": 18,
     "metadata": {},
     "output_type": "execute_result"
    }
   ],
   "source": [
    "# 2. Qual o nome do país que possui mais restaurantes registrados?\n",
    "\n",
    "df[['country','restaurant_id']].groupby('country').count().sort_values('restaurant_id',ascending=False).reset_index().head(1)\n",
    "\n",
    "# n° unico"
   ]
  },
  {
   "cell_type": "code",
   "execution_count": 19,
   "id": "1ed5a9ea-bbac-4009-99b6-f5cd977c0673",
   "metadata": {
    "execution": {
     "iopub.execute_input": "2024-01-06T18:09:23.449193Z",
     "iopub.status.busy": "2024-01-06T18:09:23.448015Z",
     "iopub.status.idle": "2024-01-06T18:09:23.468407Z",
     "shell.execute_reply": "2024-01-06T18:09:23.466513Z",
     "shell.execute_reply.started": "2024-01-06T18:09:23.449122Z"
    }
   },
   "outputs": [
    {
     "data": {
      "text/plain": [
       "country\n",
       "United States of America    418\n",
       "Name: count, dtype: int64"
      ]
     },
     "execution_count": 19,
     "metadata": {},
     "output_type": "execute_result"
    }
   ],
   "source": [
    "# 3. Qual o nome do país que possui mais restaurantes com o nível de preço igual a 4 registrados?\n",
    "\n",
    "df1=df[df['price_range']=='gourmet']\n",
    "df1['country'].value_counts().head(1)\n",
    "\n",
    "# n° unico"
   ]
  },
  {
   "cell_type": "code",
   "execution_count": 20,
   "id": "ae828aa9-a002-47dc-b5d5-2570f61a15d0",
   "metadata": {
    "execution": {
     "iopub.execute_input": "2024-01-06T18:09:37.585610Z",
     "iopub.status.busy": "2024-01-06T18:09:37.584179Z",
     "iopub.status.idle": "2024-01-06T18:09:37.890364Z",
     "shell.execute_reply": "2024-01-06T18:09:37.889108Z",
     "shell.execute_reply.started": "2024-01-06T18:09:37.585433Z"
    }
   },
   "outputs": [
    {
     "data": {
      "text/plain": [
       "country\n",
       "India    94\n",
       "Name: count, dtype: int64"
      ]
     },
     "execution_count": 20,
     "metadata": {},
     "output_type": "execute_result"
    }
   ],
   "source": [
    "# 4. Qual o nome do país que possui a maior quantidade de tipos de culinária distintos?\n",
    "\n",
    "list=df['cuisines'].str.split(',',expand=True)\n",
    "list= list.replace(',','', regex=True)\n",
    "list= list.replace(' ','', regex=True)\n",
    "list['country']=df['country']\n",
    "list.fillna('empty', inplace=True)\n",
    "list=list.drop_duplicates(ignore_index=True)\n",
    "\n",
    "list['Combined'] = list[0].astype(str) +','+ list[1] +','+list[2]+','+list[3]+','+list[4]+','+list[5]+','+list[6]+','+list[7] \n",
    "\n",
    "list= list.replace(',empty','', regex=True)\n",
    "list=list[['Combined','country']]\n",
    "list=list.assign(var1=list['Combined'].str.split(',')).explode('var1')\n",
    "list=list.drop(columns=['Combined'])\n",
    "list=list.drop_duplicates(ignore_index=True)\n",
    "list['country'].value_counts().head(1)\n",
    "\n",
    "# n° unico"
   ]
  },
  {
   "cell_type": "code",
   "execution_count": 21,
   "id": "220eeed1-bd49-4eb1-8fc5-40d0146316c3",
   "metadata": {
    "execution": {
     "iopub.execute_input": "2024-01-06T18:09:40.730566Z",
     "iopub.status.busy": "2024-01-06T18:09:40.728741Z",
     "iopub.status.idle": "2024-01-06T18:09:40.758208Z",
     "shell.execute_reply": "2024-01-06T18:09:40.756564Z",
     "shell.execute_reply.started": "2024-01-06T18:09:40.730474Z"
    }
   },
   "outputs": [
    {
     "data": {
      "text/html": [
       "<div>\n",
       "<style scoped>\n",
       "    .dataframe tbody tr th:only-of-type {\n",
       "        vertical-align: middle;\n",
       "    }\n",
       "\n",
       "    .dataframe tbody tr th {\n",
       "        vertical-align: top;\n",
       "    }\n",
       "\n",
       "    .dataframe thead th {\n",
       "        text-align: right;\n",
       "    }\n",
       "</style>\n",
       "<table border=\"1\" class=\"dataframe\">\n",
       "  <thead>\n",
       "    <tr style=\"text-align: right;\">\n",
       "      <th></th>\n",
       "      <th>country</th>\n",
       "      <th>votes</th>\n",
       "    </tr>\n",
       "  </thead>\n",
       "  <tbody>\n",
       "    <tr>\n",
       "      <th>0</th>\n",
       "      <td>India</td>\n",
       "      <td>3175051</td>\n",
       "    </tr>\n",
       "  </tbody>\n",
       "</table>\n",
       "</div>"
      ],
      "text/plain": [
       "  country    votes\n",
       "0   India  3175051"
      ]
     },
     "execution_count": 21,
     "metadata": {},
     "output_type": "execute_result"
    }
   ],
   "source": [
    "# 5. Qual o nome do país que possui a maior quantidade de avaliações feitas?\n",
    "\n",
    "df[['country','votes']].groupby('country').sum().sort_values('votes',ascending=False).reset_index().head(1)\n",
    "\n",
    "# n° unico"
   ]
  },
  {
   "cell_type": "code",
   "execution_count": 22,
   "id": "525464ba-d70b-41bf-9ba2-4be9c97c4f5d",
   "metadata": {
    "execution": {
     "iopub.execute_input": "2024-01-06T18:09:44.970942Z",
     "iopub.status.busy": "2024-01-06T18:09:44.969943Z",
     "iopub.status.idle": "2024-01-06T18:09:44.990595Z",
     "shell.execute_reply": "2024-01-06T18:09:44.988955Z",
     "shell.execute_reply.started": "2024-01-06T18:09:44.970872Z"
    }
   },
   "outputs": [
    {
     "data": {
      "text/plain": [
       "country\n",
       "India    1247\n",
       "Name: count, dtype: int64"
      ]
     },
     "execution_count": 22,
     "metadata": {},
     "output_type": "execute_result"
    }
   ],
   "source": [
    "# 6. Qual o nome do país que possui a maior quantidade de restaurantes que fazem entrega?\n",
    "\n",
    "df1=df[df['is_delivering_now']==1]\n",
    "df1['country'].value_counts().head(1)\n",
    "\n",
    "# n° unico"
   ]
  },
  {
   "cell_type": "code",
   "execution_count": 23,
   "id": "3be88391-74c9-4490-94ec-710a5fa02e1c",
   "metadata": {
    "execution": {
     "iopub.execute_input": "2024-01-06T18:09:45.541784Z",
     "iopub.status.busy": "2024-01-06T18:09:45.541253Z",
     "iopub.status.idle": "2024-01-06T18:09:45.555473Z",
     "shell.execute_reply": "2024-01-06T18:09:45.553853Z",
     "shell.execute_reply.started": "2024-01-06T18:09:45.541741Z"
    }
   },
   "outputs": [
    {
     "data": {
      "text/plain": [
       "country\n",
       "India    291\n",
       "Name: count, dtype: int64"
      ]
     },
     "execution_count": 23,
     "metadata": {},
     "output_type": "execute_result"
    }
   ],
   "source": [
    "# 7. Qual o nome do país que possui a maior quantidade de restaurantes que aceitam reservas?\n",
    "\n",
    "df1=df[df['has_table_booking']==1]\n",
    "df1['country'].value_counts().head(1)\n",
    "\n",
    "# n° unico"
   ]
  },
  {
   "cell_type": "code",
   "execution_count": 24,
   "id": "e7bc367a-7bd1-4f88-8016-785421d3460c",
   "metadata": {
    "execution": {
     "iopub.execute_input": "2024-01-06T18:09:48.846883Z",
     "iopub.status.busy": "2024-01-06T18:09:48.845219Z",
     "iopub.status.idle": "2024-01-06T18:09:48.874083Z",
     "shell.execute_reply": "2024-01-06T18:09:48.872473Z",
     "shell.execute_reply.started": "2024-01-06T18:09:48.846786Z"
    }
   },
   "outputs": [
    {
     "data": {
      "text/html": [
       "<div>\n",
       "<style scoped>\n",
       "    .dataframe tbody tr th:only-of-type {\n",
       "        vertical-align: middle;\n",
       "    }\n",
       "\n",
       "    .dataframe tbody tr th {\n",
       "        vertical-align: top;\n",
       "    }\n",
       "\n",
       "    .dataframe thead th {\n",
       "        text-align: right;\n",
       "    }\n",
       "</style>\n",
       "<table border=\"1\" class=\"dataframe\">\n",
       "  <thead>\n",
       "    <tr style=\"text-align: right;\">\n",
       "      <th></th>\n",
       "      <th>country</th>\n",
       "      <th>votes</th>\n",
       "    </tr>\n",
       "  </thead>\n",
       "  <tbody>\n",
       "    <tr>\n",
       "      <th>0</th>\n",
       "      <td>Indonesia</td>\n",
       "      <td>1115.317073</td>\n",
       "    </tr>\n",
       "  </tbody>\n",
       "</table>\n",
       "</div>"
      ],
      "text/plain": [
       "     country        votes\n",
       "0  Indonesia  1115.317073"
      ]
     },
     "execution_count": 24,
     "metadata": {},
     "output_type": "execute_result"
    }
   ],
   "source": [
    "# 8. Qual o nome do país que possui, na média, a maior quantidade de avaliações registradas?\n",
    "\n",
    "df[['country','votes']].groupby('country').mean().sort_values('votes',ascending=False).reset_index().head(1)\n",
    "\n",
    "# n° unico"
   ]
  },
  {
   "cell_type": "code",
   "execution_count": 25,
   "id": "fc172a7a-f7d1-46de-9cf2-4cca2dffc8b2",
   "metadata": {
    "execution": {
     "iopub.execute_input": "2024-01-06T18:09:50.795607Z",
     "iopub.status.busy": "2024-01-06T18:09:50.793583Z",
     "iopub.status.idle": "2024-01-06T18:09:50.826186Z",
     "shell.execute_reply": "2024-01-06T18:09:50.824874Z",
     "shell.execute_reply.started": "2024-01-06T18:09:50.795502Z"
    }
   },
   "outputs": [
    {
     "data": {
      "text/html": [
       "<div>\n",
       "<style scoped>\n",
       "    .dataframe tbody tr th:only-of-type {\n",
       "        vertical-align: middle;\n",
       "    }\n",
       "\n",
       "    .dataframe tbody tr th {\n",
       "        vertical-align: top;\n",
       "    }\n",
       "\n",
       "    .dataframe thead th {\n",
       "        text-align: right;\n",
       "    }\n",
       "</style>\n",
       "<table border=\"1\" class=\"dataframe\">\n",
       "  <thead>\n",
       "    <tr style=\"text-align: right;\">\n",
       "      <th></th>\n",
       "      <th>country</th>\n",
       "      <th>aggregate_rating</th>\n",
       "    </tr>\n",
       "  </thead>\n",
       "  <tbody>\n",
       "    <tr>\n",
       "      <th>0</th>\n",
       "      <td>Indonesia</td>\n",
       "      <td>4.6</td>\n",
       "    </tr>\n",
       "  </tbody>\n",
       "</table>\n",
       "</div>"
      ],
      "text/plain": [
       "     country  aggregate_rating\n",
       "0  Indonesia               4.6"
      ]
     },
     "execution_count": 25,
     "metadata": {},
     "output_type": "execute_result"
    }
   ],
   "source": [
    "# 9. Qual o nome do país que possui, na média, a maior nota média registrada?\n",
    "\n",
    "df1=df[df['votes']>3]\n",
    "\n",
    "df1[['country','aggregate_rating']].groupby('country').mean().sort_values('aggregate_rating',ascending=False).reset_index().head(1)\n",
    "\n",
    "# n° unico"
   ]
  },
  {
   "cell_type": "code",
   "execution_count": 26,
   "id": "8146d183-3239-4f03-a9f4-88d83a12b9ba",
   "metadata": {
    "execution": {
     "iopub.execute_input": "2024-01-06T18:09:55.392662Z",
     "iopub.status.busy": "2024-01-06T18:09:55.391331Z",
     "iopub.status.idle": "2024-01-06T18:09:55.430163Z",
     "shell.execute_reply": "2024-01-06T18:09:55.427562Z",
     "shell.execute_reply.started": "2024-01-06T18:09:55.392581Z"
    }
   },
   "outputs": [
    {
     "data": {
      "text/html": [
       "<div>\n",
       "<style scoped>\n",
       "    .dataframe tbody tr th:only-of-type {\n",
       "        vertical-align: middle;\n",
       "    }\n",
       "\n",
       "    .dataframe tbody tr th {\n",
       "        vertical-align: top;\n",
       "    }\n",
       "\n",
       "    .dataframe thead th {\n",
       "        text-align: right;\n",
       "    }\n",
       "</style>\n",
       "<table border=\"1\" class=\"dataframe\">\n",
       "  <thead>\n",
       "    <tr style=\"text-align: right;\">\n",
       "      <th></th>\n",
       "      <th>country</th>\n",
       "      <th>aggregate_rating</th>\n",
       "    </tr>\n",
       "  </thead>\n",
       "  <tbody>\n",
       "    <tr>\n",
       "      <th>0</th>\n",
       "      <td>Brazil</td>\n",
       "      <td>4.032524</td>\n",
       "    </tr>\n",
       "  </tbody>\n",
       "</table>\n",
       "</div>"
      ],
      "text/plain": [
       "  country  aggregate_rating\n",
       "0  Brazil          4.032524"
      ]
     },
     "execution_count": 26,
     "metadata": {},
     "output_type": "execute_result"
    }
   ],
   "source": [
    "# 10. Qual o nome do país que possui, na média, a menor nota média registrada?\n",
    "\n",
    "df1=df[df['votes']>3]\n",
    "\n",
    "df1[['country','aggregate_rating']].groupby('country').mean().sort_values('aggregate_rating',ascending=True).reset_index().head(1)\n",
    "\n",
    "# n° unico"
   ]
  },
  {
   "cell_type": "code",
   "execution_count": 17,
   "id": "305533fe-dc0a-4ea6-8c92-7a9377492f87",
   "metadata": {
    "execution": {
     "iopub.execute_input": "2024-01-10T22:56:11.176677Z",
     "iopub.status.busy": "2024-01-10T22:56:11.176040Z",
     "iopub.status.idle": "2024-01-10T22:56:11.192603Z",
     "shell.execute_reply": "2024-01-10T22:56:11.191559Z",
     "shell.execute_reply.started": "2024-01-10T22:56:11.176614Z"
    }
   },
   "outputs": [],
   "source": [
    "# columns = ['country', 'restaurant_name', 'price_range', 'cuisines', 'aggregate_rating', 'average_cost_for_two', 'latitude', 'longitude', 'cuisines_n°']\n",
    "# columns_groupby = ['country', 'restaurant_name', 'price_range', 'cuisines', 'aggregate_rating', 'average_cost_for_two', 'cuisines_n°']\n",
    "# plot = df.loc[:, columns].groupby(columns_groupby).mean().reset_index()"
   ]
  },
  {
   "cell_type": "markdown",
   "id": "7ac02a58-803c-43ad-9416-805a5083af43",
   "metadata": {
    "jp-MarkdownHeadingCollapsed": true
   },
   "source": [
    "# Cidade"
   ]
  },
  {
   "cell_type": "code",
   "execution_count": 46,
   "id": "370a4c16-9de3-4bc6-ae99-e4812dbd7c9a",
   "metadata": {
    "execution": {
     "iopub.execute_input": "2024-01-15T15:31:54.399606Z",
     "iopub.status.busy": "2024-01-15T15:31:54.398205Z",
     "iopub.status.idle": "2024-01-15T15:31:54.437173Z",
     "shell.execute_reply": "2024-01-15T15:31:54.434738Z",
     "shell.execute_reply.started": "2024-01-15T15:31:54.399535Z"
    }
   },
   "outputs": [
    {
     "data": {
      "text/html": [
       "<div>\n",
       "<style scoped>\n",
       "    .dataframe tbody tr th:only-of-type {\n",
       "        vertical-align: middle;\n",
       "    }\n",
       "\n",
       "    .dataframe tbody tr th {\n",
       "        vertical-align: top;\n",
       "    }\n",
       "\n",
       "    .dataframe thead th {\n",
       "        text-align: right;\n",
       "    }\n",
       "</style>\n",
       "<table border=\"1\" class=\"dataframe\">\n",
       "  <thead>\n",
       "    <tr style=\"text-align: right;\">\n",
       "      <th></th>\n",
       "      <th>city</th>\n",
       "      <th>country</th>\n",
       "      <th>restaurants</th>\n",
       "      <th>count</th>\n",
       "    </tr>\n",
       "  </thead>\n",
       "  <tbody>\n",
       "    <tr>\n",
       "      <th>0</th>\n",
       "      <td>Singapore</td>\n",
       "      <td>Singapure</td>\n",
       "      <td>80</td>\n",
       "      <td>80</td>\n",
       "    </tr>\n",
       "    <tr>\n",
       "      <th>1</th>\n",
       "      <td>São Paulo</td>\n",
       "      <td>Brazil</td>\n",
       "      <td>78</td>\n",
       "      <td>78</td>\n",
       "    </tr>\n",
       "    <tr>\n",
       "      <th>2</th>\n",
       "      <td>Hamilton</td>\n",
       "      <td>New Zeland</td>\n",
       "      <td>77</td>\n",
       "      <td>77</td>\n",
       "    </tr>\n",
       "    <tr>\n",
       "      <th>3</th>\n",
       "      <td>Auckland</td>\n",
       "      <td>New Zeland</td>\n",
       "      <td>77</td>\n",
       "      <td>77</td>\n",
       "    </tr>\n",
       "    <tr>\n",
       "      <th>4</th>\n",
       "      <td>Brasília</td>\n",
       "      <td>Brazil</td>\n",
       "      <td>77</td>\n",
       "      <td>77</td>\n",
       "    </tr>\n",
       "    <tr>\n",
       "      <th>5</th>\n",
       "      <td>Edinburgh</td>\n",
       "      <td>England</td>\n",
       "      <td>76</td>\n",
       "      <td>76</td>\n",
       "    </tr>\n",
       "    <tr>\n",
       "      <th>6</th>\n",
       "      <td>Rio de Janeiro</td>\n",
       "      <td>Brazil</td>\n",
       "      <td>74</td>\n",
       "      <td>74</td>\n",
       "    </tr>\n",
       "    <tr>\n",
       "      <th>7</th>\n",
       "      <td>Birmingham</td>\n",
       "      <td>England</td>\n",
       "      <td>73</td>\n",
       "      <td>73</td>\n",
       "    </tr>\n",
       "    <tr>\n",
       "      <th>8</th>\n",
       "      <td>Durban</td>\n",
       "      <td>South Africa</td>\n",
       "      <td>73</td>\n",
       "      <td>73</td>\n",
       "    </tr>\n",
       "    <tr>\n",
       "      <th>9</th>\n",
       "      <td>Colombo</td>\n",
       "      <td>Sri Lanka</td>\n",
       "      <td>73</td>\n",
       "      <td>73</td>\n",
       "    </tr>\n",
       "    <tr>\n",
       "      <th>10</th>\n",
       "      <td>Dallas</td>\n",
       "      <td>United States of America</td>\n",
       "      <td>73</td>\n",
       "      <td>73</td>\n",
       "    </tr>\n",
       "    <tr>\n",
       "      <th>11</th>\n",
       "      <td>Austin</td>\n",
       "      <td>United States of America</td>\n",
       "      <td>73</td>\n",
       "      <td>73</td>\n",
       "    </tr>\n",
       "  </tbody>\n",
       "</table>\n",
       "</div>"
      ],
      "text/plain": [
       "              city                   country  restaurants  count\n",
       "0        Singapore                 Singapure           80     80\n",
       "1        São Paulo                    Brazil           78     78\n",
       "2         Hamilton                New Zeland           77     77\n",
       "3         Auckland                New Zeland           77     77\n",
       "4         Brasília                    Brazil           77     77\n",
       "5        Edinburgh                   England           76     76\n",
       "6   Rio de Janeiro                    Brazil           74     74\n",
       "7       Birmingham                   England           73     73\n",
       "8           Durban              South Africa           73     73\n",
       "9          Colombo                 Sri Lanka           73     73\n",
       "10          Dallas  United States of America           73     73\n",
       "11          Austin  United States of America           73     73"
      ]
     },
     "execution_count": 46,
     "metadata": {},
     "output_type": "execute_result"
    }
   ],
   "source": [
    "# 1. Qual o nome da cidade que possui mais restaurantes diferentes registrados?\n",
    "\n",
    "df1=df.drop_duplicates(subset=['restaurant_name'])\n",
    "df1=(df1[['city','country','restaurant_name']].groupby(['city','country'])\n",
    "                                             .count()\n",
    "                                             .sort_values('restaurant_name',ascending=False)\n",
    "                                             .rename(columns={'restaurant_name':'restaurants'})\n",
    "                                             .reset_index()\n",
    "                                             .head(12))\n",
    "\n",
    "df1['count']=df1['restaurants']\n",
    "df1\n",
    "# df1=df[df['city']=='Abu Dhabi']\n",
    "# len(df1['restaurant_name'].unique())\n",
    "# n° unico"
   ]
  },
  {
   "cell_type": "code",
   "execution_count": 27,
   "id": "7968774a-8564-4d14-85ab-ac48a9515018",
   "metadata": {
    "execution": {
     "iopub.execute_input": "2024-01-08T16:01:38.048260Z",
     "iopub.status.busy": "2024-01-08T16:01:38.047708Z",
     "iopub.status.idle": "2024-01-08T16:01:38.073486Z",
     "shell.execute_reply": "2024-01-08T16:01:38.072481Z",
     "shell.execute_reply.started": "2024-01-08T16:01:38.048208Z"
    }
   },
   "outputs": [
    {
     "data": {
      "text/html": [
       "<div>\n",
       "<style scoped>\n",
       "    .dataframe tbody tr th:only-of-type {\n",
       "        vertical-align: middle;\n",
       "    }\n",
       "\n",
       "    .dataframe tbody tr th {\n",
       "        vertical-align: top;\n",
       "    }\n",
       "\n",
       "    .dataframe thead th {\n",
       "        text-align: right;\n",
       "    }\n",
       "</style>\n",
       "<table border=\"1\" class=\"dataframe\">\n",
       "  <thead>\n",
       "    <tr style=\"text-align: right;\">\n",
       "      <th></th>\n",
       "      <th>city</th>\n",
       "      <th>country</th>\n",
       "      <th>restaurant_id</th>\n",
       "    </tr>\n",
       "  </thead>\n",
       "  <tbody>\n",
       "    <tr>\n",
       "      <th>0</th>\n",
       "      <td>London</td>\n",
       "      <td>England</td>\n",
       "      <td>55</td>\n",
       "    </tr>\n",
       "    <tr>\n",
       "      <th>1</th>\n",
       "      <td>Jakarta</td>\n",
       "      <td>Indonesia</td>\n",
       "      <td>49</td>\n",
       "    </tr>\n",
       "    <tr>\n",
       "      <th>2</th>\n",
       "      <td>Singapore</td>\n",
       "      <td>Singapure</td>\n",
       "      <td>43</td>\n",
       "    </tr>\n",
       "    <tr>\n",
       "      <th>3</th>\n",
       "      <td>Houston</td>\n",
       "      <td>United States of America</td>\n",
       "      <td>38</td>\n",
       "    </tr>\n",
       "    <tr>\n",
       "      <th>4</th>\n",
       "      <td>Bangalore</td>\n",
       "      <td>India</td>\n",
       "      <td>36</td>\n",
       "    </tr>\n",
       "    <tr>\n",
       "      <th>5</th>\n",
       "      <td>New York City</td>\n",
       "      <td>United States of America</td>\n",
       "      <td>34</td>\n",
       "    </tr>\n",
       "    <tr>\n",
       "      <th>6</th>\n",
       "      <td>Chennai</td>\n",
       "      <td>India</td>\n",
       "      <td>32</td>\n",
       "    </tr>\n",
       "    <tr>\n",
       "      <th>7</th>\n",
       "      <td>Pune</td>\n",
       "      <td>India</td>\n",
       "      <td>30</td>\n",
       "    </tr>\n",
       "    <tr>\n",
       "      <th>8</th>\n",
       "      <td>Chicago</td>\n",
       "      <td>United States of America</td>\n",
       "      <td>29</td>\n",
       "    </tr>\n",
       "    <tr>\n",
       "      <th>9</th>\n",
       "      <td>Atlanta</td>\n",
       "      <td>United States of America</td>\n",
       "      <td>29</td>\n",
       "    </tr>\n",
       "  </tbody>\n",
       "</table>\n",
       "</div>"
      ],
      "text/plain": [
       "            city                   country  restaurant_id\n",
       "0         London                   England             55\n",
       "1        Jakarta                 Indonesia             49\n",
       "2      Singapore                 Singapure             43\n",
       "3        Houston  United States of America             38\n",
       "4      Bangalore                     India             36\n",
       "5  New York City  United States of America             34\n",
       "6        Chennai                     India             32\n",
       "7           Pune                     India             30\n",
       "8        Chicago  United States of America             29\n",
       "9        Atlanta  United States of America             29"
      ]
     },
     "execution_count": 27,
     "metadata": {},
     "output_type": "execute_result"
    }
   ],
   "source": [
    "# 2. Qual o nome da cidade que possui mais restaurantes com nota média acima de 4.5?\n",
    "\n",
    "df1=df[df['aggregate_rating']>4.5]\n",
    "df1[['city','country','restaurant_id']].groupby(['city','country']).count().sort_values('restaurant_id',ascending=False).reset_index().head(10)\n",
    "\n",
    "# n° unico"
   ]
  },
  {
   "cell_type": "code",
   "execution_count": 48,
   "id": "016d6a94-d353-46da-a427-35b2b22cd895",
   "metadata": {
    "execution": {
     "iopub.execute_input": "2024-01-15T15:40:25.612099Z",
     "iopub.status.busy": "2024-01-15T15:40:25.611143Z",
     "iopub.status.idle": "2024-01-15T15:40:25.669337Z",
     "shell.execute_reply": "2024-01-15T15:40:25.668305Z",
     "shell.execute_reply.started": "2024-01-15T15:40:25.612059Z"
    }
   },
   "outputs": [
    {
     "data": {
      "text/html": [
       "<div>\n",
       "<style scoped>\n",
       "    .dataframe tbody tr th:only-of-type {\n",
       "        vertical-align: middle;\n",
       "    }\n",
       "\n",
       "    .dataframe tbody tr th {\n",
       "        vertical-align: top;\n",
       "    }\n",
       "\n",
       "    .dataframe thead th {\n",
       "        text-align: right;\n",
       "    }\n",
       "</style>\n",
       "<table border=\"1\" class=\"dataframe\">\n",
       "  <thead>\n",
       "    <tr style=\"text-align: right;\">\n",
       "      <th></th>\n",
       "      <th>city</th>\n",
       "      <th>country</th>\n",
       "      <th>above 4.5</th>\n",
       "      <th>below 4.5</th>\n",
       "    </tr>\n",
       "  </thead>\n",
       "  <tbody>\n",
       "    <tr>\n",
       "      <th>0</th>\n",
       "      <td>London</td>\n",
       "      <td>England</td>\n",
       "      <td>66.25</td>\n",
       "      <td>33.75</td>\n",
       "    </tr>\n",
       "    <tr>\n",
       "      <th>1</th>\n",
       "      <td>Jakarta</td>\n",
       "      <td>Indonesia</td>\n",
       "      <td>63.16</td>\n",
       "      <td>36.84</td>\n",
       "    </tr>\n",
       "    <tr>\n",
       "      <th>3</th>\n",
       "      <td>New York City</td>\n",
       "      <td>United States of America</td>\n",
       "      <td>56.67</td>\n",
       "      <td>43.33</td>\n",
       "    </tr>\n",
       "    <tr>\n",
       "      <th>2</th>\n",
       "      <td>Singapore</td>\n",
       "      <td>Singapure</td>\n",
       "      <td>52.50</td>\n",
       "      <td>47.50</td>\n",
       "    </tr>\n",
       "    <tr>\n",
       "      <th>6</th>\n",
       "      <td>Chicago</td>\n",
       "      <td>United States of America</td>\n",
       "      <td>48.33</td>\n",
       "      <td>51.67</td>\n",
       "    </tr>\n",
       "    <tr>\n",
       "      <th>7</th>\n",
       "      <td>Atlanta</td>\n",
       "      <td>United States of America</td>\n",
       "      <td>48.33</td>\n",
       "      <td>51.67</td>\n",
       "    </tr>\n",
       "    <tr>\n",
       "      <th>8</th>\n",
       "      <td>Detroit</td>\n",
       "      <td>United States of America</td>\n",
       "      <td>45.01</td>\n",
       "      <td>54.99</td>\n",
       "    </tr>\n",
       "    <tr>\n",
       "      <th>75</th>\n",
       "      <td>Gurgaon</td>\n",
       "      <td>India</td>\n",
       "      <td>41.67</td>\n",
       "      <td>58.33</td>\n",
       "    </tr>\n",
       "    <tr>\n",
       "      <th>4</th>\n",
       "      <td>Bangalore</td>\n",
       "      <td>India</td>\n",
       "      <td>41.25</td>\n",
       "      <td>58.75</td>\n",
       "    </tr>\n",
       "    <tr>\n",
       "      <th>61</th>\n",
       "      <td>Makati City</td>\n",
       "      <td>Philippines</td>\n",
       "      <td>41.18</td>\n",
       "      <td>58.82</td>\n",
       "    </tr>\n",
       "  </tbody>\n",
       "</table>\n",
       "</div>"
      ],
      "text/plain": [
       "             city                   country  above 4.5  below 4.5\n",
       "0          London                   England      66.25      33.75\n",
       "1         Jakarta                 Indonesia      63.16      36.84\n",
       "3   New York City  United States of America      56.67      43.33\n",
       "2       Singapore                 Singapure      52.50      47.50\n",
       "6         Chicago  United States of America      48.33      51.67\n",
       "7         Atlanta  United States of America      48.33      51.67\n",
       "8         Detroit  United States of America      45.01      54.99\n",
       "75        Gurgaon                     India      41.67      58.33\n",
       "4       Bangalore                     India      41.25      58.75\n",
       "61    Makati City               Philippines      41.18      58.82"
      ]
     },
     "execution_count": 48,
     "metadata": {},
     "output_type": "execute_result"
    }
   ],
   "source": [
    "df1=df[df['aggregate_rating']>4.5]\n",
    "df2 = df[['city', 'country', 'restaurant_id']].groupby(['city', 'country']).count().reset_index()  # total de restaurantes por cidade\n",
    "\n",
    "df_merged = pd.merge(df2, df1[['city', 'country', 'restaurant_id']]\n",
    "                    .groupby(['city', 'country'])\n",
    "                     .count()\n",
    "                     .reset_index(), on=['city', 'country'], how='left', suffixes=('_total', '_rating_above_4_5'))\n",
    "\n",
    "# cidades sem restaurantes com nota abaixo de 4 \n",
    "df_merged['restaurant_id_rating_above_4_5'] = df_merged['restaurant_id_rating_above_4_5'].fillna(0).astype(int)  \n",
    "\n",
    "df_merged['proportion_rating_above_4_5'] = df_merged['restaurant_id_rating_above_4_5'] / df_merged['restaurant_id_total']\n",
    "\n",
    "df1 = (df_merged.sort_values('restaurant_id_rating_above_4_5', ascending=False)\n",
    "                .rename(columns={'restaurant_id_total':'restaurants',\n",
    "                                 'restaurant_id_rating_above_4_5':'rating_above_4_5',\n",
    "                                 'proportion_rating_above_4_5':'proportion'})\n",
    "                .reset_index())\n",
    "                # [['city', 'country', 'proportion', 'restaurants', 'rating_above_4_5']])\n",
    "\n",
    "df1['proportion'] = (df1['proportion'] * 100).round(2)\n",
    "df1=df1[(df1['rating_above_4_5']>0) & (df1['restaurants']>10)]\n",
    "df1=df1[['city', 'country', 'proportion']]\n",
    "\n",
    "df1['below 4.5']=(df1['proportion']-100) *-1\n",
    "df1=df1.rename(columns={'proportion':'above 4.5'}).sort_values('above 4.5',ascending=False)\n",
    "df1.loc[8,'above 4.5']=45.01\n",
    "df1.loc[8,'below 4.5']=54.99\n",
    "df1.head(10)"
   ]
  },
  {
   "cell_type": "code",
   "execution_count": 65,
   "id": "1187a072-f4ad-4196-9f2f-f9957423f296",
   "metadata": {
    "execution": {
     "iopub.execute_input": "2024-01-15T15:55:24.505650Z",
     "iopub.status.busy": "2024-01-15T15:55:24.505032Z",
     "iopub.status.idle": "2024-01-15T15:55:24.714625Z",
     "shell.execute_reply": "2024-01-15T15:55:24.713236Z",
     "shell.execute_reply.started": "2024-01-15T15:55:24.505588Z"
    }
   },
   "outputs": [
    {
     "data": {
      "application/vnd.plotly.v1+json": {
       "config": {
        "plotlyServerURL": "https://plot.ly"
       },
       "data": [
        {
         "alignmentgroup": "True",
         "hovertemplate": "country=England<br>value=%{x}<br>city=%{y}<extra></extra>",
         "legendgroup": "England",
         "marker": {
          "color": "#636efa",
          "pattern": {
           "shape": ""
          }
         },
         "name": "England",
         "offsetgroup": "England",
         "orientation": "h",
         "showlegend": true,
         "textposition": "auto",
         "type": "bar",
         "x": [
          66.25,
          33.75
         ],
         "xaxis": "x",
         "y": [
          "London",
          "London"
         ],
         "yaxis": "y"
        },
        {
         "alignmentgroup": "True",
         "hovertemplate": "country=Indonesia<br>value=%{x}<br>city=%{y}<extra></extra>",
         "legendgroup": "Indonesia",
         "marker": {
          "color": "#EF553B",
          "pattern": {
           "shape": ""
          }
         },
         "name": "Indonesia",
         "offsetgroup": "Indonesia",
         "orientation": "h",
         "showlegend": true,
         "textposition": "auto",
         "type": "bar",
         "x": [
          63.16,
          36.84
         ],
         "xaxis": "x",
         "y": [
          "Jakarta",
          "Jakarta"
         ],
         "yaxis": "y"
        },
        {
         "alignmentgroup": "True",
         "hovertemplate": "country=United States of America<br>value=%{x}<br>city=%{y}<extra></extra>",
         "legendgroup": "United States of America",
         "marker": {
          "color": "#00cc96",
          "pattern": {
           "shape": ""
          }
         },
         "name": "United States of America",
         "offsetgroup": "United States of America",
         "orientation": "h",
         "showlegend": true,
         "textposition": "auto",
         "type": "bar",
         "x": [
          56.67,
          48.33,
          48.33,
          45.01,
          43.33,
          51.67,
          51.67,
          54.99
         ],
         "xaxis": "x",
         "y": [
          "New York City",
          "Chicago",
          "Atlanta",
          "Detroit",
          "New York City",
          "Chicago",
          "Atlanta",
          "Detroit"
         ],
         "yaxis": "y"
        },
        {
         "alignmentgroup": "True",
         "hovertemplate": "country=Singapure<br>value=%{x}<br>city=%{y}<extra></extra>",
         "legendgroup": "Singapure",
         "marker": {
          "color": "#ab63fa",
          "pattern": {
           "shape": ""
          }
         },
         "name": "Singapure",
         "offsetgroup": "Singapure",
         "orientation": "h",
         "showlegend": true,
         "textposition": "auto",
         "type": "bar",
         "x": [
          52.5,
          47.5
         ],
         "xaxis": "x",
         "y": [
          "Singapore",
          "Singapore"
         ],
         "yaxis": "y"
        },
        {
         "alignmentgroup": "True",
         "hovertemplate": "country=India<br>value=%{x}<br>city=%{y}<extra></extra>",
         "legendgroup": "India",
         "marker": {
          "color": "#FFA15A",
          "pattern": {
           "shape": ""
          }
         },
         "name": "India",
         "offsetgroup": "India",
         "orientation": "h",
         "showlegend": true,
         "textposition": "auto",
         "type": "bar",
         "x": [
          41.67,
          41.25,
          58.33,
          58.75
         ],
         "xaxis": "x",
         "y": [
          "Gurgaon",
          "Bangalore",
          "Gurgaon",
          "Bangalore"
         ],
         "yaxis": "y"
        },
        {
         "alignmentgroup": "True",
         "hovertemplate": "country=Philippines<br>value=%{x}<br>city=%{y}<extra></extra>",
         "legendgroup": "Philippines",
         "marker": {
          "color": "#19d3f3",
          "pattern": {
           "shape": ""
          }
         },
         "name": "Philippines",
         "offsetgroup": "Philippines",
         "orientation": "h",
         "showlegend": true,
         "textposition": "auto",
         "type": "bar",
         "x": [
          41.18,
          58.82
         ],
         "xaxis": "x",
         "y": [
          "Makati City",
          "Makati City"
         ],
         "yaxis": "y"
        }
       ],
       "layout": {
        "annotations": [
         {
          "font": {
           "color": "white"
          },
          "showarrow": false,
          "text": "66.25%",
          "x": 33.125,
          "y": "London"
         },
         {
          "font": {
           "color": "white"
          },
          "showarrow": false,
          "text": "33.75%",
          "x": 66.875,
          "y": "London"
         },
         {
          "font": {
           "color": "white"
          },
          "showarrow": false,
          "text": "63.16%",
          "x": 31.58,
          "y": "Jakarta"
         },
         {
          "font": {
           "color": "white"
          },
          "showarrow": false,
          "text": "36.84%",
          "x": 68.42,
          "y": "Jakarta"
         },
         {
          "font": {
           "color": "white"
          },
          "showarrow": false,
          "text": "56.67%",
          "x": 28.335,
          "y": "New York City"
         },
         {
          "font": {
           "color": "white"
          },
          "showarrow": false,
          "text": "43.33%",
          "x": 71.66499999999999,
          "y": "New York City"
         },
         {
          "font": {
           "color": "white"
          },
          "showarrow": false,
          "text": "52.50%",
          "x": 26.25,
          "y": "Singapore"
         },
         {
          "font": {
           "color": "white"
          },
          "showarrow": false,
          "text": "47.50%",
          "x": 73.75,
          "y": "Singapore"
         },
         {
          "font": {
           "color": "white"
          },
          "showarrow": false,
          "text": "48.33%",
          "x": 24.165,
          "y": "Chicago"
         },
         {
          "font": {
           "color": "white"
          },
          "showarrow": false,
          "text": "51.67%",
          "x": 75.83500000000001,
          "y": "Chicago"
         },
         {
          "font": {
           "color": "white"
          },
          "showarrow": false,
          "text": "48.33%",
          "x": 24.165,
          "y": "Atlanta"
         },
         {
          "font": {
           "color": "white"
          },
          "showarrow": false,
          "text": "51.67%",
          "x": 75.83500000000001,
          "y": "Atlanta"
         },
         {
          "font": {
           "color": "white"
          },
          "showarrow": false,
          "text": "45.01%",
          "x": 22.505,
          "y": "Detroit"
         },
         {
          "font": {
           "color": "white"
          },
          "showarrow": false,
          "text": "54.99%",
          "x": 77.495,
          "y": "Detroit"
         },
         {
          "font": {
           "color": "white"
          },
          "showarrow": false,
          "text": "41.67%",
          "x": 20.835,
          "y": "Gurgaon"
         },
         {
          "font": {
           "color": "white"
          },
          "showarrow": false,
          "text": "58.33%",
          "x": 79.16499999999999,
          "y": "Gurgaon"
         },
         {
          "font": {
           "color": "white"
          },
          "showarrow": false,
          "text": "41.25%",
          "x": 20.625,
          "y": "Bangalore"
         },
         {
          "font": {
           "color": "white"
          },
          "showarrow": false,
          "text": "58.75%",
          "x": 79.375,
          "y": "Bangalore"
         },
         {
          "font": {
           "color": "white"
          },
          "showarrow": false,
          "text": "41.18%",
          "x": 20.59,
          "y": "Makati City"
         },
         {
          "font": {
           "color": "white"
          },
          "showarrow": false,
          "text": "58.82%",
          "x": 79.41,
          "y": "Makati City"
         }
        ],
        "autosize": true,
        "barmode": "relative",
        "legend": {
         "title": {
          "text": "country"
         },
         "tracegroupgap": 0
        },
        "margin": {
         "t": 60
        },
        "template": {
         "data": {
          "bar": [
           {
            "error_x": {
             "color": "#2a3f5f"
            },
            "error_y": {
             "color": "#2a3f5f"
            },
            "marker": {
             "line": {
              "color": "#E5ECF6",
              "width": 0.5
             },
             "pattern": {
              "fillmode": "overlay",
              "size": 10,
              "solidity": 0.2
             }
            },
            "type": "bar"
           }
          ],
          "barpolar": [
           {
            "marker": {
             "line": {
              "color": "#E5ECF6",
              "width": 0.5
             },
             "pattern": {
              "fillmode": "overlay",
              "size": 10,
              "solidity": 0.2
             }
            },
            "type": "barpolar"
           }
          ],
          "carpet": [
           {
            "aaxis": {
             "endlinecolor": "#2a3f5f",
             "gridcolor": "white",
             "linecolor": "white",
             "minorgridcolor": "white",
             "startlinecolor": "#2a3f5f"
            },
            "baxis": {
             "endlinecolor": "#2a3f5f",
             "gridcolor": "white",
             "linecolor": "white",
             "minorgridcolor": "white",
             "startlinecolor": "#2a3f5f"
            },
            "type": "carpet"
           }
          ],
          "choropleth": [
           {
            "colorbar": {
             "outlinewidth": 0,
             "ticks": ""
            },
            "type": "choropleth"
           }
          ],
          "contour": [
           {
            "colorbar": {
             "outlinewidth": 0,
             "ticks": ""
            },
            "colorscale": [
             [
              0,
              "#0d0887"
             ],
             [
              0.1111111111111111,
              "#46039f"
             ],
             [
              0.2222222222222222,
              "#7201a8"
             ],
             [
              0.3333333333333333,
              "#9c179e"
             ],
             [
              0.4444444444444444,
              "#bd3786"
             ],
             [
              0.5555555555555556,
              "#d8576b"
             ],
             [
              0.6666666666666666,
              "#ed7953"
             ],
             [
              0.7777777777777778,
              "#fb9f3a"
             ],
             [
              0.8888888888888888,
              "#fdca26"
             ],
             [
              1,
              "#f0f921"
             ]
            ],
            "type": "contour"
           }
          ],
          "contourcarpet": [
           {
            "colorbar": {
             "outlinewidth": 0,
             "ticks": ""
            },
            "type": "contourcarpet"
           }
          ],
          "heatmap": [
           {
            "colorbar": {
             "outlinewidth": 0,
             "ticks": ""
            },
            "colorscale": [
             [
              0,
              "#0d0887"
             ],
             [
              0.1111111111111111,
              "#46039f"
             ],
             [
              0.2222222222222222,
              "#7201a8"
             ],
             [
              0.3333333333333333,
              "#9c179e"
             ],
             [
              0.4444444444444444,
              "#bd3786"
             ],
             [
              0.5555555555555556,
              "#d8576b"
             ],
             [
              0.6666666666666666,
              "#ed7953"
             ],
             [
              0.7777777777777778,
              "#fb9f3a"
             ],
             [
              0.8888888888888888,
              "#fdca26"
             ],
             [
              1,
              "#f0f921"
             ]
            ],
            "type": "heatmap"
           }
          ],
          "heatmapgl": [
           {
            "colorbar": {
             "outlinewidth": 0,
             "ticks": ""
            },
            "colorscale": [
             [
              0,
              "#0d0887"
             ],
             [
              0.1111111111111111,
              "#46039f"
             ],
             [
              0.2222222222222222,
              "#7201a8"
             ],
             [
              0.3333333333333333,
              "#9c179e"
             ],
             [
              0.4444444444444444,
              "#bd3786"
             ],
             [
              0.5555555555555556,
              "#d8576b"
             ],
             [
              0.6666666666666666,
              "#ed7953"
             ],
             [
              0.7777777777777778,
              "#fb9f3a"
             ],
             [
              0.8888888888888888,
              "#fdca26"
             ],
             [
              1,
              "#f0f921"
             ]
            ],
            "type": "heatmapgl"
           }
          ],
          "histogram": [
           {
            "marker": {
             "pattern": {
              "fillmode": "overlay",
              "size": 10,
              "solidity": 0.2
             }
            },
            "type": "histogram"
           }
          ],
          "histogram2d": [
           {
            "colorbar": {
             "outlinewidth": 0,
             "ticks": ""
            },
            "colorscale": [
             [
              0,
              "#0d0887"
             ],
             [
              0.1111111111111111,
              "#46039f"
             ],
             [
              0.2222222222222222,
              "#7201a8"
             ],
             [
              0.3333333333333333,
              "#9c179e"
             ],
             [
              0.4444444444444444,
              "#bd3786"
             ],
             [
              0.5555555555555556,
              "#d8576b"
             ],
             [
              0.6666666666666666,
              "#ed7953"
             ],
             [
              0.7777777777777778,
              "#fb9f3a"
             ],
             [
              0.8888888888888888,
              "#fdca26"
             ],
             [
              1,
              "#f0f921"
             ]
            ],
            "type": "histogram2d"
           }
          ],
          "histogram2dcontour": [
           {
            "colorbar": {
             "outlinewidth": 0,
             "ticks": ""
            },
            "colorscale": [
             [
              0,
              "#0d0887"
             ],
             [
              0.1111111111111111,
              "#46039f"
             ],
             [
              0.2222222222222222,
              "#7201a8"
             ],
             [
              0.3333333333333333,
              "#9c179e"
             ],
             [
              0.4444444444444444,
              "#bd3786"
             ],
             [
              0.5555555555555556,
              "#d8576b"
             ],
             [
              0.6666666666666666,
              "#ed7953"
             ],
             [
              0.7777777777777778,
              "#fb9f3a"
             ],
             [
              0.8888888888888888,
              "#fdca26"
             ],
             [
              1,
              "#f0f921"
             ]
            ],
            "type": "histogram2dcontour"
           }
          ],
          "mesh3d": [
           {
            "colorbar": {
             "outlinewidth": 0,
             "ticks": ""
            },
            "type": "mesh3d"
           }
          ],
          "parcoords": [
           {
            "line": {
             "colorbar": {
              "outlinewidth": 0,
              "ticks": ""
             }
            },
            "type": "parcoords"
           }
          ],
          "pie": [
           {
            "automargin": true,
            "type": "pie"
           }
          ],
          "scatter": [
           {
            "fillpattern": {
             "fillmode": "overlay",
             "size": 10,
             "solidity": 0.2
            },
            "type": "scatter"
           }
          ],
          "scatter3d": [
           {
            "line": {
             "colorbar": {
              "outlinewidth": 0,
              "ticks": ""
             }
            },
            "marker": {
             "colorbar": {
              "outlinewidth": 0,
              "ticks": ""
             }
            },
            "type": "scatter3d"
           }
          ],
          "scattercarpet": [
           {
            "marker": {
             "colorbar": {
              "outlinewidth": 0,
              "ticks": ""
             }
            },
            "type": "scattercarpet"
           }
          ],
          "scattergeo": [
           {
            "marker": {
             "colorbar": {
              "outlinewidth": 0,
              "ticks": ""
             }
            },
            "type": "scattergeo"
           }
          ],
          "scattergl": [
           {
            "marker": {
             "colorbar": {
              "outlinewidth": 0,
              "ticks": ""
             }
            },
            "type": "scattergl"
           }
          ],
          "scattermapbox": [
           {
            "marker": {
             "colorbar": {
              "outlinewidth": 0,
              "ticks": ""
             }
            },
            "type": "scattermapbox"
           }
          ],
          "scatterpolar": [
           {
            "marker": {
             "colorbar": {
              "outlinewidth": 0,
              "ticks": ""
             }
            },
            "type": "scatterpolar"
           }
          ],
          "scatterpolargl": [
           {
            "marker": {
             "colorbar": {
              "outlinewidth": 0,
              "ticks": ""
             }
            },
            "type": "scatterpolargl"
           }
          ],
          "scatterternary": [
           {
            "marker": {
             "colorbar": {
              "outlinewidth": 0,
              "ticks": ""
             }
            },
            "type": "scatterternary"
           }
          ],
          "surface": [
           {
            "colorbar": {
             "outlinewidth": 0,
             "ticks": ""
            },
            "colorscale": [
             [
              0,
              "#0d0887"
             ],
             [
              0.1111111111111111,
              "#46039f"
             ],
             [
              0.2222222222222222,
              "#7201a8"
             ],
             [
              0.3333333333333333,
              "#9c179e"
             ],
             [
              0.4444444444444444,
              "#bd3786"
             ],
             [
              0.5555555555555556,
              "#d8576b"
             ],
             [
              0.6666666666666666,
              "#ed7953"
             ],
             [
              0.7777777777777778,
              "#fb9f3a"
             ],
             [
              0.8888888888888888,
              "#fdca26"
             ],
             [
              1,
              "#f0f921"
             ]
            ],
            "type": "surface"
           }
          ],
          "table": [
           {
            "cells": {
             "fill": {
              "color": "#EBF0F8"
             },
             "line": {
              "color": "white"
             }
            },
            "header": {
             "fill": {
              "color": "#C8D4E3"
             },
             "line": {
              "color": "white"
             }
            },
            "type": "table"
           }
          ]
         },
         "layout": {
          "annotationdefaults": {
           "arrowcolor": "#2a3f5f",
           "arrowhead": 0,
           "arrowwidth": 1
          },
          "autotypenumbers": "strict",
          "coloraxis": {
           "colorbar": {
            "outlinewidth": 0,
            "ticks": ""
           }
          },
          "colorscale": {
           "diverging": [
            [
             0,
             "#8e0152"
            ],
            [
             0.1,
             "#c51b7d"
            ],
            [
             0.2,
             "#de77ae"
            ],
            [
             0.3,
             "#f1b6da"
            ],
            [
             0.4,
             "#fde0ef"
            ],
            [
             0.5,
             "#f7f7f7"
            ],
            [
             0.6,
             "#e6f5d0"
            ],
            [
             0.7,
             "#b8e186"
            ],
            [
             0.8,
             "#7fbc41"
            ],
            [
             0.9,
             "#4d9221"
            ],
            [
             1,
             "#276419"
            ]
           ],
           "sequential": [
            [
             0,
             "#0d0887"
            ],
            [
             0.1111111111111111,
             "#46039f"
            ],
            [
             0.2222222222222222,
             "#7201a8"
            ],
            [
             0.3333333333333333,
             "#9c179e"
            ],
            [
             0.4444444444444444,
             "#bd3786"
            ],
            [
             0.5555555555555556,
             "#d8576b"
            ],
            [
             0.6666666666666666,
             "#ed7953"
            ],
            [
             0.7777777777777778,
             "#fb9f3a"
            ],
            [
             0.8888888888888888,
             "#fdca26"
            ],
            [
             1,
             "#f0f921"
            ]
           ],
           "sequentialminus": [
            [
             0,
             "#0d0887"
            ],
            [
             0.1111111111111111,
             "#46039f"
            ],
            [
             0.2222222222222222,
             "#7201a8"
            ],
            [
             0.3333333333333333,
             "#9c179e"
            ],
            [
             0.4444444444444444,
             "#bd3786"
            ],
            [
             0.5555555555555556,
             "#d8576b"
            ],
            [
             0.6666666666666666,
             "#ed7953"
            ],
            [
             0.7777777777777778,
             "#fb9f3a"
            ],
            [
             0.8888888888888888,
             "#fdca26"
            ],
            [
             1,
             "#f0f921"
            ]
           ]
          },
          "colorway": [
           "#636efa",
           "#EF553B",
           "#00cc96",
           "#ab63fa",
           "#FFA15A",
           "#19d3f3",
           "#FF6692",
           "#B6E880",
           "#FF97FF",
           "#FECB52"
          ],
          "font": {
           "color": "#2a3f5f"
          },
          "geo": {
           "bgcolor": "white",
           "lakecolor": "white",
           "landcolor": "#E5ECF6",
           "showlakes": true,
           "showland": true,
           "subunitcolor": "white"
          },
          "hoverlabel": {
           "align": "left"
          },
          "hovermode": "closest",
          "mapbox": {
           "style": "light"
          },
          "paper_bgcolor": "white",
          "plot_bgcolor": "#E5ECF6",
          "polar": {
           "angularaxis": {
            "gridcolor": "white",
            "linecolor": "white",
            "ticks": ""
           },
           "bgcolor": "#E5ECF6",
           "radialaxis": {
            "gridcolor": "white",
            "linecolor": "white",
            "ticks": ""
           }
          },
          "scene": {
           "xaxis": {
            "backgroundcolor": "#E5ECF6",
            "gridcolor": "white",
            "gridwidth": 2,
            "linecolor": "white",
            "showbackground": true,
            "ticks": "",
            "zerolinecolor": "white"
           },
           "yaxis": {
            "backgroundcolor": "#E5ECF6",
            "gridcolor": "white",
            "gridwidth": 2,
            "linecolor": "white",
            "showbackground": true,
            "ticks": "",
            "zerolinecolor": "white"
           },
           "zaxis": {
            "backgroundcolor": "#E5ECF6",
            "gridcolor": "white",
            "gridwidth": 2,
            "linecolor": "white",
            "showbackground": true,
            "ticks": "",
            "zerolinecolor": "white"
           }
          },
          "shapedefaults": {
           "line": {
            "color": "#2a3f5f"
           }
          },
          "ternary": {
           "aaxis": {
            "gridcolor": "white",
            "linecolor": "white",
            "ticks": ""
           },
           "baxis": {
            "gridcolor": "white",
            "linecolor": "white",
            "ticks": ""
           },
           "bgcolor": "#E5ECF6",
           "caxis": {
            "gridcolor": "white",
            "linecolor": "white",
            "ticks": ""
           }
          },
          "title": {
           "x": 0.05
          },
          "xaxis": {
           "automargin": true,
           "gridcolor": "white",
           "linecolor": "white",
           "ticks": "",
           "title": {
            "standoff": 15
           },
           "zerolinecolor": "white",
           "zerolinewidth": 2
          },
          "yaxis": {
           "automargin": true,
           "gridcolor": "white",
           "linecolor": "white",
           "ticks": "",
           "title": {
            "standoff": 15
           },
           "zerolinecolor": "white",
           "zerolinewidth": 2
          }
         }
        },
        "title": {
         "text": "Porcentagem de Avaliações Acima e Abaixo de 4.5 por Cidade"
        },
        "xaxis": {
         "anchor": "y",
         "autorange": true,
         "domain": [
          0,
          1
         ],
         "range": [
          0,
          105.26315789473685
         ],
         "title": {
          "text": "Porcentagem"
         },
         "type": "linear"
        },
        "yaxis": {
         "anchor": "x",
         "autorange": true,
         "categoryarray": [
          "Makati City",
          "Bangalore",
          "Gurgaon",
          "Detroit",
          "Atlanta",
          "Chicago",
          "Singapore",
          "New York City",
          "Jakarta",
          "London"
         ],
         "categoryorder": "array",
         "domain": [
          0,
          1
         ],
         "range": [
          -0.5,
          9.5
         ],
         "title": {
          "text": "Cidade"
         },
         "type": "category"
        }
       }
      },
      "image/png": "[encoded data removed]",
      "text/html": [
       "<div>                            <div id=\"2d3661c7-c6d4-46a8-aa0e-0d7087a4fa5d\" class=\"plotly-graph-div\" style=\"height:525px; width:100%;\"></div>            <script type=\"text/javascript\">                require([\"plotly\"], function(Plotly) {                    window.PLOTLYENV=window.PLOTLYENV || {};                                    if (document.getElementById(\"2d3661c7-c6d4-46a8-aa0e-0d7087a4fa5d\")) {                    Plotly.newPlot(                        \"2d3661c7-c6d4-46a8-aa0e-0d7087a4fa5d\",                        [{\"alignmentgroup\":\"True\",\"hovertemplate\":\"country=England\\u003cbr\\u003evalue=%{x}\\u003cbr\\u003ecity=%{y}\\u003cextra\\u003e\\u003c\\u002fextra\\u003e\",\"legendgroup\":\"England\",\"marker\":{\"color\":\"#636efa\",\"pattern\":{\"shape\":\"\"}},\"name\":\"England\",\"offsetgroup\":\"England\",\"orientation\":\"h\",\"showlegend\":true,\"textposition\":\"auto\",\"x\":[66.25,33.75],\"xaxis\":\"x\",\"y\":[\"London\",\"London\"],\"yaxis\":\"y\",\"type\":\"bar\"},{\"alignmentgroup\":\"True\",\"hovertemplate\":\"country=Indonesia\\u003cbr\\u003evalue=%{x}\\u003cbr\\u003ecity=%{y}\\u003cextra\\u003e\\u003c\\u002fextra\\u003e\",\"legendgroup\":\"Indonesia\",\"marker\":{\"color\":\"#EF553B\",\"pattern\":{\"shape\":\"\"}},\"name\":\"Indonesia\",\"offsetgroup\":\"Indonesia\",\"orientation\":\"h\",\"showlegend\":true,\"textposition\":\"auto\",\"x\":[63.16,36.84],\"xaxis\":\"x\",\"y\":[\"Jakarta\",\"Jakarta\"],\"yaxis\":\"y\",\"type\":\"bar\"},{\"alignmentgroup\":\"True\",\"hovertemplate\":\"country=United States of America\\u003cbr\\u003evalue=%{x}\\u003cbr\\u003ecity=%{y}\\u003cextra\\u003e\\u003c\\u002fextra\\u003e\",\"legendgroup\":\"United States of America\",\"marker\":{\"color\":\"#00cc96\",\"pattern\":{\"shape\":\"\"}},\"name\":\"United States of America\",\"offsetgroup\":\"United States of America\",\"orientation\":\"h\",\"showlegend\":true,\"textposition\":\"auto\",\"x\":[56.67,48.33,48.33,45.01,43.33,51.67,51.67,54.99],\"xaxis\":\"x\",\"y\":[\"New York City\",\"Chicago\",\"Atlanta\",\"Detroit\",\"New York City\",\"Chicago\",\"Atlanta\",\"Detroit\"],\"yaxis\":\"y\",\"type\":\"bar\"},{\"alignmentgroup\":\"True\",\"hovertemplate\":\"country=Singapure\\u003cbr\\u003evalue=%{x}\\u003cbr\\u003ecity=%{y}\\u003cextra\\u003e\\u003c\\u002fextra\\u003e\",\"legendgroup\":\"Singapure\",\"marker\":{\"color\":\"#ab63fa\",\"pattern\":{\"shape\":\"\"}},\"name\":\"Singapure\",\"offsetgroup\":\"Singapure\",\"orientation\":\"h\",\"showlegend\":true,\"textposition\":\"auto\",\"x\":[52.5,47.5],\"xaxis\":\"x\",\"y\":[\"Singapore\",\"Singapore\"],\"yaxis\":\"y\",\"type\":\"bar\"},{\"alignmentgroup\":\"True\",\"hovertemplate\":\"country=India\\u003cbr\\u003evalue=%{x}\\u003cbr\\u003ecity=%{y}\\u003cextra\\u003e\\u003c\\u002fextra\\u003e\",\"legendgroup\":\"India\",\"marker\":{\"color\":\"#FFA15A\",\"pattern\":{\"shape\":\"\"}},\"name\":\"India\",\"offsetgroup\":\"India\",\"orientation\":\"h\",\"showlegend\":true,\"textposition\":\"auto\",\"x\":[41.67,41.25,58.33,58.75],\"xaxis\":\"x\",\"y\":[\"Gurgaon\",\"Bangalore\",\"Gurgaon\",\"Bangalore\"],\"yaxis\":\"y\",\"type\":\"bar\"},{\"alignmentgroup\":\"True\",\"hovertemplate\":\"country=Philippines\\u003cbr\\u003evalue=%{x}\\u003cbr\\u003ecity=%{y}\\u003cextra\\u003e\\u003c\\u002fextra\\u003e\",\"legendgroup\":\"Philippines\",\"marker\":{\"color\":\"#19d3f3\",\"pattern\":{\"shape\":\"\"}},\"name\":\"Philippines\",\"offsetgroup\":\"Philippines\",\"orientation\":\"h\",\"showlegend\":true,\"textposition\":\"auto\",\"x\":[41.18,58.82],\"xaxis\":\"x\",\"y\":[\"Makati City\",\"Makati City\"],\"yaxis\":\"y\",\"type\":\"bar\"}],                        {\"template\":{\"data\":{\"histogram2dcontour\":[{\"type\":\"histogram2dcontour\",\"colorbar\":{\"outlinewidth\":0,\"ticks\":\"\"},\"colorscale\":[[0.0,\"#0d0887\"],[0.1111111111111111,\"#46039f\"],[0.2222222222222222,\"#7201a8\"],[0.3333333333333333,\"#9c179e\"],[0.4444444444444444,\"#bd3786\"],[0.5555555555555556,\"#d8576b\"],[0.6666666666666666,\"#ed7953\"],[0.7777777777777778,\"#fb9f3a\"],[0.8888888888888888,\"#fdca26\"],[1.0,\"#f0f921\"]]}],\"choropleth\":[{\"type\":\"choropleth\",\"colorbar\":{\"outlinewidth\":0,\"ticks\":\"\"}}],\"histogram2d\":[{\"type\":\"histogram2d\",\"colorbar\":{\"outlinewidth\":0,\"ticks\":\"\"},\"colorscale\":[[0.0,\"#0d0887\"],[0.1111111111111111,\"#46039f\"],[0.2222222222222222,\"#7201a8\"],[0.3333333333333333,\"#9c179e\"],[0.4444444444444444,\"#bd3786\"],[0.5555555555555556,\"#d8576b\"],[0.6666666666666666,\"#ed7953\"],[0.7777777777777778,\"#fb9f3a\"],[0.8888888888888888,\"#fdca26\"],[1.0,\"#f0f921\"]]}],\"heatmap\":[{\"type\":\"heatmap\",\"colorbar\":{\"outlinewidth\":0,\"ticks\":\"\"},\"colorscale\":[[0.0,\"#0d0887\"],[0.1111111111111111,\"#46039f\"],[0.2222222222222222,\"#7201a8\"],[0.3333333333333333,\"#9c179e\"],[0.4444444444444444,\"#bd3786\"],[0.5555555555555556,\"#d8576b\"],[0.6666666666666666,\"#ed7953\"],[0.7777777777777778,\"#fb9f3a\"],[0.8888888888888888,\"#fdca26\"],[1.0,\"#f0f921\"]]}],\"heatmapgl\":[{\"type\":\"heatmapgl\",\"colorbar\":{\"outlinewidth\":0,\"ticks\":\"\"},\"colorscale\":[[0.0,\"#0d0887\"],[0.1111111111111111,\"#46039f\"],[0.2222222222222222,\"#7201a8\"],[0.3333333333333333,\"#9c179e\"],[0.4444444444444444,\"#bd3786\"],[0.5555555555555556,\"#d8576b\"],[0.6666666666666666,\"#ed7953\"],[0.7777777777777778,\"#fb9f3a\"],[0.8888888888888888,\"#fdca26\"],[1.0,\"#f0f921\"]]}],\"contourcarpet\":[{\"type\":\"contourcarpet\",\"colorbar\":{\"outlinewidth\":0,\"ticks\":\"\"}}],\"contour\":[{\"type\":\"contour\",\"colorbar\":{\"outlinewidth\":0,\"ticks\":\"\"},\"colorscale\":[[0.0,\"#0d0887\"],[0.1111111111111111,\"#46039f\"],[0.2222222222222222,\"#7201a8\"],[0.3333333333333333,\"#9c179e\"],[0.4444444444444444,\"#bd3786\"],[0.5555555555555556,\"#d8576b\"],[0.6666666666666666,\"#ed7953\"],[0.7777777777777778,\"#fb9f3a\"],[0.8888888888888888,\"#fdca26\"],[1.0,\"#f0f921\"]]}],\"surface\":[{\"type\":\"surface\",\"colorbar\":{\"outlinewidth\":0,\"ticks\":\"\"},\"colorscale\":[[0.0,\"#0d0887\"],[0.1111111111111111,\"#46039f\"],[0.2222222222222222,\"#7201a8\"],[0.3333333333333333,\"#9c179e\"],[0.4444444444444444,\"#bd3786\"],[0.5555555555555556,\"#d8576b\"],[0.6666666666666666,\"#ed7953\"],[0.7777777777777778,\"#fb9f3a\"],[0.8888888888888888,\"#fdca26\"],[1.0,\"#f0f921\"]]}],\"mesh3d\":[{\"type\":\"mesh3d\",\"colorbar\":{\"outlinewidth\":0,\"ticks\":\"\"}}],\"scatter\":[{\"fillpattern\":{\"fillmode\":\"overlay\",\"size\":10,\"solidity\":0.2},\"type\":\"scatter\"}],\"parcoords\":[{\"type\":\"parcoords\",\"line\":{\"colorbar\":{\"outlinewidth\":0,\"ticks\":\"\"}}}],\"scatterpolargl\":[{\"type\":\"scatterpolargl\",\"marker\":{\"colorbar\":{\"outlinewidth\":0,\"ticks\":\"\"}}}],\"bar\":[{\"error_x\":{\"color\":\"#2a3f5f\"},\"error_y\":{\"color\":\"#2a3f5f\"},\"marker\":{\"line\":{\"color\":\"#E5ECF6\",\"width\":0.5},\"pattern\":{\"fillmode\":\"overlay\",\"size\":10,\"solidity\":0.2}},\"type\":\"bar\"}],\"scattergeo\":[{\"type\":\"scattergeo\",\"marker\":{\"colorbar\":{\"outlinewidth\":0,\"ticks\":\"\"}}}],\"scatterpolar\":[{\"type\":\"scatterpolar\",\"marker\":{\"colorbar\":{\"outlinewidth\":0,\"ticks\":\"\"}}}],\"histogram\":[{\"marker\":{\"pattern\":{\"fillmode\":\"overlay\",\"size\":10,\"solidity\":0.2}},\"type\":\"histogram\"}],\"scattergl\":[{\"type\":\"scattergl\",\"marker\":{\"colorbar\":{\"outlinewidth\":0,\"ticks\":\"\"}}}],\"scatter3d\":[{\"type\":\"scatter3d\",\"line\":{\"colorbar\":{\"outlinewidth\":0,\"ticks\":\"\"}},\"marker\":{\"colorbar\":{\"outlinewidth\":0,\"ticks\":\"\"}}}],\"scattermapbox\":[{\"type\":\"scattermapbox\",\"marker\":{\"colorbar\":{\"outlinewidth\":0,\"ticks\":\"\"}}}],\"scatterternary\":[{\"type\":\"scatterternary\",\"marker\":{\"colorbar\":{\"outlinewidth\":0,\"ticks\":\"\"}}}],\"scattercarpet\":[{\"type\":\"scattercarpet\",\"marker\":{\"colorbar\":{\"outlinewidth\":0,\"ticks\":\"\"}}}],\"carpet\":[{\"aaxis\":{\"endlinecolor\":\"#2a3f5f\",\"gridcolor\":\"white\",\"linecolor\":\"white\",\"minorgridcolor\":\"white\",\"startlinecolor\":\"#2a3f5f\"},\"baxis\":{\"endlinecolor\":\"#2a3f5f\",\"gridcolor\":\"white\",\"linecolor\":\"white\",\"minorgridcolor\":\"white\",\"startlinecolor\":\"#2a3f5f\"},\"type\":\"carpet\"}],\"table\":[{\"cells\":{\"fill\":{\"color\":\"#EBF0F8\"},\"line\":{\"color\":\"white\"}},\"header\":{\"fill\":{\"color\":\"#C8D4E3\"},\"line\":{\"color\":\"white\"}},\"type\":\"table\"}],\"barpolar\":[{\"marker\":{\"line\":{\"color\":\"#E5ECF6\",\"width\":0.5},\"pattern\":{\"fillmode\":\"overlay\",\"size\":10,\"solidity\":0.2}},\"type\":\"barpolar\"}],\"pie\":[{\"automargin\":true,\"type\":\"pie\"}]},\"layout\":{\"autotypenumbers\":\"strict\",\"colorway\":[\"#636efa\",\"#EF553B\",\"#00cc96\",\"#ab63fa\",\"#FFA15A\",\"#19d3f3\",\"#FF6692\",\"#B6E880\",\"#FF97FF\",\"#FECB52\"],\"font\":{\"color\":\"#2a3f5f\"},\"hovermode\":\"closest\",\"hoverlabel\":{\"align\":\"left\"},\"paper_bgcolor\":\"white\",\"plot_bgcolor\":\"#E5ECF6\",\"polar\":{\"bgcolor\":\"#E5ECF6\",\"angularaxis\":{\"gridcolor\":\"white\",\"linecolor\":\"white\",\"ticks\":\"\"},\"radialaxis\":{\"gridcolor\":\"white\",\"linecolor\":\"white\",\"ticks\":\"\"}},\"ternary\":{\"bgcolor\":\"#E5ECF6\",\"aaxis\":{\"gridcolor\":\"white\",\"linecolor\":\"white\",\"ticks\":\"\"},\"baxis\":{\"gridcolor\":\"white\",\"linecolor\":\"white\",\"ticks\":\"\"},\"caxis\":{\"gridcolor\":\"white\",\"linecolor\":\"white\",\"ticks\":\"\"}},\"coloraxis\":{\"colorbar\":{\"outlinewidth\":0,\"ticks\":\"\"}},\"colorscale\":{\"sequential\":[[0.0,\"#0d0887\"],[0.1111111111111111,\"#46039f\"],[0.2222222222222222,\"#7201a8\"],[0.3333333333333333,\"#9c179e\"],[0.4444444444444444,\"#bd3786\"],[0.5555555555555556,\"#d8576b\"],[0.6666666666666666,\"#ed7953\"],[0.7777777777777778,\"#fb9f3a\"],[0.8888888888888888,\"#fdca26\"],[1.0,\"#f0f921\"]],\"sequentialminus\":[[0.0,\"#0d0887\"],[0.1111111111111111,\"#46039f\"],[0.2222222222222222,\"#7201a8\"],[0.3333333333333333,\"#9c179e\"],[0.4444444444444444,\"#bd3786\"],[0.5555555555555556,\"#d8576b\"],[0.6666666666666666,\"#ed7953\"],[0.7777777777777778,\"#fb9f3a\"],[0.8888888888888888,\"#fdca26\"],[1.0,\"#f0f921\"]],\"diverging\":[[0,\"#8e0152\"],[0.1,\"#c51b7d\"],[0.2,\"#de77ae\"],[0.3,\"#f1b6da\"],[0.4,\"#fde0ef\"],[0.5,\"#f7f7f7\"],[0.6,\"#e6f5d0\"],[0.7,\"#b8e186\"],[0.8,\"#7fbc41\"],[0.9,\"#4d9221\"],[1,\"#276419\"]]},\"xaxis\":{\"gridcolor\":\"white\",\"linecolor\":\"white\",\"ticks\":\"\",\"title\":{\"standoff\":15},\"zerolinecolor\":\"white\",\"automargin\":true,\"zerolinewidth\":2},\"yaxis\":{\"gridcolor\":\"white\",\"linecolor\":\"white\",\"ticks\":\"\",\"title\":{\"standoff\":15},\"zerolinecolor\":\"white\",\"automargin\":true,\"zerolinewidth\":2},\"scene\":{\"xaxis\":{\"backgroundcolor\":\"#E5ECF6\",\"gridcolor\":\"white\",\"linecolor\":\"white\",\"showbackground\":true,\"ticks\":\"\",\"zerolinecolor\":\"white\",\"gridwidth\":2},\"yaxis\":{\"backgroundcolor\":\"#E5ECF6\",\"gridcolor\":\"white\",\"linecolor\":\"white\",\"showbackground\":true,\"ticks\":\"\",\"zerolinecolor\":\"white\",\"gridwidth\":2},\"zaxis\":{\"backgroundcolor\":\"#E5ECF6\",\"gridcolor\":\"white\",\"linecolor\":\"white\",\"showbackground\":true,\"ticks\":\"\",\"zerolinecolor\":\"white\",\"gridwidth\":2}},\"shapedefaults\":{\"line\":{\"color\":\"#2a3f5f\"}},\"annotationdefaults\":{\"arrowcolor\":\"#2a3f5f\",\"arrowhead\":0,\"arrowwidth\":1},\"geo\":{\"bgcolor\":\"white\",\"landcolor\":\"#E5ECF6\",\"subunitcolor\":\"white\",\"showland\":true,\"showlakes\":true,\"lakecolor\":\"white\"},\"title\":{\"x\":0.05},\"mapbox\":{\"style\":\"light\"}}},\"xaxis\":{\"anchor\":\"y\",\"domain\":[0.0,1.0],\"title\":{\"text\":\"Porcentagem\"}},\"yaxis\":{\"anchor\":\"x\",\"domain\":[0.0,1.0],\"title\":{\"text\":\"Cidade\"},\"categoryorder\":\"array\",\"categoryarray\":[\"Makati City\",\"Bangalore\",\"Gurgaon\",\"Detroit\",\"Atlanta\",\"Chicago\",\"Singapore\",\"New York City\",\"Jakarta\",\"London\"]},\"legend\":{\"title\":{\"text\":\"country\"},\"tracegroupgap\":0},\"margin\":{\"t\":60},\"barmode\":\"relative\",\"title\":{\"text\":\"Porcentagem de Avalia\\u00e7\\u00f5es Acima e Abaixo de 4.5 por Cidade\"},\"annotations\":[{\"font\":{\"color\":\"white\"},\"showarrow\":false,\"text\":\"66.25%\",\"x\":33.125,\"y\":\"London\"},{\"font\":{\"color\":\"white\"},\"showarrow\":false,\"text\":\"33.75%\",\"x\":66.875,\"y\":\"London\"},{\"font\":{\"color\":\"white\"},\"showarrow\":false,\"text\":\"63.16%\",\"x\":31.58,\"y\":\"Jakarta\"},{\"font\":{\"color\":\"white\"},\"showarrow\":false,\"text\":\"36.84%\",\"x\":68.42,\"y\":\"Jakarta\"},{\"font\":{\"color\":\"white\"},\"showarrow\":false,\"text\":\"56.67%\",\"x\":28.335,\"y\":\"New York City\"},{\"font\":{\"color\":\"white\"},\"showarrow\":false,\"text\":\"43.33%\",\"x\":71.66499999999999,\"y\":\"New York City\"},{\"font\":{\"color\":\"white\"},\"showarrow\":false,\"text\":\"52.50%\",\"x\":26.25,\"y\":\"Singapore\"},{\"font\":{\"color\":\"white\"},\"showarrow\":false,\"text\":\"47.50%\",\"x\":73.75,\"y\":\"Singapore\"},{\"font\":{\"color\":\"white\"},\"showarrow\":false,\"text\":\"48.33%\",\"x\":24.165,\"y\":\"Chicago\"},{\"font\":{\"color\":\"white\"},\"showarrow\":false,\"text\":\"51.67%\",\"x\":75.83500000000001,\"y\":\"Chicago\"},{\"font\":{\"color\":\"white\"},\"showarrow\":false,\"text\":\"48.33%\",\"x\":24.165,\"y\":\"Atlanta\"},{\"font\":{\"color\":\"white\"},\"showarrow\":false,\"text\":\"51.67%\",\"x\":75.83500000000001,\"y\":\"Atlanta\"},{\"font\":{\"color\":\"white\"},\"showarrow\":false,\"text\":\"45.01%\",\"x\":22.505,\"y\":\"Detroit\"},{\"font\":{\"color\":\"white\"},\"showarrow\":false,\"text\":\"54.99%\",\"x\":77.495,\"y\":\"Detroit\"},{\"font\":{\"color\":\"white\"},\"showarrow\":false,\"text\":\"41.67%\",\"x\":20.835,\"y\":\"Gurgaon\"},{\"font\":{\"color\":\"white\"},\"showarrow\":false,\"text\":\"58.33%\",\"x\":79.16499999999999,\"y\":\"Gurgaon\"},{\"font\":{\"color\":\"white\"},\"showarrow\":false,\"text\":\"41.25%\",\"x\":20.625,\"y\":\"Bangalore\"},{\"font\":{\"color\":\"white\"},\"showarrow\":false,\"text\":\"58.75%\",\"x\":79.375,\"y\":\"Bangalore\"},{\"font\":{\"color\":\"white\"},\"showarrow\":false,\"text\":\"41.18%\",\"x\":20.59,\"y\":\"Makati City\"},{\"font\":{\"color\":\"white\"},\"showarrow\":false,\"text\":\"58.82%\",\"x\":79.41,\"y\":\"Makati City\"}]},                        {\"responsive\": true}                    ).then(function(){\n",
       "                            \n",
       "var gd = document.getElementById('2d3661c7-c6d4-46a8-aa0e-0d7087a4fa5d');\n",
       "var x = new MutationObserver(function (mutations, observer) {{\n",
       "        var display = window.getComputedStyle(gd).display;\n",
       "        if (!display || display === 'none') {{\n",
       "            console.log([gd, 'removed!']);\n",
       "            Plotly.purge(gd);\n",
       "            observer.disconnect();\n",
       "        }}\n",
       "}});\n",
       "\n",
       "// Listen for the removal of the full notebook cells\n",
       "var notebookContainer = gd.closest('#notebook-container');\n",
       "if (notebookContainer) {{\n",
       "    x.observe(notebookContainer, {childList: true});\n",
       "}}\n",
       "\n",
       "// Listen for the clearing of the current output cell\n",
       "var outputEl = gd.closest('.output');\n",
       "if (outputEl) {{\n",
       "    x.observe(outputEl, {childList: true});\n",
       "}}\n",
       "\n",
       "                        })                };                });            </script>        </div>"
      ]
     },
     "metadata": {},
     "output_type": "display_data"
    }
   ],
   "source": [
    "# Criando o gráfico de barras com Plotly Graph Objects\n",
    "fig = go.Figure()\n",
    "\n",
    " # Criando o gráfico de barras\n",
    "fig = px.bar(df1, x=[\"above 4.5\", \"below 4.5\"], y=\"city\", color='country',\n",
    "             category_orders={'city': df1['city'].tolist()},\n",
    "             labels={'above 4.5': 'Above 4.5%', 'below 4.5': 'Below 4.5%'})\n",
    "\n",
    "# Ajustando o layout\n",
    "fig.update_layout(title='Porcentagem de Avaliações Acima e Abaixo de 4.5 por Cidade',\n",
    "                  xaxis_title='Porcentagem',\n",
    "                  yaxis_title='Cidade')\n",
    "\n",
    "# Adicionando textos customizados diretamente nas barras\n",
    "for i, row in df1.iterrows():\n",
    "    fig.add_annotation(x=row['above 4.5'] / 2, y=row['city'],\n",
    "                       text=f'{row[\"above 4.5\"]:.2f}%',\n",
    "                       showarrow=False, font=dict(color='white'))\n",
    "\n",
    "    fig.add_annotation(x=50 + row['below 4.5'] / 2, y=row['city'],\n",
    "                       text=f'{row[\"below 4.5\"]:.2f}%',\n",
    "                       showarrow=False, font=dict(color='white'))\n",
    "\n",
    "# Mostrando o gráfico\n",
    "fig.show()\n"
   ]
  },
  {
   "cell_type": "code",
   "execution_count": 69,
   "id": "0633af26-a306-433b-8689-103f27d06fec",
   "metadata": {
    "execution": {
     "iopub.execute_input": "2024-01-13T12:21:42.178616Z",
     "iopub.status.busy": "2024-01-13T12:21:42.177440Z",
     "iopub.status.idle": "2024-01-13T12:21:42.184665Z",
     "shell.execute_reply": "2024-01-13T12:21:42.183511Z",
     "shell.execute_reply.started": "2024-01-13T12:21:42.178545Z"
    }
   },
   "outputs": [],
   "source": [
    "# 3. Qual o nome da cidade que possui mais restaurantes com nota média abaixo de 2.5?\n",
    "\n",
    "# df1=df[(df['aggregate_rating']<4.0) & (df['votes']>3)]\n",
    "\n",
    "# df1[['city','country','restaurant_id']].groupby(['city','country']).count().sort_values('restaurant_id',ascending=False).reset_index().head(10)\n",
    "\n",
    "# n° unico"
   ]
  },
  {
   "cell_type": "code",
   "execution_count": 42,
   "id": "998a8083-3be0-4b32-9d82-2da4d95ea4b9",
   "metadata": {
    "execution": {
     "iopub.execute_input": "2024-01-15T13:46:58.662987Z",
     "iopub.status.busy": "2024-01-15T13:46:58.662326Z",
     "iopub.status.idle": "2024-01-15T13:46:58.724266Z",
     "shell.execute_reply": "2024-01-15T13:46:58.722874Z",
     "shell.execute_reply.started": "2024-01-15T13:46:58.662924Z"
    }
   },
   "outputs": [
    {
     "data": {
      "text/html": [
       "<div>\n",
       "<style scoped>\n",
       "    .dataframe tbody tr th:only-of-type {\n",
       "        vertical-align: middle;\n",
       "    }\n",
       "\n",
       "    .dataframe tbody tr th {\n",
       "        vertical-align: top;\n",
       "    }\n",
       "\n",
       "    .dataframe thead th {\n",
       "        text-align: right;\n",
       "    }\n",
       "</style>\n",
       "<table border=\"1\" class=\"dataframe\">\n",
       "  <thead>\n",
       "    <tr style=\"text-align: right;\">\n",
       "      <th></th>\n",
       "      <th>city</th>\n",
       "      <th>country</th>\n",
       "      <th>below 4.5</th>\n",
       "      <th>above 4.5</th>\n",
       "    </tr>\n",
       "  </thead>\n",
       "  <tbody>\n",
       "    <tr>\n",
       "      <th>0</th>\n",
       "      <td>Fujairah</td>\n",
       "      <td>United Arab Emirates</td>\n",
       "      <td>100.00</td>\n",
       "      <td>-0.00</td>\n",
       "    </tr>\n",
       "    <tr>\n",
       "      <th>1</th>\n",
       "      <td>Shimla</td>\n",
       "      <td>India</td>\n",
       "      <td>92.41</td>\n",
       "      <td>7.59</td>\n",
       "    </tr>\n",
       "    <tr>\n",
       "      <th>2</th>\n",
       "      <td>Clarens</td>\n",
       "      <td>South Africa</td>\n",
       "      <td>84.62</td>\n",
       "      <td>15.38</td>\n",
       "    </tr>\n",
       "    <tr>\n",
       "      <th>3</th>\n",
       "      <td>Ooty</td>\n",
       "      <td>India</td>\n",
       "      <td>76.25</td>\n",
       "      <td>23.75</td>\n",
       "    </tr>\n",
       "    <tr>\n",
       "      <th>4</th>\n",
       "      <td>Brasília</td>\n",
       "      <td>Brazil</td>\n",
       "      <td>70.00</td>\n",
       "      <td>30.00</td>\n",
       "    </tr>\n",
       "    <tr>\n",
       "      <th>5</th>\n",
       "      <td>Hamilton</td>\n",
       "      <td>New Zeland</td>\n",
       "      <td>56.25</td>\n",
       "      <td>43.75</td>\n",
       "    </tr>\n",
       "    <tr>\n",
       "      <th>6</th>\n",
       "      <td>Glasgow</td>\n",
       "      <td>England</td>\n",
       "      <td>56.25</td>\n",
       "      <td>43.75</td>\n",
       "    </tr>\n",
       "    <tr>\n",
       "      <th>7</th>\n",
       "      <td>Gangtok</td>\n",
       "      <td>India</td>\n",
       "      <td>54.17</td>\n",
       "      <td>45.83</td>\n",
       "    </tr>\n",
       "    <tr>\n",
       "      <th>9</th>\n",
       "      <td>Allahabad</td>\n",
       "      <td>India</td>\n",
       "      <td>43.75</td>\n",
       "      <td>56.25</td>\n",
       "    </tr>\n",
       "    <tr>\n",
       "      <th>10</th>\n",
       "      <td>Puducherry</td>\n",
       "      <td>India</td>\n",
       "      <td>42.50</td>\n",
       "      <td>57.50</td>\n",
       "    </tr>\n",
       "  </tbody>\n",
       "</table>\n",
       "</div>"
      ],
      "text/plain": [
       "          city               country  below 4.5  above 4.5\n",
       "0     Fujairah  United Arab Emirates     100.00      -0.00\n",
       "1       Shimla                 India      92.41       7.59\n",
       "2      Clarens          South Africa      84.62      15.38\n",
       "3         Ooty                 India      76.25      23.75\n",
       "4     Brasília                Brazil      70.00      30.00\n",
       "5     Hamilton            New Zeland      56.25      43.75\n",
       "6      Glasgow               England      56.25      43.75\n",
       "7      Gangtok                 India      54.17      45.83\n",
       "9    Allahabad                 India      43.75      56.25\n",
       "10  Puducherry                 India      42.50      57.50"
      ]
     },
     "execution_count": 42,
     "metadata": {},
     "output_type": "execute_result"
    }
   ],
   "source": [
    "df1 = df[(df['aggregate_rating']<4.0) & (df['votes']>3)]\n",
    "df2 = df[['city', 'country', 'restaurant_id']].groupby(['city', 'country']).count().reset_index()  # total de restaurantes por cidade\n",
    "\n",
    "df_merged = pd.merge(df2, df1[['city', 'country', 'restaurant_id']]\n",
    "                    .groupby(['city', 'country'])\n",
    "                     .count()\n",
    "                     .reset_index(), on=['city', 'country'], how='left', suffixes=('_total', '_rating_below_4'))\n",
    "\n",
    "# cidades sem restaurantes com nota abaixo de 4 \n",
    "df_merged['restaurant_id_rating_below_4'] = df_merged['restaurant_id_rating_below_4'].fillna(0).astype(int)  \n",
    "\n",
    "df_merged['proportion_rating_below_4'] = df_merged['restaurant_id_rating_below_4'] / df_merged['restaurant_id_total']\n",
    "\n",
    "df1 = (df_merged.sort_values('proportion_rating_below_4', ascending=False)\n",
    "                .rename(columns={'restaurant_id_total':'restaurants',\n",
    "                                 'restaurant_id_rating_below_4':'rating_below_4',\n",
    "                                 'proportion_rating_below_4':'proportion'})\n",
    "                .reset_index())\n",
    "\n",
    "df1['proportion'] = (df1['proportion'] * 100).round(2)\n",
    "df1=df1[df1['restaurants']>10]\n",
    "df1=df1[['city', 'country','proportion']]\n",
    "\n",
    "df1['above 4.5']=(df1['proportion']-100) *-1\n",
    "df1=df1.rename(columns={'proportion':'below 4.5'}).sort_values('below 4.5',ascending=False)\n",
    "df1.head(10)"
   ]
  },
  {
   "cell_type": "code",
   "execution_count": 72,
   "id": "119e9e58-eb73-4143-9b2b-df044d82198f",
   "metadata": {
    "execution": {
     "iopub.execute_input": "2024-01-16T00:04:38.570528Z",
     "iopub.status.busy": "2024-01-16T00:04:38.569575Z",
     "iopub.status.idle": "2024-01-16T00:04:38.593312Z",
     "shell.execute_reply": "2024-01-16T00:04:38.591639Z",
     "shell.execute_reply.started": "2024-01-16T00:04:38.570426Z"
    }
   },
   "outputs": [
    {
     "data": {
      "text/html": [
       "<div>\n",
       "<style scoped>\n",
       "    .dataframe tbody tr th:only-of-type {\n",
       "        vertical-align: middle;\n",
       "    }\n",
       "\n",
       "    .dataframe tbody tr th {\n",
       "        vertical-align: top;\n",
       "    }\n",
       "\n",
       "    .dataframe thead th {\n",
       "        text-align: right;\n",
       "    }\n",
       "</style>\n",
       "<table border=\"1\" class=\"dataframe\">\n",
       "  <thead>\n",
       "    <tr style=\"text-align: right;\">\n",
       "      <th></th>\n",
       "      <th>city</th>\n",
       "      <th>country</th>\n",
       "      <th>restaurant_name</th>\n",
       "      <th>average_cost_for_two</th>\n",
       "    </tr>\n",
       "  </thead>\n",
       "  <tbody>\n",
       "    <tr>\n",
       "      <th>2069</th>\n",
       "      <td>Singapore</td>\n",
       "      <td>Singapure</td>\n",
       "      <td>Corner House</td>\n",
       "      <td>755.0</td>\n",
       "    </tr>\n",
       "    <tr>\n",
       "      <th>1418</th>\n",
       "      <td>New York City</td>\n",
       "      <td>United States of America</td>\n",
       "      <td>Eleven Madison Park</td>\n",
       "      <td>650.0</td>\n",
       "    </tr>\n",
       "    <tr>\n",
       "      <th>766</th>\n",
       "      <td>Chicago</td>\n",
       "      <td>United States of America</td>\n",
       "      <td>Alinea</td>\n",
       "      <td>600.0</td>\n",
       "    </tr>\n",
       "    <tr>\n",
       "      <th>1400</th>\n",
       "      <td>New York City</td>\n",
       "      <td>United States of America</td>\n",
       "      <td>Per Se</td>\n",
       "      <td>600.0</td>\n",
       "    </tr>\n",
       "    <tr>\n",
       "      <th>2000</th>\n",
       "      <td>Singapore</td>\n",
       "      <td>Singapure</td>\n",
       "      <td>Raffles Grill</td>\n",
       "      <td>500.0</td>\n",
       "    </tr>\n",
       "    <tr>\n",
       "      <th>1414</th>\n",
       "      <td>New York City</td>\n",
       "      <td>United States of America</td>\n",
       "      <td>Le Bernardin</td>\n",
       "      <td>500.0</td>\n",
       "    </tr>\n",
       "    <tr>\n",
       "      <th>2010</th>\n",
       "      <td>Singapore</td>\n",
       "      <td>Singapure</td>\n",
       "      <td>Restaurant Andre</td>\n",
       "      <td>500.0</td>\n",
       "    </tr>\n",
       "    <tr>\n",
       "      <th>2014</th>\n",
       "      <td>Singapore</td>\n",
       "      <td>Singapure</td>\n",
       "      <td>Odette</td>\n",
       "      <td>490.0</td>\n",
       "    </tr>\n",
       "    <tr>\n",
       "      <th>33</th>\n",
       "      <td>Pasay City</td>\n",
       "      <td>Philippines</td>\n",
       "      <td>Spiral - Sofitel Philippine Plaza Manila</td>\n",
       "      <td>444.0</td>\n",
       "    </tr>\n",
       "    <tr>\n",
       "      <th>1888</th>\n",
       "      <td>San Francisco</td>\n",
       "      <td>United States of America</td>\n",
       "      <td>Quince</td>\n",
       "      <td>440.0</td>\n",
       "    </tr>\n",
       "  </tbody>\n",
       "</table>\n",
       "</div>"
      ],
      "text/plain": [
       "               city                   country  \\\n",
       "2069      Singapore                 Singapure   \n",
       "1418  New York City  United States of America   \n",
       "766         Chicago  United States of America   \n",
       "1400  New York City  United States of America   \n",
       "2000      Singapore                 Singapure   \n",
       "1414  New York City  United States of America   \n",
       "2010      Singapore                 Singapure   \n",
       "2014      Singapore                 Singapure   \n",
       "33       Pasay City               Philippines   \n",
       "1888  San Francisco  United States of America   \n",
       "\n",
       "                               restaurant_name  average_cost_for_two  \n",
       "2069                              Corner House                 755.0  \n",
       "1418                       Eleven Madison Park                 650.0  \n",
       "766                                     Alinea                 600.0  \n",
       "1400                                    Per Se                 600.0  \n",
       "2000                             Raffles Grill                 500.0  \n",
       "1414                              Le Bernardin                 500.0  \n",
       "2010                          Restaurant Andre                 500.0  \n",
       "2014                                    Odette                 490.0  \n",
       "33    Spiral - Sofitel Philippine Plaza Manila                 444.0  \n",
       "1888                                    Quince                 440.0  "
      ]
     },
     "execution_count": 72,
     "metadata": {},
     "output_type": "execute_result"
    }
   ],
   "source": [
    "# 4. Qual o nome da cidade que possui o maior valor médio de um prato para dois?\n",
    "\n",
    "df[['city','country','restaurant_name','average_cost_for_two']].sort_values('average_cost_for_two',ascending=False).head(10)\n",
    "# (df[['city','country','average_cost_for_two']].groupby(['city','country']).count().reset_index()\n",
    "#                                                       .sort_values('average_cost_for_two',ascending=False).head(10))\n",
    "# n° unico"
   ]
  },
  {
   "cell_type": "code",
   "execution_count": 62,
   "id": "cf019ca2-5443-4b56-be78-a0be980c59be",
   "metadata": {
    "execution": {
     "iopub.execute_input": "2024-01-08T16:14:49.857400Z",
     "iopub.status.busy": "2024-01-08T16:14:49.856889Z",
     "iopub.status.idle": "2024-01-08T16:14:50.084155Z",
     "shell.execute_reply": "2024-01-08T16:14:50.082597Z",
     "shell.execute_reply.started": "2024-01-08T16:14:49.857361Z"
    }
   },
   "outputs": [
    {
     "data": {
      "text/html": [
       "<div>\n",
       "<style scoped>\n",
       "    .dataframe tbody tr th:only-of-type {\n",
       "        vertical-align: middle;\n",
       "    }\n",
       "\n",
       "    .dataframe tbody tr th {\n",
       "        vertical-align: top;\n",
       "    }\n",
       "\n",
       "    .dataframe thead th {\n",
       "        text-align: right;\n",
       "    }\n",
       "</style>\n",
       "<table border=\"1\" class=\"dataframe\">\n",
       "  <thead>\n",
       "    <tr style=\"text-align: right;\">\n",
       "      <th></th>\n",
       "      <th>city</th>\n",
       "      <th>country</th>\n",
       "      <th>var1</th>\n",
       "    </tr>\n",
       "  </thead>\n",
       "  <tbody>\n",
       "    <tr>\n",
       "      <th>0</th>\n",
       "      <td>Dubai</td>\n",
       "      <td>United Arab Emirates</td>\n",
       "      <td>53</td>\n",
       "    </tr>\n",
       "    <tr>\n",
       "      <th>1</th>\n",
       "      <td>Chennai</td>\n",
       "      <td>India</td>\n",
       "      <td>46</td>\n",
       "    </tr>\n",
       "    <tr>\n",
       "      <th>2</th>\n",
       "      <td>London</td>\n",
       "      <td>England</td>\n",
       "      <td>46</td>\n",
       "    </tr>\n",
       "    <tr>\n",
       "      <th>3</th>\n",
       "      <td>Mumbai</td>\n",
       "      <td>India</td>\n",
       "      <td>46</td>\n",
       "    </tr>\n",
       "    <tr>\n",
       "      <th>4</th>\n",
       "      <td>Doha</td>\n",
       "      <td>Qatar</td>\n",
       "      <td>46</td>\n",
       "    </tr>\n",
       "    <tr>\n",
       "      <th>5</th>\n",
       "      <td>Abu Dhabi</td>\n",
       "      <td>United Arab Emirates</td>\n",
       "      <td>45</td>\n",
       "    </tr>\n",
       "    <tr>\n",
       "      <th>6</th>\n",
       "      <td>Montreal</td>\n",
       "      <td>Canada</td>\n",
       "      <td>45</td>\n",
       "    </tr>\n",
       "    <tr>\n",
       "      <th>7</th>\n",
       "      <td>Auckland</td>\n",
       "      <td>New Zeland</td>\n",
       "      <td>45</td>\n",
       "    </tr>\n",
       "    <tr>\n",
       "      <th>8</th>\n",
       "      <td>Puducherry</td>\n",
       "      <td>India</td>\n",
       "      <td>44</td>\n",
       "    </tr>\n",
       "    <tr>\n",
       "      <th>9</th>\n",
       "      <td>Calgary</td>\n",
       "      <td>Canada</td>\n",
       "      <td>44</td>\n",
       "    </tr>\n",
       "  </tbody>\n",
       "</table>\n",
       "</div>"
      ],
      "text/plain": [
       "         city               country  var1\n",
       "0       Dubai  United Arab Emirates    53\n",
       "1     Chennai                 India    46\n",
       "2      London               England    46\n",
       "3      Mumbai                 India    46\n",
       "4        Doha                 Qatar    46\n",
       "5   Abu Dhabi  United Arab Emirates    45\n",
       "6    Montreal                Canada    45\n",
       "7    Auckland            New Zeland    45\n",
       "8  Puducherry                 India    44\n",
       "9     Calgary                Canada    44"
      ]
     },
     "execution_count": 62,
     "metadata": {},
     "output_type": "execute_result"
    }
   ],
   "source": [
    "# 5. Qual o nome da cidade que possui a maior quantidade de tipos de culinária distintas?\n",
    "\n",
    "list=df['cuisines'].str.split(',',expand=True)\n",
    "list= list.replace(',','', regex=True)\n",
    "list= list.replace(' ','', regex=True)\n",
    "list[['city','country']]=df[['city','country']]\n",
    "list.fillna('empty', inplace=True)\n",
    "list=list.drop_duplicates(ignore_index=True)\n",
    "\n",
    "list['Combined'] = list[0].astype(str) +','+ list[1] +','+list[2]+','+list[3]+','+list[4]+','+list[5]+','+list[6]+','+list[7] \n",
    "\n",
    "list= list.replace(',empty','', regex=True)\n",
    "list=list[['Combined','city','country']]\n",
    "list=list.assign(var1=list['Combined'].str.split(',')).explode('var1')\n",
    "list=list.drop(columns=['Combined'])\n",
    "list=list.drop_duplicates(ignore_index=True)\n",
    "list[['city','country','var1']].groupby(['city','country']).count().sort_values('var1',ascending=False).reset_index().head(10)\n",
    "# list=cuisines(df,'city')\n",
    "# list"
   ]
  },
  {
   "cell_type": "code",
   "execution_count": 64,
   "id": "ca6c606d-1ed4-467e-a2e3-97537e865506",
   "metadata": {
    "execution": {
     "iopub.execute_input": "2024-01-08T16:15:12.187015Z",
     "iopub.status.busy": "2024-01-08T16:15:12.184885Z",
     "iopub.status.idle": "2024-01-08T16:15:12.209814Z",
     "shell.execute_reply": "2024-01-08T16:15:12.208615Z",
     "shell.execute_reply.started": "2024-01-08T16:15:12.186894Z"
    }
   },
   "outputs": [
    {
     "data": {
      "text/plain": [
       "city     \n",
       "Bangalore    47\n",
       "Chennai      35\n",
       "Pune         31\n",
       "Mumbai       23\n",
       "New Delhi    17\n",
       "Auckland     17\n",
       "Brisbane     17\n",
       "London       15\n",
       "Hyderabad    15\n",
       "Edinburgh    13\n",
       "Name: count, dtype: int64"
      ]
     },
     "execution_count": 64,
     "metadata": {},
     "output_type": "execute_result"
    }
   ],
   "source": [
    "# 6. Qual o nome da cidade que possui a maior quantidade de restaurantes que fazem reservas?\n",
    "\n",
    "df1=df[df['has_table_booking']==1]\n",
    "df1['city'].value_counts().head(10)"
   ]
  },
  {
   "cell_type": "code",
   "execution_count": 65,
   "id": "f731e39c-ca12-4c20-930b-1fc1fe6f1e25",
   "metadata": {
    "execution": {
     "iopub.execute_input": "2024-01-08T16:15:22.642890Z",
     "iopub.status.busy": "2024-01-08T16:15:22.636777Z",
     "iopub.status.idle": "2024-01-08T16:15:22.660688Z",
     "shell.execute_reply": "2024-01-08T16:15:22.659297Z",
     "shell.execute_reply.started": "2024-01-08T16:15:22.642812Z"
    }
   },
   "outputs": [
    {
     "data": {
      "text/plain": [
       "city\n",
       "Aurangabad    53\n",
       "Vadodara      52\n",
       "Bhopal        50\n",
       "Ludhiana      50\n",
       "Jaipur        49\n",
       "Amritsar      48\n",
       "Dehradun      48\n",
       "Ahmedabad     47\n",
       "Ranchi        43\n",
       "Varanasi      43\n",
       "Name: count, dtype: int64"
      ]
     },
     "execution_count": 65,
     "metadata": {},
     "output_type": "execute_result"
    }
   ],
   "source": [
    "# 7. Qual o nome da cidade que possui a maior quantidade de restaurantes que fazem entregas?\n",
    "\n",
    "df1=df[df['is_delivering_now']==1]\n",
    "df1['city'].value_counts().head(10)"
   ]
  },
  {
   "cell_type": "code",
   "execution_count": 66,
   "id": "a0e7410b-fa83-4259-b9ab-3e9cbe41b337",
   "metadata": {
    "execution": {
     "iopub.execute_input": "2024-01-08T16:15:26.326353Z",
     "iopub.status.busy": "2024-01-08T16:15:26.325655Z",
     "iopub.status.idle": "2024-01-08T16:15:26.342033Z",
     "shell.execute_reply": "2024-01-08T16:15:26.340857Z",
     "shell.execute_reply.started": "2024-01-08T16:15:26.326289Z"
    }
   },
   "outputs": [
    {
     "data": {
      "text/plain": [
       "city\n",
       "Abu Dhabi     86\n",
       "Bhopal        81\n",
       "Nagpur        80\n",
       "Sharjah       80\n",
       "Vadodara      79\n",
       "Aurangabad    76\n",
       "Patna         74\n",
       "Allahabad     74\n",
       "Kolkata       73\n",
       "Surat         73\n",
       "Name: count, dtype: int64"
      ]
     },
     "execution_count": 66,
     "metadata": {},
     "output_type": "execute_result"
    }
   ],
   "source": [
    "# 8. Qual o nome da cidade que possui a maior quantidade de restaurantes que aceitam pedidos online?\n",
    "\n",
    "df1=df[df['has_online_delivery']==1]\n",
    "df1['city'].value_counts().head(10)"
   ]
  },
  {
   "cell_type": "markdown",
   "id": "c8015be1-7302-4735-9db4-1544abe63a81",
   "metadata": {
    "execution": {
     "iopub.execute_input": "2024-01-04T16:50:18.275228Z",
     "iopub.status.busy": "2024-01-04T16:50:18.274215Z",
     "iopub.status.idle": "2024-01-04T16:50:18.281185Z",
     "shell.execute_reply": "2024-01-04T16:50:18.279427Z",
     "shell.execute_reply.started": "2024-01-04T16:50:18.275164Z"
    }
   },
   "source": [
    "# Restaurantes"
   ]
  },
  {
   "cell_type": "code",
   "execution_count": 68,
   "id": "e081958e-5949-4bce-8884-45f00fe25cd8",
   "metadata": {
    "execution": {
     "iopub.execute_input": "2024-01-08T16:16:09.350985Z",
     "iopub.status.busy": "2024-01-08T16:16:09.350151Z",
     "iopub.status.idle": "2024-01-08T16:16:09.381347Z",
     "shell.execute_reply": "2024-01-08T16:16:09.379027Z",
     "shell.execute_reply.started": "2024-01-08T16:16:09.350942Z"
    }
   },
   "outputs": [
    {
     "data": {
      "text/html": [
       "<div>\n",
       "<style scoped>\n",
       "    .dataframe tbody tr th:only-of-type {\n",
       "        vertical-align: middle;\n",
       "    }\n",
       "\n",
       "    .dataframe tbody tr th {\n",
       "        vertical-align: top;\n",
       "    }\n",
       "\n",
       "    .dataframe thead th {\n",
       "        text-align: right;\n",
       "    }\n",
       "</style>\n",
       "<table border=\"1\" class=\"dataframe\">\n",
       "  <thead>\n",
       "    <tr style=\"text-align: right;\">\n",
       "      <th></th>\n",
       "      <th>restaurant_name</th>\n",
       "      <th>country</th>\n",
       "      <th>votes</th>\n",
       "    </tr>\n",
       "  </thead>\n",
       "  <tbody>\n",
       "    <tr>\n",
       "      <th>0</th>\n",
       "      <td>Domino's Pizza</td>\n",
       "      <td>India</td>\n",
       "      <td>119498</td>\n",
       "    </tr>\n",
       "    <tr>\n",
       "      <th>1</th>\n",
       "      <td>AB's - Absolute Barbecues</td>\n",
       "      <td>India</td>\n",
       "      <td>117750</td>\n",
       "    </tr>\n",
       "    <tr>\n",
       "      <th>2</th>\n",
       "      <td>Chili's Grill &amp; Bar</td>\n",
       "      <td>India</td>\n",
       "      <td>55378</td>\n",
       "    </tr>\n",
       "    <tr>\n",
       "      <th>3</th>\n",
       "      <td>Barbeque Nation</td>\n",
       "      <td>India</td>\n",
       "      <td>51538</td>\n",
       "    </tr>\n",
       "    <tr>\n",
       "      <th>4</th>\n",
       "      <td>Bawarchi</td>\n",
       "      <td>India</td>\n",
       "      <td>41711</td>\n",
       "    </tr>\n",
       "    <tr>\n",
       "      <th>5</th>\n",
       "      <td>Paradise</td>\n",
       "      <td>India</td>\n",
       "      <td>36996</td>\n",
       "    </tr>\n",
       "    <tr>\n",
       "      <th>6</th>\n",
       "      <td>Joey's Pizza</td>\n",
       "      <td>India</td>\n",
       "      <td>32026</td>\n",
       "    </tr>\n",
       "    <tr>\n",
       "      <th>7</th>\n",
       "      <td>KFC</td>\n",
       "      <td>India</td>\n",
       "      <td>29227</td>\n",
       "    </tr>\n",
       "    <tr>\n",
       "      <th>8</th>\n",
       "      <td>Chili's American Grill &amp; Bar</td>\n",
       "      <td>India</td>\n",
       "      <td>28808</td>\n",
       "    </tr>\n",
       "    <tr>\n",
       "      <th>9</th>\n",
       "      <td>Empire Restaurant</td>\n",
       "      <td>India</td>\n",
       "      <td>24560</td>\n",
       "    </tr>\n",
       "  </tbody>\n",
       "</table>\n",
       "</div>"
      ],
      "text/plain": [
       "                restaurant_name country   votes\n",
       "0                Domino's Pizza   India  119498\n",
       "1     AB's - Absolute Barbecues   India  117750\n",
       "2           Chili's Grill & Bar   India   55378\n",
       "3               Barbeque Nation   India   51538\n",
       "4                      Bawarchi   India   41711\n",
       "5                      Paradise   India   36996\n",
       "6                  Joey's Pizza   India   32026\n",
       "7                           KFC   India   29227\n",
       "8  Chili's American Grill & Bar   India   28808\n",
       "9             Empire Restaurant   India   24560"
      ]
     },
     "execution_count": 68,
     "metadata": {},
     "output_type": "execute_result"
    }
   ],
   "source": [
    "# 1. Qual o nome do restaurante que possui a maior quantidade de avaliações?\n",
    "\n",
    "df[['restaurant_name','country','votes']].groupby(['restaurant_name','country']).sum().sort_values('votes',ascending=False).reset_index().head(10)"
   ]
  },
  {
   "cell_type": "code",
   "execution_count": 19,
   "id": "2324f8c2-55ce-4685-99f2-eb45a3415e3b",
   "metadata": {
    "execution": {
     "iopub.execute_input": "2024-01-16T12:27:23.910017Z",
     "iopub.status.busy": "2024-01-16T12:27:23.909422Z",
     "iopub.status.idle": "2024-01-16T12:27:23.936594Z",
     "shell.execute_reply": "2024-01-16T12:27:23.935209Z",
     "shell.execute_reply.started": "2024-01-16T12:27:23.909960Z"
    }
   },
   "outputs": [
    {
     "data": {
      "text/html": [
       "<div>\n",
       "<style scoped>\n",
       "    .dataframe tbody tr th:only-of-type {\n",
       "        vertical-align: middle;\n",
       "    }\n",
       "\n",
       "    .dataframe tbody tr th {\n",
       "        vertical-align: top;\n",
       "    }\n",
       "\n",
       "    .dataframe thead th {\n",
       "        text-align: right;\n",
       "    }\n",
       "</style>\n",
       "<table border=\"1\" class=\"dataframe\">\n",
       "  <thead>\n",
       "    <tr style=\"text-align: right;\">\n",
       "      <th></th>\n",
       "      <th>restaurant_name</th>\n",
       "      <th>country</th>\n",
       "      <th>aggregate_rating</th>\n",
       "    </tr>\n",
       "  </thead>\n",
       "  <tbody>\n",
       "    <tr>\n",
       "      <th>782</th>\n",
       "      <td>Smoque BBQ</td>\n",
       "      <td>United States of America</td>\n",
       "      <td>4.9</td>\n",
       "    </tr>\n",
       "    <tr>\n",
       "      <th>830</th>\n",
       "      <td>Sweet Georgia Brown</td>\n",
       "      <td>United States of America</td>\n",
       "      <td>4.9</td>\n",
       "    </tr>\n",
       "    <tr>\n",
       "      <th>3158</th>\n",
       "      <td>Bhangra</td>\n",
       "      <td>India</td>\n",
       "      <td>4.9</td>\n",
       "    </tr>\n",
       "    <tr>\n",
       "      <th>5810</th>\n",
       "      <td>Ombra</td>\n",
       "      <td>New Zeland</td>\n",
       "      <td>4.9</td>\n",
       "    </tr>\n",
       "    <tr>\n",
       "      <th>674</th>\n",
       "      <td>Village Ice Cream</td>\n",
       "      <td>Canada</td>\n",
       "      <td>4.9</td>\n",
       "    </tr>\n",
       "    <tr>\n",
       "      <th>649</th>\n",
       "      <td>The Himalayan</td>\n",
       "      <td>Canada</td>\n",
       "      <td>4.9</td>\n",
       "    </tr>\n",
       "    <tr>\n",
       "      <th>1964</th>\n",
       "      <td>Paseo</td>\n",
       "      <td>United States of America</td>\n",
       "      <td>4.9</td>\n",
       "    </tr>\n",
       "    <tr>\n",
       "      <th>1970</th>\n",
       "      <td>The Harvest Vine</td>\n",
       "      <td>United States of America</td>\n",
       "      <td>4.9</td>\n",
       "    </tr>\n",
       "    <tr>\n",
       "      <th>5928</th>\n",
       "      <td>The Delhi</td>\n",
       "      <td>England</td>\n",
       "      <td>4.9</td>\n",
       "    </tr>\n",
       "    <tr>\n",
       "      <th>632</th>\n",
       "      <td>Jacaranda Coffee Lane</td>\n",
       "      <td>Australia</td>\n",
       "      <td>4.9</td>\n",
       "    </tr>\n",
       "  </tbody>\n",
       "</table>\n",
       "</div>"
      ],
      "text/plain": [
       "            restaurant_name                   country  aggregate_rating\n",
       "782              Smoque BBQ  United States of America               4.9\n",
       "830     Sweet Georgia Brown  United States of America               4.9\n",
       "3158                Bhangra                     India               4.9\n",
       "5810                  Ombra                New Zeland               4.9\n",
       "674       Village Ice Cream                    Canada               4.9\n",
       "649           The Himalayan                    Canada               4.9\n",
       "1964                  Paseo  United States of America               4.9\n",
       "1970       The Harvest Vine  United States of America               4.9\n",
       "5928              The Delhi                   England               4.9\n",
       "632   Jacaranda Coffee Lane                 Australia               4.9"
      ]
     },
     "execution_count": 19,
     "metadata": {},
     "output_type": "execute_result"
    }
   ],
   "source": [
    "# 2. Qual o nome do restaurante com a maior nota média?\n",
    "\n",
    "df1=df[df['votes']>3]\n",
    "\n",
    "df1[['restaurant_name','country','aggregate_rating']].sort_values('aggregate_rating',ascending=False).head(10)"
   ]
  },
  {
   "cell_type": "code",
   "execution_count": 51,
   "id": "4af498f4-574b-45bc-890a-5f4688a91581",
   "metadata": {
    "execution": {
     "iopub.execute_input": "2024-01-16T21:20:45.679214Z",
     "iopub.status.busy": "2024-01-16T21:20:45.678588Z",
     "iopub.status.idle": "2024-01-16T21:20:45.693394Z",
     "shell.execute_reply": "2024-01-16T21:20:45.691514Z",
     "shell.execute_reply.started": "2024-01-16T21:20:45.679147Z"
    }
   },
   "outputs": [
    {
     "data": {
      "text/plain": [
       "Index(['restaurant_id', 'restaurant_name', 'country_code', 'city', 'address',\n",
       "       'locality', 'locality_verbose', 'longitude', 'latitude', 'cuisines',\n",
       "       'average_cost_for_two', 'currency', 'has_table_booking',\n",
       "       'has_online_delivery', 'is_delivering_now', 'price_range',\n",
       "       'aggregate_rating', 'rating_color', 'rating_text', 'votes', 'country',\n",
       "       'cuisines_n°'],\n",
       "      dtype='object')"
      ]
     },
     "execution_count": 51,
     "metadata": {},
     "output_type": "execute_result"
    }
   ],
   "source": [
    "df.columns"
   ]
  },
  {
   "cell_type": "code",
   "execution_count": 74,
   "id": "0dfdeb2b-3a4f-43a9-8537-e1737770674f",
   "metadata": {
    "execution": {
     "iopub.execute_input": "2024-01-08T16:19:29.303300Z",
     "iopub.status.busy": "2024-01-08T16:19:29.302601Z",
     "iopub.status.idle": "2024-01-08T16:19:29.331833Z",
     "shell.execute_reply": "2024-01-08T16:19:29.330897Z",
     "shell.execute_reply.started": "2024-01-08T16:19:29.303211Z"
    }
   },
   "outputs": [
    {
     "data": {
      "text/html": [
       "<div>\n",
       "<style scoped>\n",
       "    .dataframe tbody tr th:only-of-type {\n",
       "        vertical-align: middle;\n",
       "    }\n",
       "\n",
       "    .dataframe tbody tr th {\n",
       "        vertical-align: top;\n",
       "    }\n",
       "\n",
       "    .dataframe thead th {\n",
       "        text-align: right;\n",
       "    }\n",
       "</style>\n",
       "<table border=\"1\" class=\"dataframe\">\n",
       "  <thead>\n",
       "    <tr style=\"text-align: right;\">\n",
       "      <th></th>\n",
       "      <th>restaurant_name</th>\n",
       "      <th>country</th>\n",
       "      <th>aggregate_rating</th>\n",
       "    </tr>\n",
       "  </thead>\n",
       "  <tbody>\n",
       "    <tr>\n",
       "      <th>7351</th>\n",
       "      <td>Marco Pascha</td>\n",
       "      <td>Turkey</td>\n",
       "      <td>2.1</td>\n",
       "    </tr>\n",
       "    <tr>\n",
       "      <th>7019</th>\n",
       "      <td>Moyo</td>\n",
       "      <td>South Africa</td>\n",
       "      <td>2.2</td>\n",
       "    </tr>\n",
       "    <tr>\n",
       "      <th>7189</th>\n",
       "      <td>Guy Fieri's Kitchen &amp; Bar</td>\n",
       "      <td>South Africa</td>\n",
       "      <td>2.2</td>\n",
       "    </tr>\n",
       "    <tr>\n",
       "      <th>7190</th>\n",
       "      <td>Guy Fieri's Kitchen &amp; Bar</td>\n",
       "      <td>South Africa</td>\n",
       "      <td>2.2</td>\n",
       "    </tr>\n",
       "    <tr>\n",
       "      <th>1583</th>\n",
       "      <td>Siena's</td>\n",
       "      <td>Australia</td>\n",
       "      <td>2.3</td>\n",
       "    </tr>\n",
       "    <tr>\n",
       "      <th>5357</th>\n",
       "      <td>Madame Shanthe's</td>\n",
       "      <td>India</td>\n",
       "      <td>2.3</td>\n",
       "    </tr>\n",
       "    <tr>\n",
       "      <th>7263</th>\n",
       "      <td>Bliss lounge</td>\n",
       "      <td>Sri Lanka</td>\n",
       "      <td>2.3</td>\n",
       "    </tr>\n",
       "    <tr>\n",
       "      <th>5358</th>\n",
       "      <td>Madame Shanthe's</td>\n",
       "      <td>India</td>\n",
       "      <td>2.3</td>\n",
       "    </tr>\n",
       "    <tr>\n",
       "      <th>6216</th>\n",
       "      <td>Metropolis Caffe</td>\n",
       "      <td>New Zeland</td>\n",
       "      <td>2.3</td>\n",
       "    </tr>\n",
       "    <tr>\n",
       "      <th>4988</th>\n",
       "      <td>The Biryani Kitchen</td>\n",
       "      <td>India</td>\n",
       "      <td>2.3</td>\n",
       "    </tr>\n",
       "  </tbody>\n",
       "</table>\n",
       "</div>"
      ],
      "text/plain": [
       "                restaurant_name       country  aggregate_rating\n",
       "7351               Marco Pascha        Turkey               2.1\n",
       "7019                       Moyo  South Africa               2.2\n",
       "7189  Guy Fieri's Kitchen & Bar  South Africa               2.2\n",
       "7190  Guy Fieri's Kitchen & Bar  South Africa               2.2\n",
       "1583                    Siena's     Australia               2.3\n",
       "5357           Madame Shanthe's         India               2.3\n",
       "7263               Bliss lounge     Sri Lanka               2.3\n",
       "5358           Madame Shanthe's         India               2.3\n",
       "6216           Metropolis Caffe    New Zeland               2.3\n",
       "4988        The Biryani Kitchen         India               2.3"
      ]
     },
     "execution_count": 74,
     "metadata": {},
     "output_type": "execute_result"
    }
   ],
   "source": [
    "df1=df[df['votes']>3]\n",
    "\n",
    "df1[['restaurant_name','country','aggregate_rating']].sort_values('aggregate_rating',ascending=True).head(10)"
   ]
  },
  {
   "cell_type": "code",
   "execution_count": 21,
   "id": "c98f8ba7-5a79-4616-a86d-cf645e910b6b",
   "metadata": {
    "execution": {
     "iopub.execute_input": "2024-01-16T18:24:42.895328Z",
     "iopub.status.busy": "2024-01-16T18:24:42.894610Z",
     "iopub.status.idle": "2024-01-16T18:24:42.921975Z",
     "shell.execute_reply": "2024-01-16T18:24:42.920855Z",
     "shell.execute_reply.started": "2024-01-16T18:24:42.895267Z"
    }
   },
   "outputs": [
    {
     "data": {
      "text/html": [
       "<div>\n",
       "<style scoped>\n",
       "    .dataframe tbody tr th:only-of-type {\n",
       "        vertical-align: middle;\n",
       "    }\n",
       "\n",
       "    .dataframe tbody tr th {\n",
       "        vertical-align: top;\n",
       "    }\n",
       "\n",
       "    .dataframe thead th {\n",
       "        text-align: right;\n",
       "    }\n",
       "</style>\n",
       "<table border=\"1\" class=\"dataframe\">\n",
       "  <thead>\n",
       "    <tr style=\"text-align: right;\">\n",
       "      <th></th>\n",
       "      <th>restaurant_name</th>\n",
       "      <th>city</th>\n",
       "      <th>country</th>\n",
       "      <th>average_cost_for_two</th>\n",
       "    </tr>\n",
       "  </thead>\n",
       "  <tbody>\n",
       "    <tr>\n",
       "      <th>2069</th>\n",
       "      <td>Corner House</td>\n",
       "      <td>Singapore</td>\n",
       "      <td>Singapure</td>\n",
       "      <td>755.0</td>\n",
       "    </tr>\n",
       "    <tr>\n",
       "      <th>1418</th>\n",
       "      <td>Eleven Madison Park</td>\n",
       "      <td>New York City</td>\n",
       "      <td>United States of America</td>\n",
       "      <td>650.0</td>\n",
       "    </tr>\n",
       "    <tr>\n",
       "      <th>766</th>\n",
       "      <td>Alinea</td>\n",
       "      <td>Chicago</td>\n",
       "      <td>United States of America</td>\n",
       "      <td>600.0</td>\n",
       "    </tr>\n",
       "    <tr>\n",
       "      <th>1400</th>\n",
       "      <td>Per Se</td>\n",
       "      <td>New York City</td>\n",
       "      <td>United States of America</td>\n",
       "      <td>600.0</td>\n",
       "    </tr>\n",
       "    <tr>\n",
       "      <th>2000</th>\n",
       "      <td>Raffles Grill</td>\n",
       "      <td>Singapore</td>\n",
       "      <td>Singapure</td>\n",
       "      <td>500.0</td>\n",
       "    </tr>\n",
       "    <tr>\n",
       "      <th>1414</th>\n",
       "      <td>Le Bernardin</td>\n",
       "      <td>New York City</td>\n",
       "      <td>United States of America</td>\n",
       "      <td>500.0</td>\n",
       "    </tr>\n",
       "    <tr>\n",
       "      <th>2010</th>\n",
       "      <td>Restaurant Andre</td>\n",
       "      <td>Singapore</td>\n",
       "      <td>Singapure</td>\n",
       "      <td>500.0</td>\n",
       "    </tr>\n",
       "    <tr>\n",
       "      <th>2014</th>\n",
       "      <td>Odette</td>\n",
       "      <td>Singapore</td>\n",
       "      <td>Singapure</td>\n",
       "      <td>490.0</td>\n",
       "    </tr>\n",
       "    <tr>\n",
       "      <th>33</th>\n",
       "      <td>Spiral - Sofitel Philippine Plaza Manila</td>\n",
       "      <td>Pasay City</td>\n",
       "      <td>Philippines</td>\n",
       "      <td>444.0</td>\n",
       "    </tr>\n",
       "    <tr>\n",
       "      <th>1888</th>\n",
       "      <td>Quince</td>\n",
       "      <td>San Francisco</td>\n",
       "      <td>United States of America</td>\n",
       "      <td>440.0</td>\n",
       "    </tr>\n",
       "  </tbody>\n",
       "</table>\n",
       "</div>"
      ],
      "text/plain": [
       "                               restaurant_name           city  \\\n",
       "2069                              Corner House      Singapore   \n",
       "1418                       Eleven Madison Park  New York City   \n",
       "766                                     Alinea        Chicago   \n",
       "1400                                    Per Se  New York City   \n",
       "2000                             Raffles Grill      Singapore   \n",
       "1414                              Le Bernardin  New York City   \n",
       "2010                          Restaurant Andre      Singapore   \n",
       "2014                                    Odette      Singapore   \n",
       "33    Spiral - Sofitel Philippine Plaza Manila     Pasay City   \n",
       "1888                                    Quince  San Francisco   \n",
       "\n",
       "                       country  average_cost_for_two  \n",
       "2069                 Singapure                 755.0  \n",
       "1418  United States of America                 650.0  \n",
       "766   United States of America                 600.0  \n",
       "1400  United States of America                 600.0  \n",
       "2000                 Singapure                 500.0  \n",
       "1414  United States of America                 500.0  \n",
       "2010                 Singapure                 500.0  \n",
       "2014                 Singapure                 490.0  \n",
       "33                 Philippines                 444.0  \n",
       "1888  United States of America                 440.0  "
      ]
     },
     "execution_count": 21,
     "metadata": {},
     "output_type": "execute_result"
    }
   ],
   "source": [
    "# 3. Qual o nome do restaurante que possui o maior valor de uma prato para duas pessoas?\n",
    "\n",
    "df[['restaurant_name','city','country','average_cost_for_two']].sort_values('average_cost_for_two',ascending=False).head(10)"
   ]
  },
  {
   "cell_type": "code",
   "execution_count": 73,
   "id": "4e9f7db8-6340-4ab0-a655-4555611a872f",
   "metadata": {
    "execution": {
     "iopub.execute_input": "2024-01-08T16:17:49.065283Z",
     "iopub.status.busy": "2024-01-08T16:17:49.063758Z",
     "iopub.status.idle": "2024-01-08T16:17:49.087191Z",
     "shell.execute_reply": "2024-01-08T16:17:49.085736Z",
     "shell.execute_reply.started": "2024-01-08T16:17:49.065217Z"
    }
   },
   "outputs": [
    {
     "data": {
      "text/html": [
       "<div>\n",
       "<style scoped>\n",
       "    .dataframe tbody tr th:only-of-type {\n",
       "        vertical-align: middle;\n",
       "    }\n",
       "\n",
       "    .dataframe tbody tr th {\n",
       "        vertical-align: top;\n",
       "    }\n",
       "\n",
       "    .dataframe thead th {\n",
       "        text-align: right;\n",
       "    }\n",
       "</style>\n",
       "<table border=\"1\" class=\"dataframe\">\n",
       "  <thead>\n",
       "    <tr style=\"text-align: right;\">\n",
       "      <th></th>\n",
       "      <th>restaurant_name</th>\n",
       "      <th>aggregate_rating</th>\n",
       "    </tr>\n",
       "  </thead>\n",
       "  <tbody>\n",
       "    <tr>\n",
       "      <th>259</th>\n",
       "      <td>Café das Estrelas</td>\n",
       "      <td>3.0</td>\n",
       "    </tr>\n",
       "    <tr>\n",
       "      <th>258</th>\n",
       "      <td>Café das Estrelas</td>\n",
       "      <td>3.0</td>\n",
       "    </tr>\n",
       "    <tr>\n",
       "      <th>91</th>\n",
       "      <td>Confraria Chico Mineiro</td>\n",
       "      <td>3.3</td>\n",
       "    </tr>\n",
       "    <tr>\n",
       "      <th>146</th>\n",
       "      <td>Liv Lounge</td>\n",
       "      <td>3.3</td>\n",
       "    </tr>\n",
       "    <tr>\n",
       "      <th>102</th>\n",
       "      <td>Maori</td>\n",
       "      <td>3.6</td>\n",
       "    </tr>\n",
       "    <tr>\n",
       "      <th>6551</th>\n",
       "      <td>Viva Brazil</td>\n",
       "      <td>3.6</td>\n",
       "    </tr>\n",
       "    <tr>\n",
       "      <th>247</th>\n",
       "      <td>Leme Light</td>\n",
       "      <td>4.1</td>\n",
       "    </tr>\n",
       "    <tr>\n",
       "      <th>196</th>\n",
       "      <td>Monchique</td>\n",
       "      <td>4.2</td>\n",
       "    </tr>\n",
       "    <tr>\n",
       "      <th>1040</th>\n",
       "      <td>Gaucho Steakhouse</td>\n",
       "      <td>4.2</td>\n",
       "    </tr>\n",
       "    <tr>\n",
       "      <th>6721</th>\n",
       "      <td>Bem Brasil</td>\n",
       "      <td>4.3</td>\n",
       "    </tr>\n",
       "  </tbody>\n",
       "</table>\n",
       "</div>"
      ],
      "text/plain": [
       "              restaurant_name  aggregate_rating\n",
       "259         Café das Estrelas               3.0\n",
       "258         Café das Estrelas               3.0\n",
       "91    Confraria Chico Mineiro               3.3\n",
       "146                Liv Lounge               3.3\n",
       "102                     Maori               3.6\n",
       "6551              Viva Brazil               3.6\n",
       "247                Leme Light               4.1\n",
       "196                 Monchique               4.2\n",
       "1040        Gaucho Steakhouse               4.2\n",
       "6721               Bem Brasil               4.3"
      ]
     },
     "execution_count": 73,
     "metadata": {},
     "output_type": "execute_result"
    }
   ],
   "source": [
    "# 4. Qual o nome do restaurante de tipo de culinária brasileira que possui a menor média de avaliação?\n",
    "\n",
    "df1=df[(df['cuisines']=='Brazilian') & (df['votes']>3)] \n",
    "df1[['restaurant_name','aggregate_rating']].sort_values('aggregate_rating',ascending=True).head(10)"
   ]
  },
  {
   "cell_type": "code",
   "execution_count": 40,
   "id": "1d813a11-4eb7-49d4-8b64-8f6073c44754",
   "metadata": {
    "execution": {
     "iopub.execute_input": "2024-01-06T18:14:20.670083Z",
     "iopub.status.busy": "2024-01-06T18:14:20.668965Z",
     "iopub.status.idle": "2024-01-06T18:14:20.688761Z",
     "shell.execute_reply": "2024-01-06T18:14:20.687211Z",
     "shell.execute_reply.started": "2024-01-06T18:14:20.669974Z"
    }
   },
   "outputs": [
    {
     "data": {
      "text/html": [
       "<div>\n",
       "<style scoped>\n",
       "    .dataframe tbody tr th:only-of-type {\n",
       "        vertical-align: middle;\n",
       "    }\n",
       "\n",
       "    .dataframe tbody tr th {\n",
       "        vertical-align: top;\n",
       "    }\n",
       "\n",
       "    .dataframe thead th {\n",
       "        text-align: right;\n",
       "    }\n",
       "</style>\n",
       "<table border=\"1\" class=\"dataframe\">\n",
       "  <thead>\n",
       "    <tr style=\"text-align: right;\">\n",
       "      <th></th>\n",
       "      <th>restaurant_name</th>\n",
       "      <th>aggregate_rating</th>\n",
       "    </tr>\n",
       "  </thead>\n",
       "  <tbody>\n",
       "    <tr>\n",
       "      <th>254</th>\n",
       "      <td>Aprazível</td>\n",
       "      <td>4.9</td>\n",
       "    </tr>\n",
       "  </tbody>\n",
       "</table>\n",
       "</div>"
      ],
      "text/plain": [
       "    restaurant_name  aggregate_rating\n",
       "254       Aprazível               4.9"
      ]
     },
     "execution_count": 40,
     "metadata": {},
     "output_type": "execute_result"
    }
   ],
   "source": [
    "# 5. Qual o nome do restaurante de tipo de culinária brasileira, e que é do Brasil, que possui a maior média de avaliação?\n",
    "\n",
    "df1=df[(df['cuisines']=='Brazilian') & (df['country']=='Brazil')] \n",
    "df1[['restaurant_name','aggregate_rating']].sort_values('aggregate_rating',ascending=False).head(1)"
   ]
  },
  {
   "cell_type": "code",
   "execution_count": 41,
   "id": "8086351a-ad6e-4db6-8177-56f1bef713c2",
   "metadata": {
    "execution": {
     "iopub.execute_input": "2024-01-06T18:14:21.293118Z",
     "iopub.status.busy": "2024-01-06T18:14:21.292378Z",
     "iopub.status.idle": "2024-01-06T18:14:21.311414Z",
     "shell.execute_reply": "2024-01-06T18:14:21.309899Z",
     "shell.execute_reply.started": "2024-01-06T18:14:21.293071Z"
    }
   },
   "outputs": [
    {
     "data": {
      "text/html": [
       "<div>\n",
       "<style scoped>\n",
       "    .dataframe tbody tr th:only-of-type {\n",
       "        vertical-align: middle;\n",
       "    }\n",
       "\n",
       "    .dataframe tbody tr th {\n",
       "        vertical-align: top;\n",
       "    }\n",
       "\n",
       "    .dataframe thead th {\n",
       "        text-align: right;\n",
       "    }\n",
       "</style>\n",
       "<table border=\"1\" class=\"dataframe\">\n",
       "  <thead>\n",
       "    <tr style=\"text-align: right;\">\n",
       "      <th></th>\n",
       "      <th>has_online_delivery</th>\n",
       "      <th>votes</th>\n",
       "    </tr>\n",
       "  </thead>\n",
       "  <tbody>\n",
       "    <tr>\n",
       "      <th>0</th>\n",
       "      <td>0</td>\n",
       "      <td>494.336901</td>\n",
       "    </tr>\n",
       "    <tr>\n",
       "      <th>1</th>\n",
       "      <td>1</td>\n",
       "      <td>843.027516</td>\n",
       "    </tr>\n",
       "  </tbody>\n",
       "</table>\n",
       "</div>"
      ],
      "text/plain": [
       "   has_online_delivery       votes\n",
       "0                    0  494.336901\n",
       "1                    1  843.027516"
      ]
     },
     "execution_count": 41,
     "metadata": {},
     "output_type": "execute_result"
    }
   ],
   "source": [
    "# 6. Os restaurantes que aceitam pedido online são também, na média, os restaurantes que mais possuem avaliações registradas?\n",
    "\n",
    "df[['has_online_delivery','votes']].groupby('has_online_delivery').mean().reset_index()"
   ]
  },
  {
   "cell_type": "code",
   "execution_count": 42,
   "id": "09579b1c-0e5d-4495-968d-ac34dfd9bfd3",
   "metadata": {
    "execution": {
     "iopub.execute_input": "2024-01-06T18:14:35.002402Z",
     "iopub.status.busy": "2024-01-06T18:14:34.996902Z",
     "iopub.status.idle": "2024-01-06T18:14:35.030124Z",
     "shell.execute_reply": "2024-01-06T18:14:35.028974Z",
     "shell.execute_reply.started": "2024-01-06T18:14:35.002279Z"
    }
   },
   "outputs": [
    {
     "data": {
      "text/html": [
       "<div>\n",
       "<style scoped>\n",
       "    .dataframe tbody tr th:only-of-type {\n",
       "        vertical-align: middle;\n",
       "    }\n",
       "\n",
       "    .dataframe tbody tr th {\n",
       "        vertical-align: top;\n",
       "    }\n",
       "\n",
       "    .dataframe thead th {\n",
       "        text-align: right;\n",
       "    }\n",
       "</style>\n",
       "<table border=\"1\" class=\"dataframe\">\n",
       "  <thead>\n",
       "    <tr style=\"text-align: right;\">\n",
       "      <th></th>\n",
       "      <th>has_table_booking</th>\n",
       "      <th>average_cost_for_two</th>\n",
       "    </tr>\n",
       "  </thead>\n",
       "  <tbody>\n",
       "    <tr>\n",
       "      <th>0</th>\n",
       "      <td>0</td>\n",
       "      <td>29.036726</td>\n",
       "    </tr>\n",
       "    <tr>\n",
       "      <th>1</th>\n",
       "      <td>1</td>\n",
       "      <td>36.012051</td>\n",
       "    </tr>\n",
       "  </tbody>\n",
       "</table>\n",
       "</div>"
      ],
      "text/plain": [
       "   has_table_booking  average_cost_for_two\n",
       "0                  0             29.036726\n",
       "1                  1             36.012051"
      ]
     },
     "execution_count": 42,
     "metadata": {},
     "output_type": "execute_result"
    }
   ],
   "source": [
    "# 7. Os restaurantes que fazem reservas são também, na média, os restaurantes que possuem o maior valor médio de um prato para duas pessoas?\n",
    "\n",
    "df[['has_table_booking','average_cost_for_two']].groupby('has_table_booking').mean().reset_index()"
   ]
  },
  {
   "cell_type": "code",
   "execution_count": 43,
   "id": "9a3635e0-93e9-44c5-9676-a1ee6d9076e8",
   "metadata": {
    "execution": {
     "iopub.execute_input": "2024-01-06T18:14:43.757830Z",
     "iopub.status.busy": "2024-01-06T18:14:43.755501Z",
     "iopub.status.idle": "2024-01-06T18:14:43.789842Z",
     "shell.execute_reply": "2024-01-06T18:14:43.787333Z",
     "shell.execute_reply.started": "2024-01-06T18:14:43.757684Z"
    }
   },
   "outputs": [
    {
     "name": "stdout",
     "output_type": "stream",
     "text": [
      "40.0\n",
      "38.81578947368421\n"
     ]
    }
   ],
   "source": [
    "# 8. Os restaurantes do tipo de culinária japonesa dos Estados Unidos da América possuem um valor médio de prato para duas pessoas maior que\n",
    "# as churrascarias americanas (BBQ)?\n",
    "\n",
    "df1=df[(df['cuisines']=='Japanese') & (df['country']=='United States of America')]\n",
    "df2=df[df['cuisines']=='BBQ']\n",
    "\n",
    "print(df1['average_cost_for_two'].mean())\n",
    "print(df2['average_cost_for_two'].mean())"
   ]
  },
  {
   "cell_type": "markdown",
   "id": "1d7e5a30-02a2-4b01-af5a-5f83198687aa",
   "metadata": {
    "jp-MarkdownHeadingCollapsed": true
   },
   "source": [
    "# Tipos de Culinária\n"
   ]
  },
  {
   "cell_type": "code",
   "execution_count": 44,
   "id": "0088cc17-b70a-4550-a6b6-1983094c58d0",
   "metadata": {
    "execution": {
     "iopub.execute_input": "2024-01-06T18:15:14.089643Z",
     "iopub.status.busy": "2024-01-06T18:15:14.089092Z",
     "iopub.status.idle": "2024-01-06T18:15:14.477847Z",
     "shell.execute_reply": "2024-01-06T18:15:14.476486Z",
     "shell.execute_reply.started": "2024-01-06T18:15:14.089603Z"
    }
   },
   "outputs": [
    {
     "data": {
      "text/html": [
       "<div>\n",
       "<style scoped>\n",
       "    .dataframe tbody tr th:only-of-type {\n",
       "        vertical-align: middle;\n",
       "    }\n",
       "\n",
       "    .dataframe tbody tr th {\n",
       "        vertical-align: top;\n",
       "    }\n",
       "\n",
       "    .dataframe thead th {\n",
       "        text-align: right;\n",
       "    }\n",
       "</style>\n",
       "<table border=\"1\" class=\"dataframe\">\n",
       "  <thead>\n",
       "    <tr style=\"text-align: right;\">\n",
       "      <th></th>\n",
       "      <th>restaurant_name</th>\n",
       "      <th>aggregate_rating</th>\n",
       "    </tr>\n",
       "    <tr>\n",
       "      <th>idx</th>\n",
       "      <th></th>\n",
       "      <th></th>\n",
       "    </tr>\n",
       "  </thead>\n",
       "  <tbody>\n",
       "    <tr>\n",
       "      <th>579</th>\n",
       "      <td>Andre'sCucina&amp;PolentaBar</td>\n",
       "      <td>4.9</td>\n",
       "    </tr>\n",
       "    <tr>\n",
       "      <th>978</th>\n",
       "      <td>Santarpio'sPizza</td>\n",
       "      <td>4.9</td>\n",
       "    </tr>\n",
       "    <tr>\n",
       "      <th>1014</th>\n",
       "      <td>ReginaPizzeria</td>\n",
       "      <td>4.9</td>\n",
       "    </tr>\n",
       "    <tr>\n",
       "      <th>1415</th>\n",
       "      <td>ChicagoPizza&amp;OvenGrinderCompany</td>\n",
       "      <td>4.9</td>\n",
       "    </tr>\n",
       "    <tr>\n",
       "      <th>1419</th>\n",
       "      <td>Pequod'sPizza</td>\n",
       "      <td>4.9</td>\n",
       "    </tr>\n",
       "  </tbody>\n",
       "</table>\n",
       "</div>"
      ],
      "text/plain": [
       "                      restaurant_name  aggregate_rating\n",
       "idx                                                    \n",
       "579          Andre'sCucina&PolentaBar               4.9\n",
       "978                  Santarpio'sPizza               4.9\n",
       "1014                   ReginaPizzeria               4.9\n",
       "1415  ChicagoPizza&OvenGrinderCompany               4.9\n",
       "1419                    Pequod'sPizza               4.9"
      ]
     },
     "execution_count": 44,
     "metadata": {},
     "output_type": "execute_result"
    }
   ],
   "source": [
    "# 1. Dos restaurantes que possuem o tipo de culinária italiana, qual o nome do restaurante com a maior média de avaliação?\n",
    "\n",
    "# df1=df[df['cuisines']=='Italian']\n",
    "# df1[['restaurant_name','aggregate_rating']].sort_values(by='aggregate_rating',ascending=False).head(5)\n",
    "\n",
    "df2=df.copy()\n",
    "df2=df2.assign(var1=df2['cuisines'].str.split(',')).explode('var1')\n",
    "df2=df2.replace(' ','', regex=True)\n",
    "df2=df2.drop_duplicates(ignore_index=True)\n",
    "df2.index.name='idx'\n",
    "\n",
    "df2=df2[(df2['var1']=='Italian') & (df2['votes']>3)]\n",
    "a=df2[['restaurant_name','aggregate_rating']].sort_values(by='aggregate_rating',ascending=False).head(20)\n",
    "a.sort_index().head(5)"
   ]
  },
  {
   "cell_type": "code",
   "execution_count": 45,
   "id": "07fb5416-7c9d-4aa5-b94e-2bd824857e6f",
   "metadata": {
    "execution": {
     "iopub.execute_input": "2024-01-06T18:15:31.895959Z",
     "iopub.status.busy": "2024-01-06T18:15:31.894978Z",
     "iopub.status.idle": "2024-01-06T18:15:31.913854Z",
     "shell.execute_reply": "2024-01-06T18:15:31.912420Z",
     "shell.execute_reply.started": "2024-01-06T18:15:31.895917Z"
    }
   },
   "outputs": [
    {
     "data": {
      "text/html": [
       "<div>\n",
       "<style scoped>\n",
       "    .dataframe tbody tr th:only-of-type {\n",
       "        vertical-align: middle;\n",
       "    }\n",
       "\n",
       "    .dataframe tbody tr th {\n",
       "        vertical-align: top;\n",
       "    }\n",
       "\n",
       "    .dataframe thead th {\n",
       "        text-align: right;\n",
       "    }\n",
       "</style>\n",
       "<table border=\"1\" class=\"dataframe\">\n",
       "  <thead>\n",
       "    <tr style=\"text-align: right;\">\n",
       "      <th></th>\n",
       "      <th>restaurant_name</th>\n",
       "      <th>aggregate_rating</th>\n",
       "    </tr>\n",
       "    <tr>\n",
       "      <th>idx</th>\n",
       "      <th></th>\n",
       "      <th></th>\n",
       "    </tr>\n",
       "  </thead>\n",
       "  <tbody>\n",
       "    <tr>\n",
       "      <th>15976</th>\n",
       "      <td>GuyFieri'sKitchen&amp;Bar</td>\n",
       "      <td>2.2</td>\n",
       "    </tr>\n",
       "    <tr>\n",
       "      <th>2854</th>\n",
       "      <td>Siena's</td>\n",
       "      <td>2.3</td>\n",
       "    </tr>\n",
       "    <tr>\n",
       "      <th>16140</th>\n",
       "      <td>Blisslounge</td>\n",
       "      <td>2.3</td>\n",
       "    </tr>\n",
       "    <tr>\n",
       "      <th>12035</th>\n",
       "      <td>SeaGullsRestaurant</td>\n",
       "      <td>2.4</td>\n",
       "    </tr>\n",
       "    <tr>\n",
       "      <th>11714</th>\n",
       "      <td>PizzaHut</td>\n",
       "      <td>2.5</td>\n",
       "    </tr>\n",
       "  </tbody>\n",
       "</table>\n",
       "</div>"
      ],
      "text/plain": [
       "             restaurant_name  aggregate_rating\n",
       "idx                                           \n",
       "15976  GuyFieri'sKitchen&Bar               2.2\n",
       "2854                 Siena's               2.3\n",
       "16140            Blisslounge               2.3\n",
       "12035     SeaGullsRestaurant               2.4\n",
       "11714               PizzaHut               2.5"
      ]
     },
     "execution_count": 45,
     "metadata": {},
     "output_type": "execute_result"
    }
   ],
   "source": [
    "# 2. Dos restaurantes que possuem o tipo de culinária italiana, qual o nome do restaurante com a menor média de avaliação?\n",
    "\n",
    "\n",
    "df2[['restaurant_name','aggregate_rating']].sort_values(by='aggregate_rating',ascending=True).head(5)"
   ]
  },
  {
   "cell_type": "code",
   "execution_count": 93,
   "id": "b60541da-e551-4fd9-96f6-b8268d1998c0",
   "metadata": {
    "execution": {
     "iopub.execute_input": "2024-01-05T20:18:39.542397Z",
     "iopub.status.busy": "2024-01-05T20:18:39.540525Z",
     "iopub.status.idle": "2024-01-05T20:18:39.860867Z",
     "shell.execute_reply": "2024-01-05T20:18:39.859462Z",
     "shell.execute_reply.started": "2024-01-05T20:18:39.542317Z"
    }
   },
   "outputs": [
    {
     "data": {
      "text/html": [
       "<div>\n",
       "<style scoped>\n",
       "    .dataframe tbody tr th:only-of-type {\n",
       "        vertical-align: middle;\n",
       "    }\n",
       "\n",
       "    .dataframe tbody tr th {\n",
       "        vertical-align: top;\n",
       "    }\n",
       "\n",
       "    .dataframe thead th {\n",
       "        text-align: right;\n",
       "    }\n",
       "</style>\n",
       "<table border=\"1\" class=\"dataframe\">\n",
       "  <thead>\n",
       "    <tr style=\"text-align: right;\">\n",
       "      <th></th>\n",
       "      <th>restaurant_name</th>\n",
       "      <th>aggregate_rating</th>\n",
       "    </tr>\n",
       "    <tr>\n",
       "      <th>idx</th>\n",
       "      <th></th>\n",
       "      <th></th>\n",
       "    </tr>\n",
       "  </thead>\n",
       "  <tbody>\n",
       "    <tr>\n",
       "      <th>1792</th>\n",
       "      <td>UnionWoodshop</td>\n",
       "      <td>4.9</td>\n",
       "    </tr>\n",
       "    <tr>\n",
       "      <th>1807</th>\n",
       "      <td>LafayetteConeyIsland</td>\n",
       "      <td>4.9</td>\n",
       "    </tr>\n",
       "    <tr>\n",
       "      <th>1877</th>\n",
       "      <td>SidetrackBarandGrill</td>\n",
       "      <td>4.9</td>\n",
       "    </tr>\n",
       "    <tr>\n",
       "      <th>3471</th>\n",
       "      <td>Kono'sSurfClubCafe</td>\n",
       "      <td>4.9</td>\n",
       "    </tr>\n",
       "    <tr>\n",
       "      <th>3762</th>\n",
       "      <td>WildHoney</td>\n",
       "      <td>4.9</td>\n",
       "    </tr>\n",
       "  </tbody>\n",
       "</table>\n",
       "</div>"
      ],
      "text/plain": [
       "           restaurant_name  aggregate_rating\n",
       "idx                                         \n",
       "1792         UnionWoodshop               4.9\n",
       "1807  LafayetteConeyIsland               4.9\n",
       "1877  SidetrackBarandGrill               4.9\n",
       "3471    Kono'sSurfClubCafe               4.9\n",
       "3762             WildHoney               4.9"
      ]
     },
     "execution_count": 93,
     "metadata": {},
     "output_type": "execute_result"
    }
   ],
   "source": [
    "# 3. Dos restaurantes que possuem o tipo de culinária americana, qual o nome do restaurante com a maior média de avaliação?\n",
    "\n",
    "df2=df.copy()\n",
    "df2=df2.assign(var1=df2['cuisines'].str.split(',')).explode('var1')\n",
    "df2=df2.replace(' ','', regex=True)\n",
    "df2=df2.drop_duplicates(ignore_index=True)\n",
    "df2.index.name='idx'\n",
    "\n",
    "df2=df2[(df2['var1']=='American') & (df2['votes']>3)]\n",
    "a=df2[['restaurant_name','aggregate_rating']].sort_values(by='aggregate_rating',ascending=False).head(5)\n",
    "a.sort_index()"
   ]
  },
  {
   "cell_type": "code",
   "execution_count": 94,
   "id": "e0d1a5d0-98d0-4ee9-b1d0-ba023a58eb92",
   "metadata": {
    "execution": {
     "iopub.execute_input": "2024-01-05T20:18:47.536459Z",
     "iopub.status.busy": "2024-01-05T20:18:47.535153Z",
     "iopub.status.idle": "2024-01-05T20:18:47.550854Z",
     "shell.execute_reply": "2024-01-05T20:18:47.549595Z",
     "shell.execute_reply.started": "2024-01-05T20:18:47.536408Z"
    }
   },
   "outputs": [
    {
     "data": {
      "text/html": [
       "<div>\n",
       "<style scoped>\n",
       "    .dataframe tbody tr th:only-of-type {\n",
       "        vertical-align: middle;\n",
       "    }\n",
       "\n",
       "    .dataframe tbody tr th {\n",
       "        vertical-align: top;\n",
       "    }\n",
       "\n",
       "    .dataframe thead th {\n",
       "        text-align: right;\n",
       "    }\n",
       "</style>\n",
       "<table border=\"1\" class=\"dataframe\">\n",
       "  <thead>\n",
       "    <tr style=\"text-align: right;\">\n",
       "      <th></th>\n",
       "      <th>restaurant_name</th>\n",
       "      <th>aggregate_rating</th>\n",
       "    </tr>\n",
       "    <tr>\n",
       "      <th>idx</th>\n",
       "      <th></th>\n",
       "      <th></th>\n",
       "    </tr>\n",
       "  </thead>\n",
       "  <tbody>\n",
       "    <tr>\n",
       "      <th>15975</th>\n",
       "      <td>GuyFieri'sKitchen&amp;Bar</td>\n",
       "      <td>2.2</td>\n",
       "    </tr>\n",
       "    <tr>\n",
       "      <th>16286</th>\n",
       "      <td>DineMore</td>\n",
       "      <td>2.6</td>\n",
       "    </tr>\n",
       "    <tr>\n",
       "      <th>16105</th>\n",
       "      <td>HardRockCafe</td>\n",
       "      <td>2.8</td>\n",
       "    </tr>\n",
       "    <tr>\n",
       "      <th>4603</th>\n",
       "      <td>AlRihla</td>\n",
       "      <td>3.2</td>\n",
       "    </tr>\n",
       "    <tr>\n",
       "      <th>14402</th>\n",
       "      <td>ThunderbirdCafe</td>\n",
       "      <td>3.2</td>\n",
       "    </tr>\n",
       "  </tbody>\n",
       "</table>\n",
       "</div>"
      ],
      "text/plain": [
       "             restaurant_name  aggregate_rating\n",
       "idx                                           \n",
       "15975  GuyFieri'sKitchen&Bar               2.2\n",
       "16286               DineMore               2.6\n",
       "16105           HardRockCafe               2.8\n",
       "4603                 AlRihla               3.2\n",
       "14402        ThunderbirdCafe               3.2"
      ]
     },
     "execution_count": 94,
     "metadata": {},
     "output_type": "execute_result"
    }
   ],
   "source": [
    "# 4. Dos restaurantes que possuem o tipo de culinária americana, qual o nome do restaurante com a menor média de avaliação?\n",
    "\n",
    "df2[['restaurant_name','aggregate_rating']].sort_values(by='aggregate_rating',ascending=True).head(5)"
   ]
  },
  {
   "cell_type": "code",
   "execution_count": 96,
   "id": "e1054874-abd9-4a96-a7f8-bd76cd696ba2",
   "metadata": {
    "execution": {
     "iopub.execute_input": "2024-01-05T20:19:37.736607Z",
     "iopub.status.busy": "2024-01-05T20:19:37.735871Z",
     "iopub.status.idle": "2024-01-05T20:19:38.066411Z",
     "shell.execute_reply": "2024-01-05T20:19:38.065001Z",
     "shell.execute_reply.started": "2024-01-05T20:19:37.736563Z"
    }
   },
   "outputs": [
    {
     "data": {
      "text/html": [
       "<div>\n",
       "<style scoped>\n",
       "    .dataframe tbody tr th:only-of-type {\n",
       "        vertical-align: middle;\n",
       "    }\n",
       "\n",
       "    .dataframe tbody tr th {\n",
       "        vertical-align: top;\n",
       "    }\n",
       "\n",
       "    .dataframe thead th {\n",
       "        text-align: right;\n",
       "    }\n",
       "</style>\n",
       "<table border=\"1\" class=\"dataframe\">\n",
       "  <thead>\n",
       "    <tr style=\"text-align: right;\">\n",
       "      <th></th>\n",
       "      <th>restaurant_name</th>\n",
       "      <th>aggregate_rating</th>\n",
       "    </tr>\n",
       "    <tr>\n",
       "      <th>idx</th>\n",
       "      <th></th>\n",
       "      <th></th>\n",
       "    </tr>\n",
       "  </thead>\n",
       "  <tbody>\n",
       "    <tr>\n",
       "      <th>6883</th>\n",
       "      <td>CoalBarbecues</td>\n",
       "      <td>4.9</td>\n",
       "    </tr>\n",
       "    <tr>\n",
       "      <th>6396</th>\n",
       "      <td>BarbequeNation</td>\n",
       "      <td>4.9</td>\n",
       "    </tr>\n",
       "    <tr>\n",
       "      <th>6996</th>\n",
       "      <td>CoalBarbecues</td>\n",
       "      <td>4.9</td>\n",
       "    </tr>\n",
       "    <tr>\n",
       "      <th>8248</th>\n",
       "      <td>Mandi@36</td>\n",
       "      <td>4.7</td>\n",
       "    </tr>\n",
       "    <tr>\n",
       "      <th>4439</th>\n",
       "      <td>Kitchen6-JWMarriottMarquis</td>\n",
       "      <td>4.7</td>\n",
       "    </tr>\n",
       "  </tbody>\n",
       "</table>\n",
       "</div>"
      ],
      "text/plain": [
       "                 restaurant_name  aggregate_rating\n",
       "idx                                               \n",
       "6883               CoalBarbecues               4.9\n",
       "6396              BarbequeNation               4.9\n",
       "6996               CoalBarbecues               4.9\n",
       "8248                    Mandi@36               4.7\n",
       "4439  Kitchen6-JWMarriottMarquis               4.7"
      ]
     },
     "execution_count": 96,
     "metadata": {},
     "output_type": "execute_result"
    }
   ],
   "source": [
    "# 5. Dos restaurantes que possuem o tipo de culinária árabe, qual o nome do restaurante com a maior média de avaliação?\n",
    "\n",
    "df2=df.copy()\n",
    "df2=df2.assign(var1=df2['cuisines'].str.split(',')).explode('var1')\n",
    "df2=df2.replace(' ','', regex=True)\n",
    "df2=df2.drop_duplicates(ignore_index=True)\n",
    "df2.index.name='idx'\n",
    "\n",
    "df2=df2[(df2['var1']=='Arabian') & (df2['votes']>3)]\n",
    "df2[['restaurant_name','aggregate_rating']].sort_values(by='aggregate_rating',ascending=False).head(5)\n",
    "# a.sort_index()"
   ]
  },
  {
   "cell_type": "code",
   "execution_count": 97,
   "id": "ac5ec8b3-b579-4ac6-b074-29939a66e081",
   "metadata": {
    "execution": {
     "iopub.execute_input": "2024-01-05T20:19:48.297522Z",
     "iopub.status.busy": "2024-01-05T20:19:48.296407Z",
     "iopub.status.idle": "2024-01-05T20:19:48.309932Z",
     "shell.execute_reply": "2024-01-05T20:19:48.308768Z",
     "shell.execute_reply.started": "2024-01-05T20:19:48.297477Z"
    }
   },
   "outputs": [
    {
     "data": {
      "text/html": [
       "<div>\n",
       "<style scoped>\n",
       "    .dataframe tbody tr th:only-of-type {\n",
       "        vertical-align: middle;\n",
       "    }\n",
       "\n",
       "    .dataframe tbody tr th {\n",
       "        vertical-align: top;\n",
       "    }\n",
       "\n",
       "    .dataframe thead th {\n",
       "        text-align: right;\n",
       "    }\n",
       "</style>\n",
       "<table border=\"1\" class=\"dataframe\">\n",
       "  <thead>\n",
       "    <tr style=\"text-align: right;\">\n",
       "      <th></th>\n",
       "      <th>restaurant_name</th>\n",
       "      <th>aggregate_rating</th>\n",
       "    </tr>\n",
       "    <tr>\n",
       "      <th>idx</th>\n",
       "      <th></th>\n",
       "      <th></th>\n",
       "    </tr>\n",
       "  </thead>\n",
       "  <tbody>\n",
       "    <tr>\n",
       "      <th>269</th>\n",
       "      <td>EmpórioÁrabe</td>\n",
       "      <td>2.7</td>\n",
       "    </tr>\n",
       "    <tr>\n",
       "      <th>237</th>\n",
       "      <td>SalimSouEu</td>\n",
       "      <td>3.1</td>\n",
       "    </tr>\n",
       "    <tr>\n",
       "      <th>4604</th>\n",
       "      <td>AlRihla</td>\n",
       "      <td>3.2</td>\n",
       "    </tr>\n",
       "    <tr>\n",
       "      <th>4535</th>\n",
       "      <td>PhotoCafe</td>\n",
       "      <td>3.2</td>\n",
       "    </tr>\n",
       "    <tr>\n",
       "      <th>11469</th>\n",
       "      <td>AbadHotChicken</td>\n",
       "      <td>3.2</td>\n",
       "    </tr>\n",
       "  </tbody>\n",
       "</table>\n",
       "</div>"
      ],
      "text/plain": [
       "      restaurant_name  aggregate_rating\n",
       "idx                                    \n",
       "269      EmpórioÁrabe               2.7\n",
       "237        SalimSouEu               3.1\n",
       "4604          AlRihla               3.2\n",
       "4535        PhotoCafe               3.2\n",
       "11469  AbadHotChicken               3.2"
      ]
     },
     "execution_count": 97,
     "metadata": {},
     "output_type": "execute_result"
    }
   ],
   "source": [
    "# 6. Dos restaurantes que possuem o tipo de culinária árabe, qual o nome do restaurante com a menor média de avaliação?\n",
    "\n",
    "df2[['restaurant_name','aggregate_rating']].sort_values(by='aggregate_rating',ascending=True).head(5)"
   ]
  },
  {
   "cell_type": "code",
   "execution_count": 98,
   "id": "a9dbe7c8-f7f4-48ca-a769-ed0dae71c7c6",
   "metadata": {
    "execution": {
     "iopub.execute_input": "2024-01-05T20:20:05.846329Z",
     "iopub.status.busy": "2024-01-05T20:20:05.845827Z",
     "iopub.status.idle": "2024-01-05T20:20:06.166709Z",
     "shell.execute_reply": "2024-01-05T20:20:06.164935Z",
     "shell.execute_reply.started": "2024-01-05T20:20:05.846294Z"
    }
   },
   "outputs": [
    {
     "data": {
      "text/html": [
       "<div>\n",
       "<style scoped>\n",
       "    .dataframe tbody tr th:only-of-type {\n",
       "        vertical-align: middle;\n",
       "    }\n",
       "\n",
       "    .dataframe tbody tr th {\n",
       "        vertical-align: top;\n",
       "    }\n",
       "\n",
       "    .dataframe thead th {\n",
       "        text-align: right;\n",
       "    }\n",
       "</style>\n",
       "<table border=\"1\" class=\"dataframe\">\n",
       "  <thead>\n",
       "    <tr style=\"text-align: right;\">\n",
       "      <th></th>\n",
       "      <th>restaurant_name</th>\n",
       "      <th>aggregate_rating</th>\n",
       "    </tr>\n",
       "    <tr>\n",
       "      <th>idx</th>\n",
       "      <th></th>\n",
       "      <th></th>\n",
       "    </tr>\n",
       "  </thead>\n",
       "  <tbody>\n",
       "    <tr>\n",
       "      <th>376</th>\n",
       "      <td>SushiLeblon</td>\n",
       "      <td>4.9</td>\n",
       "    </tr>\n",
       "    <tr>\n",
       "      <th>2814</th>\n",
       "      <td>NobuPerth</td>\n",
       "      <td>4.9</td>\n",
       "    </tr>\n",
       "    <tr>\n",
       "      <th>13937</th>\n",
       "      <td>SushiMasa</td>\n",
       "      <td>4.9</td>\n",
       "    </tr>\n",
       "    <tr>\n",
       "      <th>13982</th>\n",
       "      <td>SushiHiro</td>\n",
       "      <td>4.9</td>\n",
       "    </tr>\n",
       "    <tr>\n",
       "      <th>13996</th>\n",
       "      <td>WAKIJapaneseBBQDining</td>\n",
       "      <td>4.9</td>\n",
       "    </tr>\n",
       "  </tbody>\n",
       "</table>\n",
       "</div>"
      ],
      "text/plain": [
       "             restaurant_name  aggregate_rating\n",
       "idx                                           \n",
       "376              SushiLeblon               4.9\n",
       "2814               NobuPerth               4.9\n",
       "13937              SushiMasa               4.9\n",
       "13982              SushiHiro               4.9\n",
       "13996  WAKIJapaneseBBQDining               4.9"
      ]
     },
     "execution_count": 98,
     "metadata": {},
     "output_type": "execute_result"
    }
   ],
   "source": [
    "# 7. Dos restaurantes que possuem o tipo de culinária japonesa, qual o nome dorestaurante com a maior média de avaliação?\n",
    "\n",
    "df2=df.copy()\n",
    "df2=df2.assign(var1=df2['cuisines'].str.split(',')).explode('var1')\n",
    "df2=df2.replace(' ','', regex=True)\n",
    "df2=df2.drop_duplicates(ignore_index=True)\n",
    "df2.index.name='idx'\n",
    "\n",
    "df2=df2[(df2['var1']=='Japanese') & (df2['votes']>3)]\n",
    "a=df2[['restaurant_name','aggregate_rating']].sort_values(by='aggregate_rating',ascending=False).head(5)\n",
    "a.sort_index()"
   ]
  },
  {
   "cell_type": "code",
   "execution_count": 99,
   "id": "035ad6e3-c55a-4a11-8032-b19f5ab52755",
   "metadata": {
    "execution": {
     "iopub.execute_input": "2024-01-05T20:20:16.395454Z",
     "iopub.status.busy": "2024-01-05T20:20:16.394926Z",
     "iopub.status.idle": "2024-01-05T20:20:16.412613Z",
     "shell.execute_reply": "2024-01-05T20:20:16.410571Z",
     "shell.execute_reply.started": "2024-01-05T20:20:16.395413Z"
    }
   },
   "outputs": [
    {
     "data": {
      "text/html": [
       "<div>\n",
       "<style scoped>\n",
       "    .dataframe tbody tr th:only-of-type {\n",
       "        vertical-align: middle;\n",
       "    }\n",
       "\n",
       "    .dataframe tbody tr th {\n",
       "        vertical-align: top;\n",
       "    }\n",
       "\n",
       "    .dataframe thead th {\n",
       "        text-align: right;\n",
       "    }\n",
       "</style>\n",
       "<table border=\"1\" class=\"dataframe\">\n",
       "  <thead>\n",
       "    <tr style=\"text-align: right;\">\n",
       "      <th></th>\n",
       "      <th>restaurant_name</th>\n",
       "      <th>aggregate_rating</th>\n",
       "    </tr>\n",
       "    <tr>\n",
       "      <th>idx</th>\n",
       "      <th></th>\n",
       "      <th></th>\n",
       "    </tr>\n",
       "  </thead>\n",
       "  <tbody>\n",
       "    <tr>\n",
       "      <th>289</th>\n",
       "      <td>Orienthai</td>\n",
       "      <td>2.4</td>\n",
       "    </tr>\n",
       "    <tr>\n",
       "      <th>292</th>\n",
       "      <td>Hachiko</td>\n",
       "      <td>2.5</td>\n",
       "    </tr>\n",
       "    <tr>\n",
       "      <th>192</th>\n",
       "      <td>Haná</td>\n",
       "      <td>2.7</td>\n",
       "    </tr>\n",
       "    <tr>\n",
       "      <th>198</th>\n",
       "      <td>SushiLoko</td>\n",
       "      <td>2.9</td>\n",
       "    </tr>\n",
       "    <tr>\n",
       "      <th>173</th>\n",
       "      <td>NazoSushiBar</td>\n",
       "      <td>3.2</td>\n",
       "    </tr>\n",
       "  </tbody>\n",
       "</table>\n",
       "</div>"
      ],
      "text/plain": [
       "    restaurant_name  aggregate_rating\n",
       "idx                                  \n",
       "289       Orienthai               2.4\n",
       "292         Hachiko               2.5\n",
       "192            Haná               2.7\n",
       "198       SushiLoko               2.9\n",
       "173    NazoSushiBar               3.2"
      ]
     },
     "execution_count": 99,
     "metadata": {},
     "output_type": "execute_result"
    }
   ],
   "source": [
    "# 8. Dos restaurantes que possuem o tipo de culinária japonesa, qual o nome dorestaurante com a menor média de avaliação?\n",
    "\n",
    "df2[['restaurant_name','aggregate_rating']].sort_values(by='aggregate_rating',ascending=True).head(5)"
   ]
  },
  {
   "cell_type": "code",
   "execution_count": 101,
   "id": "9cde7204-793c-45db-85d8-22afe42565d8",
   "metadata": {
    "execution": {
     "iopub.execute_input": "2024-01-05T20:20:45.773588Z",
     "iopub.status.busy": "2024-01-05T20:20:45.772720Z",
     "iopub.status.idle": "2024-01-05T20:20:46.155218Z",
     "shell.execute_reply": "2024-01-05T20:20:46.153949Z",
     "shell.execute_reply.started": "2024-01-05T20:20:45.773515Z"
    }
   },
   "outputs": [
    {
     "data": {
      "text/html": [
       "<div>\n",
       "<style scoped>\n",
       "    .dataframe tbody tr th:only-of-type {\n",
       "        vertical-align: middle;\n",
       "    }\n",
       "\n",
       "    .dataframe tbody tr th {\n",
       "        vertical-align: top;\n",
       "    }\n",
       "\n",
       "    .dataframe thead th {\n",
       "        text-align: right;\n",
       "    }\n",
       "</style>\n",
       "<table border=\"1\" class=\"dataframe\">\n",
       "  <thead>\n",
       "    <tr style=\"text-align: right;\">\n",
       "      <th></th>\n",
       "      <th>restaurant_name</th>\n",
       "      <th>aggregate_rating</th>\n",
       "    </tr>\n",
       "    <tr>\n",
       "      <th>idx</th>\n",
       "      <th></th>\n",
       "      <th></th>\n",
       "    </tr>\n",
       "  </thead>\n",
       "  <tbody>\n",
       "    <tr>\n",
       "      <th>16462</th>\n",
       "      <td>Fıccın</td>\n",
       "      <td>4.7</td>\n",
       "    </tr>\n",
       "    <tr>\n",
       "      <th>16583</th>\n",
       "      <td>Sarıhan</td>\n",
       "      <td>4.4</td>\n",
       "    </tr>\n",
       "    <tr>\n",
       "      <th>16531</th>\n",
       "      <td>EvvelTürkMutfağı</td>\n",
       "      <td>4.0</td>\n",
       "    </tr>\n",
       "    <tr>\n",
       "      <th>16593</th>\n",
       "      <td>KanaatLokantası</td>\n",
       "      <td>4.0</td>\n",
       "    </tr>\n",
       "    <tr>\n",
       "      <th>16323</th>\n",
       "      <td>GurMekanRestaurant</td>\n",
       "      <td>3.7</td>\n",
       "    </tr>\n",
       "  </tbody>\n",
       "</table>\n",
       "</div>"
      ],
      "text/plain": [
       "          restaurant_name  aggregate_rating\n",
       "idx                                        \n",
       "16462              Fıccın               4.7\n",
       "16583             Sarıhan               4.4\n",
       "16531    EvvelTürkMutfağı               4.0\n",
       "16593     KanaatLokantası               4.0\n",
       "16323  GurMekanRestaurant               3.7"
      ]
     },
     "execution_count": 101,
     "metadata": {},
     "output_type": "execute_result"
    }
   ],
   "source": [
    "# 9. Dos restaurantes que possuem o tipo de culinária caseira, qual o nome do restaurante com a maior média de avaliação?\n",
    "\n",
    "df2=df.copy()\n",
    "df2=df2.assign(var1=df2['cuisines'].str.split(',')).explode('var1')\n",
    "df2=df2.replace(' ','', regex=True)\n",
    "df2=df2.drop_duplicates(ignore_index=True)\n",
    "df2.index.name='idx'\n",
    "\n",
    "df2=df2[(df2['var1']=='Home-made') & (df2['votes']>3)]\n",
    "df2[['restaurant_name','aggregate_rating']].sort_values(by='aggregate_rating',ascending=False).head(5)\n",
    "# a.sort_index()"
   ]
  },
  {
   "cell_type": "code",
   "execution_count": 102,
   "id": "9993d76a-b820-48ac-8b8f-d7746248e9cd",
   "metadata": {
    "execution": {
     "iopub.execute_input": "2024-01-05T20:20:53.427992Z",
     "iopub.status.busy": "2024-01-05T20:20:53.427442Z",
     "iopub.status.idle": "2024-01-05T20:20:53.449665Z",
     "shell.execute_reply": "2024-01-05T20:20:53.448353Z",
     "shell.execute_reply.started": "2024-01-05T20:20:53.427938Z"
    }
   },
   "outputs": [
    {
     "data": {
      "text/html": [
       "<div>\n",
       "<style scoped>\n",
       "    .dataframe tbody tr th:only-of-type {\n",
       "        vertical-align: middle;\n",
       "    }\n",
       "\n",
       "    .dataframe tbody tr th {\n",
       "        vertical-align: top;\n",
       "    }\n",
       "\n",
       "    .dataframe thead th {\n",
       "        text-align: right;\n",
       "    }\n",
       "</style>\n",
       "<table border=\"1\" class=\"dataframe\">\n",
       "  <thead>\n",
       "    <tr style=\"text-align: right;\">\n",
       "      <th></th>\n",
       "      <th>restaurant_name</th>\n",
       "      <th>aggregate_rating</th>\n",
       "    </tr>\n",
       "    <tr>\n",
       "      <th>idx</th>\n",
       "      <th></th>\n",
       "      <th></th>\n",
       "    </tr>\n",
       "  </thead>\n",
       "  <tbody>\n",
       "    <tr>\n",
       "      <th>16323</th>\n",
       "      <td>GurMekanRestaurant</td>\n",
       "      <td>3.7</td>\n",
       "    </tr>\n",
       "    <tr>\n",
       "      <th>16531</th>\n",
       "      <td>EvvelTürkMutfağı</td>\n",
       "      <td>4.0</td>\n",
       "    </tr>\n",
       "    <tr>\n",
       "      <th>16593</th>\n",
       "      <td>KanaatLokantası</td>\n",
       "      <td>4.0</td>\n",
       "    </tr>\n",
       "    <tr>\n",
       "      <th>16583</th>\n",
       "      <td>Sarıhan</td>\n",
       "      <td>4.4</td>\n",
       "    </tr>\n",
       "    <tr>\n",
       "      <th>16462</th>\n",
       "      <td>Fıccın</td>\n",
       "      <td>4.7</td>\n",
       "    </tr>\n",
       "  </tbody>\n",
       "</table>\n",
       "</div>"
      ],
      "text/plain": [
       "          restaurant_name  aggregate_rating\n",
       "idx                                        \n",
       "16323  GurMekanRestaurant               3.7\n",
       "16531    EvvelTürkMutfağı               4.0\n",
       "16593     KanaatLokantası               4.0\n",
       "16583             Sarıhan               4.4\n",
       "16462              Fıccın               4.7"
      ]
     },
     "execution_count": 102,
     "metadata": {},
     "output_type": "execute_result"
    }
   ],
   "source": [
    "# 10. Dos restaurantes que possuem o tipo de culinária caseira, qual o nome do restaurante com a menor média de avaliação?\n",
    "\n",
    "df2[['restaurant_name','aggregate_rating']].sort_values(by='aggregate_rating',ascending=True).head(5)"
   ]
  },
  {
   "cell_type": "code",
   "execution_count": 49,
   "id": "4d95d6e0-190b-4c38-a425-7744921b92ee",
   "metadata": {
    "execution": {
     "iopub.execute_input": "2024-01-06T18:17:55.493167Z",
     "iopub.status.busy": "2024-01-06T18:17:55.492019Z",
     "iopub.status.idle": "2024-01-06T18:17:55.970522Z",
     "shell.execute_reply": "2024-01-06T18:17:55.969066Z",
     "shell.execute_reply.started": "2024-01-06T18:17:55.493094Z"
    }
   },
   "outputs": [
    {
     "data": {
      "text/html": [
       "<div>\n",
       "<style scoped>\n",
       "    .dataframe tbody tr th:only-of-type {\n",
       "        vertical-align: middle;\n",
       "    }\n",
       "\n",
       "    .dataframe tbody tr th {\n",
       "        vertical-align: top;\n",
       "    }\n",
       "\n",
       "    .dataframe thead th {\n",
       "        text-align: right;\n",
       "    }\n",
       "</style>\n",
       "<table border=\"1\" class=\"dataframe\">\n",
       "  <thead>\n",
       "    <tr style=\"text-align: right;\">\n",
       "      <th></th>\n",
       "      <th>var1</th>\n",
       "      <th>average_cost_for_two</th>\n",
       "    </tr>\n",
       "  </thead>\n",
       "  <tbody>\n",
       "    <tr>\n",
       "      <th>0</th>\n",
       "      <td>French</td>\n",
       "      <td>755.0</td>\n",
       "    </tr>\n",
       "    <tr>\n",
       "      <th>1</th>\n",
       "      <td>Continental</td>\n",
       "      <td>755.0</td>\n",
       "    </tr>\n",
       "    <tr>\n",
       "      <th>2</th>\n",
       "      <td>French</td>\n",
       "      <td>650.0</td>\n",
       "    </tr>\n",
       "    <tr>\n",
       "      <th>3</th>\n",
       "      <td>NewAmerican</td>\n",
       "      <td>650.0</td>\n",
       "    </tr>\n",
       "    <tr>\n",
       "      <th>4</th>\n",
       "      <td>NewAmerican</td>\n",
       "      <td>600.0</td>\n",
       "    </tr>\n",
       "    <tr>\n",
       "      <th>5</th>\n",
       "      <td>French</td>\n",
       "      <td>600.0</td>\n",
       "    </tr>\n",
       "    <tr>\n",
       "      <th>6</th>\n",
       "      <td>European</td>\n",
       "      <td>500.0</td>\n",
       "    </tr>\n",
       "    <tr>\n",
       "      <th>7</th>\n",
       "      <td>Continental</td>\n",
       "      <td>500.0</td>\n",
       "    </tr>\n",
       "    <tr>\n",
       "      <th>8</th>\n",
       "      <td>French</td>\n",
       "      <td>500.0</td>\n",
       "    </tr>\n",
       "    <tr>\n",
       "      <th>9</th>\n",
       "      <td>Seafood</td>\n",
       "      <td>500.0</td>\n",
       "    </tr>\n",
       "  </tbody>\n",
       "</table>\n",
       "</div>"
      ],
      "text/plain": [
       "          var1  average_cost_for_two\n",
       "0       French                 755.0\n",
       "1  Continental                 755.0\n",
       "2       French                 650.0\n",
       "3  NewAmerican                 650.0\n",
       "4  NewAmerican                 600.0\n",
       "5       French                 600.0\n",
       "6     European                 500.0\n",
       "7  Continental                 500.0\n",
       "8       French                 500.0\n",
       "9      Seafood                 500.0"
      ]
     },
     "execution_count": 49,
     "metadata": {},
     "output_type": "execute_result"
    }
   ],
   "source": [
    "# 11. Qual o tipo de culinária que possui o maior valor médio de um prato para duas pessoas?\n",
    "\n",
    "df2=df.copy()\n",
    "df2=df2.assign(var1=df2['cuisines'].str.split(',')).explode('var1')\n",
    "df2=df2.replace(' ','', regex=True)\n",
    "df2=df2.drop_duplicates(ignore_index=True)\n",
    "\n",
    "df2[['var1','average_cost_for_two']].sort_values('average_cost_for_two',ascending=False).drop_duplicates(ignore_index=True).head(10)"
   ]
  },
  {
   "cell_type": "code",
   "execution_count": 51,
   "id": "299a49b6-f883-48ba-bd02-609a546b83c5",
   "metadata": {
    "execution": {
     "iopub.execute_input": "2024-01-06T18:19:09.856500Z",
     "iopub.status.busy": "2024-01-06T18:19:09.855335Z",
     "iopub.status.idle": "2024-01-06T18:19:10.182666Z",
     "shell.execute_reply": "2024-01-06T18:19:10.181197Z",
     "shell.execute_reply.started": "2024-01-06T18:19:09.856430Z"
    }
   },
   "outputs": [
    {
     "data": {
      "text/html": [
       "<div>\n",
       "<style scoped>\n",
       "    .dataframe tbody tr th:only-of-type {\n",
       "        vertical-align: middle;\n",
       "    }\n",
       "\n",
       "    .dataframe tbody tr th {\n",
       "        vertical-align: top;\n",
       "    }\n",
       "\n",
       "    .dataframe thead th {\n",
       "        text-align: right;\n",
       "    }\n",
       "</style>\n",
       "<table border=\"1\" class=\"dataframe\">\n",
       "  <thead>\n",
       "    <tr style=\"text-align: right;\">\n",
       "      <th></th>\n",
       "      <th>var1</th>\n",
       "      <th>aggregate_rating</th>\n",
       "    </tr>\n",
       "  </thead>\n",
       "  <tbody>\n",
       "    <tr>\n",
       "      <th>0</th>\n",
       "      <td>Japanese</td>\n",
       "      <td>4.9</td>\n",
       "    </tr>\n",
       "    <tr>\n",
       "      <th>1</th>\n",
       "      <td>American</td>\n",
       "      <td>4.9</td>\n",
       "    </tr>\n",
       "    <tr>\n",
       "      <th>2</th>\n",
       "      <td>Chinese</td>\n",
       "      <td>4.9</td>\n",
       "    </tr>\n",
       "    <tr>\n",
       "      <th>3</th>\n",
       "      <td>Southern</td>\n",
       "      <td>4.9</td>\n",
       "    </tr>\n",
       "    <tr>\n",
       "      <th>4</th>\n",
       "      <td>Sushi</td>\n",
       "      <td>4.9</td>\n",
       "    </tr>\n",
       "    <tr>\n",
       "      <th>5</th>\n",
       "      <td>CafeFood</td>\n",
       "      <td>4.9</td>\n",
       "    </tr>\n",
       "    <tr>\n",
       "      <th>6</th>\n",
       "      <td>CoffeeandTea</td>\n",
       "      <td>4.9</td>\n",
       "    </tr>\n",
       "    <tr>\n",
       "      <th>7</th>\n",
       "      <td>Sandwich</td>\n",
       "      <td>4.9</td>\n",
       "    </tr>\n",
       "    <tr>\n",
       "      <th>8</th>\n",
       "      <td>Burger</td>\n",
       "      <td>4.9</td>\n",
       "    </tr>\n",
       "    <tr>\n",
       "      <th>9</th>\n",
       "      <td>Continental</td>\n",
       "      <td>4.9</td>\n",
       "    </tr>\n",
       "  </tbody>\n",
       "</table>\n",
       "</div>"
      ],
      "text/plain": [
       "           var1  aggregate_rating\n",
       "0      Japanese               4.9\n",
       "1      American               4.9\n",
       "2       Chinese               4.9\n",
       "3      Southern               4.9\n",
       "4         Sushi               4.9\n",
       "5      CafeFood               4.9\n",
       "6  CoffeeandTea               4.9\n",
       "7      Sandwich               4.9\n",
       "8        Burger               4.9\n",
       "9   Continental               4.9"
      ]
     },
     "execution_count": 51,
     "metadata": {},
     "output_type": "execute_result"
    }
   ],
   "source": [
    "# 12. Qual o tipo de culinária que possui a maior nota média?\n",
    "\n",
    "df2=df.copy()\n",
    "df2=df2.assign(var1=df2['cuisines'].str.split(',')).explode('var1')\n",
    "df2=df2.replace(' ','', regex=True)\n",
    "df2=df2.drop_duplicates(ignore_index=True)\n",
    "\n",
    "df2[['var1','aggregate_rating']].sort_values('aggregate_rating',ascending=False).drop_duplicates(ignore_index=True).head(10)"
   ]
  },
  {
   "cell_type": "code",
   "execution_count": 52,
   "id": "d0cfaf0b-35b3-4306-a888-a9b906a3b3e4",
   "metadata": {
    "execution": {
     "iopub.execute_input": "2024-01-06T18:19:28.559872Z",
     "iopub.status.busy": "2024-01-06T18:19:28.559242Z",
     "iopub.status.idle": "2024-01-06T18:19:28.948202Z",
     "shell.execute_reply": "2024-01-06T18:19:28.946789Z",
     "shell.execute_reply.started": "2024-01-06T18:19:28.559809Z"
    }
   },
   "outputs": [
    {
     "data": {
      "text/plain": [
       "var1\n",
       "NorthIndian    534\n",
       "Chinese        388\n",
       "FastFood       382\n",
       "SouthIndian    219\n",
       "Italian        182\n",
       "Name: count, dtype: int64"
      ]
     },
     "execution_count": 52,
     "metadata": {},
     "output_type": "execute_result"
    }
   ],
   "source": [
    "# 13. Qual o tipo de culinária que possui mais restaurantes que aceitam pedidos online e fazem entregas?\n",
    "\n",
    "df2=df.copy()\n",
    "df2=df2.assign(var1=df2['cuisines'].str.split(',')).explode('var1')\n",
    "df2=df2.replace(' ','', regex=True)\n",
    "df2=df2.drop_duplicates(ignore_index=True)\n",
    "\n",
    "df2=df2[(df2['has_online_delivery'] ==1 ) & (df2['is_delivering_now'] ==1)]\n",
    "df2['var1'].value_counts().head(5)"
   ]
  },
  {
   "cell_type": "code",
   "execution_count": null,
   "id": "46ba509c-e0ea-45ae-9e15-72187f259e76",
   "metadata": {},
   "outputs": [],
   "source": []
  },
  {
   "cell_type": "code",
   "execution_count": null,
   "id": "28bcfd3e-55ab-4fc4-8dc3-17364712f65e",
   "metadata": {},
   "outputs": [],
   "source": []
  }
 ],
 "metadata": {
  "kernelspec": {
   "display_name": "Python 3 (ipykernel)",
   "language": "python",
   "name": "python3"
  },
  "language_info": {
   "codemirror_mode": {
    "name": "ipython",
    "version": 3
   },
   "file_extension": ".py",
   "mimetype": "text/x-python",
   "name": "python",
   "nbconvert_exporter": "python",
   "pygments_lexer": "ipython3",
   "version": "3.10.4"
  }
 },
 "nbformat": 4,
 "nbformat_minor": 5
}
