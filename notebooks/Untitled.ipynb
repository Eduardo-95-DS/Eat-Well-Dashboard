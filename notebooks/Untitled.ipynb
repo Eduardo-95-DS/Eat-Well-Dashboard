{
 "cells": [
  {
   "cell_type": "markdown",
   "id": "97f6970f-ed91-41b0-9bf5-5005feba40e4",
   "metadata": {},
   "source": [
    "# Imports"
   ]
  },
  {
   "cell_type": "code",
   "execution_count": 1,
   "id": "4385d463-41ba-4fa3-9ac3-6a009439949c",
   "metadata": {
    "execution": {
     "iopub.execute_input": "2024-01-03T23:57:42.967152Z",
     "iopub.status.busy": "2024-01-03T23:57:42.966220Z",
     "iopub.status.idle": "2024-01-03T23:57:45.804647Z",
     "shell.execute_reply": "2024-01-03T23:57:45.803330Z",
     "shell.execute_reply.started": "2024-01-03T23:57:42.967053Z"
    }
   },
   "outputs": [],
   "source": [
    "import pandas as pd\n",
    "import numpy as np\n",
    "import inflection\n",
    "from ydata_profiling import ProfileReport"
   ]
  },
  {
   "cell_type": "markdown",
   "id": "b5534256-4ed4-405f-81ac-471d986dc688",
   "metadata": {},
   "source": [
    "# Functions"
   ]
  },
  {
   "cell_type": "code",
   "execution_count": 2,
   "id": "15d73049-45af-455a-bf40-22c1bead5bd3",
   "metadata": {
    "execution": {
     "iopub.execute_input": "2024-01-03T23:57:45.806754Z",
     "iopub.status.busy": "2024-01-03T23:57:45.806210Z",
     "iopub.status.idle": "2024-01-03T23:57:45.820100Z",
     "shell.execute_reply": "2024-01-03T23:57:45.818309Z",
     "shell.execute_reply.started": "2024-01-03T23:57:45.806718Z"
    }
   },
   "outputs": [],
   "source": [
    "def rename_columns(dataframe):\n",
    "    df = dataframe.copy()\n",
    "    title = lambda x: inflection.titleize(x)\n",
    "    snakecase = lambda x: inflection.underscore(x)\n",
    "    spaces = lambda x: x.replace(\" \", \"\")\n",
    "    cols_old = list(df.columns)\n",
    "    cols_old = list(map(title, cols_old))\n",
    "    cols_old = list(map(spaces, cols_old))\n",
    "    cols_new = list(map(snakecase, cols_old))\n",
    "    df.columns = cols_new\n",
    "    return df\n",
    "\n",
    "COUNTRIES = {\n",
    "1: \"India\",\n",
    "14: \"Australia\",\n",
    "30: \"Brazil\",\n",
    "37: \"Canada\",\n",
    "94: \"Indonesia\",\n",
    "148: \"New Zeland\",\n",
    "162: \"Philippines\",\n",
    "166: \"Qatar\",\n",
    "184: \"Singapure\",\n",
    "189: \"South Africa\",\n",
    "191: \"Sri Lanka\",\n",
    "208: \"Turkey\",\n",
    "214: \"United Arab Emirates\",\n",
    "215: \"England\",\n",
    "216: \"United States of America\"}\n",
    "\n",
    "def country_name(country_id):\n",
    "    return COUNTRIES[country_id]\n",
    "\n",
    "\n",
    "def create_price_tye(price_range):\n",
    "    if price_range == 1:\n",
    "        return \"cheap\"\n",
    "    elif price_range == 2:\n",
    "        return \"normal\"\n",
    "    elif price_range == 3:\n",
    "        return \"expensive\"\n",
    "    else:\n",
    "        return \"gourmet\"\n",
    "\n",
    "\n",
    "COLORS = {\n",
    "\"3F7E00\": \"darkgreen\",\n",
    "\"5BA829\": \"green\",\n",
    "\"9ACD32\": \"lightgreen\",\n",
    "\"CDD614\": \"orange\",\n",
    "\"FFBA00\": \"red\",\n",
    "\"CBCBC8\": \"darkred\",\n",
    "\"FF7800\": \"darkred\"}\n",
    "\n",
    "def color_name(color_code):\n",
    "    return COLORS[color_code]"
   ]
  },
  {
   "cell_type": "markdown",
   "id": "15628e1d-e4df-4300-8270-ba17ff4967a3",
   "metadata": {},
   "source": [
    "# Data"
   ]
  },
  {
   "cell_type": "code",
   "execution_count": 3,
   "id": "5e6cd85d-d3f0-42e8-94e7-6dac24483239",
   "metadata": {
    "execution": {
     "iopub.execute_input": "2024-01-03T23:57:45.824728Z",
     "iopub.status.busy": "2024-01-03T23:57:45.823513Z",
     "iopub.status.idle": "2024-01-03T23:57:45.914132Z",
     "shell.execute_reply": "2024-01-03T23:57:45.912630Z",
     "shell.execute_reply.started": "2024-01-03T23:57:45.824654Z"
    }
   },
   "outputs": [
    {
     "data": {
      "text/html": [
       "<div>\n",
       "<style scoped>\n",
       "    .dataframe tbody tr th:only-of-type {\n",
       "        vertical-align: middle;\n",
       "    }\n",
       "\n",
       "    .dataframe tbody tr th {\n",
       "        vertical-align: top;\n",
       "    }\n",
       "\n",
       "    .dataframe thead th {\n",
       "        text-align: right;\n",
       "    }\n",
       "</style>\n",
       "<table border=\"1\" class=\"dataframe\">\n",
       "  <thead>\n",
       "    <tr style=\"text-align: right;\">\n",
       "      <th></th>\n",
       "      <th>Restaurant ID</th>\n",
       "      <th>Restaurant Name</th>\n",
       "      <th>Country Code</th>\n",
       "      <th>City</th>\n",
       "      <th>Address</th>\n",
       "      <th>Locality</th>\n",
       "      <th>Locality Verbose</th>\n",
       "      <th>Longitude</th>\n",
       "      <th>Latitude</th>\n",
       "      <th>Cuisines</th>\n",
       "      <th>...</th>\n",
       "      <th>Currency</th>\n",
       "      <th>Has Table booking</th>\n",
       "      <th>Has Online delivery</th>\n",
       "      <th>Is delivering now</th>\n",
       "      <th>Switch to order menu</th>\n",
       "      <th>Price range</th>\n",
       "      <th>Aggregate rating</th>\n",
       "      <th>Rating color</th>\n",
       "      <th>Rating text</th>\n",
       "      <th>Votes</th>\n",
       "    </tr>\n",
       "  </thead>\n",
       "  <tbody>\n",
       "    <tr>\n",
       "      <th>0</th>\n",
       "      <td>6310675</td>\n",
       "      <td>Mama Lou's Italian Kitchen</td>\n",
       "      <td>162</td>\n",
       "      <td>Las Piñas City</td>\n",
       "      <td>Block 1, Lot 36, Tropical Avenue Corner Tropic...</td>\n",
       "      <td>BF International</td>\n",
       "      <td>BF International, Las Piñas City</td>\n",
       "      <td>121.009787</td>\n",
       "      <td>14.447615</td>\n",
       "      <td>Italian</td>\n",
       "      <td>...</td>\n",
       "      <td>Botswana Pula(P)</td>\n",
       "      <td>1</td>\n",
       "      <td>0</td>\n",
       "      <td>0</td>\n",
       "      <td>0</td>\n",
       "      <td>3</td>\n",
       "      <td>4.6</td>\n",
       "      <td>3F7E00</td>\n",
       "      <td>Excellent</td>\n",
       "      <td>619</td>\n",
       "    </tr>\n",
       "  </tbody>\n",
       "</table>\n",
       "<p>1 rows × 21 columns</p>\n",
       "</div>"
      ],
      "text/plain": [
       "   Restaurant ID             Restaurant Name  Country Code            City  \\\n",
       "0        6310675  Mama Lou's Italian Kitchen           162  Las Piñas City   \n",
       "\n",
       "                                             Address          Locality  \\\n",
       "0  Block 1, Lot 36, Tropical Avenue Corner Tropic...  BF International   \n",
       "\n",
       "                   Locality Verbose   Longitude   Latitude Cuisines  ...  \\\n",
       "0  BF International, Las Piñas City  121.009787  14.447615  Italian  ...   \n",
       "\n",
       "           Currency Has Table booking  Has Online delivery  Is delivering now  \\\n",
       "0  Botswana Pula(P)                 1                    0                  0   \n",
       "\n",
       "   Switch to order menu  Price range  Aggregate rating  Rating color  \\\n",
       "0                     0            3               4.6        3F7E00   \n",
       "\n",
       "  Rating text Votes  \n",
       "0   Excellent   619  \n",
       "\n",
       "[1 rows x 21 columns]"
      ]
     },
     "execution_count": 3,
     "metadata": {},
     "output_type": "execute_result"
    }
   ],
   "source": [
    "df_raw=pd.read_csv('../data/zomato.csv')\n",
    "df_raw.head(1)"
   ]
  },
  {
   "cell_type": "code",
   "execution_count": 4,
   "id": "87b6570d-419a-4da7-bbc3-1570c32e69f2",
   "metadata": {
    "execution": {
     "iopub.execute_input": "2024-01-03T23:57:45.916766Z",
     "iopub.status.busy": "2024-01-03T23:57:45.916174Z",
     "iopub.status.idle": "2024-01-03T23:57:45.932335Z",
     "shell.execute_reply": "2024-01-03T23:57:45.930927Z",
     "shell.execute_reply.started": "2024-01-03T23:57:45.916704Z"
    }
   },
   "outputs": [
    {
     "name": "stdout",
     "output_type": "stream",
     "text": [
      "(7527, 21) \n",
      "\n",
      "Restaurant ID            0\n",
      "Restaurant Name          0\n",
      "Country Code             0\n",
      "City                     0\n",
      "Address                  0\n",
      "Locality                 0\n",
      "Locality Verbose         0\n",
      "Longitude                0\n",
      "Latitude                 0\n",
      "Cuisines                15\n",
      "Average Cost for two     0\n",
      "Currency                 0\n",
      "Has Table booking        0\n",
      "Has Online delivery      0\n",
      "Is delivering now        0\n",
      "Switch to order menu     0\n",
      "Price range              0\n",
      "Aggregate rating         0\n",
      "Rating color             0\n",
      "Rating text              0\n",
      "Votes                    0\n",
      "dtype: int64 \n",
      "\n",
      "Restaurant ID             int64\n",
      "Restaurant Name          object\n",
      "Country Code              int64\n",
      "City                     object\n",
      "Address                  object\n",
      "Locality                 object\n",
      "Locality Verbose         object\n",
      "Longitude               float64\n",
      "Latitude                float64\n",
      "Cuisines                 object\n",
      "Average Cost for two      int64\n",
      "Currency                 object\n",
      "Has Table booking         int64\n",
      "Has Online delivery       int64\n",
      "Is delivering now         int64\n",
      "Switch to order menu      int64\n",
      "Price range               int64\n",
      "Aggregate rating        float64\n",
      "Rating color             object\n",
      "Rating text              object\n",
      "Votes                     int64\n",
      "dtype: object\n"
     ]
    }
   ],
   "source": [
    "print(df_raw.shape,'\\n')\n",
    "print(df_raw.isna().sum(),'\\n')\n",
    "print(df_raw.dtypes)"
   ]
  },
  {
   "cell_type": "code",
   "execution_count": 5,
   "id": "f17a553b-251f-4492-95ed-8ab0050686d5",
   "metadata": {
    "execution": {
     "iopub.execute_input": "2024-01-03T23:57:45.934742Z",
     "iopub.status.busy": "2024-01-03T23:57:45.933956Z",
     "iopub.status.idle": "2024-01-03T23:57:45.943205Z",
     "shell.execute_reply": "2024-01-03T23:57:45.942183Z",
     "shell.execute_reply.started": "2024-01-03T23:57:45.934680Z"
    }
   },
   "outputs": [],
   "source": [
    "# profile = ProfileReport(df_raw, title=\"Profiling Report\")\n",
    "# profile.to_file('analysis.html')"
   ]
  },
  {
   "cell_type": "code",
   "execution_count": 6,
   "id": "56c36880-117e-40a0-8261-a3c28dfda75e",
   "metadata": {
    "execution": {
     "iopub.execute_input": "2024-01-03T23:57:45.945611Z",
     "iopub.status.busy": "2024-01-03T23:57:45.944966Z",
     "iopub.status.idle": "2024-01-03T23:57:45.965546Z",
     "shell.execute_reply": "2024-01-03T23:57:45.964191Z",
     "shell.execute_reply.started": "2024-01-03T23:57:45.945548Z"
    }
   },
   "outputs": [
    {
     "data": {
      "text/plain": [
       "Index(['restaurant_id', 'restaurant_name', 'country_code', 'city', 'address',\n",
       "       'locality', 'locality_verbose', 'longitude', 'latitude', 'cuisines',\n",
       "       'average_cost_for_two', 'currency', 'has_table_booking',\n",
       "       'has_online_delivery', 'is_delivering_now', 'switch_to_order_menu',\n",
       "       'price_range', 'aggregate_rating', 'rating_color', 'rating_text',\n",
       "       'votes'],\n",
       "      dtype='object')"
      ]
     },
     "execution_count": 6,
     "metadata": {},
     "output_type": "execute_result"
    }
   ],
   "source": [
    "# fixing columns names\n",
    "\n",
    "df_raw=rename_columns(df_raw)\n",
    "df_raw.columns"
   ]
  },
  {
   "cell_type": "code",
   "execution_count": 7,
   "id": "ecd1fcbd-fe22-401f-bcec-a0cbeac3bb10",
   "metadata": {
    "execution": {
     "iopub.execute_input": "2024-01-03T23:57:46.031923Z",
     "iopub.status.busy": "2024-01-03T23:57:46.031337Z",
     "iopub.status.idle": "2024-01-03T23:57:46.052843Z",
     "shell.execute_reply": "2024-01-03T23:57:46.051520Z",
     "shell.execute_reply.started": "2024-01-03T23:57:46.031868Z"
    }
   },
   "outputs": [],
   "source": [
    "# drop all 15 nas\n",
    "\n",
    "df_raw=df_raw.dropna(ignore_index=True)"
   ]
  },
  {
   "cell_type": "code",
   "execution_count": 8,
   "id": "e6e82170-70fa-4c41-9301-40e32bf0ca76",
   "metadata": {
    "execution": {
     "iopub.execute_input": "2024-01-03T23:57:53.468495Z",
     "iopub.status.busy": "2024-01-03T23:57:53.467897Z",
     "iopub.status.idle": "2024-01-03T23:57:53.478828Z",
     "shell.execute_reply": "2024-01-03T23:57:53.477260Z",
     "shell.execute_reply.started": "2024-01-03T23:57:53.468437Z"
    }
   },
   "outputs": [],
   "source": [
    "# drop column with only one variable\n",
    "\n",
    "df_raw=df_raw.drop(columns=['switch_to_order_menu'])"
   ]
  },
  {
   "cell_type": "code",
   "execution_count": 9,
   "id": "dc995ae5-1228-4974-8646-761dc165253d",
   "metadata": {
    "execution": {
     "iopub.execute_input": "2024-01-03T23:57:54.286815Z",
     "iopub.status.busy": "2024-01-03T23:57:54.284751Z",
     "iopub.status.idle": "2024-01-03T23:57:54.920773Z",
     "shell.execute_reply": "2024-01-03T23:57:54.919168Z",
     "shell.execute_reply.started": "2024-01-03T23:57:54.286711Z"
    }
   },
   "outputs": [
    {
     "data": {
      "text/plain": [
       "15"
      ]
     },
     "execution_count": 9,
     "metadata": {},
     "output_type": "execute_result"
    }
   ],
   "source": [
    "# replacing country codes with their names\n",
    "\n",
    "list=[]\n",
    "for index, row in df_raw.iterrows():\n",
    "    codes=country_name(row['country_code'])\n",
    "    list.append(codes)\n",
    "\n",
    "df_raw['country']=list\n",
    "len(df_raw['country'].unique())"
   ]
  },
  {
   "cell_type": "code",
   "execution_count": 10,
   "id": "350f9c14-3711-4ccc-bb00-814df6bf8104",
   "metadata": {
    "execution": {
     "iopub.execute_input": "2024-01-03T23:57:54.938174Z",
     "iopub.status.busy": "2024-01-03T23:57:54.937205Z",
     "iopub.status.idle": "2024-01-03T23:57:54.950371Z",
     "shell.execute_reply": "2024-01-03T23:57:54.949219Z",
     "shell.execute_reply.started": "2024-01-03T23:57:54.938136Z"
    }
   },
   "outputs": [
    {
     "data": {
      "text/plain": [
       "array(['expensive', 'gourmet', 'normal', 'cheap'], dtype=object)"
      ]
     },
     "execution_count": 10,
     "metadata": {},
     "output_type": "execute_result"
    }
   ],
   "source": [
    "# replacing price range values with strings \n",
    "\n",
    "df_raw['price_range']=df_raw['price_range'].apply(create_price_tye)\n",
    "df_raw['price_range'].unique()"
   ]
  },
  {
   "cell_type": "code",
   "execution_count": 11,
   "id": "2b39f276-6768-4701-b796-fdc3b990aed5",
   "metadata": {
    "execution": {
     "iopub.execute_input": "2024-01-03T23:57:55.495806Z",
     "iopub.status.busy": "2024-01-03T23:57:55.495198Z",
     "iopub.status.idle": "2024-01-03T23:57:56.155446Z",
     "shell.execute_reply": "2024-01-03T23:57:56.154094Z",
     "shell.execute_reply.started": "2024-01-03T23:57:55.495746Z"
    }
   },
   "outputs": [
    {
     "data": {
      "text/plain": [
       "array(['darkgreen', 'green', 'lightgreen', 'orange', 'red', 'darkred'],\n",
       "      dtype=object)"
      ]
     },
     "execution_count": 11,
     "metadata": {},
     "output_type": "execute_result"
    }
   ],
   "source": [
    "# replacing hex color codes with the color names\n",
    "\n",
    "list=[]\n",
    "for index, row in df_raw.iterrows():\n",
    "    codes=color_name(row['rating_color'])\n",
    "    list.append(codes)\n",
    "\n",
    "df_raw['rating_color']=list\n",
    "df_raw['rating_color'].unique()"
   ]
  },
  {
   "cell_type": "code",
   "execution_count": 12,
   "id": "6b8baa78-b15d-4d8e-b149-61d0036a82bc",
   "metadata": {
    "execution": {
     "iopub.execute_input": "2024-01-03T23:57:57.150938Z",
     "iopub.status.busy": "2024-01-03T23:57:57.150358Z",
     "iopub.status.idle": "2024-01-03T23:57:57.177652Z",
     "shell.execute_reply": "2024-01-03T23:57:57.176328Z",
     "shell.execute_reply.started": "2024-01-03T23:57:57.150881Z"
    }
   },
   "outputs": [
    {
     "data": {
      "text/html": [
       "<div>\n",
       "<style scoped>\n",
       "    .dataframe tbody tr th:only-of-type {\n",
       "        vertical-align: middle;\n",
       "    }\n",
       "\n",
       "    .dataframe tbody tr th {\n",
       "        vertical-align: top;\n",
       "    }\n",
       "\n",
       "    .dataframe thead th {\n",
       "        text-align: right;\n",
       "    }\n",
       "</style>\n",
       "<table border=\"1\" class=\"dataframe\">\n",
       "  <thead>\n",
       "    <tr style=\"text-align: right;\">\n",
       "      <th></th>\n",
       "      <th>cuisines</th>\n",
       "      <th>cuisines_n°</th>\n",
       "    </tr>\n",
       "  </thead>\n",
       "  <tbody>\n",
       "    <tr>\n",
       "      <th>0</th>\n",
       "      <td>Italian</td>\n",
       "      <td>1</td>\n",
       "    </tr>\n",
       "    <tr>\n",
       "      <th>1</th>\n",
       "      <td>Italian</td>\n",
       "      <td>1</td>\n",
       "    </tr>\n",
       "    <tr>\n",
       "      <th>2</th>\n",
       "      <td>European, Asian</td>\n",
       "      <td>2</td>\n",
       "    </tr>\n",
       "    <tr>\n",
       "      <th>3</th>\n",
       "      <td>Filipino, American, Italian, Bakery</td>\n",
       "      <td>4</td>\n",
       "    </tr>\n",
       "    <tr>\n",
       "      <th>4</th>\n",
       "      <td>American</td>\n",
       "      <td>1</td>\n",
       "    </tr>\n",
       "  </tbody>\n",
       "</table>\n",
       "</div>"
      ],
      "text/plain": [
       "                              cuisines  cuisines_n°\n",
       "0                              Italian            1\n",
       "1                              Italian            1\n",
       "2                      European, Asian            2\n",
       "3  Filipino, American, Italian, Bakery            4\n",
       "4                             American            1"
      ]
     },
     "execution_count": 12,
     "metadata": {},
     "output_type": "execute_result"
    }
   ],
   "source": [
    "# creating another column to count different cuisines categories\n",
    "\n",
    "list=df_raw['cuisines'].str.split(',').apply(len)\n",
    "df_raw['cuisines_n°']=list\n",
    "df_raw[['cuisines','cuisines_n°']].head(5)"
   ]
  },
  {
   "cell_type": "code",
   "execution_count": 40,
   "id": "91f0afa9-156b-4250-80ee-f725c2b3146b",
   "metadata": {
    "execution": {
     "iopub.execute_input": "2024-01-04T00:17:18.015024Z",
     "iopub.status.busy": "2024-01-04T00:17:18.014402Z",
     "iopub.status.idle": "2024-01-04T00:17:18.065119Z",
     "shell.execute_reply": "2024-01-04T00:17:18.063870Z",
     "shell.execute_reply.started": "2024-01-04T00:17:18.014956Z"
    }
   },
   "outputs": [
    {
     "data": {
      "text/plain": [
       "array(['Italian', 'European,', 'Filipino,', 'American', 'Filipino',\n",
       "       'Korean,', 'American,', 'Pizza,', 'Taiwanese', 'Japanese,',\n",
       "       'Japanese', 'Italian,', 'Coffee,', 'Chinese', 'Coffee', 'Seafood,',\n",
       "       'Korean', 'Singaporean,', 'Vietnamese', 'Latin', 'Healthy',\n",
       "       'Cafe,', 'Fast', 'Brazilian', 'Argentine,', 'Arabian', 'Cafe',\n",
       "       'Bakery', 'Tex-Mex,', 'Bar', 'International', 'Pizza', 'French',\n",
       "       'Arabian,', 'Steak', 'German', 'Brazilian,', 'Sushi,', 'Grill,',\n",
       "       'Peruvian', 'Peruvian,', 'Seafood', 'North', 'Ice', 'Steak,',\n",
       "       'Burger,', 'Mexican,', 'Vegetarian,', 'Contemporary', 'Desserts,',\n",
       "       'Juices,', 'Beverages,', 'Burger', 'Spanish', 'French,', 'Mexican',\n",
       "       'Thai', 'Indian', 'Mineira,', 'BBQ,', 'Mongolian,', 'Portuguese',\n",
       "       'Spanish,', 'Contemporary,', 'BBQ', 'Greek', 'Asian,', 'Sushi',\n",
       "       'Author,', 'Gourmet', 'Beverages', 'Lebanese,', 'Modern',\n",
       "       'Desserts', 'African,', 'Australian,', 'Middle', 'German,',\n",
       "       'Malaysian,', 'Bakery,', 'Tapas', 'International,', 'New', 'Pub',\n",
       "       'Southern', 'Diner,', 'Donuts,', 'Southern,', 'Southwestern',\n",
       "       'Sandwich', 'Chinese,', 'Irish,', 'Mediterranean,', 'Sandwich,',\n",
       "       'Vietnamese,', 'Fusion,', 'Greek,', 'Canadian', 'Breakfast,',\n",
       "       'Diner', 'Cajun,', 'Tapas,', 'Thai,', 'Asian', 'Belgian,',\n",
       "       'Mediterranean', 'Cuban,', 'Tex-Mex', 'Taco,', 'Indian,',\n",
       "       'Breakfast', 'Vegetarian', 'Caribbean,', 'Polish,', 'Deli',\n",
       "       'British,', 'Taco', 'African', 'California', 'European', 'Cuban',\n",
       "       'Others', 'Eastern', 'Creole,', 'Ramen', 'Ukrainian', 'Donuts',\n",
       "       'Canadian,', 'Hawaiian,', 'Malaysian', 'Australian', 'Patisserie,',\n",
       "       'Yum', 'British', 'Southwestern,', 'Pacific', 'Tea,', 'Moroccan',\n",
       "       'California,', 'Burmese', 'Dim', 'Crepes,', 'Fish', 'Russian,',\n",
       "       'Continental,', 'South', 'Salad,', 'Finger', 'Mandi,', 'Turkish,',\n",
       "       'Lebanese', 'Kerala', 'Pakistani,', 'Portuguese,', 'Biryani,',\n",
       "       'Kerala,', 'Street', 'Nepalese,', 'Goan,', 'Turkish', 'Iranian',\n",
       "       'Pakistani', 'Irish', 'Continental', 'Mughlai,', 'Rajasthani',\n",
       "       'Rajasthani,', 'Mithai,', 'Maharashtrian,', 'Gujarati',\n",
       "       'Gujarati,', 'Rolls,', 'Mithai', 'Momos,', 'Biryani',\n",
       "       'Maharashtrian', 'Parsi,', 'Mughlai', 'Andhra,', 'Tibetan,',\n",
       "       'Kebab,', 'Burmese,', 'Chettinad,', 'Chettinad', 'Tea', 'Bengali,',\n",
       "       'Tibetan', 'Nepalese', 'Bengali', 'Goan', 'Assamese,', 'Assamese',\n",
       "       'Naga,', 'Hyderabadi,', 'Awadhi,', 'Afghan,', 'Lucknowi', 'Rolls',\n",
       "       'Charcoal', 'Mangalorean,', 'Egyptian,', 'Andhra', 'Iranian,',\n",
       "       'Malwani,', 'Kebab', 'Armenian,', 'Roast', 'Lucknowi,',\n",
       "       'Indonesian', 'Western,', 'Dimsum,', 'Sunda,', 'Kiwi,',\n",
       "       'Taiwanese,', 'Pan', 'Balti,', 'Moroccan,', 'Caribbean',\n",
       "       'Scottish', 'Scottish,', 'Grill', 'Cantonese,', 'Belgian', 'Sri',\n",
       "       'Ramen,', 'Khaleeji,', 'Drinks', 'Deli,', 'Durban', 'World',\n",
       "       'Izgara,', 'Home-made', 'Giblets,', 'Fresh', 'Restaurant',\n",
       "       'Kumpir,', 'Döner', 'Ottoman', 'Döner,', 'Old', 'Kokoreç,',\n",
       "       'Patisserie', 'Home-made,'], dtype=object)"
      ]
     },
     "execution_count": 40,
     "metadata": {},
     "output_type": "execute_result"
    }
   ],
   "source": [
    "list=df['cuisines'].str.split(expand=True)\n",
    "list[0].unique()"
   ]
  },
  {
   "cell_type": "code",
   "execution_count": 13,
   "id": "e1d3f52d-37ea-4c4d-b27b-706c9b28c077",
   "metadata": {
    "execution": {
     "iopub.execute_input": "2024-01-03T23:58:59.752274Z",
     "iopub.status.busy": "2024-01-03T23:58:59.751041Z",
     "iopub.status.idle": "2024-01-03T23:58:59.772032Z",
     "shell.execute_reply": "2024-01-03T23:58:59.770236Z",
     "shell.execute_reply.started": "2024-01-03T23:58:59.752200Z"
    }
   },
   "outputs": [],
   "source": [
    "df=df_raw.copy()"
   ]
  },
  {
   "cell_type": "markdown",
   "id": "a1ac7f23-650f-4198-9a27-a08027dba51b",
   "metadata": {},
   "source": [
    "# Business questions"
   ]
  },
  {
   "cell_type": "markdown",
   "id": "f5d22549-51a9-4a19-889b-0b063dd065da",
   "metadata": {},
   "source": [
    "## General information"
   ]
  },
  {
   "cell_type": "code",
   "execution_count": 16,
   "id": "a67a096f-12cc-4b75-a232-5292cd889562",
   "metadata": {
    "execution": {
     "iopub.execute_input": "2024-01-04T00:04:56.931326Z",
     "iopub.status.busy": "2024-01-04T00:04:56.930159Z",
     "iopub.status.idle": "2024-01-04T00:04:56.943991Z",
     "shell.execute_reply": "2024-01-04T00:04:56.942275Z",
     "shell.execute_reply.started": "2024-01-04T00:04:56.931254Z"
    }
   },
   "outputs": [
    {
     "data": {
      "text/plain": [
       "6929"
      ]
     },
     "execution_count": 16,
     "metadata": {},
     "output_type": "execute_result"
    }
   ],
   "source": [
    "# 1. Quantos restaurantes únicos estão registrados?\n",
    "\n",
    "len(df['restaurant_id'].unique())"
   ]
  },
  {
   "cell_type": "code",
   "execution_count": 19,
   "id": "61b5ae46-8927-455b-92ce-c666a76ab9eb",
   "metadata": {
    "execution": {
     "iopub.execute_input": "2024-01-04T00:05:35.442062Z",
     "iopub.status.busy": "2024-01-04T00:05:35.439965Z",
     "iopub.status.idle": "2024-01-04T00:05:35.458066Z",
     "shell.execute_reply": "2024-01-04T00:05:35.456015Z",
     "shell.execute_reply.started": "2024-01-04T00:05:35.441941Z"
    }
   },
   "outputs": [
    {
     "data": {
      "text/plain": [
       "15"
      ]
     },
     "execution_count": 19,
     "metadata": {},
     "output_type": "execute_result"
    }
   ],
   "source": [
    "# 2. Quantos países únicos estão registrados?\n",
    "\n",
    "len(df['country'].unique())"
   ]
  },
  {
   "cell_type": "code",
   "execution_count": 22,
   "id": "24c8c08b-4864-4de3-a600-aee0865df834",
   "metadata": {
    "execution": {
     "iopub.execute_input": "2024-01-04T00:06:02.819623Z",
     "iopub.status.busy": "2024-01-04T00:06:02.815969Z",
     "iopub.status.idle": "2024-01-04T00:06:02.842450Z",
     "shell.execute_reply": "2024-01-04T00:06:02.840841Z",
     "shell.execute_reply.started": "2024-01-04T00:06:02.819006Z"
    }
   },
   "outputs": [
    {
     "data": {
      "text/plain": [
       "125"
      ]
     },
     "execution_count": 22,
     "metadata": {},
     "output_type": "execute_result"
    }
   ],
   "source": [
    "# 3. Quantas cidades únicas estão registradas?\n",
    "\n",
    "len(df['city'].unique())"
   ]
  },
  {
   "cell_type": "code",
   "execution_count": 30,
   "id": "9fbf5002-b209-408f-9bf1-aef1cacc1658",
   "metadata": {
    "execution": {
     "iopub.execute_input": "2024-01-04T00:09:47.054578Z",
     "iopub.status.busy": "2024-01-04T00:09:47.053414Z",
     "iopub.status.idle": "2024-01-04T00:09:47.067567Z",
     "shell.execute_reply": "2024-01-04T00:09:47.066177Z",
     "shell.execute_reply.started": "2024-01-04T00:09:47.054509Z"
    }
   },
   "outputs": [
    {
     "name": "stdout",
     "output_type": "stream",
     "text": [
      "4,638,535\n"
     ]
    }
   ],
   "source": [
    "# 4. Qual o total de avaliações feitas?\n",
    "\n",
    "print(f'{df[\"votes\"].sum():,.0f}')"
   ]
  },
  {
   "cell_type": "code",
   "execution_count": 31,
   "id": "6535271a-4c9a-41cf-a431-bc398435861a",
   "metadata": {
    "execution": {
     "iopub.execute_input": "2024-01-04T00:10:39.962915Z",
     "iopub.status.busy": "2024-01-04T00:10:39.957889Z",
     "iopub.status.idle": "2024-01-04T00:10:39.979946Z",
     "shell.execute_reply": "2024-01-04T00:10:39.978039Z",
     "shell.execute_reply.started": "2024-01-04T00:10:39.962729Z"
    }
   },
   "outputs": [
    {
     "name": "stdout",
     "output_type": "stream",
     "text": [
      "18,066\n"
     ]
    }
   ],
   "source": [
    "# 5. Qual o total de tipos de culinária registrados?\n",
    "\n",
    "print(f'{df[\"cuisines_n°\"].sum():,.0f}')"
   ]
  },
  {
   "cell_type": "code",
   "execution_count": null,
   "id": "870370a0-5b21-416c-b895-bab9d7216d78",
   "metadata": {},
   "outputs": [],
   "source": [
    "Pais\n",
    "1. Qual o nome do país que possui mais cidades registradas?\n",
    "2. Qual o nome do país que possui mais restaurantes registrados?\n",
    "3. Qual o nome do país que possui mais restaurantes com o nível de preço igual a 4 registrados?\n",
    "4. Qual o nome do país que possui a maior quantidade de tipos de culinária distintos?\n",
    "5. Qual o nome do país que possui a maior quantidade de avaliações feitas?\n",
    "6. Qual o nome do país que possui a maior quantidade de restaurantes que fazem entrega?\n",
    "7. Qual o nome do país que possui a maior quantidade de restaurantes que aceitam reservas?\n",
    "8. Qual o nome do país que possui, na média, a maior quantidade de avaliações registrada?\n",
    "9. Qual o nome do país que possui, na média, a maior nota média registrada?\n",
    "10. Qual o nome do país que possui, na média, a menor nota média registrada?\n",
    "11. Qual a média de preço de um prato para dois por país?"
   ]
  },
  {
   "cell_type": "code",
   "execution_count": null,
   "id": "a0e7410b-fa83-4259-b9ab-3e9cbe41b337",
   "metadata": {},
   "outputs": [],
   "source": [
    "Cidade\n",
    "1. Qual o nome da cidade que possui mais restaurantes registrados?\n",
    "2. Qual o nome da cidade que possui mais restaurantes com nota média acima de 4?\n",
    "3. Qual o nome da cidade que possui mais restaurantes com nota média abaixo de 2.5?\n",
    "4. Qual o nome da cidade que possui o maior valor médio de um prato para dois?\n",
    "5. Qual o nome da cidade que possui a maior quantidade de tipos de culinária distintas?\n",
    "6. Qual o nome da cidade que possui a maior quantidade de restaurantes que fazem reservas?\n",
    "7. Qual o nome da cidade que possui a maior quantidade de restaurantes que fazem entregas?\n",
    "8. Qual o nome da cidade que possui a maior quantidade de restaurantes que aceitam pedidos online?"
   ]
  },
  {
   "cell_type": "code",
   "execution_count": null,
   "id": "9a3635e0-93e9-44c5-9676-a1ee6d9076e8",
   "metadata": {},
   "outputs": [],
   "source": [
    "Restaurantes\n",
    "1. Qual o nome do restaurante que possui a maior quantidade de avaliações?\n",
    "2. Qual o nome do restaurante com a maior nota média?\n",
    "3. Qual o nome do restaurante que possui o maior valor de uma prato para duas pessoas?\n",
    "4. Qual o nome do restaurante de tipo de culinária brasileira que possui a menor média de avaliação?\n",
    "5. Qual o nome do restaurante de tipo de culinária brasileira, e que é do Brasil, que possui a maior média de avaliação?\n",
    "6. Os restaurantes que aceitam pedido online são também, na média, os restaurantes que mais possuem avaliações registradas?\n",
    "7. Os restaurantes que fazem reservas são também, na média, os restaurantes que possuem o maior valor médio de um prato para duas pessoas?\n",
    "8. Os restaurantes do tipo de culinária japonesa dos Estados Unidos da América possuem um valor médio de prato para duas pessoas maior que\n",
    "as churrascarias americanas (BBQ)?"
   ]
  },
  {
   "cell_type": "code",
   "execution_count": null,
   "id": "d0cfaf0b-35b3-4306-a888-a9b906a3b3e4",
   "metadata": {},
   "outputs": [],
   "source": [
    "Tipos de Culinária\n",
    "1. Dos restaurantes que possuem o tipo de culinária italiana, qual o nome do restaurante com a maior média de avaliação?\n",
    "2. Dos restaurantes que possuem o tipo de culinária italiana, qual o nome do restaurante com a menor média de avaliação?\n",
    "3. Dos restaurantes que possuem o tipo de culinária americana, qual o nome do restaurante com a maior média de avaliação?\n",
    "4. Dos restaurantes que possuem o tipo de culinária americana, qual o nome do restaurante com a menor média de avaliação?\n",
    "5. Dos restaurantes que possuem o tipo de culinária árabe, qual o nome do restaurante com a maior média de avaliação?\n",
    "6. Dos restaurantes que possuem o tipo de culinária árabe, qual o nome do restaurante com a menor média de avaliação?\n",
    "7. Dos restaurantes que possuem o tipo de culinária japonesa, qual o nome dorestaurante com a maior média de avaliação?\n",
    "8. Dos restaurantes que possuem o tipo de culinária japonesa, qual o nome dorestaurante com a menor média de avaliação?\n",
    "9. Dos restaurantes que possuem o tipo de culinária caseira, qual o nome do restaurante com a maior média de avaliação?\n",
    "10. Dos restaurantes que possuem o tipo de culinária caseira, qual o nome do restaurante com a menor média de avaliação?\n",
    "11. Qual o tipo de culinária que possui o maior valor médio de um prato para duas pessoas?\n",
    "12. Qual o tipo de culinária que possui a maior nota média?\n",
    "13. Qual o tipo de culinária que possui mais restaurantes que aceitam pedidos online e fazem entregas?"
   ]
  }
 ],
 "metadata": {
  "kernelspec": {
   "display_name": "Python 3 (ipykernel)",
   "language": "python",
   "name": "python3"
  },
  "language_info": {
   "codemirror_mode": {
    "name": "ipython",
    "version": 3
   },
   "file_extension": ".py",
   "mimetype": "text/x-python",
   "name": "python",
   "nbconvert_exporter": "python",
   "pygments_lexer": "ipython3",
   "version": "3.10.4"
  }
 },
 "nbformat": 4,
 "nbformat_minor": 5
}
