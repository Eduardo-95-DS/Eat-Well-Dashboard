{
 "cells": [
  {
   "cell_type": "code",
   "execution_count": 2,
   "id": "c6af50a7-dfc8-4b80-b585-e5efc0653634",
   "metadata": {
    "execution": {
     "iopub.execute_input": "2023-12-20T11:26:39.807356Z",
     "iopub.status.busy": "2023-12-20T11:26:39.806400Z",
     "iopub.status.idle": "2023-12-20T11:26:40.402059Z",
     "shell.execute_reply": "2023-12-20T11:26:40.400784Z",
     "shell.execute_reply.started": "2023-12-20T11:26:39.807315Z"
    }
   },
   "outputs": [],
   "source": [
    "import pandas as pd\n",
    "import numpy  as np\n",
    "from geopy.geocoders import Nominatim\n",
    "from time import sleep"
   ]
  },
  {
   "cell_type": "code",
   "execution_count": 45,
   "id": "6a298ee7-d29a-45f1-9c77-23aa4f52443b",
   "metadata": {
    "execution": {
     "iopub.execute_input": "2023-12-20T23:25:11.133034Z",
     "iopub.status.busy": "2023-12-20T23:25:11.132588Z",
     "iopub.status.idle": "2023-12-20T23:25:11.383450Z",
     "shell.execute_reply": "2023-12-20T23:25:11.381510Z",
     "shell.execute_reply.started": "2023-12-20T23:25:11.132989Z"
    }
   },
   "outputs": [
    {
     "data": {
      "text/html": [
       "<div>\n",
       "<style scoped>\n",
       "    .dataframe tbody tr th:only-of-type {\n",
       "        vertical-align: middle;\n",
       "    }\n",
       "\n",
       "    .dataframe tbody tr th {\n",
       "        vertical-align: top;\n",
       "    }\n",
       "\n",
       "    .dataframe thead th {\n",
       "        text-align: right;\n",
       "    }\n",
       "</style>\n",
       "<table border=\"1\" class=\"dataframe\">\n",
       "  <thead>\n",
       "    <tr style=\"text-align: right;\">\n",
       "      <th></th>\n",
       "      <th>ID</th>\n",
       "      <th>Delivery_person_ID</th>\n",
       "      <th>Delivery_person_Age</th>\n",
       "      <th>Delivery_person_Ratings</th>\n",
       "      <th>Restaurant_latitude</th>\n",
       "      <th>Restaurant_longitude</th>\n",
       "      <th>Delivery_location_latitude</th>\n",
       "      <th>Delivery_location_longitude</th>\n",
       "      <th>Order_Date</th>\n",
       "      <th>Time_Orderd</th>\n",
       "      <th>Time_Order_picked</th>\n",
       "      <th>Weatherconditions</th>\n",
       "      <th>Road_traffic_density</th>\n",
       "      <th>Vehicle_condition</th>\n",
       "      <th>Type_of_order</th>\n",
       "      <th>Type_of_vehicle</th>\n",
       "      <th>multiple_deliveries</th>\n",
       "      <th>Festival</th>\n",
       "      <th>City</th>\n",
       "      <th>Time_taken(min)</th>\n",
       "    </tr>\n",
       "  </thead>\n",
       "  <tbody>\n",
       "    <tr>\n",
       "      <th>0</th>\n",
       "      <td>0x4607</td>\n",
       "      <td>INDORES13DEL02</td>\n",
       "      <td>37</td>\n",
       "      <td>4.9</td>\n",
       "      <td>22.745049</td>\n",
       "      <td>75.892471</td>\n",
       "      <td>22.765049</td>\n",
       "      <td>75.912471</td>\n",
       "      <td>19-03-2022</td>\n",
       "      <td>11:30:00</td>\n",
       "      <td>11:45:00</td>\n",
       "      <td>conditions Sunny</td>\n",
       "      <td>High</td>\n",
       "      <td>2</td>\n",
       "      <td>Snack</td>\n",
       "      <td>motorcycle</td>\n",
       "      <td>0</td>\n",
       "      <td>No</td>\n",
       "      <td>Urban</td>\n",
       "      <td>(min) 24</td>\n",
       "    </tr>\n",
       "    <tr>\n",
       "      <th>1</th>\n",
       "      <td>0xb379</td>\n",
       "      <td>BANGRES18DEL02</td>\n",
       "      <td>34</td>\n",
       "      <td>4.5</td>\n",
       "      <td>12.913041</td>\n",
       "      <td>77.683237</td>\n",
       "      <td>13.043041</td>\n",
       "      <td>77.813237</td>\n",
       "      <td>25-03-2022</td>\n",
       "      <td>19:45:00</td>\n",
       "      <td>19:50:00</td>\n",
       "      <td>conditions Stormy</td>\n",
       "      <td>Jam</td>\n",
       "      <td>2</td>\n",
       "      <td>Snack</td>\n",
       "      <td>scooter</td>\n",
       "      <td>1</td>\n",
       "      <td>No</td>\n",
       "      <td>Metropolitian</td>\n",
       "      <td>(min) 33</td>\n",
       "    </tr>\n",
       "    <tr>\n",
       "      <th>2</th>\n",
       "      <td>0x5d6d</td>\n",
       "      <td>BANGRES19DEL01</td>\n",
       "      <td>23</td>\n",
       "      <td>4.4</td>\n",
       "      <td>12.914264</td>\n",
       "      <td>77.678400</td>\n",
       "      <td>12.924264</td>\n",
       "      <td>77.688400</td>\n",
       "      <td>19-03-2022</td>\n",
       "      <td>08:30:00</td>\n",
       "      <td>08:45:00</td>\n",
       "      <td>conditions Sandstorms</td>\n",
       "      <td>Low</td>\n",
       "      <td>0</td>\n",
       "      <td>Drinks</td>\n",
       "      <td>motorcycle</td>\n",
       "      <td>1</td>\n",
       "      <td>No</td>\n",
       "      <td>Urban</td>\n",
       "      <td>(min) 26</td>\n",
       "    </tr>\n",
       "    <tr>\n",
       "      <th>3</th>\n",
       "      <td>0x7a6a</td>\n",
       "      <td>COIMBRES13DEL02</td>\n",
       "      <td>38</td>\n",
       "      <td>4.7</td>\n",
       "      <td>11.003669</td>\n",
       "      <td>76.976494</td>\n",
       "      <td>11.053669</td>\n",
       "      <td>77.026494</td>\n",
       "      <td>05-04-2022</td>\n",
       "      <td>18:00:00</td>\n",
       "      <td>18:10:00</td>\n",
       "      <td>conditions Sunny</td>\n",
       "      <td>Medium</td>\n",
       "      <td>0</td>\n",
       "      <td>Buffet</td>\n",
       "      <td>motorcycle</td>\n",
       "      <td>1</td>\n",
       "      <td>No</td>\n",
       "      <td>Metropolitian</td>\n",
       "      <td>(min) 21</td>\n",
       "    </tr>\n",
       "    <tr>\n",
       "      <th>4</th>\n",
       "      <td>0x70a2</td>\n",
       "      <td>CHENRES12DEL01</td>\n",
       "      <td>32</td>\n",
       "      <td>4.6</td>\n",
       "      <td>12.972793</td>\n",
       "      <td>80.249982</td>\n",
       "      <td>13.012793</td>\n",
       "      <td>80.289982</td>\n",
       "      <td>26-03-2022</td>\n",
       "      <td>13:30:00</td>\n",
       "      <td>13:45:00</td>\n",
       "      <td>conditions Cloudy</td>\n",
       "      <td>High</td>\n",
       "      <td>1</td>\n",
       "      <td>Snack</td>\n",
       "      <td>scooter</td>\n",
       "      <td>1</td>\n",
       "      <td>No</td>\n",
       "      <td>Metropolitian</td>\n",
       "      <td>(min) 30</td>\n",
       "    </tr>\n",
       "    <tr>\n",
       "      <th>...</th>\n",
       "      <td>...</td>\n",
       "      <td>...</td>\n",
       "      <td>...</td>\n",
       "      <td>...</td>\n",
       "      <td>...</td>\n",
       "      <td>...</td>\n",
       "      <td>...</td>\n",
       "      <td>...</td>\n",
       "      <td>...</td>\n",
       "      <td>...</td>\n",
       "      <td>...</td>\n",
       "      <td>...</td>\n",
       "      <td>...</td>\n",
       "      <td>...</td>\n",
       "      <td>...</td>\n",
       "      <td>...</td>\n",
       "      <td>...</td>\n",
       "      <td>...</td>\n",
       "      <td>...</td>\n",
       "      <td>...</td>\n",
       "    </tr>\n",
       "    <tr>\n",
       "      <th>45588</th>\n",
       "      <td>0x7c09</td>\n",
       "      <td>JAPRES04DEL01</td>\n",
       "      <td>30</td>\n",
       "      <td>4.8</td>\n",
       "      <td>26.902328</td>\n",
       "      <td>75.794257</td>\n",
       "      <td>26.912328</td>\n",
       "      <td>75.804257</td>\n",
       "      <td>24-03-2022</td>\n",
       "      <td>11:35:00</td>\n",
       "      <td>11:45:00</td>\n",
       "      <td>conditions Windy</td>\n",
       "      <td>High</td>\n",
       "      <td>1</td>\n",
       "      <td>Meal</td>\n",
       "      <td>motorcycle</td>\n",
       "      <td>0</td>\n",
       "      <td>No</td>\n",
       "      <td>Metropolitian</td>\n",
       "      <td>(min) 32</td>\n",
       "    </tr>\n",
       "    <tr>\n",
       "      <th>45589</th>\n",
       "      <td>0xd641</td>\n",
       "      <td>AGRRES16DEL01</td>\n",
       "      <td>21</td>\n",
       "      <td>4.6</td>\n",
       "      <td>0.000000</td>\n",
       "      <td>0.000000</td>\n",
       "      <td>0.070000</td>\n",
       "      <td>0.070000</td>\n",
       "      <td>16-02-2022</td>\n",
       "      <td>19:55:00</td>\n",
       "      <td>20:10:00</td>\n",
       "      <td>conditions Windy</td>\n",
       "      <td>Jam</td>\n",
       "      <td>0</td>\n",
       "      <td>Buffet</td>\n",
       "      <td>motorcycle</td>\n",
       "      <td>1</td>\n",
       "      <td>No</td>\n",
       "      <td>Metropolitian</td>\n",
       "      <td>(min) 36</td>\n",
       "    </tr>\n",
       "    <tr>\n",
       "      <th>45590</th>\n",
       "      <td>0x4f8d</td>\n",
       "      <td>CHENRES08DEL03</td>\n",
       "      <td>30</td>\n",
       "      <td>4.9</td>\n",
       "      <td>13.022394</td>\n",
       "      <td>80.242439</td>\n",
       "      <td>13.052394</td>\n",
       "      <td>80.272439</td>\n",
       "      <td>11-03-2022</td>\n",
       "      <td>23:50:00</td>\n",
       "      <td>00:05:00</td>\n",
       "      <td>conditions Cloudy</td>\n",
       "      <td>Low</td>\n",
       "      <td>1</td>\n",
       "      <td>Drinks</td>\n",
       "      <td>scooter</td>\n",
       "      <td>0</td>\n",
       "      <td>No</td>\n",
       "      <td>Metropolitian</td>\n",
       "      <td>(min) 16</td>\n",
       "    </tr>\n",
       "    <tr>\n",
       "      <th>45591</th>\n",
       "      <td>0x5eee</td>\n",
       "      <td>COIMBRES11DEL01</td>\n",
       "      <td>20</td>\n",
       "      <td>4.7</td>\n",
       "      <td>11.001753</td>\n",
       "      <td>76.986241</td>\n",
       "      <td>11.041753</td>\n",
       "      <td>77.026241</td>\n",
       "      <td>07-03-2022</td>\n",
       "      <td>13:35:00</td>\n",
       "      <td>13:40:00</td>\n",
       "      <td>conditions Cloudy</td>\n",
       "      <td>High</td>\n",
       "      <td>0</td>\n",
       "      <td>Snack</td>\n",
       "      <td>motorcycle</td>\n",
       "      <td>1</td>\n",
       "      <td>No</td>\n",
       "      <td>Metropolitian</td>\n",
       "      <td>(min) 26</td>\n",
       "    </tr>\n",
       "    <tr>\n",
       "      <th>45592</th>\n",
       "      <td>0x5fb2</td>\n",
       "      <td>RANCHIRES09DEL02</td>\n",
       "      <td>23</td>\n",
       "      <td>4.9</td>\n",
       "      <td>23.351058</td>\n",
       "      <td>85.325731</td>\n",
       "      <td>23.431058</td>\n",
       "      <td>85.405731</td>\n",
       "      <td>02-03-2022</td>\n",
       "      <td>17:10:00</td>\n",
       "      <td>17:15:00</td>\n",
       "      <td>conditions Fog</td>\n",
       "      <td>Medium</td>\n",
       "      <td>2</td>\n",
       "      <td>Snack</td>\n",
       "      <td>scooter</td>\n",
       "      <td>1</td>\n",
       "      <td>No</td>\n",
       "      <td>Metropolitian</td>\n",
       "      <td>(min) 36</td>\n",
       "    </tr>\n",
       "  </tbody>\n",
       "</table>\n",
       "<p>45593 rows × 20 columns</p>\n",
       "</div>"
      ],
      "text/plain": [
       "            ID Delivery_person_ID Delivery_person_Age Delivery_person_Ratings  \\\n",
       "0      0x4607     INDORES13DEL02                   37                     4.9   \n",
       "1      0xb379     BANGRES18DEL02                   34                     4.5   \n",
       "2      0x5d6d     BANGRES19DEL01                   23                     4.4   \n",
       "3      0x7a6a    COIMBRES13DEL02                   38                     4.7   \n",
       "4      0x70a2     CHENRES12DEL01                   32                     4.6   \n",
       "...        ...                ...                 ...                     ...   \n",
       "45588  0x7c09      JAPRES04DEL01                   30                     4.8   \n",
       "45589  0xd641      AGRRES16DEL01                   21                     4.6   \n",
       "45590  0x4f8d     CHENRES08DEL03                   30                     4.9   \n",
       "45591  0x5eee    COIMBRES11DEL01                   20                     4.7   \n",
       "45592  0x5fb2   RANCHIRES09DEL02                   23                     4.9   \n",
       "\n",
       "       Restaurant_latitude  Restaurant_longitude  Delivery_location_latitude  \\\n",
       "0                22.745049             75.892471                   22.765049   \n",
       "1                12.913041             77.683237                   13.043041   \n",
       "2                12.914264             77.678400                   12.924264   \n",
       "3                11.003669             76.976494                   11.053669   \n",
       "4                12.972793             80.249982                   13.012793   \n",
       "...                    ...                   ...                         ...   \n",
       "45588            26.902328             75.794257                   26.912328   \n",
       "45589             0.000000              0.000000                    0.070000   \n",
       "45590            13.022394             80.242439                   13.052394   \n",
       "45591            11.001753             76.986241                   11.041753   \n",
       "45592            23.351058             85.325731                   23.431058   \n",
       "\n",
       "       Delivery_location_longitude  Order_Date Time_Orderd Time_Order_picked  \\\n",
       "0                        75.912471  19-03-2022    11:30:00          11:45:00   \n",
       "1                        77.813237  25-03-2022    19:45:00          19:50:00   \n",
       "2                        77.688400  19-03-2022    08:30:00          08:45:00   \n",
       "3                        77.026494  05-04-2022    18:00:00          18:10:00   \n",
       "4                        80.289982  26-03-2022    13:30:00          13:45:00   \n",
       "...                            ...         ...         ...               ...   \n",
       "45588                    75.804257  24-03-2022    11:35:00          11:45:00   \n",
       "45589                     0.070000  16-02-2022    19:55:00          20:10:00   \n",
       "45590                    80.272439  11-03-2022    23:50:00          00:05:00   \n",
       "45591                    77.026241  07-03-2022    13:35:00          13:40:00   \n",
       "45592                    85.405731  02-03-2022    17:10:00          17:15:00   \n",
       "\n",
       "           Weatherconditions Road_traffic_density  Vehicle_condition  \\\n",
       "0           conditions Sunny                High                   2   \n",
       "1          conditions Stormy                 Jam                   2   \n",
       "2      conditions Sandstorms                 Low                   0   \n",
       "3           conditions Sunny              Medium                   0   \n",
       "4          conditions Cloudy                High                   1   \n",
       "...                      ...                  ...                ...   \n",
       "45588       conditions Windy                High                   1   \n",
       "45589       conditions Windy                 Jam                   0   \n",
       "45590      conditions Cloudy                 Low                   1   \n",
       "45591      conditions Cloudy                High                   0   \n",
       "45592         conditions Fog              Medium                   2   \n",
       "\n",
       "      Type_of_order Type_of_vehicle multiple_deliveries Festival  \\\n",
       "0            Snack      motorcycle                    0      No    \n",
       "1            Snack         scooter                    1      No    \n",
       "2           Drinks      motorcycle                    1      No    \n",
       "3           Buffet      motorcycle                    1      No    \n",
       "4            Snack         scooter                    1      No    \n",
       "...             ...             ...                 ...      ...   \n",
       "45588         Meal      motorcycle                    0      No    \n",
       "45589       Buffet      motorcycle                    1      No    \n",
       "45590       Drinks         scooter                    0      No    \n",
       "45591        Snack      motorcycle                    1      No    \n",
       "45592        Snack         scooter                    1      No    \n",
       "\n",
       "                 City Time_taken(min)  \n",
       "0              Urban         (min) 24  \n",
       "1      Metropolitian         (min) 33  \n",
       "2              Urban         (min) 26  \n",
       "3      Metropolitian         (min) 21  \n",
       "4      Metropolitian         (min) 30  \n",
       "...               ...             ...  \n",
       "45588  Metropolitian         (min) 32  \n",
       "45589  Metropolitian         (min) 36  \n",
       "45590  Metropolitian         (min) 16  \n",
       "45591  Metropolitian         (min) 26  \n",
       "45592  Metropolitian         (min) 36  \n",
       "\n",
       "[45593 rows x 20 columns]"
      ]
     },
     "execution_count": 45,
     "metadata": {},
     "output_type": "execute_result"
    }
   ],
   "source": [
    "df_raw=pd.read_csv('../data/train_raw.csv')\n",
    "df_raw"
   ]
  },
  {
   "cell_type": "code",
   "execution_count": 47,
   "id": "ce2c0dcc-8d8e-4f93-ad0d-430f08f2d8c9",
   "metadata": {
    "execution": {
     "iopub.execute_input": "2023-12-20T23:25:11.410892Z",
     "iopub.status.busy": "2023-12-20T23:25:11.409902Z",
     "iopub.status.idle": "2023-12-20T23:25:11.424946Z",
     "shell.execute_reply": "2023-12-20T23:25:11.423473Z",
     "shell.execute_reply.started": "2023-12-20T23:25:11.410824Z"
    }
   },
   "outputs": [
    {
     "data": {
      "text/plain": [
       "ID                              object\n",
       "Delivery_person_ID              object\n",
       "Delivery_person_Age             object\n",
       "Delivery_person_Ratings         object\n",
       "Restaurant_latitude            float64\n",
       "Restaurant_longitude           float64\n",
       "Delivery_location_latitude     float64\n",
       "Delivery_location_longitude    float64\n",
       "Order_Date                      object\n",
       "Time_Orderd                     object\n",
       "Time_Order_picked               object\n",
       "Weatherconditions               object\n",
       "Road_traffic_density            object\n",
       "Vehicle_condition                int64\n",
       "Type_of_order                   object\n",
       "Type_of_vehicle                 object\n",
       "multiple_deliveries             object\n",
       "Festival                        object\n",
       "City                            object\n",
       "Time_taken(min)                 object\n",
       "dtype: object"
      ]
     },
     "execution_count": 47,
     "metadata": {},
     "output_type": "execute_result"
    }
   ],
   "source": [
    "df_raw.dtypes"
   ]
  },
  {
   "cell_type": "code",
   "execution_count": 48,
   "id": "04651131-2a54-4fa4-b414-d2287313ed25",
   "metadata": {
    "execution": {
     "iopub.execute_input": "2023-12-20T23:25:11.522957Z",
     "iopub.status.busy": "2023-12-20T23:25:11.521929Z",
     "iopub.status.idle": "2023-12-20T23:25:11.595496Z",
     "shell.execute_reply": "2023-12-20T23:25:11.593860Z",
     "shell.execute_reply.started": "2023-12-20T23:25:11.522888Z"
    }
   },
   "outputs": [
    {
     "name": "stdout",
     "output_type": "stream",
     "text": [
      "(45593, 20) \n",
      "\n",
      "ID                             0\n",
      "Delivery_person_ID             0\n",
      "Delivery_person_Age            0\n",
      "Delivery_person_Ratings        0\n",
      "Restaurant_latitude            0\n",
      "Restaurant_longitude           0\n",
      "Delivery_location_latitude     0\n",
      "Delivery_location_longitude    0\n",
      "Order_Date                     0\n",
      "Time_Orderd                    0\n",
      "Time_Order_picked              0\n",
      "Weatherconditions              0\n",
      "Road_traffic_density           0\n",
      "Vehicle_condition              0\n",
      "Type_of_order                  0\n",
      "Type_of_vehicle                0\n",
      "multiple_deliveries            0\n",
      "Festival                       0\n",
      "City                           0\n",
      "Time_taken(min)                0\n",
      "dtype: int64 \n",
      "\n",
      "ID                              object\n",
      "Delivery_person_ID              object\n",
      "Delivery_person_Age             object\n",
      "Delivery_person_Ratings         object\n",
      "Restaurant_latitude            float64\n",
      "Restaurant_longitude           float64\n",
      "Delivery_location_latitude     float64\n",
      "Delivery_location_longitude    float64\n",
      "Order_Date                      object\n",
      "Time_Orderd                     object\n",
      "Time_Order_picked               object\n",
      "Weatherconditions               object\n",
      "Road_traffic_density            object\n",
      "Vehicle_condition                int64\n",
      "Type_of_order                   object\n",
      "Type_of_vehicle                 object\n",
      "multiple_deliveries             object\n",
      "Festival                        object\n",
      "City                            object\n",
      "Time_taken(min)                 object\n",
      "dtype: object\n"
     ]
    }
   ],
   "source": [
    "print(df_raw.shape,'\\n')\n",
    "print(df_raw.isna().sum(),'\\n')\n",
    "print(df_raw.dtypes)"
   ]
  },
  {
   "cell_type": "code",
   "execution_count": 49,
   "id": "b778a239-2c1c-4c7c-8c84-4f056c74efa0",
   "metadata": {
    "execution": {
     "iopub.execute_input": "2023-12-20T23:25:12.135658Z",
     "iopub.status.busy": "2023-12-20T23:25:12.134466Z",
     "iopub.status.idle": "2023-12-20T23:25:12.142664Z",
     "shell.execute_reply": "2023-12-20T23:25:12.141393Z",
     "shell.execute_reply.started": "2023-12-20T23:25:12.135581Z"
    }
   },
   "outputs": [],
   "source": [
    "# df.describe()"
   ]
  },
  {
   "cell_type": "code",
   "execution_count": 50,
   "id": "5edf1f9b-19ed-4d23-a0d8-587e64b1a3cf",
   "metadata": {
    "execution": {
     "iopub.execute_input": "2023-12-20T23:25:12.650972Z",
     "iopub.status.busy": "2023-12-20T23:25:12.650384Z",
     "iopub.status.idle": "2023-12-20T23:25:12.662786Z",
     "shell.execute_reply": "2023-12-20T23:25:12.661110Z",
     "shell.execute_reply.started": "2023-12-20T23:25:12.650925Z"
    }
   },
   "outputs": [
    {
     "data": {
      "text/plain": [
       "Index(['id', 'delivery_person_id', 'delivery_person_age',\n",
       "       'delivery_person_ratings', 'restaurant_latitude',\n",
       "       'restaurant_longitude', 'delivery_location_latitude',\n",
       "       'delivery_location_longitude', 'order_date', 'time_orderd',\n",
       "       'time_order_picked', 'weatherconditions', 'road_traffic_density',\n",
       "       'vehicle_condition', 'type_of_order', 'type_of_vehicle',\n",
       "       'multiple_deliveries', 'festival', 'city', 'time_taken(min)'],\n",
       "      dtype='object')"
      ]
     },
     "execution_count": 50,
     "metadata": {},
     "output_type": "execute_result"
    }
   ],
   "source": [
    "df_raw.columns= df_raw.columns.str.lower()\n",
    "df_raw.columns"
   ]
  },
  {
   "cell_type": "code",
   "execution_count": 56,
   "id": "02380ed0-03d2-494b-9823-4fd9d40f693c",
   "metadata": {
    "execution": {
     "iopub.execute_input": "2023-12-20T23:28:47.580027Z",
     "iopub.status.busy": "2023-12-20T23:28:47.578951Z",
     "iopub.status.idle": "2023-12-20T23:28:47.594908Z",
     "shell.execute_reply": "2023-12-20T23:28:47.592407Z",
     "shell.execute_reply.started": "2023-12-20T23:28:47.579984Z"
    }
   },
   "outputs": [],
   "source": [
    "df1=df_raw.copy()"
   ]
  },
  {
   "cell_type": "code",
   "execution_count": 63,
   "id": "5205ac36-227c-4500-a00e-e006a0c94507",
   "metadata": {
    "execution": {
     "iopub.execute_input": "2023-12-20T23:30:10.673896Z",
     "iopub.status.busy": "2023-12-20T23:30:10.672745Z",
     "iopub.status.idle": "2023-12-20T23:30:10.779973Z",
     "shell.execute_reply": "2023-12-20T23:30:10.778709Z",
     "shell.execute_reply.started": "2023-12-20T23:30:10.673827Z"
    }
   },
   "outputs": [
    {
     "data": {
      "text/html": [
       "<div>\n",
       "<style scoped>\n",
       "    .dataframe tbody tr th:only-of-type {\n",
       "        vertical-align: middle;\n",
       "    }\n",
       "\n",
       "    .dataframe tbody tr th {\n",
       "        vertical-align: top;\n",
       "    }\n",
       "\n",
       "    .dataframe thead th {\n",
       "        text-align: right;\n",
       "    }\n",
       "</style>\n",
       "<table border=\"1\" class=\"dataframe\">\n",
       "  <thead>\n",
       "    <tr style=\"text-align: right;\">\n",
       "      <th></th>\n",
       "      <th>id</th>\n",
       "      <th>delivery_person_id</th>\n",
       "      <th>delivery_person_age</th>\n",
       "      <th>delivery_person_ratings</th>\n",
       "      <th>restaurant_latitude</th>\n",
       "      <th>restaurant_longitude</th>\n",
       "      <th>delivery_location_latitude</th>\n",
       "      <th>delivery_location_longitude</th>\n",
       "      <th>order_date</th>\n",
       "      <th>time_orderd</th>\n",
       "      <th>time_order_picked</th>\n",
       "      <th>weatherconditions</th>\n",
       "      <th>road_traffic_density</th>\n",
       "      <th>vehicle_condition</th>\n",
       "      <th>type_of_order</th>\n",
       "      <th>type_of_vehicle</th>\n",
       "      <th>multiple_deliveries</th>\n",
       "      <th>festival</th>\n",
       "      <th>city</th>\n",
       "      <th>time_taken(min)</th>\n",
       "    </tr>\n",
       "  </thead>\n",
       "  <tbody>\n",
       "  </tbody>\n",
       "</table>\n",
       "</div>"
      ],
      "text/plain": [
       "Empty DataFrame\n",
       "Columns: [id, delivery_person_id, delivery_person_age, delivery_person_ratings, restaurant_latitude, restaurant_longitude, delivery_location_latitude, delivery_location_longitude, order_date, time_orderd, time_order_picked, weatherconditions, road_traffic_density, vehicle_condition, type_of_order, type_of_vehicle, multiple_deliveries, festival, city, time_taken(min)]\n",
       "Index: []"
      ]
     },
     "execution_count": 63,
     "metadata": {},
     "output_type": "execute_result"
    }
   ],
   "source": [
    "df1 = df1[~df1.isin(['NaN ']).any(axis=1)]\n",
    "df1[df1['delivery_person_age']=='NaN ']"
   ]
  },
  {
   "cell_type": "code",
   "execution_count": null,
   "id": "1a8ce7a9-1b84-42a3-925a-181db6c1aa62",
   "metadata": {},
   "outputs": [],
   "source": []
  },
  {
   "cell_type": "code",
   "execution_count": 59,
   "id": "9e502596-f8db-481a-8840-edd2724d76d9",
   "metadata": {
    "execution": {
     "iopub.execute_input": "2023-12-20T23:29:19.181136Z",
     "iopub.status.busy": "2023-12-20T23:29:19.179966Z",
     "iopub.status.idle": "2023-12-20T23:29:19.282847Z",
     "shell.execute_reply": "2023-12-20T23:29:19.281297Z",
     "shell.execute_reply.started": "2023-12-20T23:29:19.181068Z"
    }
   },
   "outputs": [
    {
     "name": "stdout",
     "output_type": "stream",
     "text": [
      "0, 0, 1854, 1908, 0, 0, 0, 0, 0, 1731, 0, 0, 601, 0, 0, 0, 993, 228, 1200, 0, "
     ]
    }
   ],
   "source": [
    "for rows in df1:\n",
    "    print(len(df1[df1[rows]=='NaN ']),end=\", \")"
   ]
  },
  {
   "cell_type": "code",
   "execution_count": 12,
   "id": "7869f489-9638-4eeb-80e8-9a8e0a50aff3",
   "metadata": {
    "execution": {
     "iopub.execute_input": "2023-12-20T23:06:44.866840Z",
     "iopub.status.busy": "2023-12-20T23:06:44.866149Z",
     "iopub.status.idle": "2023-12-20T23:06:44.871686Z",
     "shell.execute_reply": "2023-12-20T23:06:44.870597Z",
     "shell.execute_reply.started": "2023-12-20T23:06:44.866784Z"
    }
   },
   "outputs": [],
   "source": [
    "# for column in df:\n",
    "#     df=df[~df[column].isin(['NaN '])]\n",
    "\n",
    "\n",
    "# df.shape"
   ]
  },
  {
   "cell_type": "code",
   "execution_count": 13,
   "id": "71dd3c36-f721-4004-a893-85bb5b6034fb",
   "metadata": {
    "execution": {
     "iopub.execute_input": "2023-12-20T23:06:45.147742Z",
     "iopub.status.busy": "2023-12-20T23:06:45.146968Z",
     "iopub.status.idle": "2023-12-20T23:06:45.153651Z",
     "shell.execute_reply": "2023-12-20T23:06:45.152423Z",
     "shell.execute_reply.started": "2023-12-20T23:06:45.147665Z"
    }
   },
   "outputs": [],
   "source": [
    "# df1['id']\n",
    "\n",
    "# df1[df1['id']=='Nan ']"
   ]
  },
  {
   "cell_type": "code",
   "execution_count": 16,
   "id": "847c188f-4804-48d2-aab9-0b9887318b7a",
   "metadata": {
    "execution": {
     "iopub.execute_input": "2023-12-20T23:06:59.663293Z",
     "iopub.status.busy": "2023-12-20T23:06:59.662358Z",
     "iopub.status.idle": "2023-12-20T23:06:59.679897Z",
     "shell.execute_reply": "2023-12-20T23:06:59.678531Z",
     "shell.execute_reply.started": "2023-12-20T23:06:59.663222Z"
    }
   },
   "outputs": [
    {
     "data": {
      "text/plain": [
       "array(['indores13del02', 'bangres18del02', 'bangres19del01', ...,\n",
       "       'kocres04del01', 'bhpres06del03', 'goares03del03'], dtype=object)"
      ]
     },
     "execution_count": 16,
     "metadata": {},
     "output_type": "execute_result"
    }
   ],
   "source": [
    "df1['delivery_person_id'].unique()\n",
    "\n",
    "# df1[df1['delivery_person_id']=='Nan ']\n",
    "df1['delivery_person_id']=df1['delivery_person_id'].replace(' ', '', regex=True).str.lower()"
   ]
  },
  {
   "cell_type": "code",
   "execution_count": 11,
   "id": "1992bc93-20ce-40f4-b90c-b32e40d348ff",
   "metadata": {
    "execution": {
     "iopub.execute_input": "2023-12-17T13:28:04.744181Z",
     "iopub.status.busy": "2023-12-17T13:28:04.743332Z",
     "iopub.status.idle": "2023-12-17T13:28:04.777984Z",
     "shell.execute_reply": "2023-12-17T13:28:04.776802Z",
     "shell.execute_reply.started": "2023-12-17T13:28:04.744127Z"
    }
   },
   "outputs": [],
   "source": [
    "# df1'delivery_person_age'].unique()\n",
    "\n",
    "df1=df1[~df1['delivery_person_age'].isin(['NaN '])]\n",
    "\n",
    "df1['delivery_person_age']=df1['delivery_person_age'].astype(int)"
   ]
  },
  {
   "cell_type": "code",
   "execution_count": 20,
   "id": "b13d8f58-ff95-419a-be68-a07af5945326",
   "metadata": {
    "execution": {
     "iopub.execute_input": "2023-12-20T23:08:43.841021Z",
     "iopub.status.busy": "2023-12-20T23:08:43.837103Z",
     "iopub.status.idle": "2023-12-20T23:08:43.851486Z",
     "shell.execute_reply": "2023-12-20T23:08:43.849768Z",
     "shell.execute_reply.started": "2023-12-20T23:08:43.840951Z"
    }
   },
   "outputs": [],
   "source": [
    "df1['delivery_person_ratings'].unique()\n",
    "\n",
    "# df1=df1[~df1['delivery_person_ratings'].isin(['NaN '])]\n",
    "\n",
    "df1['delivery_person_ratings']=df1['delivery_person_ratings'].astype(float).replace({'  ':0})"
   ]
  },
  {
   "cell_type": "code",
   "execution_count": 28,
   "id": "9a34fdfc-94b5-4d90-b4d5-5a222ba76bbb",
   "metadata": {
    "execution": {
     "iopub.execute_input": "2023-12-20T23:11:48.864084Z",
     "iopub.status.busy": "2023-12-20T23:11:48.863089Z",
     "iopub.status.idle": "2023-12-20T23:11:48.971463Z",
     "shell.execute_reply": "2023-12-20T23:11:48.970315Z",
     "shell.execute_reply.started": "2023-12-20T23:11:48.864017Z"
    }
   },
   "outputs": [],
   "source": [
    "# df1['restaurant_latitude'].unique() # retirar as linhas com zero para futuras análises\n",
    "\n",
    "df1['restaurant_latitude']=df1['restaurant_latitude'].astype(str)\n",
    "df1['restaurant_latitude']=df1['restaurant_latitude'].replace('-','',regex=True)\n",
    "df1['restaurant_latitude']=df1['restaurant_latitude'].astype(float)"
   ]
  },
  {
   "cell_type": "code",
   "execution_count": 14,
   "id": "4ef1afa2-9bbe-43c0-9802-c4a28a106a17",
   "metadata": {
    "execution": {
     "iopub.execute_input": "2023-12-17T13:28:05.654375Z",
     "iopub.status.busy": "2023-12-17T13:28:05.653692Z",
     "iopub.status.idle": "2023-12-17T13:28:05.661171Z",
     "shell.execute_reply": "2023-12-17T13:28:05.659208Z",
     "shell.execute_reply.started": "2023-12-17T13:28:05.654296Z"
    }
   },
   "outputs": [],
   "source": [
    "# df1['restaurant_longitude'].unique() # retirar as linhas com zero para futuras análises\n"
   ]
  },
  {
   "cell_type": "code",
   "execution_count": 15,
   "id": "d0817526-9ce5-45c1-bce9-7955c475aee0",
   "metadata": {
    "execution": {
     "iopub.execute_input": "2023-12-17T13:28:05.953196Z",
     "iopub.status.busy": "2023-12-17T13:28:05.951334Z",
     "iopub.status.idle": "2023-12-17T13:28:05.959902Z",
     "shell.execute_reply": "2023-12-17T13:28:05.958218Z",
     "shell.execute_reply.started": "2023-12-17T13:28:05.953060Z"
    }
   },
   "outputs": [],
   "source": [
    "# df1['delivery_location_latitude'].unique()\n",
    "\n",
    "# df1[df1['delivery_location_latitude']==0.]\n"
   ]
  },
  {
   "cell_type": "code",
   "execution_count": 16,
   "id": "e41fd0b3-730c-4a27-bfaf-eaf1d09cf0b4",
   "metadata": {
    "execution": {
     "iopub.execute_input": "2023-12-17T13:28:06.216067Z",
     "iopub.status.busy": "2023-12-17T13:28:06.214163Z",
     "iopub.status.idle": "2023-12-17T13:28:06.221427Z",
     "shell.execute_reply": "2023-12-17T13:28:06.219458Z",
     "shell.execute_reply.started": "2023-12-17T13:28:06.216017Z"
    }
   },
   "outputs": [],
   "source": [
    "# df1['delivery_location_longitude'].unique()\n",
    "\n",
    "# df1[df1['delivery_location_longitude']==0.]\n",
    "\n",
    "\n",
    "# df['delivery_location_latitude'] = np.where(df['restaurant_latitude']==0.0, np.nan, \n",
    "#                                             df['delivery_location_latitude'])\n",
    "\n",
    "# df['delivery_location_longitude'] = np.where(df['restaurant_latitude']==0.0, np.nan, \n",
    "#                                             df['delivery_location_longitude'])\n",
    "\n",
    "\n",
    "# df['restaurant_latitude'] = np.where(df['restaurant_latitude']==0.0, np.nan, \n",
    "#                                             df['restaurant_latitude'])\n",
    "\n",
    "# df['restaurant_longitude'] = np.where(df['restaurant_longitude']==0.0, np.nan, \n",
    "#                                             df['restaurant_longitude'])\n"
   ]
  },
  {
   "cell_type": "code",
   "execution_count": 17,
   "id": "e3d103f0-4a10-4493-9e38-15eb8c178617",
   "metadata": {
    "execution": {
     "iopub.execute_input": "2023-12-17T13:28:06.519632Z",
     "iopub.status.busy": "2023-12-17T13:28:06.519121Z",
     "iopub.status.idle": "2023-12-17T13:28:06.539039Z",
     "shell.execute_reply": "2023-12-17T13:28:06.537344Z",
     "shell.execute_reply.started": "2023-12-17T13:28:06.519589Z"
    }
   },
   "outputs": [
    {
     "name": "stderr",
     "output_type": "stream",
     "text": [
      "/tmp/ipykernel_3671/1447403751.py:3: UserWarning: Parsing dates in %d-%m-%Y format when dayfirst=False (the default) was specified. Pass `dayfirst=True` or specify a format to silence this warning.\n",
      "  df1['order_date']=pd.to_datetime(df1['order_date'])\n"
     ]
    }
   ],
   "source": [
    "# df1['order_date'].unique()\n",
    "\n",
    "df1['order_date']=pd.to_datetime(df1['order_date'])\n",
    "# df1['order_date']"
   ]
  },
  {
   "cell_type": "code",
   "execution_count": 18,
   "id": "65bf1f4c-f755-4507-9df5-baf3f3d82df8",
   "metadata": {
    "execution": {
     "iopub.execute_input": "2023-12-17T13:28:07.080228Z",
     "iopub.status.busy": "2023-12-17T13:28:07.079475Z",
     "iopub.status.idle": "2023-12-17T13:28:07.127041Z",
     "shell.execute_reply": "2023-12-17T13:28:07.125191Z",
     "shell.execute_reply.started": "2023-12-17T13:28:07.080156Z"
    }
   },
   "outputs": [
    {
     "name": "stderr",
     "output_type": "stream",
     "text": [
      "/tmp/ipykernel_3671/3099698808.py:5: UserWarning: Could not infer format, so each element will be parsed individually, falling back to `dateutil`. To ensure parsing is consistent and as-expected, please specify a format.\n",
      "  df1['time_orderd']=pd.to_datetime(df1['time_orderd'])\n"
     ]
    }
   ],
   "source": [
    "# df1['time_orderd'].unique()\n",
    "\n",
    "df1=df1[~df1['time_orderd'].isin(['NaN '])]\n",
    "\n",
    "df1['time_orderd']=pd.to_datetime(df1['time_orderd'])"
   ]
  },
  {
   "cell_type": "code",
   "execution_count": 19,
   "id": "879def03-c46e-4905-8811-48f839724740",
   "metadata": {
    "execution": {
     "iopub.execute_input": "2023-12-17T13:28:07.491150Z",
     "iopub.status.busy": "2023-12-17T13:28:07.489483Z",
     "iopub.status.idle": "2023-12-17T13:28:07.516001Z",
     "shell.execute_reply": "2023-12-17T13:28:07.514723Z",
     "shell.execute_reply.started": "2023-12-17T13:28:07.491075Z"
    }
   },
   "outputs": [
    {
     "name": "stderr",
     "output_type": "stream",
     "text": [
      "/tmp/ipykernel_3671/2984404081.py:3: UserWarning: Could not infer format, so each element will be parsed individually, falling back to `dateutil`. To ensure parsing is consistent and as-expected, please specify a format.\n",
      "  df1['time_order_picked']=pd.to_datetime(df1['time_order_picked'])\n"
     ]
    }
   ],
   "source": [
    "# df['time_order_picked'].unique()\n",
    "\n",
    "df1['time_order_picked']=pd.to_datetime(df1['time_order_picked'])"
   ]
  },
  {
   "cell_type": "code",
   "execution_count": 20,
   "id": "c7eda432-4f78-406c-8516-a02f467170d4",
   "metadata": {
    "execution": {
     "iopub.execute_input": "2023-12-17T13:28:07.909532Z",
     "iopub.status.busy": "2023-12-17T13:28:07.909042Z",
     "iopub.status.idle": "2023-12-17T13:28:08.065576Z",
     "shell.execute_reply": "2023-12-17T13:28:08.064284Z",
     "shell.execute_reply.started": "2023-12-17T13:28:07.909494Z"
    }
   },
   "outputs": [],
   "source": [
    "df1=df1.rename(columns={'weatherconditions':'weather_conditions'})\n",
    "\n",
    "# df1['weather_conditions'].unique() # tirar espaços e minimizar\n",
    "\n",
    "df1['weather_conditions']=df1['weather_conditions'].replace(' ', '_', regex=True).str.lower()\n",
    "df1['weather_conditions']=df1['weather_conditions'].replace('conditions_', '', regex=True)"
   ]
  },
  {
   "cell_type": "code",
   "execution_count": 55,
   "id": "4727eaf8-8a49-46f9-891c-257079adfc23",
   "metadata": {
    "execution": {
     "iopub.execute_input": "2023-12-20T23:26:18.663822Z",
     "iopub.status.busy": "2023-12-20T23:26:18.662936Z",
     "iopub.status.idle": "2023-12-20T23:26:18.744017Z",
     "shell.execute_reply": "2023-12-20T23:26:18.741347Z",
     "shell.execute_reply.started": "2023-12-20T23:26:18.663758Z"
    }
   },
   "outputs": [
    {
     "name": "stdout",
     "output_type": "stream",
     "text": [
      "['High' 'Jam' 'Low' 'Medium' 'NaN']\n",
      "['high' 'jam' 'low' 'medium' 'nan']\n"
     ]
    }
   ],
   "source": [
    "print(df1['road_traffic_density'].unique()) # tirar espaços e minimizar\n",
    "\n",
    "# df1['road_traffic_density']=df1['road_traffic_density'].str.strip()\n",
    "df1['road_traffic_density']=df1['road_traffic_density'].replace(' ', '', regex=True).str.lower()\n",
    "print(df1['road_traffic_density'].unique())"
   ]
  },
  {
   "cell_type": "code",
   "execution_count": 22,
   "id": "205393bf-f283-4482-8ce8-6893654a7b44",
   "metadata": {
    "execution": {
     "iopub.execute_input": "2023-12-17T13:28:09.055050Z",
     "iopub.status.busy": "2023-12-17T13:28:09.054667Z",
     "iopub.status.idle": "2023-12-17T13:28:09.060906Z",
     "shell.execute_reply": "2023-12-17T13:28:09.059358Z",
     "shell.execute_reply.started": "2023-12-17T13:28:09.055012Z"
    }
   },
   "outputs": [],
   "source": [
    "# df1['vehicle_condition'].unique()"
   ]
  },
  {
   "cell_type": "code",
   "execution_count": 23,
   "id": "6616168c-04fd-4663-ad9c-0b8ef2a015cf",
   "metadata": {
    "execution": {
     "iopub.execute_input": "2023-12-17T13:28:09.513979Z",
     "iopub.status.busy": "2023-12-17T13:28:09.512488Z",
     "iopub.status.idle": "2023-12-17T13:28:09.631214Z",
     "shell.execute_reply": "2023-12-17T13:28:09.629577Z",
     "shell.execute_reply.started": "2023-12-17T13:28:09.513902Z"
    }
   },
   "outputs": [],
   "source": [
    "# df1['type_of_order'].unique() # tirar espaços e minimizar\n",
    "\n",
    "df1['type_of_order']=df1['type_of_order'].replace(' ', '', regex=True).str.lower()"
   ]
  },
  {
   "cell_type": "code",
   "execution_count": 24,
   "id": "bea4669b-4933-4299-9eb8-8ece904a1da7",
   "metadata": {
    "execution": {
     "iopub.execute_input": "2023-12-17T13:28:10.000255Z",
     "iopub.status.busy": "2023-12-17T13:28:09.999165Z",
     "iopub.status.idle": "2023-12-17T13:28:10.048896Z",
     "shell.execute_reply": "2023-12-17T13:28:10.047696Z",
     "shell.execute_reply.started": "2023-12-17T13:28:10.000198Z"
    }
   },
   "outputs": [],
   "source": [
    "# df1['type_of_vehicle'].unique() # tirar espaços\n",
    "\n",
    "df1['type_of_vehicle']=df1['type_of_vehicle'].replace(' ', '', regex=True)"
   ]
  },
  {
   "cell_type": "code",
   "execution_count": 25,
   "id": "58fca7e6-76d9-4289-82b5-2046d99a7824",
   "metadata": {
    "execution": {
     "iopub.execute_input": "2023-12-17T13:28:10.533266Z",
     "iopub.status.busy": "2023-12-17T13:28:10.532366Z",
     "iopub.status.idle": "2023-12-17T13:28:10.579788Z",
     "shell.execute_reply": "2023-12-17T13:28:10.578063Z",
     "shell.execute_reply.started": "2023-12-17T13:28:10.533223Z"
    }
   },
   "outputs": [],
   "source": [
    "# df1['multiple_deliveries'].unique()\n",
    "\n",
    "df1=df1[~df1['multiple_deliveries'].isin(['NaN '])]\n",
    "\n",
    "df1['multiple_deliveries']=df1['multiple_deliveries'].astype(int)"
   ]
  },
  {
   "cell_type": "code",
   "execution_count": 29,
   "id": "5848cc36-6f62-4e05-980e-bd3ff0a5995f",
   "metadata": {
    "execution": {
     "iopub.execute_input": "2023-12-20T23:18:35.980345Z",
     "iopub.status.busy": "2023-12-20T23:18:35.979462Z",
     "iopub.status.idle": "2023-12-20T23:18:35.993336Z",
     "shell.execute_reply": "2023-12-20T23:18:35.991852Z",
     "shell.execute_reply.started": "2023-12-20T23:18:35.980279Z"
    }
   },
   "outputs": [
    {
     "data": {
      "text/plain": [
       "array(['No ', 'Yes ', 'NaN '], dtype=object)"
      ]
     },
     "execution_count": 29,
     "metadata": {},
     "output_type": "execute_result"
    }
   ],
   "source": [
    "# df1['festival'].unique() # minimizar e tirar espaços\n",
    "\n",
    "# df1=df1[~df1['festival'].isin(['NaN '])]\n",
    "\n",
    "# df1['festival']=df1['festival'].apply(lambda x: '' if x == 'Yes ' else 0)\n",
    "\n",
    "df1['festival']=df1['festival'].replace(' ', '', regex=True).str.lower()"
   ]
  },
  {
   "cell_type": "code",
   "execution_count": 32,
   "id": "e2aeb6ff-d2e8-4c58-b56b-9bcbba44a1da",
   "metadata": {
    "execution": {
     "iopub.execute_input": "2023-12-17T13:29:01.841889Z",
     "iopub.status.busy": "2023-12-17T13:29:01.839288Z",
     "iopub.status.idle": "2023-12-17T13:29:01.859478Z",
     "shell.execute_reply": "2023-12-17T13:29:01.858283Z",
     "shell.execute_reply.started": "2023-12-17T13:29:01.841800Z"
    }
   },
   "outputs": [
    {
     "data": {
      "text/plain": [
       "array(['urban', 'metropolitian', 'semi-urban'], dtype=object)"
      ]
     },
     "execution_count": 32,
     "metadata": {},
     "output_type": "execute_result"
    }
   ],
   "source": [
    "df1['city'].unique() # minimizar e tirar espaços\n",
    "\n",
    "df1=df1[~df1['city'].isin(['nan'])]\n",
    "\n",
    "df1['city']=df1['city'].replace(' ', '', regex=True).str.lower()"
   ]
  },
  {
   "cell_type": "code",
   "execution_count": 44,
   "id": "bf10145c-66a6-4979-9f9a-343888384ec1",
   "metadata": {
    "execution": {
     "iopub.execute_input": "2023-12-20T23:22:46.470168Z",
     "iopub.status.busy": "2023-12-20T23:22:46.468861Z",
     "iopub.status.idle": "2023-12-20T23:22:46.593592Z",
     "shell.execute_reply": "2023-12-20T23:22:46.592245Z",
     "shell.execute_reply.started": "2023-12-20T23:22:46.470061Z"
    }
   },
   "outputs": [
    {
     "data": {
      "text/plain": [
       "array([24, 33, 26, 21, 30, 40, 32, 34, 46, 23, 20, 41, 15, 36, 39, 18, 38,\n",
       "       47, 12, 22, 25, 35, 10, 19, 11, 28, 52, 16, 27, 49, 17, 14, 37, 44,\n",
       "       42, 31, 13, 29, 50, 43, 48, 54, 53, 45, 51])"
      ]
     },
     "execution_count": 44,
     "metadata": {},
     "output_type": "execute_result"
    }
   ],
   "source": [
    "df1['time_taken(min)']=df1['time_taken(min)'].replace('(min)', '', regex=True)\n",
    "\n",
    "# df1['time_taken(min)']=df1['time_taken(min)'].apply(lambda x: x.split('(min) ')[1])\n",
    "\n",
    "df1['time_taken(min)']=df1['time_taken(min)'].replace('\\(\\)', '', regex=True)\n",
    "\n",
    "df1['time_taken(min)']=df1['time_taken(min)'].astype(int)\n",
    "\n",
    "df1['time_taken(min)'].unique() # arrancar o (min) e o espaço e transformar em int"
   ]
  },
  {
   "cell_type": "code",
   "execution_count": 36,
   "id": "974f9648-8cbf-4d34-8fe8-b9e38fcfbe24",
   "metadata": {
    "execution": {
     "iopub.execute_input": "2023-12-17T13:30:30.781516Z",
     "iopub.status.busy": "2023-12-17T13:30:30.780882Z",
     "iopub.status.idle": "2023-12-17T13:30:30.804023Z",
     "shell.execute_reply": "2023-12-17T13:30:30.802758Z",
     "shell.execute_reply.started": "2023-12-17T13:30:30.781452Z"
    }
   },
   "outputs": [
    {
     "data": {
      "text/plain": [
       "4034"
      ]
     },
     "execution_count": 36,
     "metadata": {},
     "output_type": "execute_result"
    }
   ],
   "source": [
    "df1=df1.reset_index(drop=True)\n",
    "\n",
    "(len(df_raw))-(len(df1))\n",
    "\n",
    "# df1"
   ]
  },
  {
   "cell_type": "code",
   "execution_count": 37,
   "id": "b10ec8eb-3386-41a1-90cd-86ad79d5807e",
   "metadata": {
    "execution": {
     "iopub.execute_input": "2023-12-17T13:30:33.710596Z",
     "iopub.status.busy": "2023-12-17T13:30:33.709801Z",
     "iopub.status.idle": "2023-12-17T13:30:33.815006Z",
     "shell.execute_reply": "2023-12-17T13:30:33.813361Z",
     "shell.execute_reply.started": "2023-12-17T13:30:33.710550Z"
    }
   },
   "outputs": [
    {
     "name": "stdout",
     "output_type": "stream",
     "text": [
      "45593, 1320, 23, 29, 657, 518, 4373, 4373, 44, 177, 193, 7, 5, 4, 4, 4, 5, 3, 4, 45, \n",
      "\n",
      "41559, 1320, 20, 26, 487, 389, 4361, 4361, 44, 176, 193, 6, 4, 3, 4, 3, 4, 2, 3, 45, "
     ]
    }
   ],
   "source": [
    "for values in df_raw:\n",
    "    print(len(df_raw[values].unique()),end=\", \")\n",
    "    \n",
    "print('\\n')\n",
    "\n",
    "for values in df1:\n",
    "    print(len(df1[values].unique()),end=\", \")"
   ]
  },
  {
   "cell_type": "code",
   "execution_count": 76,
   "id": "ec1f3928-4795-48aa-837e-0dfcba9b3836",
   "metadata": {
    "execution": {
     "iopub.execute_input": "2023-12-15T18:08:16.237026Z",
     "iopub.status.busy": "2023-12-15T18:08:16.236549Z",
     "iopub.status.idle": "2023-12-15T18:08:16.249169Z",
     "shell.execute_reply": "2023-12-15T18:08:16.248093Z",
     "shell.execute_reply.started": "2023-12-15T18:08:16.236989Z"
    }
   },
   "outputs": [],
   "source": [
    "df=df1.copy()"
   ]
  },
  {
   "cell_type": "code",
   "execution_count": 584,
   "id": "bd3a8c06-1577-4f08-8a1d-71e3205f2f82",
   "metadata": {
    "execution": {
     "iopub.execute_input": "2023-12-15T00:02:15.853034Z",
     "iopub.status.busy": "2023-12-15T00:02:15.852056Z",
     "iopub.status.idle": "2023-12-15T00:02:15.867982Z",
     "shell.execute_reply": "2023-12-15T00:02:15.865066Z",
     "shell.execute_reply.started": "2023-12-15T00:02:15.852933Z"
    }
   },
   "outputs": [
    {
     "name": "stdout",
     "output_type": "stream",
     "text": [
      "41368\n"
     ]
    }
   ],
   "source": [
    "# 1. Qual o número total de entregadores cadastrados na base de dados?\n",
    "\n",
    "# print(len(df['id'].unique()))\n",
    "# print(len(df['id']))\n",
    "\n",
    "print(len(df['delivery_person_id']))"
   ]
  },
  {
   "cell_type": "code",
   "execution_count": 585,
   "id": "a6e8f2be-8b6f-49a8-aaa6-16694c3f4040",
   "metadata": {
    "execution": {
     "iopub.execute_input": "2023-12-15T00:02:16.421912Z",
     "iopub.status.busy": "2023-12-15T00:02:16.421281Z",
     "iopub.status.idle": "2023-12-15T00:02:16.435454Z",
     "shell.execute_reply": "2023-12-15T00:02:16.434245Z",
     "shell.execute_reply.started": "2023-12-15T00:02:16.421845Z"
    }
   },
   "outputs": [
    {
     "name": "stdout",
     "output_type": "stream",
     "text": [
      "1320\n"
     ]
    }
   ],
   "source": [
    "# 2. Qual o número total de entregadores únicos cadastrados na base de dados?\n",
    "\n",
    "print(len(df['delivery_person_id'].unique()))"
   ]
  },
  {
   "cell_type": "code",
   "execution_count": 114,
   "id": "05919d03-40c5-4dfc-aef7-dc319e648dcf",
   "metadata": {
    "execution": {
     "iopub.execute_input": "2023-12-15T12:39:00.242353Z",
     "iopub.status.busy": "2023-12-15T12:39:00.241949Z",
     "iopub.status.idle": "2023-12-15T12:39:00.249470Z",
     "shell.execute_reply": "2023-12-15T12:39:00.247872Z",
     "shell.execute_reply.started": "2023-12-15T12:39:00.242315Z"
    }
   },
   "outputs": [
    {
     "name": "stdout",
     "output_type": "stream",
     "text": [
      "39\n",
      "20\n"
     ]
    }
   ],
   "source": [
    "# 3. Qual a idade do entregador mais velho? E do mais novo?\n",
    "\n",
    "print(df['delivery_person_age'].max())\n",
    "print(df['delivery_person_age'].min())"
   ]
  },
  {
   "cell_type": "code",
   "execution_count": 592,
   "id": "fba0facd-1046-4b3e-a2d7-d68abb2a182e",
   "metadata": {
    "execution": {
     "iopub.execute_input": "2023-12-15T00:04:11.186517Z",
     "iopub.status.busy": "2023-12-15T00:04:11.183161Z",
     "iopub.status.idle": "2023-12-15T00:04:11.198907Z",
     "shell.execute_reply": "2023-12-15T00:04:11.196080Z",
     "shell.execute_reply.started": "2023-12-15T00:04:11.186374Z"
    }
   },
   "outputs": [],
   "source": [
    "# df1=df[['delivery_person_age']]\n",
    "\n",
    "# df1['delivery_person_age'].unique()\n",
    "\n",
    "# df1=df1[~df1['delivery_person_age'].isin(['NaN '])]\n",
    "\n",
    "# print(df1['delivery_person_age'].max())\n",
    "# print(df1['delivery_person_age'].min())"
   ]
  },
  {
   "cell_type": "code",
   "execution_count": 594,
   "id": "c2b8c5ca-8aa7-45da-a29f-37bdd181f90c",
   "metadata": {
    "execution": {
     "iopub.execute_input": "2023-12-15T00:04:31.526201Z",
     "iopub.status.busy": "2023-12-15T00:04:31.524150Z",
     "iopub.status.idle": "2023-12-15T00:04:31.546550Z",
     "shell.execute_reply": "2023-12-15T00:04:31.545276Z",
     "shell.execute_reply.started": "2023-12-15T00:04:31.526121Z"
    }
   },
   "outputs": [
    {
     "data": {
      "text/plain": [
       "36304    20\n",
       "2316     20\n",
       "4894     20\n",
       "2318     20\n",
       "2320     20\n",
       "         ..\n",
       "24336    39\n",
       "36787    39\n",
       "18034    39\n",
       "28668    39\n",
       "4751     39\n",
       "Name: delivery_person_age, Length: 41368, dtype: int64"
      ]
     },
     "execution_count": 594,
     "metadata": {},
     "output_type": "execute_result"
    }
   ],
   "source": [
    "# prof\n",
    "df['delivery_person_age'].sort_values()"
   ]
  },
  {
   "cell_type": "code",
   "execution_count": 54,
   "id": "4c4077a0-7ca9-420a-9b65-013c7f10c91d",
   "metadata": {
    "execution": {
     "iopub.execute_input": "2023-12-13T22:02:33.340164Z",
     "iopub.status.busy": "2023-12-13T22:02:33.339571Z",
     "iopub.status.idle": "2023-12-13T22:02:33.379111Z",
     "shell.execute_reply": "2023-12-13T22:02:33.377613Z",
     "shell.execute_reply.started": "2023-12-13T22:02:33.340104Z"
    }
   },
   "outputs": [
    {
     "data": {
      "text/html": [
       "<div>\n",
       "<style scoped>\n",
       "    .dataframe tbody tr th:only-of-type {\n",
       "        vertical-align: middle;\n",
       "    }\n",
       "\n",
       "    .dataframe tbody tr th {\n",
       "        vertical-align: top;\n",
       "    }\n",
       "\n",
       "    .dataframe thead th {\n",
       "        text-align: right;\n",
       "    }\n",
       "</style>\n",
       "<table border=\"1\" class=\"dataframe\">\n",
       "  <thead>\n",
       "    <tr style=\"text-align: right;\">\n",
       "      <th></th>\n",
       "      <th>Delivery_person_ID</th>\n",
       "      <th>Delivery_person_Age</th>\n",
       "    </tr>\n",
       "  </thead>\n",
       "  <tbody>\n",
       "    <tr>\n",
       "      <th>2387</th>\n",
       "      <td>JAPRES15DEL03</td>\n",
       "      <td>15</td>\n",
       "    </tr>\n",
       "    <tr>\n",
       "      <th>2905</th>\n",
       "      <td>INDORES010DEL03</td>\n",
       "      <td>15</td>\n",
       "    </tr>\n",
       "    <tr>\n",
       "      <th>2951</th>\n",
       "      <td>SURRES17DEL03</td>\n",
       "      <td>15</td>\n",
       "    </tr>\n",
       "    <tr>\n",
       "      <th>5902</th>\n",
       "      <td>CHENRES15DEL03</td>\n",
       "      <td>15</td>\n",
       "    </tr>\n",
       "    <tr>\n",
       "      <th>9156</th>\n",
       "      <td>BANGRES05DEL01</td>\n",
       "      <td>15</td>\n",
       "    </tr>\n",
       "  </tbody>\n",
       "</table>\n",
       "</div>"
      ],
      "text/plain": [
       "     Delivery_person_ID Delivery_person_Age\n",
       "2387     JAPRES15DEL03                   15\n",
       "2905   INDORES010DEL03                   15\n",
       "2951     SURRES17DEL03                   15\n",
       "5902    CHENRES15DEL03                   15\n",
       "9156    BANGRES05DEL01                   15"
      ]
     },
     "execution_count": 54,
     "metadata": {},
     "output_type": "execute_result"
    }
   ],
   "source": [
    "# 4. Qual o id do entregador com a maior idade? E o id do entregaor com a menor idade?\n",
    "\n",
    "df1=df[['delivery_person_id','delivery_person_age']]\n",
    "\n",
    "np.min(df1['delivery_person_age'])\n",
    "\n",
    "df1[df1['delivery_person_age']=='15'].head(5)"
   ]
  },
  {
   "cell_type": "code",
   "execution_count": 595,
   "id": "29e64ec8-0f85-4bf5-8598-7092639ac7d6",
   "metadata": {
    "execution": {
     "iopub.execute_input": "2023-12-15T00:05:02.077384Z",
     "iopub.status.busy": "2023-12-15T00:05:02.075162Z",
     "iopub.status.idle": "2023-12-15T00:05:02.100088Z",
     "shell.execute_reply": "2023-12-15T00:05:02.099071Z",
     "shell.execute_reply.started": "2023-12-15T00:05:02.077227Z"
    }
   },
   "outputs": [
    {
     "data": {
      "text/plain": [
       "array(['conditions_sunny', 'conditions_stormy', 'conditions_sandstorms',\n",
       "       'conditions_cloudy', 'conditions_fog', 'conditions_windy'],\n",
       "      dtype=object)"
      ]
     },
     "execution_count": 595,
     "metadata": {},
     "output_type": "execute_result"
    }
   ],
   "source": [
    "# 5. Quais os nomes das condições climáticas?\n",
    "\n",
    "df['weather_conditions'].unique()"
   ]
  },
  {
   "cell_type": "code",
   "execution_count": 596,
   "id": "9a2a20d9-d445-46a8-9d95-e38da126c183",
   "metadata": {
    "execution": {
     "iopub.execute_input": "2023-12-15T00:05:12.317831Z",
     "iopub.status.busy": "2023-12-15T00:05:12.316680Z",
     "iopub.status.idle": "2023-12-15T00:05:12.345064Z",
     "shell.execute_reply": "2023-12-15T00:05:12.344041Z",
     "shell.execute_reply.started": "2023-12-15T00:05:12.317762Z"
    }
   },
   "outputs": [
    {
     "data": {
      "text/plain": [
       "6852"
      ]
     },
     "execution_count": 596,
     "metadata": {},
     "output_type": "execute_result"
    }
   ],
   "source": [
    "# 6. Quantas entregas foram realizadas sob condições climáticas de tempestade de areia? ( Sandstorms )\n",
    "\n",
    "len(df[df['weather_conditions']=='conditions_sandstorms'])"
   ]
  },
  {
   "cell_type": "code",
   "execution_count": 597,
   "id": "d813d8d3-fa5c-4d88-93bb-c6b585b0c912",
   "metadata": {
    "execution": {
     "iopub.execute_input": "2023-12-15T00:05:27.417932Z",
     "iopub.status.busy": "2023-12-15T00:05:27.416049Z",
     "iopub.status.idle": "2023-12-15T00:05:27.467293Z",
     "shell.execute_reply": "2023-12-15T00:05:27.466109Z",
     "shell.execute_reply.started": "2023-12-15T00:05:27.417823Z"
    }
   },
   "outputs": [
    {
     "data": {
      "text/plain": [
       "array(['conditions_cloudy', 'conditions_sandstorms', 'conditions_sunny'],\n",
       "      dtype=object)"
      ]
     },
     "execution_count": 597,
     "metadata": {},
     "output_type": "execute_result"
    }
   ],
   "source": [
    "# 7. Quais eram as condicões climáticas da data mais recente de entrega?\n",
    "\n",
    "# df['order_date']=pd.to_datetime(df['order_date'])\n",
    "\n",
    "np.max(df['order_date'])\n",
    "\n",
    "df1=df[df['order_date']=='2022-02-11']\n",
    "\n",
    "# df1=df1[~df1['time_orderd'].isin(['NaN '])]\n",
    "\n",
    "np.max(df1['time_orderd'])\n",
    "\n",
    "df2=df1[df1['time_orderd']=='23:55:00']\n",
    "\n",
    "df2['weather_conditions'].unique()"
   ]
  },
  {
   "cell_type": "code",
   "execution_count": 598,
   "id": "7f84c432-81b7-4519-8d44-436dc41df2a3",
   "metadata": {
    "execution": {
     "iopub.execute_input": "2023-12-15T00:05:36.081720Z",
     "iopub.status.busy": "2023-12-15T00:05:36.080484Z",
     "iopub.status.idle": "2023-12-15T00:05:36.099698Z",
     "shell.execute_reply": "2023-12-15T00:05:36.098222Z",
     "shell.execute_reply.started": "2023-12-15T00:05:36.081654Z"
    }
   },
   "outputs": [
    {
     "name": "stdout",
     "output_type": "stream",
     "text": [
      "4\n",
      "['high' 'jam' 'low' 'medium']\n"
     ]
    }
   ],
   "source": [
    "# 8. Quantos tipos de densidade de trânsito existem na base de dados? Quais os nomes delas?\n",
    "\n",
    "print(len(df['road_traffic_density'].unique()))\n",
    "\n",
    "print(df['road_traffic_density'].unique())"
   ]
  },
  {
   "cell_type": "code",
   "execution_count": 599,
   "id": "3c0b867b-041b-4f79-ae49-d4f70b822667",
   "metadata": {
    "execution": {
     "iopub.execute_input": "2023-12-15T00:05:53.599522Z",
     "iopub.status.busy": "2023-12-15T00:05:53.597154Z",
     "iopub.status.idle": "2023-12-15T00:05:53.636696Z",
     "shell.execute_reply": "2023-12-15T00:05:53.635475Z",
     "shell.execute_reply.started": "2023-12-15T00:05:53.599365Z"
    }
   },
   "outputs": [
    {
     "data": {
      "text/plain": [
       "weather_conditions\n",
       "conditions_cloudy        6950\n",
       "conditions_fog           7116\n",
       "conditions_sandstorms    6852\n",
       "conditions_stormy        6997\n",
       "conditions_sunny         6614\n",
       "conditions_windy         6839\n",
       "Name: id, dtype: int64"
      ]
     },
     "execution_count": 599,
     "metadata": {},
     "output_type": "execute_result"
    }
   ],
   "source": [
    "# 9. Quantas entregas foram feitas em cada condição climática?\n",
    "\n",
    "df.groupby('weather_conditions')['id'].count()"
   ]
  },
  {
   "cell_type": "code",
   "execution_count": 600,
   "id": "d06ef27d-2ce4-4358-8838-caa6e23d4f83",
   "metadata": {
    "execution": {
     "iopub.execute_input": "2023-12-15T00:06:05.071801Z",
     "iopub.status.busy": "2023-12-15T00:06:05.069083Z",
     "iopub.status.idle": "2023-12-15T00:06:05.112621Z",
     "shell.execute_reply": "2023-12-15T00:06:05.111285Z",
     "shell.execute_reply.started": "2023-12-15T00:06:05.071645Z"
    }
   },
   "outputs": [
    {
     "data": {
      "text/plain": [
       "weather_conditions\n",
       "conditions_cloudy        215\n",
       "conditions_fog           218\n",
       "conditions_sandstorms    233\n",
       "conditions_stormy        206\n",
       "conditions_sunny         221\n",
       "conditions_windy         227\n",
       "Name: id, dtype: int64"
      ]
     },
     "execution_count": 600,
     "metadata": {},
     "output_type": "execute_result"
    }
   ],
   "source": [
    "# 10. Quantos entregadores únicos fizeram entregas em cada condição climática?\n",
    "\n",
    "# print(len(df))\n",
    "# print(len(df['delivery_person_id'].unique()))\n",
    "\n",
    "df1=df.drop_duplicates(subset=['delivery_person_id'])\n",
    "# len(df1)\n",
    "\n",
    "df1.groupby('weather_conditions')['id'].count()"
   ]
  },
  {
   "cell_type": "code",
   "execution_count": 601,
   "id": "c6d62fe2-38a7-4924-98ac-6fb0c748e1f5",
   "metadata": {
    "execution": {
     "iopub.execute_input": "2023-12-15T00:06:09.645825Z",
     "iopub.status.busy": "2023-12-15T00:06:09.644025Z",
     "iopub.status.idle": "2023-12-15T00:06:09.667057Z",
     "shell.execute_reply": "2023-12-15T00:06:09.665833Z",
     "shell.execute_reply.started": "2023-12-15T00:06:09.645740Z"
    }
   },
   "outputs": [
    {
     "data": {
      "text/plain": [
       "road_traffic_density\n",
       "high       4103\n",
       "jam       13159\n",
       "low       13981\n",
       "medium    10125\n",
       "Name: id, dtype: int64"
      ]
     },
     "execution_count": 601,
     "metadata": {},
     "output_type": "execute_result"
    }
   ],
   "source": [
    "# 11. Quantas entregas foram feitas em cada tipo de densidade de trânsito?\n",
    "\n",
    "df.groupby('road_traffic_density')['id'].count()"
   ]
  },
  {
   "cell_type": "code",
   "execution_count": 602,
   "id": "2879fd8d-3880-4ac1-a51f-91dc00809847",
   "metadata": {
    "execution": {
     "iopub.execute_input": "2023-12-15T00:06:25.493083Z",
     "iopub.status.busy": "2023-12-15T00:06:25.491594Z",
     "iopub.status.idle": "2023-12-15T00:06:25.527302Z",
     "shell.execute_reply": "2023-12-15T00:06:25.525957Z",
     "shell.execute_reply.started": "2023-12-15T00:06:25.492932Z"
    }
   },
   "outputs": [
    {
     "data": {
      "text/plain": [
       "road_traffic_density\n",
       "high      114\n",
       "jam       447\n",
       "low       452\n",
       "medium    307\n",
       "Name: id, dtype: int64"
      ]
     },
     "execution_count": 602,
     "metadata": {},
     "output_type": "execute_result"
    }
   ],
   "source": [
    "# 12. Quantos entregadores únicos fizeram entregas em cada tipo de densidade de trânsito?\n",
    "\n",
    "df1=df.drop_duplicates(subset=['delivery_person_id'])\n",
    "df1.groupby('road_traffic_density')['id'].count()"
   ]
  },
  {
   "cell_type": "code",
   "execution_count": null,
   "id": "6f428104-a7b3-4759-8080-3af44853542c",
   "metadata": {
    "execution": {
     "iopub.execute_input": "2023-12-15T17:32:33.410006Z",
     "iopub.status.busy": "2023-12-15T17:32:33.401822Z"
    }
   },
   "outputs": [],
   "source": [
    "# # 13. Quantas cidades únicas existem na base? Quais são os seus nomes?\n",
    "\n",
    "\n",
    "# df.loc[:,['restaurant_latitude']]=df.loc[:,['restaurant_latitude']].astype(str)\n",
    "# df.loc[:,['restaurant_longitude']]=df.loc[:,['restaurant_longitude']].astype(str)\n",
    "\n",
    "# geolocator = Nominatim(user_agent=\"geoapiExercises\")\n",
    "\n",
    "# Latitude=df['restaurant_latitude'].tolist()\n",
    "# Longitude=df['restaurant_longitude'].tolist()\n",
    "\n",
    "# location=[]\n",
    "# address=[]\n",
    "# where=[]\n",
    "\n",
    "# for a,b in zip(Latitude, Longitude):\n",
    "#     loc = geolocator.reverse(a+\",\"+b)\n",
    "#     if loc != None:\n",
    "#         location.append(loc)\n",
    "#     else:\n",
    "#         None\n",
    "    \n",
    "#     for a in range(len(location)):\n",
    "#         locc=location[a].raw['address']\n",
    "#         address.append(locc)\n",
    "#         # sleep(2)\n",
    "\n",
    "#         for a in range(len(address)):    \n",
    "            \n",
    "#             loc1 = address[a].get('city')\n",
    "#             # loc1=loc1 + ' is city'\n",
    "            \n",
    "#             loc2 = address[a].get('city_district')\n",
    "#             # loc2=loc2 + ' is city_district'\n",
    "            \n",
    "#             loc3 = address[a].get('town')\n",
    "#             # loc3=loc3 + ' is town'\n",
    "            \n",
    "#             loc4 = address[a].get('county')\n",
    "#             # loc4=loc4 + ' is county'\n",
    "            \n",
    "#             if loc1 != None:\n",
    "#                 where.append(loc1)\n",
    "#             elif loc1 == None and loc2 != None:\n",
    "#                 where.append(loc2)\n",
    "#             elif loc2 == None and loc3 != None:\n",
    "#                 where.append(loc3)\n",
    "#             elif loc4 != None:\n",
    "#                 where.append(loc4)\n",
    "#             else:\n",
    "#                 None\n",
    "\n",
    "# print(f'{len(set(where))} cidades únicas')\n",
    "# print(f'{set(where)}')"
   ]
  },
  {
   "cell_type": "code",
   "execution_count": 157,
   "id": "0993175f-c856-49ac-949d-50dc0705c148",
   "metadata": {
    "execution": {
     "iopub.execute_input": "2023-12-15T19:20:06.184114Z",
     "iopub.status.busy": "2023-12-15T19:20:06.182442Z",
     "iopub.status.idle": "2023-12-15T19:47:50.774080Z",
     "shell.execute_reply": "2023-12-15T19:47:50.771730Z",
     "shell.execute_reply.started": "2023-12-15T19:20:06.184037Z"
    }
   },
   "outputs": [
    {
     "ename": "GeocoderUnavailable",
     "evalue": "HTTPSConnectionPool(host='nominatim.openstreetmap.org', port=443): Max retries exceeded with url: /reverse?lat=13.026286&lon=80.275235&format=json&addressdetails=1 (Caused by NewConnectionError('<urllib3.connection.HTTPSConnection object at 0x7fa2197bcb20>: Failed to establish a new connection: [Errno 101] Network is unreachable'))",
     "output_type": "error",
     "traceback": [
      "\u001b[0;31m---------------------------------------------------------------------------\u001b[0m",
      "\u001b[0;31mOSError\u001b[0m                                   Traceback (most recent call last)",
      "File \u001b[0;32m~/.pyenv/versions/3.10.4/envs/ftc/lib/python3.10/site-packages/urllib3/connection.py:203\u001b[0m, in \u001b[0;36mHTTPConnection._new_conn\u001b[0;34m(self)\u001b[0m\n\u001b[1;32m    202\u001b[0m \u001b[38;5;28;01mtry\u001b[39;00m:\n\u001b[0;32m--> 203\u001b[0m     sock \u001b[38;5;241m=\u001b[39m \u001b[43mconnection\u001b[49m\u001b[38;5;241;43m.\u001b[39;49m\u001b[43mcreate_connection\u001b[49m\u001b[43m(\u001b[49m\n\u001b[1;32m    204\u001b[0m \u001b[43m        \u001b[49m\u001b[43m(\u001b[49m\u001b[38;5;28;43mself\u001b[39;49m\u001b[38;5;241;43m.\u001b[39;49m\u001b[43m_dns_host\u001b[49m\u001b[43m,\u001b[49m\u001b[43m \u001b[49m\u001b[38;5;28;43mself\u001b[39;49m\u001b[38;5;241;43m.\u001b[39;49m\u001b[43mport\u001b[49m\u001b[43m)\u001b[49m\u001b[43m,\u001b[49m\n\u001b[1;32m    205\u001b[0m \u001b[43m        \u001b[49m\u001b[38;5;28;43mself\u001b[39;49m\u001b[38;5;241;43m.\u001b[39;49m\u001b[43mtimeout\u001b[49m\u001b[43m,\u001b[49m\n\u001b[1;32m    206\u001b[0m \u001b[43m        \u001b[49m\u001b[43msource_address\u001b[49m\u001b[38;5;241;43m=\u001b[39;49m\u001b[38;5;28;43mself\u001b[39;49m\u001b[38;5;241;43m.\u001b[39;49m\u001b[43msource_address\u001b[49m\u001b[43m,\u001b[49m\n\u001b[1;32m    207\u001b[0m \u001b[43m        \u001b[49m\u001b[43msocket_options\u001b[49m\u001b[38;5;241;43m=\u001b[39;49m\u001b[38;5;28;43mself\u001b[39;49m\u001b[38;5;241;43m.\u001b[39;49m\u001b[43msocket_options\u001b[49m\u001b[43m,\u001b[49m\n\u001b[1;32m    208\u001b[0m \u001b[43m    \u001b[49m\u001b[43m)\u001b[49m\n\u001b[1;32m    209\u001b[0m \u001b[38;5;28;01mexcept\u001b[39;00m socket\u001b[38;5;241m.\u001b[39mgaierror \u001b[38;5;28;01mas\u001b[39;00m e:\n",
      "File \u001b[0;32m~/.pyenv/versions/3.10.4/envs/ftc/lib/python3.10/site-packages/urllib3/util/connection.py:85\u001b[0m, in \u001b[0;36mcreate_connection\u001b[0;34m(address, timeout, source_address, socket_options)\u001b[0m\n\u001b[1;32m     84\u001b[0m \u001b[38;5;28;01mtry\u001b[39;00m:\n\u001b[0;32m---> 85\u001b[0m     \u001b[38;5;28;01mraise\u001b[39;00m err\n\u001b[1;32m     86\u001b[0m \u001b[38;5;28;01mfinally\u001b[39;00m:\n\u001b[1;32m     87\u001b[0m     \u001b[38;5;66;03m# Break explicitly a reference cycle\u001b[39;00m\n",
      "File \u001b[0;32m~/.pyenv/versions/3.10.4/envs/ftc/lib/python3.10/site-packages/urllib3/util/connection.py:73\u001b[0m, in \u001b[0;36mcreate_connection\u001b[0;34m(address, timeout, source_address, socket_options)\u001b[0m\n\u001b[1;32m     72\u001b[0m     sock\u001b[38;5;241m.\u001b[39mbind(source_address)\n\u001b[0;32m---> 73\u001b[0m \u001b[43msock\u001b[49m\u001b[38;5;241;43m.\u001b[39;49m\u001b[43mconnect\u001b[49m\u001b[43m(\u001b[49m\u001b[43msa\u001b[49m\u001b[43m)\u001b[49m\n\u001b[1;32m     74\u001b[0m \u001b[38;5;66;03m# Break explicitly a reference cycle\u001b[39;00m\n",
      "\u001b[0;31mOSError\u001b[0m: [Errno 101] Network is unreachable",
      "\nThe above exception was the direct cause of the following exception:\n",
      "\u001b[0;31mNewConnectionError\u001b[0m                        Traceback (most recent call last)",
      "File \u001b[0;32m~/.pyenv/versions/3.10.4/envs/ftc/lib/python3.10/site-packages/urllib3/connectionpool.py:790\u001b[0m, in \u001b[0;36mHTTPConnectionPool.urlopen\u001b[0;34m(self, method, url, body, headers, retries, redirect, assert_same_host, timeout, pool_timeout, release_conn, chunked, body_pos, preload_content, decode_content, **response_kw)\u001b[0m\n\u001b[1;32m    789\u001b[0m \u001b[38;5;66;03m# Make the request on the HTTPConnection object\u001b[39;00m\n\u001b[0;32m--> 790\u001b[0m response \u001b[38;5;241m=\u001b[39m \u001b[38;5;28;43mself\u001b[39;49m\u001b[38;5;241;43m.\u001b[39;49m\u001b[43m_make_request\u001b[49m\u001b[43m(\u001b[49m\n\u001b[1;32m    791\u001b[0m \u001b[43m    \u001b[49m\u001b[43mconn\u001b[49m\u001b[43m,\u001b[49m\n\u001b[1;32m    792\u001b[0m \u001b[43m    \u001b[49m\u001b[43mmethod\u001b[49m\u001b[43m,\u001b[49m\n\u001b[1;32m    793\u001b[0m \u001b[43m    \u001b[49m\u001b[43murl\u001b[49m\u001b[43m,\u001b[49m\n\u001b[1;32m    794\u001b[0m \u001b[43m    \u001b[49m\u001b[43mtimeout\u001b[49m\u001b[38;5;241;43m=\u001b[39;49m\u001b[43mtimeout_obj\u001b[49m\u001b[43m,\u001b[49m\n\u001b[1;32m    795\u001b[0m \u001b[43m    \u001b[49m\u001b[43mbody\u001b[49m\u001b[38;5;241;43m=\u001b[39;49m\u001b[43mbody\u001b[49m\u001b[43m,\u001b[49m\n\u001b[1;32m    796\u001b[0m \u001b[43m    \u001b[49m\u001b[43mheaders\u001b[49m\u001b[38;5;241;43m=\u001b[39;49m\u001b[43mheaders\u001b[49m\u001b[43m,\u001b[49m\n\u001b[1;32m    797\u001b[0m \u001b[43m    \u001b[49m\u001b[43mchunked\u001b[49m\u001b[38;5;241;43m=\u001b[39;49m\u001b[43mchunked\u001b[49m\u001b[43m,\u001b[49m\n\u001b[1;32m    798\u001b[0m \u001b[43m    \u001b[49m\u001b[43mretries\u001b[49m\u001b[38;5;241;43m=\u001b[39;49m\u001b[43mretries\u001b[49m\u001b[43m,\u001b[49m\n\u001b[1;32m    799\u001b[0m \u001b[43m    \u001b[49m\u001b[43mresponse_conn\u001b[49m\u001b[38;5;241;43m=\u001b[39;49m\u001b[43mresponse_conn\u001b[49m\u001b[43m,\u001b[49m\n\u001b[1;32m    800\u001b[0m \u001b[43m    \u001b[49m\u001b[43mpreload_content\u001b[49m\u001b[38;5;241;43m=\u001b[39;49m\u001b[43mpreload_content\u001b[49m\u001b[43m,\u001b[49m\n\u001b[1;32m    801\u001b[0m \u001b[43m    \u001b[49m\u001b[43mdecode_content\u001b[49m\u001b[38;5;241;43m=\u001b[39;49m\u001b[43mdecode_content\u001b[49m\u001b[43m,\u001b[49m\n\u001b[1;32m    802\u001b[0m \u001b[43m    \u001b[49m\u001b[38;5;241;43m*\u001b[39;49m\u001b[38;5;241;43m*\u001b[39;49m\u001b[43mresponse_kw\u001b[49m\u001b[43m,\u001b[49m\n\u001b[1;32m    803\u001b[0m \u001b[43m\u001b[49m\u001b[43m)\u001b[49m\n\u001b[1;32m    805\u001b[0m \u001b[38;5;66;03m# Everything went great!\u001b[39;00m\n",
      "File \u001b[0;32m~/.pyenv/versions/3.10.4/envs/ftc/lib/python3.10/site-packages/urllib3/connectionpool.py:491\u001b[0m, in \u001b[0;36mHTTPConnectionPool._make_request\u001b[0;34m(self, conn, method, url, body, headers, retries, timeout, chunked, response_conn, preload_content, decode_content, enforce_content_length)\u001b[0m\n\u001b[1;32m    490\u001b[0m         new_e \u001b[38;5;241m=\u001b[39m _wrap_proxy_error(new_e, conn\u001b[38;5;241m.\u001b[39mproxy\u001b[38;5;241m.\u001b[39mscheme)\n\u001b[0;32m--> 491\u001b[0m     \u001b[38;5;28;01mraise\u001b[39;00m new_e\n\u001b[1;32m    493\u001b[0m \u001b[38;5;66;03m# conn.request() calls http.client.*.request, not the method in\u001b[39;00m\n\u001b[1;32m    494\u001b[0m \u001b[38;5;66;03m# urllib3.request. It also calls makefile (recv) on the socket.\u001b[39;00m\n",
      "File \u001b[0;32m~/.pyenv/versions/3.10.4/envs/ftc/lib/python3.10/site-packages/urllib3/connectionpool.py:467\u001b[0m, in \u001b[0;36mHTTPConnectionPool._make_request\u001b[0;34m(self, conn, method, url, body, headers, retries, timeout, chunked, response_conn, preload_content, decode_content, enforce_content_length)\u001b[0m\n\u001b[1;32m    466\u001b[0m \u001b[38;5;28;01mtry\u001b[39;00m:\n\u001b[0;32m--> 467\u001b[0m     \u001b[38;5;28;43mself\u001b[39;49m\u001b[38;5;241;43m.\u001b[39;49m\u001b[43m_validate_conn\u001b[49m\u001b[43m(\u001b[49m\u001b[43mconn\u001b[49m\u001b[43m)\u001b[49m\n\u001b[1;32m    468\u001b[0m \u001b[38;5;28;01mexcept\u001b[39;00m (SocketTimeout, BaseSSLError) \u001b[38;5;28;01mas\u001b[39;00m e:\n",
      "File \u001b[0;32m~/.pyenv/versions/3.10.4/envs/ftc/lib/python3.10/site-packages/urllib3/connectionpool.py:1096\u001b[0m, in \u001b[0;36mHTTPSConnectionPool._validate_conn\u001b[0;34m(self, conn)\u001b[0m\n\u001b[1;32m   1095\u001b[0m \u001b[38;5;28;01mif\u001b[39;00m conn\u001b[38;5;241m.\u001b[39mis_closed:\n\u001b[0;32m-> 1096\u001b[0m     \u001b[43mconn\u001b[49m\u001b[38;5;241;43m.\u001b[39;49m\u001b[43mconnect\u001b[49m\u001b[43m(\u001b[49m\u001b[43m)\u001b[49m\n\u001b[1;32m   1098\u001b[0m \u001b[38;5;28;01mif\u001b[39;00m \u001b[38;5;129;01mnot\u001b[39;00m conn\u001b[38;5;241m.\u001b[39mis_verified:\n",
      "File \u001b[0;32m~/.pyenv/versions/3.10.4/envs/ftc/lib/python3.10/site-packages/urllib3/connection.py:611\u001b[0m, in \u001b[0;36mHTTPSConnection.connect\u001b[0;34m(self)\u001b[0m\n\u001b[1;32m    610\u001b[0m sock: socket\u001b[38;5;241m.\u001b[39msocket \u001b[38;5;241m|\u001b[39m ssl\u001b[38;5;241m.\u001b[39mSSLSocket\n\u001b[0;32m--> 611\u001b[0m \u001b[38;5;28mself\u001b[39m\u001b[38;5;241m.\u001b[39msock \u001b[38;5;241m=\u001b[39m sock \u001b[38;5;241m=\u001b[39m \u001b[38;5;28;43mself\u001b[39;49m\u001b[38;5;241;43m.\u001b[39;49m\u001b[43m_new_conn\u001b[49m\u001b[43m(\u001b[49m\u001b[43m)\u001b[49m\n\u001b[1;32m    612\u001b[0m server_hostname: \u001b[38;5;28mstr\u001b[39m \u001b[38;5;241m=\u001b[39m \u001b[38;5;28mself\u001b[39m\u001b[38;5;241m.\u001b[39mhost\n",
      "File \u001b[0;32m~/.pyenv/versions/3.10.4/envs/ftc/lib/python3.10/site-packages/urllib3/connection.py:218\u001b[0m, in \u001b[0;36mHTTPConnection._new_conn\u001b[0;34m(self)\u001b[0m\n\u001b[1;32m    217\u001b[0m \u001b[38;5;28;01mexcept\u001b[39;00m \u001b[38;5;167;01mOSError\u001b[39;00m \u001b[38;5;28;01mas\u001b[39;00m e:\n\u001b[0;32m--> 218\u001b[0m     \u001b[38;5;28;01mraise\u001b[39;00m NewConnectionError(\n\u001b[1;32m    219\u001b[0m         \u001b[38;5;28mself\u001b[39m, \u001b[38;5;124mf\u001b[39m\u001b[38;5;124m\"\u001b[39m\u001b[38;5;124mFailed to establish a new connection: \u001b[39m\u001b[38;5;132;01m{\u001b[39;00me\u001b[38;5;132;01m}\u001b[39;00m\u001b[38;5;124m\"\u001b[39m\n\u001b[1;32m    220\u001b[0m     ) \u001b[38;5;28;01mfrom\u001b[39;00m \u001b[38;5;21;01me\u001b[39;00m\n\u001b[1;32m    222\u001b[0m \u001b[38;5;66;03m# Audit hooks are only available in Python 3.8+\u001b[39;00m\n",
      "\u001b[0;31mNewConnectionError\u001b[0m: <urllib3.connection.HTTPSConnection object at 0x7fa2197bcb20>: Failed to establish a new connection: [Errno 101] Network is unreachable",
      "\nThe above exception was the direct cause of the following exception:\n",
      "\u001b[0;31mMaxRetryError\u001b[0m                             Traceback (most recent call last)",
      "File \u001b[0;32m~/.pyenv/versions/3.10.4/envs/ftc/lib/python3.10/site-packages/requests/adapters.py:486\u001b[0m, in \u001b[0;36mHTTPAdapter.send\u001b[0;34m(self, request, stream, timeout, verify, cert, proxies)\u001b[0m\n\u001b[1;32m    485\u001b[0m \u001b[38;5;28;01mtry\u001b[39;00m:\n\u001b[0;32m--> 486\u001b[0m     resp \u001b[38;5;241m=\u001b[39m \u001b[43mconn\u001b[49m\u001b[38;5;241;43m.\u001b[39;49m\u001b[43murlopen\u001b[49m\u001b[43m(\u001b[49m\n\u001b[1;32m    487\u001b[0m \u001b[43m        \u001b[49m\u001b[43mmethod\u001b[49m\u001b[38;5;241;43m=\u001b[39;49m\u001b[43mrequest\u001b[49m\u001b[38;5;241;43m.\u001b[39;49m\u001b[43mmethod\u001b[49m\u001b[43m,\u001b[49m\n\u001b[1;32m    488\u001b[0m \u001b[43m        \u001b[49m\u001b[43murl\u001b[49m\u001b[38;5;241;43m=\u001b[39;49m\u001b[43murl\u001b[49m\u001b[43m,\u001b[49m\n\u001b[1;32m    489\u001b[0m \u001b[43m        \u001b[49m\u001b[43mbody\u001b[49m\u001b[38;5;241;43m=\u001b[39;49m\u001b[43mrequest\u001b[49m\u001b[38;5;241;43m.\u001b[39;49m\u001b[43mbody\u001b[49m\u001b[43m,\u001b[49m\n\u001b[1;32m    490\u001b[0m \u001b[43m        \u001b[49m\u001b[43mheaders\u001b[49m\u001b[38;5;241;43m=\u001b[39;49m\u001b[43mrequest\u001b[49m\u001b[38;5;241;43m.\u001b[39;49m\u001b[43mheaders\u001b[49m\u001b[43m,\u001b[49m\n\u001b[1;32m    491\u001b[0m \u001b[43m        \u001b[49m\u001b[43mredirect\u001b[49m\u001b[38;5;241;43m=\u001b[39;49m\u001b[38;5;28;43;01mFalse\u001b[39;49;00m\u001b[43m,\u001b[49m\n\u001b[1;32m    492\u001b[0m \u001b[43m        \u001b[49m\u001b[43massert_same_host\u001b[49m\u001b[38;5;241;43m=\u001b[39;49m\u001b[38;5;28;43;01mFalse\u001b[39;49;00m\u001b[43m,\u001b[49m\n\u001b[1;32m    493\u001b[0m \u001b[43m        \u001b[49m\u001b[43mpreload_content\u001b[49m\u001b[38;5;241;43m=\u001b[39;49m\u001b[38;5;28;43;01mFalse\u001b[39;49;00m\u001b[43m,\u001b[49m\n\u001b[1;32m    494\u001b[0m \u001b[43m        \u001b[49m\u001b[43mdecode_content\u001b[49m\u001b[38;5;241;43m=\u001b[39;49m\u001b[38;5;28;43;01mFalse\u001b[39;49;00m\u001b[43m,\u001b[49m\n\u001b[1;32m    495\u001b[0m \u001b[43m        \u001b[49m\u001b[43mretries\u001b[49m\u001b[38;5;241;43m=\u001b[39;49m\u001b[38;5;28;43mself\u001b[39;49m\u001b[38;5;241;43m.\u001b[39;49m\u001b[43mmax_retries\u001b[49m\u001b[43m,\u001b[49m\n\u001b[1;32m    496\u001b[0m \u001b[43m        \u001b[49m\u001b[43mtimeout\u001b[49m\u001b[38;5;241;43m=\u001b[39;49m\u001b[43mtimeout\u001b[49m\u001b[43m,\u001b[49m\n\u001b[1;32m    497\u001b[0m \u001b[43m        \u001b[49m\u001b[43mchunked\u001b[49m\u001b[38;5;241;43m=\u001b[39;49m\u001b[43mchunked\u001b[49m\u001b[43m,\u001b[49m\n\u001b[1;32m    498\u001b[0m \u001b[43m    \u001b[49m\u001b[43m)\u001b[49m\n\u001b[1;32m    500\u001b[0m \u001b[38;5;28;01mexcept\u001b[39;00m (ProtocolError, \u001b[38;5;167;01mOSError\u001b[39;00m) \u001b[38;5;28;01mas\u001b[39;00m err:\n",
      "File \u001b[0;32m~/.pyenv/versions/3.10.4/envs/ftc/lib/python3.10/site-packages/urllib3/connectionpool.py:874\u001b[0m, in \u001b[0;36mHTTPConnectionPool.urlopen\u001b[0;34m(self, method, url, body, headers, retries, redirect, assert_same_host, timeout, pool_timeout, release_conn, chunked, body_pos, preload_content, decode_content, **response_kw)\u001b[0m\n\u001b[1;32m    871\u001b[0m     log\u001b[38;5;241m.\u001b[39mwarning(\n\u001b[1;32m    872\u001b[0m         \u001b[38;5;124m\"\u001b[39m\u001b[38;5;124mRetrying (\u001b[39m\u001b[38;5;132;01m%r\u001b[39;00m\u001b[38;5;124m) after connection broken by \u001b[39m\u001b[38;5;124m'\u001b[39m\u001b[38;5;132;01m%r\u001b[39;00m\u001b[38;5;124m'\u001b[39m\u001b[38;5;124m: \u001b[39m\u001b[38;5;132;01m%s\u001b[39;00m\u001b[38;5;124m\"\u001b[39m, retries, err, url\n\u001b[1;32m    873\u001b[0m     )\n\u001b[0;32m--> 874\u001b[0m     \u001b[38;5;28;01mreturn\u001b[39;00m \u001b[38;5;28;43mself\u001b[39;49m\u001b[38;5;241;43m.\u001b[39;49m\u001b[43murlopen\u001b[49m\u001b[43m(\u001b[49m\n\u001b[1;32m    875\u001b[0m \u001b[43m        \u001b[49m\u001b[43mmethod\u001b[49m\u001b[43m,\u001b[49m\n\u001b[1;32m    876\u001b[0m \u001b[43m        \u001b[49m\u001b[43murl\u001b[49m\u001b[43m,\u001b[49m\n\u001b[1;32m    877\u001b[0m \u001b[43m        \u001b[49m\u001b[43mbody\u001b[49m\u001b[43m,\u001b[49m\n\u001b[1;32m    878\u001b[0m \u001b[43m        \u001b[49m\u001b[43mheaders\u001b[49m\u001b[43m,\u001b[49m\n\u001b[1;32m    879\u001b[0m \u001b[43m        \u001b[49m\u001b[43mretries\u001b[49m\u001b[43m,\u001b[49m\n\u001b[1;32m    880\u001b[0m \u001b[43m        \u001b[49m\u001b[43mredirect\u001b[49m\u001b[43m,\u001b[49m\n\u001b[1;32m    881\u001b[0m \u001b[43m        \u001b[49m\u001b[43massert_same_host\u001b[49m\u001b[43m,\u001b[49m\n\u001b[1;32m    882\u001b[0m \u001b[43m        \u001b[49m\u001b[43mtimeout\u001b[49m\u001b[38;5;241;43m=\u001b[39;49m\u001b[43mtimeout\u001b[49m\u001b[43m,\u001b[49m\n\u001b[1;32m    883\u001b[0m \u001b[43m        \u001b[49m\u001b[43mpool_timeout\u001b[49m\u001b[38;5;241;43m=\u001b[39;49m\u001b[43mpool_timeout\u001b[49m\u001b[43m,\u001b[49m\n\u001b[1;32m    884\u001b[0m \u001b[43m        \u001b[49m\u001b[43mrelease_conn\u001b[49m\u001b[38;5;241;43m=\u001b[39;49m\u001b[43mrelease_conn\u001b[49m\u001b[43m,\u001b[49m\n\u001b[1;32m    885\u001b[0m \u001b[43m        \u001b[49m\u001b[43mchunked\u001b[49m\u001b[38;5;241;43m=\u001b[39;49m\u001b[43mchunked\u001b[49m\u001b[43m,\u001b[49m\n\u001b[1;32m    886\u001b[0m \u001b[43m        \u001b[49m\u001b[43mbody_pos\u001b[49m\u001b[38;5;241;43m=\u001b[39;49m\u001b[43mbody_pos\u001b[49m\u001b[43m,\u001b[49m\n\u001b[1;32m    887\u001b[0m \u001b[43m        \u001b[49m\u001b[43mpreload_content\u001b[49m\u001b[38;5;241;43m=\u001b[39;49m\u001b[43mpreload_content\u001b[49m\u001b[43m,\u001b[49m\n\u001b[1;32m    888\u001b[0m \u001b[43m        \u001b[49m\u001b[43mdecode_content\u001b[49m\u001b[38;5;241;43m=\u001b[39;49m\u001b[43mdecode_content\u001b[49m\u001b[43m,\u001b[49m\n\u001b[1;32m    889\u001b[0m \u001b[43m        \u001b[49m\u001b[38;5;241;43m*\u001b[39;49m\u001b[38;5;241;43m*\u001b[39;49m\u001b[43mresponse_kw\u001b[49m\u001b[43m,\u001b[49m\n\u001b[1;32m    890\u001b[0m \u001b[43m    \u001b[49m\u001b[43m)\u001b[49m\n\u001b[1;32m    892\u001b[0m \u001b[38;5;66;03m# Handle redirect?\u001b[39;00m\n",
      "File \u001b[0;32m~/.pyenv/versions/3.10.4/envs/ftc/lib/python3.10/site-packages/urllib3/connectionpool.py:874\u001b[0m, in \u001b[0;36mHTTPConnectionPool.urlopen\u001b[0;34m(self, method, url, body, headers, retries, redirect, assert_same_host, timeout, pool_timeout, release_conn, chunked, body_pos, preload_content, decode_content, **response_kw)\u001b[0m\n\u001b[1;32m    871\u001b[0m     log\u001b[38;5;241m.\u001b[39mwarning(\n\u001b[1;32m    872\u001b[0m         \u001b[38;5;124m\"\u001b[39m\u001b[38;5;124mRetrying (\u001b[39m\u001b[38;5;132;01m%r\u001b[39;00m\u001b[38;5;124m) after connection broken by \u001b[39m\u001b[38;5;124m'\u001b[39m\u001b[38;5;132;01m%r\u001b[39;00m\u001b[38;5;124m'\u001b[39m\u001b[38;5;124m: \u001b[39m\u001b[38;5;132;01m%s\u001b[39;00m\u001b[38;5;124m\"\u001b[39m, retries, err, url\n\u001b[1;32m    873\u001b[0m     )\n\u001b[0;32m--> 874\u001b[0m     \u001b[38;5;28;01mreturn\u001b[39;00m \u001b[38;5;28;43mself\u001b[39;49m\u001b[38;5;241;43m.\u001b[39;49m\u001b[43murlopen\u001b[49m\u001b[43m(\u001b[49m\n\u001b[1;32m    875\u001b[0m \u001b[43m        \u001b[49m\u001b[43mmethod\u001b[49m\u001b[43m,\u001b[49m\n\u001b[1;32m    876\u001b[0m \u001b[43m        \u001b[49m\u001b[43murl\u001b[49m\u001b[43m,\u001b[49m\n\u001b[1;32m    877\u001b[0m \u001b[43m        \u001b[49m\u001b[43mbody\u001b[49m\u001b[43m,\u001b[49m\n\u001b[1;32m    878\u001b[0m \u001b[43m        \u001b[49m\u001b[43mheaders\u001b[49m\u001b[43m,\u001b[49m\n\u001b[1;32m    879\u001b[0m \u001b[43m        \u001b[49m\u001b[43mretries\u001b[49m\u001b[43m,\u001b[49m\n\u001b[1;32m    880\u001b[0m \u001b[43m        \u001b[49m\u001b[43mredirect\u001b[49m\u001b[43m,\u001b[49m\n\u001b[1;32m    881\u001b[0m \u001b[43m        \u001b[49m\u001b[43massert_same_host\u001b[49m\u001b[43m,\u001b[49m\n\u001b[1;32m    882\u001b[0m \u001b[43m        \u001b[49m\u001b[43mtimeout\u001b[49m\u001b[38;5;241;43m=\u001b[39;49m\u001b[43mtimeout\u001b[49m\u001b[43m,\u001b[49m\n\u001b[1;32m    883\u001b[0m \u001b[43m        \u001b[49m\u001b[43mpool_timeout\u001b[49m\u001b[38;5;241;43m=\u001b[39;49m\u001b[43mpool_timeout\u001b[49m\u001b[43m,\u001b[49m\n\u001b[1;32m    884\u001b[0m \u001b[43m        \u001b[49m\u001b[43mrelease_conn\u001b[49m\u001b[38;5;241;43m=\u001b[39;49m\u001b[43mrelease_conn\u001b[49m\u001b[43m,\u001b[49m\n\u001b[1;32m    885\u001b[0m \u001b[43m        \u001b[49m\u001b[43mchunked\u001b[49m\u001b[38;5;241;43m=\u001b[39;49m\u001b[43mchunked\u001b[49m\u001b[43m,\u001b[49m\n\u001b[1;32m    886\u001b[0m \u001b[43m        \u001b[49m\u001b[43mbody_pos\u001b[49m\u001b[38;5;241;43m=\u001b[39;49m\u001b[43mbody_pos\u001b[49m\u001b[43m,\u001b[49m\n\u001b[1;32m    887\u001b[0m \u001b[43m        \u001b[49m\u001b[43mpreload_content\u001b[49m\u001b[38;5;241;43m=\u001b[39;49m\u001b[43mpreload_content\u001b[49m\u001b[43m,\u001b[49m\n\u001b[1;32m    888\u001b[0m \u001b[43m        \u001b[49m\u001b[43mdecode_content\u001b[49m\u001b[38;5;241;43m=\u001b[39;49m\u001b[43mdecode_content\u001b[49m\u001b[43m,\u001b[49m\n\u001b[1;32m    889\u001b[0m \u001b[43m        \u001b[49m\u001b[38;5;241;43m*\u001b[39;49m\u001b[38;5;241;43m*\u001b[39;49m\u001b[43mresponse_kw\u001b[49m\u001b[43m,\u001b[49m\n\u001b[1;32m    890\u001b[0m \u001b[43m    \u001b[49m\u001b[43m)\u001b[49m\n\u001b[1;32m    892\u001b[0m \u001b[38;5;66;03m# Handle redirect?\u001b[39;00m\n",
      "File \u001b[0;32m~/.pyenv/versions/3.10.4/envs/ftc/lib/python3.10/site-packages/urllib3/connectionpool.py:844\u001b[0m, in \u001b[0;36mHTTPConnectionPool.urlopen\u001b[0;34m(self, method, url, body, headers, retries, redirect, assert_same_host, timeout, pool_timeout, release_conn, chunked, body_pos, preload_content, decode_content, **response_kw)\u001b[0m\n\u001b[1;32m    842\u001b[0m     new_e \u001b[38;5;241m=\u001b[39m ProtocolError(\u001b[38;5;124m\"\u001b[39m\u001b[38;5;124mConnection aborted.\u001b[39m\u001b[38;5;124m\"\u001b[39m, new_e)\n\u001b[0;32m--> 844\u001b[0m retries \u001b[38;5;241m=\u001b[39m \u001b[43mretries\u001b[49m\u001b[38;5;241;43m.\u001b[39;49m\u001b[43mincrement\u001b[49m\u001b[43m(\u001b[49m\n\u001b[1;32m    845\u001b[0m \u001b[43m    \u001b[49m\u001b[43mmethod\u001b[49m\u001b[43m,\u001b[49m\u001b[43m \u001b[49m\u001b[43murl\u001b[49m\u001b[43m,\u001b[49m\u001b[43m \u001b[49m\u001b[43merror\u001b[49m\u001b[38;5;241;43m=\u001b[39;49m\u001b[43mnew_e\u001b[49m\u001b[43m,\u001b[49m\u001b[43m \u001b[49m\u001b[43m_pool\u001b[49m\u001b[38;5;241;43m=\u001b[39;49m\u001b[38;5;28;43mself\u001b[39;49m\u001b[43m,\u001b[49m\u001b[43m \u001b[49m\u001b[43m_stacktrace\u001b[49m\u001b[38;5;241;43m=\u001b[39;49m\u001b[43msys\u001b[49m\u001b[38;5;241;43m.\u001b[39;49m\u001b[43mexc_info\u001b[49m\u001b[43m(\u001b[49m\u001b[43m)\u001b[49m\u001b[43m[\u001b[49m\u001b[38;5;241;43m2\u001b[39;49m\u001b[43m]\u001b[49m\n\u001b[1;32m    846\u001b[0m \u001b[43m\u001b[49m\u001b[43m)\u001b[49m\n\u001b[1;32m    847\u001b[0m retries\u001b[38;5;241m.\u001b[39msleep()\n",
      "File \u001b[0;32m~/.pyenv/versions/3.10.4/envs/ftc/lib/python3.10/site-packages/urllib3/util/retry.py:515\u001b[0m, in \u001b[0;36mRetry.increment\u001b[0;34m(self, method, url, response, error, _pool, _stacktrace)\u001b[0m\n\u001b[1;32m    514\u001b[0m     reason \u001b[38;5;241m=\u001b[39m error \u001b[38;5;129;01mor\u001b[39;00m ResponseError(cause)\n\u001b[0;32m--> 515\u001b[0m     \u001b[38;5;28;01mraise\u001b[39;00m MaxRetryError(_pool, url, reason) \u001b[38;5;28;01mfrom\u001b[39;00m \u001b[38;5;21;01mreason\u001b[39;00m  \u001b[38;5;66;03m# type: ignore[arg-type]\u001b[39;00m\n\u001b[1;32m    517\u001b[0m log\u001b[38;5;241m.\u001b[39mdebug(\u001b[38;5;124m\"\u001b[39m\u001b[38;5;124mIncremented Retry for (url=\u001b[39m\u001b[38;5;124m'\u001b[39m\u001b[38;5;132;01m%s\u001b[39;00m\u001b[38;5;124m'\u001b[39m\u001b[38;5;124m): \u001b[39m\u001b[38;5;132;01m%r\u001b[39;00m\u001b[38;5;124m\"\u001b[39m, url, new_retry)\n",
      "\u001b[0;31mMaxRetryError\u001b[0m: HTTPSConnectionPool(host='nominatim.openstreetmap.org', port=443): Max retries exceeded with url: /reverse?lat=13.026286&lon=80.275235&format=json&addressdetails=1 (Caused by NewConnectionError('<urllib3.connection.HTTPSConnection object at 0x7fa2197bcb20>: Failed to establish a new connection: [Errno 101] Network is unreachable'))",
      "\nDuring handling of the above exception, another exception occurred:\n",
      "\u001b[0;31mConnectionError\u001b[0m                           Traceback (most recent call last)",
      "File \u001b[0;32m~/.pyenv/versions/3.10.4/envs/ftc/lib/python3.10/site-packages/geopy/adapters.py:482\u001b[0m, in \u001b[0;36mRequestsAdapter._request\u001b[0;34m(self, url, timeout, headers)\u001b[0m\n\u001b[1;32m    481\u001b[0m \u001b[38;5;28;01mtry\u001b[39;00m:\n\u001b[0;32m--> 482\u001b[0m     resp \u001b[38;5;241m=\u001b[39m \u001b[38;5;28;43mself\u001b[39;49m\u001b[38;5;241;43m.\u001b[39;49m\u001b[43msession\u001b[49m\u001b[38;5;241;43m.\u001b[39;49m\u001b[43mget\u001b[49m\u001b[43m(\u001b[49m\u001b[43murl\u001b[49m\u001b[43m,\u001b[49m\u001b[43m \u001b[49m\u001b[43mtimeout\u001b[49m\u001b[38;5;241;43m=\u001b[39;49m\u001b[43mtimeout\u001b[49m\u001b[43m,\u001b[49m\u001b[43m \u001b[49m\u001b[43mheaders\u001b[49m\u001b[38;5;241;43m=\u001b[39;49m\u001b[43mheaders\u001b[49m\u001b[43m)\u001b[49m\n\u001b[1;32m    483\u001b[0m \u001b[38;5;28;01mexcept\u001b[39;00m \u001b[38;5;167;01mException\u001b[39;00m \u001b[38;5;28;01mas\u001b[39;00m error:\n",
      "File \u001b[0;32m~/.pyenv/versions/3.10.4/envs/ftc/lib/python3.10/site-packages/requests/sessions.py:602\u001b[0m, in \u001b[0;36mSession.get\u001b[0;34m(self, url, **kwargs)\u001b[0m\n\u001b[1;32m    601\u001b[0m kwargs\u001b[38;5;241m.\u001b[39msetdefault(\u001b[38;5;124m\"\u001b[39m\u001b[38;5;124mallow_redirects\u001b[39m\u001b[38;5;124m\"\u001b[39m, \u001b[38;5;28;01mTrue\u001b[39;00m)\n\u001b[0;32m--> 602\u001b[0m \u001b[38;5;28;01mreturn\u001b[39;00m \u001b[38;5;28;43mself\u001b[39;49m\u001b[38;5;241;43m.\u001b[39;49m\u001b[43mrequest\u001b[49m\u001b[43m(\u001b[49m\u001b[38;5;124;43m\"\u001b[39;49m\u001b[38;5;124;43mGET\u001b[39;49m\u001b[38;5;124;43m\"\u001b[39;49m\u001b[43m,\u001b[49m\u001b[43m \u001b[49m\u001b[43murl\u001b[49m\u001b[43m,\u001b[49m\u001b[43m \u001b[49m\u001b[38;5;241;43m*\u001b[39;49m\u001b[38;5;241;43m*\u001b[39;49m\u001b[43mkwargs\u001b[49m\u001b[43m)\u001b[49m\n",
      "File \u001b[0;32m~/.pyenv/versions/3.10.4/envs/ftc/lib/python3.10/site-packages/requests/sessions.py:589\u001b[0m, in \u001b[0;36mSession.request\u001b[0;34m(self, method, url, params, data, headers, cookies, files, auth, timeout, allow_redirects, proxies, hooks, stream, verify, cert, json)\u001b[0m\n\u001b[1;32m    588\u001b[0m send_kwargs\u001b[38;5;241m.\u001b[39mupdate(settings)\n\u001b[0;32m--> 589\u001b[0m resp \u001b[38;5;241m=\u001b[39m \u001b[38;5;28;43mself\u001b[39;49m\u001b[38;5;241;43m.\u001b[39;49m\u001b[43msend\u001b[49m\u001b[43m(\u001b[49m\u001b[43mprep\u001b[49m\u001b[43m,\u001b[49m\u001b[43m \u001b[49m\u001b[38;5;241;43m*\u001b[39;49m\u001b[38;5;241;43m*\u001b[39;49m\u001b[43msend_kwargs\u001b[49m\u001b[43m)\u001b[49m\n\u001b[1;32m    591\u001b[0m \u001b[38;5;28;01mreturn\u001b[39;00m resp\n",
      "File \u001b[0;32m~/.pyenv/versions/3.10.4/envs/ftc/lib/python3.10/site-packages/requests/sessions.py:703\u001b[0m, in \u001b[0;36mSession.send\u001b[0;34m(self, request, **kwargs)\u001b[0m\n\u001b[1;32m    702\u001b[0m \u001b[38;5;66;03m# Send the request\u001b[39;00m\n\u001b[0;32m--> 703\u001b[0m r \u001b[38;5;241m=\u001b[39m \u001b[43madapter\u001b[49m\u001b[38;5;241;43m.\u001b[39;49m\u001b[43msend\u001b[49m\u001b[43m(\u001b[49m\u001b[43mrequest\u001b[49m\u001b[43m,\u001b[49m\u001b[43m \u001b[49m\u001b[38;5;241;43m*\u001b[39;49m\u001b[38;5;241;43m*\u001b[39;49m\u001b[43mkwargs\u001b[49m\u001b[43m)\u001b[49m\n\u001b[1;32m    705\u001b[0m \u001b[38;5;66;03m# Total elapsed time of the request (approximately)\u001b[39;00m\n",
      "File \u001b[0;32m~/.pyenv/versions/3.10.4/envs/ftc/lib/python3.10/site-packages/requests/adapters.py:519\u001b[0m, in \u001b[0;36mHTTPAdapter.send\u001b[0;34m(self, request, stream, timeout, verify, cert, proxies)\u001b[0m\n\u001b[1;32m    517\u001b[0m         \u001b[38;5;28;01mraise\u001b[39;00m SSLError(e, request\u001b[38;5;241m=\u001b[39mrequest)\n\u001b[0;32m--> 519\u001b[0m     \u001b[38;5;28;01mraise\u001b[39;00m \u001b[38;5;167;01mConnectionError\u001b[39;00m(e, request\u001b[38;5;241m=\u001b[39mrequest)\n\u001b[1;32m    521\u001b[0m \u001b[38;5;28;01mexcept\u001b[39;00m ClosedPoolError \u001b[38;5;28;01mas\u001b[39;00m e:\n",
      "\u001b[0;31mConnectionError\u001b[0m: HTTPSConnectionPool(host='nominatim.openstreetmap.org', port=443): Max retries exceeded with url: /reverse?lat=13.026286&lon=80.275235&format=json&addressdetails=1 (Caused by NewConnectionError('<urllib3.connection.HTTPSConnection object at 0x7fa2197bcb20>: Failed to establish a new connection: [Errno 101] Network is unreachable'))",
      "\nDuring handling of the above exception, another exception occurred:\n",
      "\u001b[0;31mGeocoderUnavailable\u001b[0m                       Traceback (most recent call last)",
      "Cell \u001b[0;32mIn[157], line 16\u001b[0m\n\u001b[1;32m     14\u001b[0m location\u001b[38;5;241m=\u001b[39m[]\n\u001b[1;32m     15\u001b[0m \u001b[38;5;28;01mfor\u001b[39;00m a,b \u001b[38;5;129;01min\u001b[39;00m \u001b[38;5;28mzip\u001b[39m(Latitude, Longitude):\n\u001b[0;32m---> 16\u001b[0m     loc \u001b[38;5;241m=\u001b[39m \u001b[43mgeolocator\u001b[49m\u001b[38;5;241;43m.\u001b[39;49m\u001b[43mreverse\u001b[49m\u001b[43m(\u001b[49m\u001b[43ma\u001b[49m\u001b[38;5;241;43m+\u001b[39;49m\u001b[38;5;124;43m\"\u001b[39;49m\u001b[38;5;124;43m,\u001b[39;49m\u001b[38;5;124;43m\"\u001b[39;49m\u001b[38;5;241;43m+\u001b[39;49m\u001b[43mb\u001b[49m\u001b[43m)\u001b[49m\n\u001b[1;32m     17\u001b[0m     location\u001b[38;5;241m.\u001b[39mappend(loc)\n\u001b[1;32m     19\u001b[0m \u001b[38;5;66;03m# location=list(filter(lambda a: a != None, location))\u001b[39;00m\n",
      "File \u001b[0;32m~/.pyenv/versions/3.10.4/envs/ftc/lib/python3.10/site-packages/geopy/geocoders/nominatim.py:372\u001b[0m, in \u001b[0;36mNominatim.reverse\u001b[0;34m(self, query, exactly_one, timeout, language, addressdetails, zoom, namedetails)\u001b[0m\n\u001b[1;32m    370\u001b[0m logger\u001b[38;5;241m.\u001b[39mdebug(\u001b[38;5;124m\"\u001b[39m\u001b[38;5;132;01m%s\u001b[39;00m\u001b[38;5;124m.reverse: \u001b[39m\u001b[38;5;132;01m%s\u001b[39;00m\u001b[38;5;124m\"\u001b[39m, \u001b[38;5;28mself\u001b[39m\u001b[38;5;241m.\u001b[39m\u001b[38;5;18m__class__\u001b[39m\u001b[38;5;241m.\u001b[39m\u001b[38;5;18m__name__\u001b[39m, url)\n\u001b[1;32m    371\u001b[0m callback \u001b[38;5;241m=\u001b[39m partial(\u001b[38;5;28mself\u001b[39m\u001b[38;5;241m.\u001b[39m_parse_json, exactly_one\u001b[38;5;241m=\u001b[39mexactly_one)\n\u001b[0;32m--> 372\u001b[0m \u001b[38;5;28;01mreturn\u001b[39;00m \u001b[38;5;28;43mself\u001b[39;49m\u001b[38;5;241;43m.\u001b[39;49m\u001b[43m_call_geocoder\u001b[49m\u001b[43m(\u001b[49m\u001b[43murl\u001b[49m\u001b[43m,\u001b[49m\u001b[43m \u001b[49m\u001b[43mcallback\u001b[49m\u001b[43m,\u001b[49m\u001b[43m \u001b[49m\u001b[43mtimeout\u001b[49m\u001b[38;5;241;43m=\u001b[39;49m\u001b[43mtimeout\u001b[49m\u001b[43m)\u001b[49m\n",
      "File \u001b[0;32m~/.pyenv/versions/3.10.4/envs/ftc/lib/python3.10/site-packages/geopy/geocoders/base.py:368\u001b[0m, in \u001b[0;36mGeocoder._call_geocoder\u001b[0;34m(self, url, callback, timeout, is_json, headers)\u001b[0m\n\u001b[1;32m    366\u001b[0m \u001b[38;5;28;01mtry\u001b[39;00m:\n\u001b[1;32m    367\u001b[0m     \u001b[38;5;28;01mif\u001b[39;00m is_json:\n\u001b[0;32m--> 368\u001b[0m         result \u001b[38;5;241m=\u001b[39m \u001b[38;5;28;43mself\u001b[39;49m\u001b[38;5;241;43m.\u001b[39;49m\u001b[43madapter\u001b[49m\u001b[38;5;241;43m.\u001b[39;49m\u001b[43mget_json\u001b[49m\u001b[43m(\u001b[49m\u001b[43murl\u001b[49m\u001b[43m,\u001b[49m\u001b[43m \u001b[49m\u001b[43mtimeout\u001b[49m\u001b[38;5;241;43m=\u001b[39;49m\u001b[43mtimeout\u001b[49m\u001b[43m,\u001b[49m\u001b[43m \u001b[49m\u001b[43mheaders\u001b[49m\u001b[38;5;241;43m=\u001b[39;49m\u001b[43mreq_headers\u001b[49m\u001b[43m)\u001b[49m\n\u001b[1;32m    369\u001b[0m     \u001b[38;5;28;01melse\u001b[39;00m:\n\u001b[1;32m    370\u001b[0m         result \u001b[38;5;241m=\u001b[39m \u001b[38;5;28mself\u001b[39m\u001b[38;5;241m.\u001b[39madapter\u001b[38;5;241m.\u001b[39mget_text(url, timeout\u001b[38;5;241m=\u001b[39mtimeout, headers\u001b[38;5;241m=\u001b[39mreq_headers)\n",
      "File \u001b[0;32m~/.pyenv/versions/3.10.4/envs/ftc/lib/python3.10/site-packages/geopy/adapters.py:472\u001b[0m, in \u001b[0;36mRequestsAdapter.get_json\u001b[0;34m(self, url, timeout, headers)\u001b[0m\n\u001b[1;32m    471\u001b[0m \u001b[38;5;28;01mdef\u001b[39;00m \u001b[38;5;21mget_json\u001b[39m(\u001b[38;5;28mself\u001b[39m, url, \u001b[38;5;241m*\u001b[39m, timeout, headers):\n\u001b[0;32m--> 472\u001b[0m     resp \u001b[38;5;241m=\u001b[39m \u001b[38;5;28;43mself\u001b[39;49m\u001b[38;5;241;43m.\u001b[39;49m\u001b[43m_request\u001b[49m\u001b[43m(\u001b[49m\u001b[43murl\u001b[49m\u001b[43m,\u001b[49m\u001b[43m \u001b[49m\u001b[43mtimeout\u001b[49m\u001b[38;5;241;43m=\u001b[39;49m\u001b[43mtimeout\u001b[49m\u001b[43m,\u001b[49m\u001b[43m \u001b[49m\u001b[43mheaders\u001b[49m\u001b[38;5;241;43m=\u001b[39;49m\u001b[43mheaders\u001b[49m\u001b[43m)\u001b[49m\n\u001b[1;32m    473\u001b[0m     \u001b[38;5;28;01mtry\u001b[39;00m:\n\u001b[1;32m    474\u001b[0m         \u001b[38;5;28;01mreturn\u001b[39;00m resp\u001b[38;5;241m.\u001b[39mjson()\n",
      "File \u001b[0;32m~/.pyenv/versions/3.10.4/envs/ftc/lib/python3.10/site-packages/geopy/adapters.py:494\u001b[0m, in \u001b[0;36mRequestsAdapter._request\u001b[0;34m(self, url, timeout, headers)\u001b[0m\n\u001b[1;32m    492\u001b[0m         \u001b[38;5;28;01mraise\u001b[39;00m GeocoderServiceError(message)\n\u001b[1;32m    493\u001b[0m     \u001b[38;5;28;01melse\u001b[39;00m:\n\u001b[0;32m--> 494\u001b[0m         \u001b[38;5;28;01mraise\u001b[39;00m GeocoderUnavailable(message)\n\u001b[1;32m    495\u001b[0m \u001b[38;5;28;01melif\u001b[39;00m \u001b[38;5;28misinstance\u001b[39m(error, requests\u001b[38;5;241m.\u001b[39mTimeout):\n\u001b[1;32m    496\u001b[0m     \u001b[38;5;28;01mraise\u001b[39;00m GeocoderTimedOut(\u001b[38;5;124m\"\u001b[39m\u001b[38;5;124mService timed out\u001b[39m\u001b[38;5;124m\"\u001b[39m)\n",
      "\u001b[0;31mGeocoderUnavailable\u001b[0m: HTTPSConnectionPool(host='nominatim.openstreetmap.org', port=443): Max retries exceeded with url: /reverse?lat=13.026286&lon=80.275235&format=json&addressdetails=1 (Caused by NewConnectionError('<urllib3.connection.HTTPSConnection object at 0x7fa2197bcb20>: Failed to establish a new connection: [Errno 101] Network is unreachable'))"
     ]
    }
   ],
   "source": [
    "# df1=df.drop_duplicates(subset=['restaurant_latitude','restaurant_longitude'])\n",
    "\n",
    "df['restaurant_latitude']=df1['restaurant_latitude']  .apply(lambda x: 0.0  if x == 'nan' else x)\n",
    "df['restaurant_longitude']=df1['restaurant_longitude'].apply(lambda x: 0.0  if x == 'nan' else x)\n",
    "\n",
    "geolocator = Nominatim(user_agent=\"geoapiExercises\")\n",
    "\n",
    "df.loc[:,['restaurant_latitude']]=df.loc[:,['restaurant_latitude']].astype(str)\n",
    "df.loc[:,['restaurant_longitude']]=df.loc[:,['restaurant_longitude']].astype(str)\n",
    "\n",
    "Latitude=df['restaurant_latitude'].tolist()\n",
    "Longitude=df['restaurant_longitude'].tolist()\n",
    "\n",
    "location=[]\n",
    "for a,b in zip(Latitude, Longitude):\n",
    "    loc = geolocator.reverse(a+\",\"+b)\n",
    "    location.append(loc)\n",
    "\n",
    "# location=list(filter(lambda a: a != None, location))"
   ]
  },
  {
   "cell_type": "code",
   "execution_count": 160,
   "id": "36be875d-ce4e-475d-88d4-d1c551dfff17",
   "metadata": {
    "execution": {
     "iopub.execute_input": "2023-12-15T19:50:09.189577Z",
     "iopub.status.busy": "2023-12-15T19:50:09.186653Z",
     "iopub.status.idle": "2023-12-15T19:50:09.205787Z",
     "shell.execute_reply": "2023-12-15T19:50:09.203888Z",
     "shell.execute_reply.started": "2023-12-15T19:50:09.189410Z"
    }
   },
   "outputs": [
    {
     "data": {
      "text/plain": [
       "3275"
      ]
     },
     "execution_count": 160,
     "metadata": {},
     "output_type": "execute_result"
    }
   ],
   "source": [
    "len(location)"
   ]
  },
  {
   "cell_type": "code",
   "execution_count": 194,
   "id": "cd1651f1-c93a-4346-a9a3-0b40366cecab",
   "metadata": {
    "execution": {
     "iopub.execute_input": "2023-12-15T20:30:46.112391Z",
     "iopub.status.busy": "2023-12-15T20:30:46.110617Z",
     "iopub.status.idle": "2023-12-15T20:33:42.327408Z",
     "shell.execute_reply": "2023-12-15T20:33:42.325847Z",
     "shell.execute_reply.started": "2023-12-15T20:30:46.112314Z"
    }
   },
   "outputs": [
    {
     "ename": "AttributeError",
     "evalue": "'NoneType' object has no attribute 'raw'",
     "output_type": "error",
     "traceback": [
      "\u001b[0;31m---------------------------------------------------------------------------\u001b[0m",
      "\u001b[0;31mAttributeError\u001b[0m                            Traceback (most recent call last)",
      "Cell \u001b[0;32mIn[194], line 3\u001b[0m\n\u001b[1;32m      1\u001b[0m address\u001b[38;5;241m=\u001b[39m[]\n\u001b[1;32m      2\u001b[0m \u001b[38;5;28;01mfor\u001b[39;00m a \u001b[38;5;129;01min\u001b[39;00m \u001b[38;5;28mrange\u001b[39m(\u001b[38;5;28mlen\u001b[39m(location)):\n\u001b[0;32m----> 3\u001b[0m     locc\u001b[38;5;241m=\u001b[39m\u001b[43mlocation\u001b[49m\u001b[43m[\u001b[49m\u001b[43ma\u001b[49m\u001b[43m]\u001b[49m\u001b[38;5;241;43m.\u001b[39;49m\u001b[43mraw\u001b[49m[\u001b[38;5;124m'\u001b[39m\u001b[38;5;124maddress\u001b[39m\u001b[38;5;124m'\u001b[39m]\n\u001b[1;32m      4\u001b[0m     address\u001b[38;5;241m.\u001b[39mappend(locc)\n\u001b[1;32m      5\u001b[0m     sleep(\u001b[38;5;241m2\u001b[39m)\n",
      "\u001b[0;31mAttributeError\u001b[0m: 'NoneType' object has no attribute 'raw'"
     ]
    }
   ],
   "source": [
    "address=[]\n",
    "for a in range(len(location)):\n",
    "    locc=location[a].raw['address']\n",
    "    address.append(locc)\n",
    "    sleep(2)"
   ]
  },
  {
   "cell_type": "code",
   "execution_count": null,
   "id": "276313f9-cee7-4f36-9ce2-24c85ab8395e",
   "metadata": {
    "execution": {
     "iopub.status.busy": "2023-12-15T20:33:42.328490Z",
     "iopub.status.idle": "2023-12-15T20:33:42.328931Z",
     "shell.execute_reply": "2023-12-15T20:33:42.328738Z",
     "shell.execute_reply.started": "2023-12-15T20:33:42.328717Z"
    }
   },
   "outputs": [],
   "source": [
    "len(address)"
   ]
  },
  {
   "cell_type": "code",
   "execution_count": null,
   "id": "74a8253b-c8dd-45a5-bafe-b171add68071",
   "metadata": {
    "execution": {
     "iopub.status.busy": "2023-12-15T18:52:56.647115Z",
     "iopub.status.idle": "2023-12-15T18:52:56.647595Z",
     "shell.execute_reply": "2023-12-15T18:52:56.647389Z",
     "shell.execute_reply.started": "2023-12-15T18:52:56.647367Z"
    }
   },
   "outputs": [],
   "source": [
    "# all_keys = set().union(*(d.keys() for d in address2))\n",
    "# all_keys"
   ]
  },
  {
   "cell_type": "code",
   "execution_count": null,
   "id": "7d17916d-fc01-46e0-a52e-09f461319fed",
   "metadata": {
    "execution": {
     "iopub.status.busy": "2023-12-15T18:52:56.649544Z",
     "iopub.status.idle": "2023-12-15T18:52:56.650108Z",
     "shell.execute_reply": "2023-12-15T18:52:56.649888Z",
     "shell.execute_reply.started": "2023-12-15T18:52:56.649863Z"
    }
   },
   "outputs": [],
   "source": [
    "where=[]\n",
    "\n",
    "for a in range(len(address)):    \n",
    "    \n",
    "    loc1 = address[a].get('city')\n",
    "    # loc1=loc1 + ' is city'\n",
    "    \n",
    "    loc2 = address[a].get('city_district')\n",
    "    # loc2=loc2 + ' is city_district'\n",
    "    \n",
    "    loc3 = address[a].get('town')\n",
    "    # loc3=loc3 + ' is town'\n",
    "    \n",
    "    loc4 = address[a].get('county')\n",
    "    # loc4=loc4 + ' is county'\n",
    "    \n",
    "    if loc1 != None:\n",
    "        where.append(loc1)\n",
    "    elif loc1 == None and loc2 != None:\n",
    "        where.append(loc2)\n",
    "    elif loc2 == None and loc3 != None:\n",
    "        where.append(loc3)\n",
    "    else:\n",
    "        where.append(loc4)\n",
    "        \n",
    "# print(f'{len(set(where))} cidades únicas')\n",
    "# print(f'{set(where)}')"
   ]
  },
  {
   "cell_type": "code",
   "execution_count": null,
   "id": "c98efe32-5faa-4a84-ade7-e13c5170d820",
   "metadata": {
    "execution": {
     "iopub.status.busy": "2023-12-15T18:52:56.651590Z",
     "iopub.status.idle": "2023-12-15T18:52:56.652211Z",
     "shell.execute_reply": "2023-12-15T18:52:56.651893Z",
     "shell.execute_reply.started": "2023-12-15T18:52:56.651860Z"
    }
   },
   "outputs": [],
   "source": [
    "len(where)"
   ]
  },
  {
   "cell_type": "code",
   "execution_count": null,
   "id": "67781507-60f0-45c0-8065-389dd469b2b3",
   "metadata": {
    "execution": {
     "iopub.status.busy": "2023-12-15T18:52:56.653376Z",
     "iopub.status.idle": "2023-12-15T18:52:56.653843Z",
     "shell.execute_reply": "2023-12-15T18:52:56.653617Z",
     "shell.execute_reply.started": "2023-12-15T18:52:56.653594Z"
    }
   },
   "outputs": [],
   "source": [
    "print(f'{len(set(where))} cidades únicas')\n",
    "print(f'{set(where)}')"
   ]
  },
  {
   "cell_type": "code",
   "execution_count": 603,
   "id": "4b75eb0c-4d64-4520-9748-f93ba9e38223",
   "metadata": {
    "execution": {
     "iopub.execute_input": "2023-12-15T00:06:48.153943Z",
     "iopub.status.busy": "2023-12-15T00:06:48.152883Z",
     "iopub.status.idle": "2023-12-15T00:06:48.170546Z",
     "shell.execute_reply": "2023-12-15T00:06:48.169307Z",
     "shell.execute_reply.started": "2023-12-15T00:06:48.153876Z"
    }
   },
   "outputs": [
    {
     "data": {
      "text/plain": [
       "type_of_vehicle\n",
       "electric_scooter     108\n",
       "motorcycle           780\n",
       "scooter              432\n",
       "Name: id, dtype: int64"
      ]
     },
     "execution_count": 603,
     "metadata": {},
     "output_type": "execute_result"
    }
   ],
   "source": [
    "# 14. Quantos tipos de veículos únicos existem na base?\n",
    "\n",
    "df1=df.drop_duplicates(subset=['delivery_person_id'])\n",
    "df1.groupby('type_of_vehicle')['id'].count()"
   ]
  },
  {
   "cell_type": "code",
   "execution_count": 604,
   "id": "bcca1e5b-3917-42ba-a261-091a833ccb84",
   "metadata": {
    "execution": {
     "iopub.execute_input": "2023-12-15T00:07:10.626432Z",
     "iopub.status.busy": "2023-12-15T00:07:10.625247Z",
     "iopub.status.idle": "2023-12-15T00:07:10.650102Z",
     "shell.execute_reply": "2023-12-15T00:07:10.649038Z",
     "shell.execute_reply.started": "2023-12-15T00:07:10.626359Z"
    }
   },
   "outputs": [
    {
     "data": {
      "text/plain": [
       "type_of_vehicle\n",
       "electric_scooter      321\n",
       "motorcycle           2427\n",
       "scooter              1355\n",
       "Name: id, dtype: int64"
      ]
     },
     "execution_count": 604,
     "metadata": {},
     "output_type": "execute_result"
    }
   ],
   "source": [
    "# 15. Qual o tipo de veículo que mais vez entregas com a condição de trânsito pesado? ( High )\n",
    "\n",
    "df1=df[df['road_traffic_density']=='high']\n",
    "df1.groupby('type_of_vehicle')['id'].count()"
   ]
  },
  {
   "cell_type": "code",
   "execution_count": 605,
   "id": "5bcbc1e9-1778-4073-be04-d48dfba96f0f",
   "metadata": {
    "execution": {
     "iopub.execute_input": "2023-12-15T00:07:19.101255Z",
     "iopub.status.busy": "2023-12-15T00:07:19.099360Z",
     "iopub.status.idle": "2023-12-15T00:07:19.128330Z",
     "shell.execute_reply": "2023-12-15T00:07:19.126955Z",
     "shell.execute_reply.started": "2023-12-15T00:07:19.101123Z"
    }
   },
   "outputs": [
    {
     "data": {
      "text/plain": [
       "type_of_order\n",
       "buffet    1671\n",
       "drinks    1679\n",
       "meal      1762\n",
       "snack     1740\n",
       "Name: id, dtype: int64"
      ]
     },
     "execution_count": 605,
     "metadata": {},
     "output_type": "execute_result"
    }
   ],
   "source": [
    "# 16. Qual o tipo de pedido mais feito durante condições climáticas de tempestade de areia?\n",
    "\n",
    "df1=df[df['weather_conditions']=='conditions_sandstorms']\n",
    "df1.groupby('type_of_order')['id'].count()"
   ]
  },
  {
   "cell_type": "code",
   "execution_count": 606,
   "id": "3906d779-b80f-4160-8b56-ceddf1b05f27",
   "metadata": {
    "execution": {
     "iopub.execute_input": "2023-12-15T00:07:31.420067Z",
     "iopub.status.busy": "2023-12-15T00:07:31.419008Z",
     "iopub.status.idle": "2023-12-15T00:07:31.459959Z",
     "shell.execute_reply": "2023-12-15T00:07:31.458572Z",
     "shell.execute_reply.started": "2023-12-15T00:07:31.419949Z"
    },
    "scrolled": true
   },
   "outputs": [
    {
     "data": {
      "text/plain": [
       "restaurant_latitude  restaurant_longitude\n",
       "0.000000             0.000000                1125\n",
       "13.049645            80.242268                 63\n",
       "12.975377            77.696664                 62\n",
       "12.337978            76.616792                 61\n",
       "22.744648            75.894377                 61\n",
       "Name: count, dtype: int64"
      ]
     },
     "execution_count": 606,
     "metadata": {},
     "output_type": "execute_result"
    }
   ],
   "source": [
    "# 17. Qual a cidade com o maior número de pedidos de Bebidas (Drinks) feito em Scooter?\n",
    "\n",
    "df1=df[df['type_of_vehicle']=='scooter ']\n",
    "\n",
    "\n",
    "df1[['restaurant_latitude','restaurant_longitude']].value_counts().head(5)"
   ]
  },
  {
   "cell_type": "code",
   "execution_count": 607,
   "id": "81a9378c-6b7b-44ff-9219-f4350f04df68",
   "metadata": {
    "execution": {
     "iopub.execute_input": "2023-12-15T00:07:36.199844Z",
     "iopub.status.busy": "2023-12-15T00:07:36.198578Z",
     "iopub.status.idle": "2023-12-15T00:07:37.254849Z",
     "shell.execute_reply": "2023-12-15T00:07:37.253500Z",
     "shell.execute_reply.started": "2023-12-15T00:07:36.199767Z"
    }
   },
   "outputs": [
    {
     "data": {
      "text/plain": [
       "'Jaipur'"
      ]
     },
     "execution_count": 607,
     "metadata": {},
     "output_type": "execute_result"
    }
   ],
   "source": [
    "Latitude='26.902908'\n",
    "Longitude='75.792934'\n",
    "\n",
    "loc = geolocator.reverse(Latitude+\",\"+Longitude)\n",
    "where=loc.raw['address']\n",
    "city=where.get('city')\n",
    "city"
   ]
  },
  {
   "cell_type": "code",
   "execution_count": 331,
   "id": "37c07bde-62a7-45bd-b7b9-60197beeef1d",
   "metadata": {
    "execution": {
     "iopub.execute_input": "2023-12-14T17:05:02.423161Z",
     "iopub.status.busy": "2023-12-14T17:05:02.421971Z",
     "iopub.status.idle": "2023-12-14T17:05:02.435861Z",
     "shell.execute_reply": "2023-12-14T17:05:02.433370Z",
     "shell.execute_reply.started": "2023-12-14T17:05:02.423086Z"
    }
   },
   "outputs": [],
   "source": [
    "# dict.values()\n",
    "\n",
    "# for key, value in dict.items():\n",
    "#     if value ==(26.902908, 75.7929347):\n",
    "#         print(key)"
   ]
  },
  {
   "cell_type": "code",
   "execution_count": 347,
   "id": "45fc8137-c2d3-47cc-bac0-d8494657bd8d",
   "metadata": {
    "execution": {
     "iopub.execute_input": "2023-12-14T17:30:25.610428Z",
     "iopub.status.busy": "2023-12-14T17:30:25.609029Z",
     "iopub.status.idle": "2023-12-14T17:30:52.677984Z",
     "shell.execute_reply": "2023-12-14T17:30:52.676464Z",
     "shell.execute_reply.started": "2023-12-14T17:30:25.610327Z"
    }
   },
   "outputs": [
    {
     "name": "stdout",
     "output_type": "stream",
     "text": [
      "16 cidades com entregadores de 50 anos\n",
      "{'Bengaluru', 'Hyderabad', 'Bhopal', 'Jaipur', 'Indore City', 'South Zone', 'Coimbatore', 'Mysuru', 'Surat', 'Prayagraj', 'Zone 12 Alandur', 'Dehradun', 'Ranchi', 'Lima Metropolitana', 'Mumbai Suburban', 'Kanpur'}\n"
     ]
    }
   ],
   "source": [
    "# 18. Qual o nome da cidade com o (os) entregador mais velho? E o nome da cidade com o (os) entregadores mais novos?\n",
    "\n",
    "df1=df[df['delivery_person_age']=='50']\n",
    "\n",
    "df1.loc[:,['restaurant_latitude']]=df1.loc[:,['restaurant_latitude']].astype(str)\n",
    "df1.loc[:,['restaurant_longitude']]=df1.loc[:,['restaurant_longitude']].astype(str)\n",
    "\n",
    "\n",
    "Latitude=df1['restaurant_latitude'].tolist()\n",
    "Longitude=df1['restaurant_longitude'].tolist()\n",
    "\n",
    "location=[]\n",
    "address=[]\n",
    "where=[]\n",
    "\n",
    "for a,b in zip(Latitude, Longitude):\n",
    "    loc = geolocator.reverse(a+\",\"+b)\n",
    "    if loc != None:\n",
    "        location.append(loc)\n",
    "    else:\n",
    "        None\n",
    "    \n",
    "    for a in range(len(location)):\n",
    "        locc=location[a].raw['address']\n",
    "        address.append(locc)\n",
    "        # sleep(2)\n",
    "\n",
    "        for a in range(len(address)):    \n",
    "            \n",
    "            loc1 = address[a].get('city')\n",
    "            # loc1=loc1 + ' is city'\n",
    "            \n",
    "            loc2 = address[a].get('city_district')\n",
    "            # loc2=loc2 + ' is city_district'\n",
    "            \n",
    "            loc3 = address[a].get('town')\n",
    "            # loc3=loc3 + ' is town'\n",
    "            \n",
    "            loc4 = address[a].get('county')\n",
    "            # loc4=loc4 + ' is county'\n",
    "            \n",
    "            if loc1 != None:\n",
    "                where.append(loc1)\n",
    "            elif loc1 == None and loc2 != None:\n",
    "                where.append(loc2)\n",
    "            elif loc2 == None and loc3 != None:\n",
    "                where.append(loc3)\n",
    "            elif loc4 != None:\n",
    "                where.append(loc4)\n",
    "            else:\n",
    "                None\n",
    "\n",
    "print(f'{len(set(where))} cidades com entregadores de 50 anos')\n",
    "print(f'{set(where)}')"
   ]
  },
  {
   "cell_type": "code",
   "execution_count": 346,
   "id": "0163e441-84d6-4cbd-97b8-a3c7181c2144",
   "metadata": {
    "execution": {
     "iopub.execute_input": "2023-12-14T17:29:22.277757Z",
     "iopub.status.busy": "2023-12-14T17:29:22.276582Z",
     "iopub.status.idle": "2023-12-14T17:29:41.893609Z",
     "shell.execute_reply": "2023-12-14T17:29:41.891509Z",
     "shell.execute_reply.started": "2023-12-14T17:29:22.277628Z"
    }
   },
   "outputs": [
    {
     "name": "stdout",
     "output_type": "stream",
     "text": [
      "10 cidades com entregadores de 15 anos\n",
      "{'Majura Taluka', 'Bengaluru', 'Jaipur', 'Indore City', 'Mysuru', 'Coimbatore', 'Indore', 'Pune City', 'Chennai', 'Mumbai Suburban'}\n"
     ]
    }
   ],
   "source": [
    "df2=df[df['delivery_person_age']=='15']\n",
    "\n",
    "df2.loc[:,['restaurant_latitude']]=df2.loc[:,['restaurant_latitude']].astype(str)\n",
    "df2.loc[:,['restaurant_longitude']]=df2.loc[:,['restaurant_longitude']].astype(str)\n",
    "\n",
    "Latitude=df2['restaurant_latitude'].tolist()\n",
    "Longitude=df2['restaurant_longitude'].tolist()\n",
    "\n",
    "location=[]\n",
    "address=[]\n",
    "where=[]\n",
    "\n",
    "for a,b in zip(Latitude, Longitude):\n",
    "    loc = geolocator.reverse(a+\",\"+b)\n",
    "    if loc != None:\n",
    "        location.append(loc)\n",
    "    else:\n",
    "        None\n",
    "    \n",
    "    for a in range(len(location)):\n",
    "        locc=location[a].raw['address']\n",
    "        address.append(locc)\n",
    "        # sleep(2)\n",
    "\n",
    "        for a in range(len(address)):    \n",
    "            \n",
    "            loc1 = address[a].get('city')\n",
    "            # loc1=loc1 + ' is city'\n",
    "            \n",
    "            loc2 = address[a].get('city_district')\n",
    "            # loc2=loc2 + ' is city_district'\n",
    "            \n",
    "            loc3 = address[a].get('town')\n",
    "            # loc3=loc3 + ' is town'\n",
    "            \n",
    "            loc4 = address[a].get('county')\n",
    "            # loc4=loc4 + ' is county'\n",
    "            \n",
    "            if loc1 != None:\n",
    "                where.append(loc1)\n",
    "            elif loc1 == None and loc2 != None:\n",
    "                where.append(loc2)\n",
    "            elif loc2 == None and loc3 != None:\n",
    "                where.append(loc3)\n",
    "            elif loc4 != None:\n",
    "                where.append(loc4)\n",
    "            else:\n",
    "                None\n",
    "                \n",
    "\n",
    "print(f'{len(set(where))} cidades com entregadores de 15 anos')\n",
    "print(f'{set(where)}')"
   ]
  },
  {
   "cell_type": "code",
   "execution_count": 611,
   "id": "a4979fec-d9db-4ecc-b793-9def454ff74e",
   "metadata": {
    "execution": {
     "iopub.execute_input": "2023-12-15T00:08:19.073854Z",
     "iopub.status.busy": "2023-12-15T00:08:19.073180Z",
     "iopub.status.idle": "2023-12-15T00:08:19.094439Z",
     "shell.execute_reply": "2023-12-15T00:08:19.093250Z",
     "shell.execute_reply.started": "2023-12-15T00:08:19.073781Z"
    }
   },
   "outputs": [
    {
     "data": {
      "text/plain": [
       "833"
      ]
     },
     "execution_count": 611,
     "metadata": {},
     "output_type": "execute_result"
    }
   ],
   "source": [
    "# 19. Quantas entregas foram feitas durante o festival?\n",
    "\n",
    "len(df[df['festival']==1])"
   ]
  },
  {
   "cell_type": "code",
   "execution_count": 612,
   "id": "bcbebc21-3805-4d67-a234-67d1e1b2d9d9",
   "metadata": {
    "execution": {
     "iopub.execute_input": "2023-12-15T00:08:30.662658Z",
     "iopub.status.busy": "2023-12-15T00:08:30.661598Z",
     "iopub.status.idle": "2023-12-15T00:08:30.693209Z",
     "shell.execute_reply": "2023-12-15T00:08:30.691952Z",
     "shell.execute_reply.started": "2023-12-15T00:08:30.662573Z"
    }
   },
   "outputs": [
    {
     "data": {
      "text/plain": [
       "295"
      ]
     },
     "execution_count": 612,
     "metadata": {},
     "output_type": "execute_result"
    }
   ],
   "source": [
    "# 20. Quantas cidades únicas tiveram entregas feitas durante o festival?\n",
    "\n",
    "df1=df[df['festival']==1]\n",
    "\n",
    "df1=df1.drop_duplicates(subset=['restaurant_latitude','restaurant_longitude'])\n",
    "\n",
    "len(df1)"
   ]
  },
  {
   "cell_type": "code",
   "execution_count": 613,
   "id": "2634a5e5-a088-415a-9504-b381afc2c0e3",
   "metadata": {
    "execution": {
     "iopub.execute_input": "2023-12-15T00:08:43.327260Z",
     "iopub.status.busy": "2023-12-15T00:08:43.324513Z",
     "iopub.status.idle": "2023-12-15T00:08:43.361621Z",
     "shell.execute_reply": "2023-12-15T00:08:43.360430Z",
     "shell.execute_reply.started": "2023-12-15T00:08:43.327160Z"
    }
   },
   "outputs": [
    {
     "data": {
      "text/plain": [
       "109"
      ]
     },
     "execution_count": 613,
     "metadata": {},
     "output_type": "execute_result"
    }
   ],
   "source": [
    "# 21. Quantas entregas foram feitas durante o festival nas cidades Urban\n",
    "\n",
    "df1=df[(df['festival']==1) & (df['city']=='urban')]\n",
    "len(df1)"
   ]
  },
  {
   "cell_type": "code",
   "execution_count": null,
   "id": "5bb74c0c-bf38-4664-8c8a-87ffdccd36f9",
   "metadata": {},
   "outputs": [],
   "source": []
  },
  {
   "cell_type": "code",
   "execution_count": null,
   "id": "2c102778-d33e-48c0-af11-7fa847a1afa9",
   "metadata": {},
   "outputs": [],
   "source": []
  },
  {
   "cell_type": "code",
   "execution_count": null,
   "id": "e291783b-795b-4ae2-914b-3b90cbfa6cd6",
   "metadata": {},
   "outputs": [],
   "source": []
  },
  {
   "cell_type": "code",
   "execution_count": null,
   "id": "38bf21c1-0b04-4d28-9bec-7a831f6fe32d",
   "metadata": {},
   "outputs": [],
   "source": []
  },
  {
   "cell_type": "code",
   "execution_count": null,
   "id": "19ba9883-cf2d-4910-b113-e88d9c41728a",
   "metadata": {},
   "outputs": [],
   "source": []
  },
  {
   "cell_type": "code",
   "execution_count": null,
   "id": "cfccde74-05d0-43f2-9dd9-485439040651",
   "metadata": {},
   "outputs": [],
   "source": []
  }
 ],
 "metadata": {
  "kernelspec": {
   "display_name": "Python 3 (ipykernel)",
   "language": "python",
   "name": "python3"
  },
  "language_info": {
   "codemirror_mode": {
    "name": "ipython",
    "version": 3
   },
   "file_extension": ".py",
   "mimetype": "text/x-python",
   "name": "python",
   "nbconvert_exporter": "python",
   "pygments_lexer": "ipython3",
   "version": "3.10.4"
  }
 },
 "nbformat": 4,
 "nbformat_minor": 5
}
